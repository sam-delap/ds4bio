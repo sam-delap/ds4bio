{
 "cells": [
  {
   "cell_type": "markdown",
   "metadata": {},
   "source": [
    "#### Data can be downloaded [here](https://digital.wpi.edu/concern/student_works/5712m8080?locale=en)\n",
    "Just scroll to the bottom of the page, download the .zip file, and unzip it! The sheet you're looking for is 'Accuscore Evaluation.xlsx'\n",
    "\n",
    "I chose to "
   ]
  },
  {
   "cell_type": "code",
   "execution_count": null,
   "metadata": {},
   "outputs": [],
   "source": [
    "# import packages and dataset\n",
    "import pandas as pd\n",
    "\n",
    "QB = pd.read_excel('../Data/Accuscore Evaluation.xlsx', sheet_name='QB Projections')\n",
    "DST = pd.read_excel('../Data/Accuscore Evaluation.xlsx', sheet_name= 'DST Projections')"
   ]
  }
 ],
 "metadata": {
  "kernelspec": {
   "display_name": "Python 3.8.8 ('base')",
   "language": "python",
   "name": "python3"
  },
  "language_info": {
   "name": "python",
   "version": "3.8.8"
  },
  "orig_nbformat": 4,
  "vscode": {
   "interpreter": {
    "hash": "e595df4329fcf3a3af43d6766bc23e541941e8ce9ea758c4bedfcbd321d7c58e"
   }
  }
 },
 "nbformat": 4,
 "nbformat_minor": 2
}
