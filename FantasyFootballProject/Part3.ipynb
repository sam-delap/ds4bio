{
 "cells": [
  {
   "cell_type": "markdown",
   "metadata": {},
   "source": [
    "## Question 1: Is there a relationship between quarterback fantasy points scored and team defense fantasy points scored on the same team?\n",
    "In other words, does a quarterback who scores more fantasy points (and presumably more real NFL points for his team) have any effect on how their team's defense performs?\n",
    "- **What is your hypothesis?**: I hypothesize that quarterback fantasy football scoring will have no effect on team defense fantasy point scoring. The quarterback plays on the offensive side of the ball, and so how the QB performs should not statistically influence how his defense performs, since they are not on the football field at the same time (teams take turns switching off playing offense/defense)\n",
    "- **How does this relate to the researcher's question?**: This question is related to the researcher's question because they were trying to use a model to predict the number of fantasy points a quarterback/team defense might score. If quarterback fantasy point scoring was a strong predictor of team defensive scoring (or vice versa), the researchers could've added this to their model.\n",
    "- **How does this relate to Part 1?**: This question is a more specific form of the research question I asked in part 1. I'm examining this question for quarterbacks/team defenses from the same team.\n",
    "- **Why use this data?**: This data provides information about the team QBs/DSTs belonged to, as well as how many fantasy points they scored for each week of the NFL season.\n",
    "- **Which features will you be using?**: I will be using `fantasy points scored`, `team`, and `player` to complete this assignment\n",
    "- **How many observations are there for each feature?**: There are the same number of observations for each feature, which is 15 * the number of players at that position.\n",
    "    - For QBs: 585\n",
    "    - For DSTs: 480\n",
    "    - Since the reason there are more quarterbacks is because some teams played multiple quarterbacks, I will simplify this analysis by combining the QBs that played for an individual team and treating them as if they were 1 QB"
   ]
  },
  {
   "cell_type": "code",
   "execution_count": 2,
   "metadata": {},
   "outputs": [],
   "source": [
    "# Code from earlier sections to import and clean the dataset\n",
    "\n",
    "# import packages and dataset\n",
    "import pandas as pd\n",
    "\n",
    "# These were imported for each fantasy football position type (QB or DST)\n",
    "QB = pd.read_excel('../Data/Accuscore Evaluation.xlsx', sheet_name='QB Projections')\n",
    "DST = pd.read_excel('../Data/Accuscore Evaluation.xlsx', sheet_name= 'DST Projections')\n",
    "\n",
    "# Remove duplicate columns (PLAYERID/ESPNID is simply an alias for PLAYER)\n",
    "QB = QB.drop(['PLAYERID', 1], axis=1)\n",
    "# Since defenses are played per team, as long as we have the TEAM data, we know what the name of the player is\n",
    "DST = DST.drop(['ESPNID', 'PLAYER'], axis=1)\n",
    "# Rename ORDER column to WEEK for clarity (since order describes the week of the NFL season)\n",
    "QB = QB.rename(columns={'ORDER':'WEEK'})\n",
    "DST = DST.rename(columns={'ORDER':'WEEK'})\n",
    "\n",
    "\n",
    "# Remove Ben Roethelisberger's and Andrew Luck's bye weeks (Week 4), since the authors forgot to\n",
    "ben_bye = ((QB['WEEK'] == 4) & (QB['PLAYER'] == 'Ben Roethlisberger')).astype(int).idxmax()\n",
    "luck_bye = ((QB['WEEK'] == 4) & (QB['PLAYER'] == 'Andrew Luck')).astype(int).idxmax()\n",
    "QB = QB.drop([ben_bye, luck_bye], axis=0)"
   ]
  },
  {
   "cell_type": "code",
   "execution_count": 7,
   "metadata": {},
   "outputs": [
    {
     "data": {
      "text/plain": [
       "{'ARI',\n",
       " 'ATL',\n",
       " 'BAL',\n",
       " 'BUF',\n",
       " 'CAR',\n",
       " 'CHI',\n",
       " 'CIN',\n",
       " 'CLE',\n",
       " 'DAL',\n",
       " 'DEN',\n",
       " 'DET',\n",
       " 'GB',\n",
       " 'HOU',\n",
       " 'IND',\n",
       " 'JAC',\n",
       " 'KC',\n",
       " 'MIA',\n",
       " 'MIN',\n",
       " 'NE',\n",
       " 'NO',\n",
       " 'NYG',\n",
       " 'NYJ',\n",
       " 'OAK',\n",
       " 'PHI',\n",
       " 'PIT',\n",
       " 'SD',\n",
       " 'SEA',\n",
       " 'SF',\n",
       " 'STL',\n",
       " 'TB',\n",
       " 'TEN',\n",
       " 'WAS'}"
      ]
     },
     "metadata": {},
     "output_type": "display_data"
    },
    {
     "data": {
      "text/plain": [
       "{1, 2, 3, 4, 5, 6, 7, 8, 9, 10, 11, 12, 13, 14, 15, 16}"
      ]
     },
     "metadata": {},
     "output_type": "display_data"
    }
   ],
   "source": [
    "# Get a list of all of the NFL teams as a set\n",
    "teams = set(QB['TEAM'])\n",
    "# Get a list of the weeks of the NFL season as a set (we'll need these to figure out how many points the QBs for a team scored in a given week)\n",
    "weeks = set(QB['WEEK'])\n",
    "display(teams, weeks)"
   ]
  },
  {
   "cell_type": "code",
   "execution_count": 22,
   "metadata": {},
   "outputs": [],
   "source": [
    "# Additional cleaning to be able to make this plot\n",
    "import seaborn as sns\n",
    "# Create a df where rows will be team-week pairs, and columns will be QB and DST scoring\n",
    "team_scoring_df = pd.DataFrame()\n",
    "# For each NFL team\n",
    "for team in teams:\n",
    "    # For each week of the NFL season from 1-16\n",
    "    for week in weeks:\n",
    "        # Figure out how many fantasy points that team's quarterback(s) scored that week, and add it to the df with the row as a team-week pair, and the column as 'QB Scoring'\n",
    "        team_scoring_df.loc[team + '-' + str(week), 'QB Scoring'] = QB.loc[(QB['WEEK'] == week) & (QB['TEAM'] == team), 'Actuals'].sum()\n",
    "        # Add however many points the team's defense unit scored to the df, and add it to the df with the row as a team-week pair, and the column as 'DST Scoring'\n",
    "        team_scoring_df.loc[team + '-' + str(week), 'DST Scoring'] = DST.loc[(DST['WEEK'] == week) & (DST['TEAM'] == team), 'Actuals'].sum()"
   ]
  },
  {
   "cell_type": "markdown",
   "metadata": {},
   "source": [
    "## Rationale for plot\n",
    "- **What type of plot are you making?**: I am making a regression (reg) plot, which consists of a scatterplot and a regression line\n",
    "- **Why will this plot give you insight?**: I'm trying to model a potential linear relationship between QB fantasy points scored and DST fantasy points scored.\n",
    "    - This visualization is purpose-built for visualizing potential linear relationships\n",
    "- **What do you expect to see?**: Since I expected there to be no relationship, I would expect to see random scatter with a nearly horizontal trendline of QB fantasy point scoring vs. DST fantasy point scoring.\n",
    "- **How will the result inform your hypothesis?**: If the scatter of the plot does not look like it follows a pattern, and the regression line looks horizontal, there will not be enough evidence to reject my hypothesis. Otherwise, I will have to reject my hypothesis and conclude that there is a linear relationship between QB scoring and DST scoring for the same team."
   ]
  },
  {
   "cell_type": "code",
   "execution_count": 23,
   "metadata": {},
   "outputs": [
    {
     "data": {
      "text/plain": [
       "<AxesSubplot:xlabel='QB Scoring', ylabel='DST Scoring'>"
      ]
     },
     "execution_count": 23,
     "metadata": {},
     "output_type": "execute_result"
    },
    {
     "data": {
      "image/png": "[encoded data removed]",
      "text/plain": [
       "<Figure size 432x288 with 1 Axes>"
      ]
     },
     "metadata": {
      "needs_background": "light"
     },
     "output_type": "display_data"
    }
   ],
   "source": [
    "# Plot\n",
    "sns.regplot(data=team_scoring_df, x='QB Scoring', y='DST Scoring')"
   ]
  },
  {
   "cell_type": "markdown",
   "metadata": {},
   "source": [
    "### Plot interpretation\n",
    "- I can conclude that there is not a significant linear relationship between QB fantasy point scoring and DST fantasy point scoring on the same team. QB scoring would not be a good predictor of DST scoring, and vice versa"
   ]
  },
  {
   "cell_type": "markdown",
   "metadata": {},
   "source": [
    "### Model explanation\n",
    "- **What feature(s) are you modeling and why is this model appropriate for that?**: I am modeling a linear relationship between QB fantasy point scoring and DST fantasy point scoring separated by teams. Points will be a (QB fpoints scored, DST fpoints scored) XY pair. A linear model is appropriate as a way to determine whether a significant relationship exists between these two variables because it is easily statistically testable.\n",
    "- **What other feature(s) are used in the model, if any, and why are they included?**: I will be using team and week in this model to separate the points from one another.\n",
    "- **How will this model inform your hypothesis?**: If the model is significant (p > 0.05), I will reject my hypothesis that there is no relationship between QB and DST scoring\n",
    "- **What kind of parameters do you expect for your model, based on your visualization?**: I expect a slope, an intercept, and a p-value associated with the intercept."
   ]
  },
  {
   "cell_type": "code",
   "execution_count": 25,
   "metadata": {},
   "outputs": [
    {
     "data": {
      "text/html": [
       "<table class=\"simpletable\">\n",
       "<caption>OLS Regression Results</caption>\n",
       "<tr>\n",
       "  <th>Dep. Variable:</th>       <td>DST Scoring</td>   <th>  R-squared:         </th> <td>   0.020</td>\n",
       "</tr>\n",
       "<tr>\n",
       "  <th>Model:</th>                   <td>OLS</td>       <th>  Adj. R-squared:    </th> <td>   0.018</td>\n",
       "</tr>\n",
       "<tr>\n",
       "  <th>Method:</th>             <td>Least Squares</td>  <th>  F-statistic:       </th> <td>   10.38</td>\n",
       "</tr>\n",
       "<tr>\n",
       "  <th>Date:</th>             <td>Sun, 20 Nov 2022</td> <th>  Prob (F-statistic):</th>  <td>0.00136</td>\n",
       "</tr>\n",
       "<tr>\n",
       "  <th>Time:</th>                 <td>21:24:00</td>     <th>  Log-Likelihood:    </th> <td> -1861.5</td>\n",
       "</tr>\n",
       "<tr>\n",
       "  <th>No. Observations:</th>      <td>   512</td>      <th>  AIC:               </th> <td>   3727.</td>\n",
       "</tr>\n",
       "<tr>\n",
       "  <th>Df Residuals:</th>          <td>   510</td>      <th>  BIC:               </th> <td>   3735.</td>\n",
       "</tr>\n",
       "<tr>\n",
       "  <th>Df Model:</th>              <td>     1</td>      <th>                     </th>     <td> </td>   \n",
       "</tr>\n",
       "<tr>\n",
       "  <th>Covariance Type:</th>      <td>nonrobust</td>    <th>                     </th>     <td> </td>   \n",
       "</tr>\n",
       "</table>\n",
       "<table class=\"simpletable\">\n",
       "<tr>\n",
       "       <td></td>         <th>coef</th>     <th>std err</th>      <th>t</th>      <th>P>|t|</th>  <th>[0.025</th>    <th>0.975]</th>  \n",
       "</tr>\n",
       "<tr>\n",
       "  <th>const</th>      <td>    7.7443</td> <td>    0.779</td> <td>    9.944</td> <td> 0.000</td> <td>    6.214</td> <td>    9.274</td>\n",
       "</tr>\n",
       "<tr>\n",
       "  <th>QB Scoring</th> <td>    0.1498</td> <td>    0.046</td> <td>    3.222</td> <td> 0.001</td> <td>    0.058</td> <td>    0.241</td>\n",
       "</tr>\n",
       "</table>\n",
       "<table class=\"simpletable\">\n",
       "<tr>\n",
       "  <th>Omnibus:</th>       <td>110.619</td> <th>  Durbin-Watson:     </th> <td>   2.015</td>\n",
       "</tr>\n",
       "<tr>\n",
       "  <th>Prob(Omnibus):</th> <td> 0.000</td>  <th>  Jarque-Bera (JB):  </th> <td> 196.954</td>\n",
       "</tr>\n",
       "<tr>\n",
       "  <th>Skew:</th>          <td> 1.260</td>  <th>  Prob(JB):          </th> <td>1.71e-43</td>\n",
       "</tr>\n",
       "<tr>\n",
       "  <th>Kurtosis:</th>      <td> 4.696</td>  <th>  Cond. No.          </th> <td>    32.2</td>\n",
       "</tr>\n",
       "</table><br/><br/>Notes:<br/>[1] Standard Errors assume that the covariance matrix of the errors is correctly specified."
      ],
      "text/plain": [
       "<class 'statsmodels.iolib.summary.Summary'>\n",
       "\"\"\"\n",
       "                            OLS Regression Results                            \n",
       "==============================================================================\n",
       "Dep. Variable:            DST Scoring   R-squared:                       0.020\n",
       "Model:                            OLS   Adj. R-squared:                  0.018\n",
       "Method:                 Least Squares   F-statistic:                     10.38\n",
       "Date:                Sun, 20 Nov 2022   Prob (F-statistic):            0.00136\n",
       "Time:                        21:24:00   Log-Likelihood:                -1861.5\n",
       "No. Observations:                 512   AIC:                             3727.\n",
       "Df Residuals:                     510   BIC:                             3735.\n",
       "Df Model:                           1                                         \n",
       "Covariance Type:            nonrobust                                         \n",
       "==============================================================================\n",
       "                 coef    std err          t      P>|t|      [0.025      0.975]\n",
       "------------------------------------------------------------------------------\n",
       "const          7.7443      0.779      9.944      0.000       6.214       9.274\n",
       "QB Scoring     0.1498      0.046      3.222      0.001       0.058       0.241\n",
       "==============================================================================\n",
       "Omnibus:                      110.619   Durbin-Watson:                   2.015\n",
       "Prob(Omnibus):                  0.000   Jarque-Bera (JB):              196.954\n",
       "Skew:                           1.260   Prob(JB):                     1.71e-43\n",
       "Kurtosis:                       4.696   Cond. No.                         32.2\n",
       "==============================================================================\n",
       "\n",
       "Notes:\n",
       "[1] Standard Errors assume that the covariance matrix of the errors is correctly specified.\n",
       "\"\"\""
      ]
     },
     "execution_count": 25,
     "metadata": {},
     "output_type": "execute_result"
    }
   ],
   "source": [
    "# Model\n",
    "import statsmodels.api as sm\n",
    "# Add a constant to the data (need mx + b, not just mx)\n",
    "to_model = sm.add_constant(team_scoring_df)\n",
    "# Create input data (X), which is the constant and QB scoring\n",
    "X = to_model.loc[:, ['const', 'QB Scoring']]\n",
    "# Create output data (y), which is the DST scoring\n",
    "y = to_model['DST Scoring']\n",
    "# Fit a linear model to the DST vs QB data\n",
    "model = sm.OLS(y,X).fit()\n",
    "# Print out a summary of the statistics of the model\n",
    "model.summary()"
   ]
  },
  {
   "cell_type": "markdown",
   "metadata": {},
   "source": [
    "### Model interpretation\n",
    "- **What can we conclude about the parameters of the model?**: DST fantasy point scoring is positively correlated to QB fantasy point scoring. For every 1 fantasy point the QB scores, a defense can be expected to score ~0.15 fantasy points\n",
    "- **How certain/uncertain are we about them?**: Based on the probability from the t-test (P > |t|), we are 99.9% confident that there is a significant, linear relationship between DST scoring and QB scoring.\n",
    "- **What conclusions can we make about the research question based on the model results?**: QB scoring is predictive of DST scoring, and should be added to the authors' model to help improve their projections. One way this could be done is by keeping track of how many points a quarterback scores, on average, and using this linear model to add a flat amount of points to the DST projection for his team.\n"
   ]
  },
  {
   "cell_type": "markdown",
   "metadata": {},
   "source": [
    "## Question 2: Do more top-8 quarterback weekly finishes result in a higher average fantasy points scored?\n",
    "- **What is your hypothesis?**: I hypothesize that there will be a linear relationship, but it will not be very strong\n",
    "- **How does this relate to the researcher's question?**: This question is more relevant for fantasy football managers, because in a typical 12-team fantasy league there are only 12 quarterbacks in fantasy starting lineups each week. Knowing that a wide (or narrow) % of QBs will finish with at least one top-8 week (a fantasy-relevant week) allows players to make informed decisions about how to value the QB position (is it replaceable? will lots of quarterbacks score well at least once? Then it should be valued below more scarce positions. Otherwise, it should be highly valued.)\n",
    "- **How does this relate to Part 1?**: This is asking a similar style of question, where the goal is to gain insight into what factors produce consistent, high-scoring fantasy football players\n",
    "- **Why use this data?**: This data provides information about the how many fantasy points QBs scored every week\n",
    "- **Which features will you be using?**: I will be using `fantasy points scored` and `player` to answer this question\n",
    "- **How many observations are there for each feature?**: There are the same number of observations for each feature, which is 15 * the number of players at the QB position (585)"
   ]
  },
  {
   "cell_type": "code",
   "execution_count": 71,
   "metadata": {},
   "outputs": [],
   "source": [
    "# Code from earlier sections to import and clean the dataset\n",
    "\n",
    "# import packages and dataset\n",
    "import pandas as pd\n",
    "\n",
    "# These were imported for each fantasy football position type (QB or DST)\n",
    "QB = pd.read_excel('../Data/Accuscore Evaluation.xlsx', sheet_name='QB Projections')\n",
    "\n",
    "# Remove duplicate columns (PLAYERID/ESPNID is simply an alias for PLAYER)\n",
    "QB = QB.drop(['PLAYERID', 1], axis=1)\n",
    "# Rename ORDER column to WEEK for clarity (since order describes the week of the NFL season)\n",
    "QB = QB.rename(columns={'ORDER':'WEEK'})\n",
    "\n",
    "\n",
    "# Remove Ben Roethelisberger's and Andrew Luck's bye weeks (Week 4), since the authors forgot to\n",
    "ben_bye = ((QB['WEEK'] == 4) & (QB['PLAYER'] == 'Ben Roethlisberger')).astype(int).idxmax()\n",
    "luck_bye = ((QB['WEEK'] == 4) & (QB['PLAYER'] == 'Andrew Luck')).astype(int).idxmax()\n",
    "QB = QB.drop([ben_bye, luck_bye], axis=0)"
   ]
  },
  {
   "cell_type": "code",
   "execution_count": 74,
   "metadata": {},
   "outputs": [
    {
     "name": "stdout",
     "output_type": "stream",
     "text": [
      "QBs with at least 1 top 8 week: 30\n"
     ]
    }
   ],
   "source": [
    "# Additional cleaning to be able to make this plot\n",
    "import seaborn as sns\n",
    "# Create a df where rows will be players, and columns will be number of weeks in the top 8\n",
    "qb_scoring_df = pd.DataFrame()\n",
    "# For each week of the NFL season\n",
    "for week in weeks:\n",
    "    # Sort QBs for the week by how many fantasy points they scored (high to low), and take the top 8\n",
    "    top8 = QB[QB['WEEK'] == week].sort_values('Actuals', ascending=False)[0:7]\n",
    "    # for each player\n",
    "    for player in top8['PLAYER']:\n",
    "        # If they've already had a top 8 week\n",
    "        if player in qb_scoring_df.index:\n",
    "            # Add 1 to their total\n",
    "            qb_scoring_df.loc[player, 'Occurences'] += 1\n",
    "        else:\n",
    "            # This is their first week in the top 8\n",
    "            qb_scoring_df.loc[player, 'Occurences'] = 1\n",
    "\n",
    "print('QBs with at least 1 top 8 week:', qb_scoring_df.shape[0])\n",
    "\n",
    "# Add everyone without a week in the top 8 to the df (for visualization purposes)\n",
    "for player in set(QB['PLAYER']):\n",
    "    if player in qb_scoring_df.index:\n",
    "        # Do nothing, they already made it in\n",
    "        pass\n",
    "    else:\n",
    "        # This is their first week in the top 8\n",
    "        qb_scoring_df.loc[player, 'Occurences'] = 0\n",
    "\n",
    "# Add mean fpts scored for each player\n",
    "qb_scoring_df = qb_scoring_df.sort_index(axis=0)\n",
    "qb_scoring_df['Average'] = QB.groupby('PLAYER')['Actuals'].mean()"
   ]
  },
  {
   "cell_type": "markdown",
   "metadata": {},
   "source": [
    "## Rationale for plot\n",
    "- **What type of plot are you making?**: I am making 2 histograms\n",
    "- **Why will this plot give you insight?**: I'm trying to visualize the distribution of how many top 8 weeks a quarterback can be expected to have, on average\n",
    "- **What do you expect to see?**: I expect to see most quarterbacks between 0 and 2 occurences, with fewer and fewer quarterbacks as the number of weeks in the top 8 increases\n",
    "- **How will the result inform your hypothesis?**: I will see if QB scoring follows the distribution I would expect, and whether average fpts scored follows a similar distribution"
   ]
  },
  {
   "cell_type": "code",
   "execution_count": 75,
   "metadata": {},
   "outputs": [
    {
     "data": {
      "text/plain": [
       "<seaborn.axisgrid.FacetGrid at 0x27b2be27760>"
      ]
     },
     "execution_count": 75,
     "metadata": {},
     "output_type": "execute_result"
    },
    {
     "data": {
      "image/png": "[encoded data removed]",
      "text/plain": [
       "<Figure size 360x360 with 1 Axes>"
      ]
     },
     "metadata": {
      "needs_background": "light"
     },
     "output_type": "display_data"
    },
    {
     "data": {
      "image/png": "[encoded data removed]",
      "text/plain": [
       "<Figure size 360x360 with 1 Axes>"
      ]
     },
     "metadata": {
      "needs_background": "light"
     },
     "output_type": "display_data"
    }
   ],
   "source": [
    "# Plot\n",
    "sns.displot(data=qb_scoring_df, x='Occurences')\n",
    "sns.displot(data=qb_scoring_df, x='Average')"
   ]
  },
  {
   "cell_type": "markdown",
   "metadata": {},
   "source": [
    "### Plot interpretation\n",
    "- The majority of quarterbacks (over 20) have 1 or fewer weeks in the top-8 quarterbacks. Of the remaining 19 NFL quarterbacks, there seems to be an even distribution of weeks in the top 8\n",
    "- Fantasy point average does not follow a similar distribution to top-8 QB weeks"
   ]
  },
  {
   "cell_type": "markdown",
   "metadata": {},
   "source": [
    "### Model explanation\n",
    "- **What feature(s) are you modeling and why is this model appropriate for that?**: I am modeling average fantasy points scored and weeks in the top 8 quarterbacks using a linear model. This model will test if there is a relationship between average fantasy points scored and weeks in the top 8 quarterbacks. Intuitively, these two should have a relationship, but there may be quarterbacks who score in the top-12 or top-15 on a weekly basis, and finish the season in the top-10 (as a fantasy-relevant QB) by sheer volume/stat accumulation because of their consistency.\n",
    "- **What other feature(s) are used in the model, if any, and why are they included?**: Average fantasy points scored for each player\n",
    "- **How will this model inform your hypothesis?**: This model will add some context to my hypothesis. Does having less top-8 finishes necessarily mean a player is a \"worse\" fantasy QB?\n",
    "- **What kind of parameters do you expect for your model, based on your visualization?**: I expect a slope, an intercept, and a p-value associated with the intercept."
   ]
  },
  {
   "cell_type": "code",
   "execution_count": 76,
   "metadata": {},
   "outputs": [
    {
     "data": {
      "text/html": [
       "<table class=\"simpletable\">\n",
       "<caption>OLS Regression Results</caption>\n",
       "<tr>\n",
       "  <th>Dep. Variable:</th>         <td>Average</td>     <th>  R-squared:         </th> <td>   0.794</td>\n",
       "</tr>\n",
       "<tr>\n",
       "  <th>Model:</th>                   <td>OLS</td>       <th>  Adj. R-squared:    </th> <td>   0.788</td>\n",
       "</tr>\n",
       "<tr>\n",
       "  <th>Method:</th>             <td>Least Squares</td>  <th>  F-statistic:       </th> <td>   142.4</td>\n",
       "</tr>\n",
       "<tr>\n",
       "  <th>Date:</th>             <td>Sun, 20 Nov 2022</td> <th>  Prob (F-statistic):</th> <td>3.02e-14</td>\n",
       "</tr>\n",
       "<tr>\n",
       "  <th>Time:</th>                 <td>23:32:22</td>     <th>  Log-Likelihood:    </th> <td> -93.941</td>\n",
       "</tr>\n",
       "<tr>\n",
       "  <th>No. Observations:</th>      <td>    39</td>      <th>  AIC:               </th> <td>   191.9</td>\n",
       "</tr>\n",
       "<tr>\n",
       "  <th>Df Residuals:</th>          <td>    37</td>      <th>  BIC:               </th> <td>   195.2</td>\n",
       "</tr>\n",
       "<tr>\n",
       "  <th>Df Model:</th>              <td>     1</td>      <th>                     </th>     <td> </td>   \n",
       "</tr>\n",
       "<tr>\n",
       "  <th>Covariance Type:</th>      <td>nonrobust</td>    <th>                     </th>     <td> </td>   \n",
       "</tr>\n",
       "</table>\n",
       "<table class=\"simpletable\">\n",
       "<tr>\n",
       "       <td></td>         <th>coef</th>     <th>std err</th>      <th>t</th>      <th>P>|t|</th>  <th>[0.025</th>    <th>0.975]</th>  \n",
       "</tr>\n",
       "<tr>\n",
       "  <th>const</th>      <td>    6.5008</td> <td>    0.670</td> <td>    9.701</td> <td> 0.000</td> <td>    5.143</td> <td>    7.859</td>\n",
       "</tr>\n",
       "<tr>\n",
       "  <th>Occurences</th> <td>    2.0916</td> <td>    0.175</td> <td>   11.932</td> <td> 0.000</td> <td>    1.736</td> <td>    2.447</td>\n",
       "</tr>\n",
       "</table>\n",
       "<table class=\"simpletable\">\n",
       "<tr>\n",
       "  <th>Omnibus:</th>       <td> 0.384</td> <th>  Durbin-Watson:     </th> <td>   2.097</td>\n",
       "</tr>\n",
       "<tr>\n",
       "  <th>Prob(Omnibus):</th> <td> 0.825</td> <th>  Jarque-Bera (JB):  </th> <td>   0.537</td>\n",
       "</tr>\n",
       "<tr>\n",
       "  <th>Skew:</th>          <td>-0.004</td> <th>  Prob(JB):          </th> <td>   0.765</td>\n",
       "</tr>\n",
       "<tr>\n",
       "  <th>Kurtosis:</th>      <td> 2.425</td> <th>  Cond. No.          </th> <td>    6.02</td>\n",
       "</tr>\n",
       "</table><br/><br/>Notes:<br/>[1] Standard Errors assume that the covariance matrix of the errors is correctly specified."
      ],
      "text/plain": [
       "<class 'statsmodels.iolib.summary.Summary'>\n",
       "\"\"\"\n",
       "                            OLS Regression Results                            \n",
       "==============================================================================\n",
       "Dep. Variable:                Average   R-squared:                       0.794\n",
       "Model:                            OLS   Adj. R-squared:                  0.788\n",
       "Method:                 Least Squares   F-statistic:                     142.4\n",
       "Date:                Sun, 20 Nov 2022   Prob (F-statistic):           3.02e-14\n",
       "Time:                        23:32:22   Log-Likelihood:                -93.941\n",
       "No. Observations:                  39   AIC:                             191.9\n",
       "Df Residuals:                      37   BIC:                             195.2\n",
       "Df Model:                           1                                         \n",
       "Covariance Type:            nonrobust                                         \n",
       "==============================================================================\n",
       "                 coef    std err          t      P>|t|      [0.025      0.975]\n",
       "------------------------------------------------------------------------------\n",
       "const          6.5008      0.670      9.701      0.000       5.143       7.859\n",
       "Occurences     2.0916      0.175     11.932      0.000       1.736       2.447\n",
       "==============================================================================\n",
       "Omnibus:                        0.384   Durbin-Watson:                   2.097\n",
       "Prob(Omnibus):                  0.825   Jarque-Bera (JB):                0.537\n",
       "Skew:                          -0.004   Prob(JB):                        0.765\n",
       "Kurtosis:                       2.425   Cond. No.                         6.02\n",
       "==============================================================================\n",
       "\n",
       "Notes:\n",
       "[1] Standard Errors assume that the covariance matrix of the errors is correctly specified.\n",
       "\"\"\""
      ]
     },
     "execution_count": 76,
     "metadata": {},
     "output_type": "execute_result"
    }
   ],
   "source": [
    "# Model\n",
    "import statsmodels.api as sm\n",
    "\n",
    "# Add a constant to the data (need mx + b, not just mx)\n",
    "to_model = sm.add_constant(qb_scoring_df)\n",
    "# Create input data (X), which is the constant and QB scoring\n",
    "X = to_model.loc[:, ['const', 'Occurences']]\n",
    "# Create output data (y), which is the DST scoring\n",
    "y = to_model['Average']\n",
    "# Fit a linear model to the DST vs QB data\n",
    "model = sm.OLS(y,X).fit()\n",
    "# Print out a summary of the statistics of the model\n",
    "model.summary()"
   ]
  },
  {
   "cell_type": "markdown",
   "metadata": {},
   "source": [
    "### Model interpretation\n",
    "- **What can we conclude about the parameters of the model?**: Number of top-8 weeks is predictive of fantasy point average for QBs. For each top-8 week, the QB's average points scored increases by 2 points\n",
    "- **How certain/uncertain are we about them?**: Based on the probability from the t-test (P > |t|), we are nearly 100% confident that there is a significant, linear relationship between top-8 scoring weeks and QB scoring.\n",
    "- **What conclusions can we make about the research question based on the model results?**: QBs with more top-8 weeks tend to have a higher average scoring. If a QB scores highly in 1 or 2 weeks, it's more likely that he will continue to score highly.\n"
   ]
  }
 ],
 "metadata": {
  "kernelspec": {
   "display_name": "Python 3.8.8 ('base')",
   "language": "python",
   "name": "python3"
  },
  "language_info": {
   "codemirror_mode": {
    "name": "ipython",
    "version": 3
   },
   "file_extension": ".py",
   "mimetype": "text/x-python",
   "name": "python",
   "nbconvert_exporter": "python",
   "pygments_lexer": "ipython3",
   "version": "3.8.8"
  },
  "orig_nbformat": 4,
  "vscode": {
   "interpreter": {
    "hash": "e595df4329fcf3a3af43d6766bc23e541941e8ce9ea758c4bedfcbd321d7c58e"
   }
  }
 },
 "nbformat": 4,
 "nbformat_minor": 2
}
