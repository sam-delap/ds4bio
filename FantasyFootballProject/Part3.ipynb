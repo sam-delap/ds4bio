{
 "cells": [
  {
   "cell_type": "markdown",
   "metadata": {},
   "source": [
    "## Question 1: Is there a relationship between average quarterback fantasy points scored and average team defense fantasy points scored on the same team?\n",
    "In other words, does a quarterback who scores more fantasy points (and presumably more real NFL points for his team) have any effect on how their team's defense performs?\n",
    "- **What is your hypothesis?**: I hypothesize that quarterback fantasy football scoring will have no effect on team defense fantasy point scoring. The quarterback plays on the offensive side of the ball, and so how the QB performs should not statistically influence how his defense performs, since they are not on the football field at the same time (teams take turns switching off playing offense/defense)\n",
    "- **How does this relate to the researcher's question?**: This question is related to the researcher's question because they were trying to use a model to predict the number of fantasy points a quarterback/team defense might score. If quarterback fantasy point scoring was a strong predictor of team defensive scoring (or vice versa), the researchers could've added this to their model.\n",
    "- **How does this relate to Part 1?**: This question is a more specific form of the research question I asked in part 1. I'm examining this question for quarterbacks/team defenses from the same team.\n",
    "- **Why use this data?**: This data provides information about the team QBs/DSTs belonged to, as well as how many fantasy points they scored for each week of the NFL season.\n",
    "- **Which features will you be using?**: I will be using `fantasy points scored`, `team`, and `player` to complete this assignment\n",
    "- **How many observations are there for each feature?**: There are the same number of observations for each feature, which is 15 * the number of players at that position.\n",
    "    - For QBs: 585\n",
    "    - For DSTs: 480\n",
    "    - Since the reason there are more quarterbacks is because some teams played multiple quarterbacks, I will simplify this analysis by combining the QBs that played for an individual team and treating them as if they were 1 QB"
   ]
  },
  {
   "cell_type": "code",
   "execution_count": 2,
   "metadata": {},
   "outputs": [],
   "source": [
    "# Code from earlier sections to import and clean the dataset\n",
    "\n",
    "# import packages and dataset\n",
    "import pandas as pd\n",
    "\n",
    "# These were imported for each fantasy football position type (QB or DST)\n",
    "QB = pd.read_excel('../Data/Accuscore Evaluation.xlsx', sheet_name='QB Projections')\n",
    "DST = pd.read_excel('../Data/Accuscore Evaluation.xlsx', sheet_name= 'DST Projections')\n",
    "\n",
    "# Remove duplicate columns (PLAYERID/ESPNID is simply an alias for PLAYER)\n",
    "QB = QB.drop(['PLAYERID', 1], axis=1)\n",
    "# Since defenses are played per team, as long as we have the TEAM data, we know what the name of the player is\n",
    "DST = DST.drop(['ESPNID', 'PLAYER'], axis=1)\n",
    "# Rename ORDER column to WEEK for clarity (since order describes the week of the NFL season)\n",
    "QB = QB.rename(columns={'ORDER':'WEEK'})\n",
    "DST = DST.rename(columns={'ORDER':'WEEK'})\n",
    "\n",
    "\n",
    "# Remove Ben Roethelisberger's and Andrew Luck's bye weeks (Week 4), since the authors forgot to\n",
    "ben_bye = ((QB['WEEK'] == 4) & (QB['PLAYER'] == 'Ben Roethlisberger')).astype(int).idxmax()\n",
    "luck_bye = ((QB['WEEK'] == 4) & (QB['PLAYER'] == 'Andrew Luck')).astype(int).idxmax()\n",
    "QB = QB.drop([ben_bye, luck_bye], axis=0)"
   ]
  },
  {
   "cell_type": "code",
   "execution_count": 7,
   "metadata": {},
   "outputs": [
    {
     "data": {
      "text/plain": [
       "{'ARI',\n",
       " 'ATL',\n",
       " 'BAL',\n",
       " 'BUF',\n",
       " 'CAR',\n",
       " 'CHI',\n",
       " 'CIN',\n",
       " 'CLE',\n",
       " 'DAL',\n",
       " 'DEN',\n",
       " 'DET',\n",
       " 'GB',\n",
       " 'HOU',\n",
       " 'IND',\n",
       " 'JAC',\n",
       " 'KC',\n",
       " 'MIA',\n",
       " 'MIN',\n",
       " 'NE',\n",
       " 'NO',\n",
       " 'NYG',\n",
       " 'NYJ',\n",
       " 'OAK',\n",
       " 'PHI',\n",
       " 'PIT',\n",
       " 'SD',\n",
       " 'SEA',\n",
       " 'SF',\n",
       " 'STL',\n",
       " 'TB',\n",
       " 'TEN',\n",
       " 'WAS'}"
      ]
     },
     "metadata": {},
     "output_type": "display_data"
    },
    {
     "data": {
      "text/plain": [
       "{1, 2, 3, 4, 5, 6, 7, 8, 9, 10, 11, 12, 13, 14, 15, 16}"
      ]
     },
     "metadata": {},
     "output_type": "display_data"
    }
   ],
   "source": [
    "# Get a list of all of the NFL teams as a set\n",
    "teams = set(QB['TEAM'])\n",
    "# Get a list of the weeks of the NFL season as a set (we'll need these to figure out how many points the QBs for a team scored in a given week)\n",
    "weeks = set(QB['WEEK'])\n",
    "display(teams, weeks)"
   ]
  },
  {
   "cell_type": "code",
   "execution_count": 10,
   "metadata": {},
   "outputs": [
    {
     "data": {
      "text/plain": [
       "1      1.72\n",
       "30    10.26\n",
       "Name: Actuals, dtype: float64"
      ]
     },
     "metadata": {},
     "output_type": "display_data"
    }
   ],
   "source": [
    "# for each NFL team\n",
    "for team in teams:\n",
    "    team_fpts_scoring = []\n",
    "    # For each week of the NFL season from 1-16\n",
    "    for week in weeks:\n",
    "        # Figure out how many points that team's quarterback(s) scored that week, and add it to the list\n",
    "        team_fpts_scoring.append(QB.loc[(QB['WEEK'] == week) & (QB['TEAM'] == team), 'Actuals'].sum())\n",
    "    \n"
   ]
  }
 ],
 "metadata": {
  "kernelspec": {
   "display_name": "Python 3.8.8 ('base')",
   "language": "python",
   "name": "python3"
  },
  "language_info": {
   "codemirror_mode": {
    "name": "ipython",
    "version": 3
   },
   "file_extension": ".py",
   "mimetype": "text/x-python",
   "name": "python",
   "nbconvert_exporter": "python",
   "pygments_lexer": "ipython3",
   "version": "3.8.8"
  },
  "orig_nbformat": 4,
  "vscode": {
   "interpreter": {
    "hash": "e595df4329fcf3a3af43d6766bc23e541941e8ce9ea758c4bedfcbd321d7c58e"
   }
  }
 },
 "nbformat": 4,
 "nbformat_minor": 2
}
