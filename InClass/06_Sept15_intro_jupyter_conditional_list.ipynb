{
 "cells": [
  {
   "cell_type": "markdown",
   "id": "e520f4de-de47-4f18-81ca-c90c23b76c8d",
   "metadata": {},
   "source": [
    "# Welcome to our first Jupyter Notebook!\n",
    "\n",
    "This is a jupyter notebook.  Let's take a tour.\n",
    "\n",
    "A notebook is made up of **cells**, which are these bits of text with a box around them. Cells can be:\n",
    "  - *mark-down cells*: like this one! You can learn more about Markdown by clicking on the \"Help\" menu.\n",
    "  - Or *code cells*: like **the one below! (with numbers and gray boxes)**\n",
    "\n",
    "## Try it and take notes:\n",
    "Click or double-click in the middle of the cell to edit the cell content for 1) this cell and 2) the cell below, then press `Shift-Enter` (or the \"play\" button) to \"run\" each cell. When you run the 2 types of cell, they do different things. What do they do?\n",
    "Describe what you observe:\n",
    "\n",
    "1) What happens when I double-click in this cell, edit it, and \"run\":\n",
    "\n",
    "<font color= green> Insert notes here (your notes can be green if you want)\n",
    "    \n",
    "    \n",
    "2) What happens when I click in the next cell, and run it? What if I change the 10 to 11 below, and \"run\":\n",
    "\n",
    "<font color=#BB8FCE> Insert notes here (your notes could also be purple if you like that better)"
   ]
  },
  {
   "cell_type": "markdown",
   "id": "0147cbe7",
   "metadata": {},
   "source": [
    "<font color = #BB8FCE >Does the operations and prints the result"
   ]
  },
  {
   "cell_type": "code",
   "execution_count": 1,
   "id": "4acf5f4d-708c-4856-981b-634dcf06c860",
   "metadata": {},
   "outputs": [
    {
     "data": {
      "text/plain": [
       "10.5"
      ]
     },
     "execution_count": 1,
     "metadata": {},
     "output_type": "execute_result"
    }
   ],
   "source": [
    "10 + 3 - 2.5"
   ]
  },
  {
   "cell_type": "markdown",
   "id": "35f2a9fe-ba7a-4182-bc5d-e4427b6c88ae",
   "metadata": {},
   "source": [
    "Some notes: \n",
    "    \n",
    "- You can add cells using the \"+\" button up top. And you can move cells around using the cut/paste/copy buttons too.\n",
    "- There's keyboard modes for those of us who hate clicking. I use a lot so you won't see me clicking those buttons very much. Look at the \"Help\" menu for that but that's up to you. "
   ]
  },
  {
   "cell_type": "markdown",
   "id": "df2c3145-7c6c-4842-bdc4-4b2e412766c7",
   "metadata": {},
   "source": [
    "## Some programs similar to what we learned\n",
    "\n",
    "Predict the thing that will be printed and then run it to see if your prediction was right\n",
    "\n",
    "### Program 1: \n",
    "<font color = #BB8FCE> prints the number 42"
   ]
  },
  {
   "cell_type": "code",
   "execution_count": 3,
   "id": "a483d9c1-28c3-47ae-9efb-81efc50b2cad",
   "metadata": {},
   "outputs": [
    {
     "name": "stdout",
     "output_type": "stream",
     "text": [
      "42\n"
     ]
    }
   ],
   "source": [
    "nickels = 8\n",
    "pennies = 2\n",
    "money_in_cents = pennies + nickels * 5   \n",
    "print(money_in_cents )"
   ]
  },
  {
   "cell_type": "markdown",
   "id": "5002663f-0d61-4c55-8cd4-51d35cb7e81f",
   "metadata": {},
   "source": [
    "### Program 2 | value | < compare_to:\n",
    "#### <font color = #BB8FCE> prints if abs(value) is less than or greater than/equal to, shows correct comparison operation"
   ]
  },
  {
   "cell_type": "code",
   "execution_count": 2,
   "id": "7407b8aa-9011-4d5b-b62e-4341aaa7593f",
   "metadata": {},
   "outputs": [
    {
     "name": "stdout",
     "output_type": "stream",
     "text": [
      "it's greater: | 8 | >= 4\n"
     ]
    }
   ],
   "source": [
    "\n",
    "value = 8\n",
    "compare_to = 4\n",
    "check_positive = value < compare_to\n",
    "check_negative = -1 * value < compare_to\n",
    "check_both = check_positive and check_negative\n",
    "if check_both:\n",
    "    print(\"it's less: |\", value, \"| <\", compare_to)\n",
    "else:\n",
    "    print(\"it's greater: |\", value, \"| >=\", compare_to)"
   ]
  },
  {
   "cell_type": "markdown",
   "id": "a37a1c34-dbb6-4f99-bf38-d70e3a2aa655",
   "metadata": {},
   "source": [
    "Change the value of `value` and then predict what the output will be. Run it again to see if you predicted right."
   ]
  },
  {
   "cell_type": "markdown",
   "id": "17949c0b-f699-46e6-b913-bda91abee206",
   "metadata": {},
   "source": [
    "You actually don't always need to use print statements. You can retrieve the value of a variable just by putting its name alone on one line of code and Jupyter will print out what's in there. Try it out:"
   ]
  },
  {
   "cell_type": "code",
   "execution_count": 4,
   "id": "1c36a420-db0b-4bc9-bc82-8c84e55d76c3",
   "metadata": {},
   "outputs": [
    {
     "data": {
      "text/plain": [
       "42"
      ]
     },
     "execution_count": 4,
     "metadata": {},
     "output_type": "execute_result"
    }
   ],
   "source": [
    "money_in_cents"
   ]
  },
  {
   "cell_type": "code",
   "execution_count": 5,
   "id": "f88b8d43-adc5-41c1-bc02-c2503140794d",
   "metadata": {},
   "outputs": [
    {
     "data": {
      "text/plain": [
       "False"
      ]
     },
     "execution_count": 5,
     "metadata": {},
     "output_type": "execute_result"
    }
   ],
   "source": [
    "check_both"
   ]
  },
  {
   "cell_type": "markdown",
   "id": "267abe98-f875-43e1-a362-89b722799528",
   "metadata": {},
   "source": [
    "**Why did this work??? We never defined `money_in_cents` or `check_both` in those code cells?!**\n",
    "\n",
    "Important note: all variables are saved throughout the session! So as long as your Jupyter notebooks is running, your \"post-its\" will keep accumulating. This can mess you up!"
   ]
  },
  {
   "cell_type": "markdown",
   "id": "769eba2e-cf10-4806-a0d0-c4827e953273",
   "metadata": {},
   "source": [
    "### Exercise 1: Daily homework for today: discuss group answers\n",
    "\n",
    "Below is a program to test if |value| < 3\n",
    " \n",
    "1. Add some lines that will print out “Congratulations!” if |value| < 3 and print \"Too bad!\" if |value| >= 3\n",
    "2. And add more lines to tell the person whether they should try adding 1 to their value or if they should try subtracting 1 from their value to get the \"Congratulations!\". So if value is -3.5 (as below) it should print Too bad!  and it should print \"Try adding 1\". Let me know if there are questions\n",
    "\n",
    "```\n",
    "value = -3.5\n",
    "compare_to = 3\n",
    "check_positive = value < compare_to\n",
    "check_negative = -1 * value < compare_to\n",
    "abs_less = check_positive and check_negative\n",
    "print(“|”, value, “| < “, compare_to “?”, abs_less)\n",
    "```\n",
    "(note how I made the code block in markdown!)"
   ]
  },
  {
   "cell_type": "code",
   "execution_count": 6,
   "id": "bb7cdc34-ae64-445a-9875-7ee652fdb63e",
   "metadata": {},
   "outputs": [
    {
     "ename": "SyntaxError",
     "evalue": "invalid syntax (Temp/ipykernel_3808/3974854677.py, line 6)",
     "output_type": "error",
     "traceback": [
      "\u001b[1;36m  File \u001b[1;32m\"C:\\Users\\sjcde\\AppData\\Local\\Temp/ipykernel_3808/3974854677.py\"\u001b[1;36m, line \u001b[1;32m6\u001b[0m\n\u001b[1;33m    print(\"|\", value, \"| < \", compare_to \"?\", abs_less)\u001b[0m\n\u001b[1;37m                                         ^\u001b[0m\n\u001b[1;31mSyntaxError\u001b[0m\u001b[1;31m:\u001b[0m invalid syntax\n"
     ]
    }
   ],
   "source": [
    "value = -3.5\n",
    "compare_to = 3\n",
    "check_positive = value < compare_to\n",
    "check_negative = -1 * value < compare_to\n",
    "abs_less = check_positive and check_negative\n",
    "print(\"|\", value, \"| < \", compare_to, \"?\", abs_less)"
   ]
  },
  {
   "cell_type": "markdown",
   "id": "d1885afb-9d09-41b0-89d4-b2f96ff302af",
   "metadata": {},
   "source": [
    "# Lists: a new type of variable\n",
    "Lists allow us to aggregate multiple values together into one somewhat more complicated variable. We can make a list of numbers or strings (or both together) using `[ ]`\n",
    "\n",
    "Here I'm making 2 lists, one is different plants, and the other is the continent it originated from before agriculture."
   ]
  },
  {
   "cell_type": "code",
   "execution_count": 10,
   "id": "f04fbfd9-6c66-410d-9c8e-ec5c43126c8d",
   "metadata": {},
   "outputs": [
    {
     "data": {
      "text/plain": [
       "'North America'"
      ]
     },
     "execution_count": 10,
     "metadata": {},
     "output_type": "execute_result"
    }
   ],
   "source": [
    "plants = ['Cabbage', 'Coffee', 'Corn', 'Tea', 'Tomato', 'Apple', 'Potato']\n",
    "\n",
    "## notice that you can put them on separate lines.. python is looking for the right-] to match the left one\n",
    "places = ['Europe',\n",
    "             'Africa',\n",
    "             'North America',\n",
    "             'Asia',\n",
    "             'North America',\n",
    "             'Asia',\n",
    "             'South America']\n",
    "\n",
    "places[2]"
   ]
  },
  {
   "cell_type": "code",
   "execution_count": null,
   "id": "dca318ec-f6df-4c74-b0ea-11c31d3ff123",
   "metadata": {},
   "outputs": [],
   "source": [
    "print(plants)"
   ]
  },
  {
   "cell_type": "markdown",
   "id": "19c8900e-cb0d-47f6-a8b7-847a153aa7ab",
   "metadata": {},
   "source": [
    "Lists have their own special operator, the `[]` You can use this to get the **items** from the list by what position they are in. **POSITIONS ALWAYS START FROM ZERO!!!**:"
   ]
  },
  {
   "cell_type": "code",
   "execution_count": null,
   "id": "b40d8808-19c1-45cd-809d-059766b38405",
   "metadata": {},
   "outputs": [],
   "source": [
    "plants[0]"
   ]
  },
  {
   "cell_type": "code",
   "execution_count": null,
   "id": "236bdb70-abc8-4698-89fe-d39957731262",
   "metadata": {},
   "outputs": [],
   "source": [
    "places[0]"
   ]
  },
  {
   "cell_type": "markdown",
   "id": "bbe13af9-2ef0-43f1-926f-4cf5e85ca4c5",
   "metadata": {},
   "source": [
    "### Exercise 2\n",
    "Make a list variable (call the variable whatever you want) that contains the number of pets each person in the group has. The person sitting closest to me should be person zero, and the other students (going clockwise) would be numbers 1, etc.\n",
    "\n",
    "Use the list variable to retrieve the number of pets person 2 has."
   ]
  },
  {
   "cell_type": "code",
   "execution_count": 9,
   "id": "f52ec5b1",
   "metadata": {},
   "outputs": [
    {
     "data": {
      "text/plain": [
       "1"
      ]
     },
     "execution_count": 9,
     "metadata": {},
     "output_type": "execute_result"
    }
   ],
   "source": [
    "pets = [3, 2, 1, 0, 0]\n",
    "pets[2]"
   ]
  },
  {
   "cell_type": "markdown",
   "id": "494a7bd9-7802-46e3-926d-04ed1a9007c2",
   "metadata": {},
   "source": [
    "### Exercise 3 \n",
    "Let's say we had a really long list of 1000 plants and places as above. The 927th plant is a yam. What code would you type to find from your data where yams are from?"
   ]
  },
  {
   "cell_type": "code",
   "execution_count": null,
   "id": "824826c1",
   "metadata": {},
   "outputs": [],
   "source": [
    "places[926]"
   ]
  },
  {
   "cell_type": "markdown",
   "id": "4d25e4f0-bea4-458a-9606-d903b2efe404",
   "metadata": {},
   "source": [
    "But we can specify a range with of how many elements we want to get with a `:` like this:\n",
    "`list[start:end]`\n",
    "\n",
    "**Important**: \"end\" is always the last index + 1.\n",
    "\n",
    "Note you can leave off the number to the left of the colon and it will aassume you want to start from the start. You can leave off the number to the right and it will assume you want to go all the way to the end\n",
    "\n",
    "### Exercise 4\n",
    "for each of the following code cells, predict the output before running it. Does the output make sense?\n",
    "\n",
    "**DO NOT JUST RUN IT WITHOUT FIRST PREDICTING!!! We are not monkeys who just press a button**\n",
    "\n",
    "![img](https://cdn-0.emojis.wiki/emoji-pics/lg/see-no-evil-monkey-lg.png \"see no evil monkey\")"
   ]
  },
  {
   "cell_type": "markdown",
   "id": "e06875ac",
   "metadata": {},
   "source": [
    "<font color = lightgreen> first 3"
   ]
  },
  {
   "cell_type": "code",
   "execution_count": null,
   "id": "17dedc85-dd81-4c70-88a0-1ac6a838ee10",
   "metadata": {},
   "outputs": [],
   "source": [
    "plants[0:3]"
   ]
  },
  {
   "cell_type": "markdown",
   "id": "b2ad4c9e",
   "metadata": {},
   "source": [
    "<font color = lightgreen> same thing"
   ]
  },
  {
   "cell_type": "code",
   "execution_count": 11,
   "id": "b6e27883-9eae-460f-bc8e-022bd325699e",
   "metadata": {},
   "outputs": [
    {
     "data": {
      "text/plain": [
       "['Cabbage', 'Coffee', 'Corn']"
      ]
     },
     "execution_count": 11,
     "metadata": {},
     "output_type": "execute_result"
    }
   ],
   "source": [
    "plants[:3]"
   ]
  },
  {
   "cell_type": "markdown",
   "id": "cdb31e83",
   "metadata": {},
   "source": [
    "<font color = lightgreen> 3 until the end"
   ]
  },
  {
   "cell_type": "code",
   "execution_count": null,
   "id": "e9f589e0-e202-4138-8040-ca15f8f7c002",
   "metadata": {},
   "outputs": [],
   "source": [
    "plants[3:]"
   ]
  },
  {
   "cell_type": "markdown",
   "id": "a7ce9379",
   "metadata": {},
   "source": [
    "<font color = lightgreen> first 3"
   ]
  },
  {
   "cell_type": "code",
   "execution_count": null,
   "id": "bf7ca333-bcdc-4f38-ac37-4bc10092ebe3",
   "metadata": {},
   "outputs": [],
   "source": [
    "plants[0:3]"
   ]
  },
  {
   "cell_type": "markdown",
   "id": "a7ce9379",
   "metadata": {},
   "source": [
    "<font color = lightgreen> only index 1"
   ]
  },
  {
   "cell_type": "code",
   "execution_count": 12,
   "id": "c30b3213-5649-48b6-9fd3-2e3470f12455",
   "metadata": {},
   "outputs": [
    {
     "data": {
      "text/plain": [
       "['Coffee']"
      ]
     },
     "execution_count": 12,
     "metadata": {},
     "output_type": "execute_result"
    }
   ],
   "source": [
    "plants[1:2]"
   ]
  },
  {
   "cell_type": "markdown",
   "id": "a7ce9379",
   "metadata": {},
   "source": [
    "<font color = lightgreen> whole list"
   ]
  },
  {
   "cell_type": "code",
   "execution_count": null,
   "id": "48312292-1554-4f70-8206-051fe57e389e",
   "metadata": {},
   "outputs": [],
   "source": [
    "plants[:]"
   ]
  },
  {
   "cell_type": "markdown",
   "id": "be9e6b4d-c689-459e-827c-5901868cf45d",
   "metadata": {},
   "source": [
    "### Exercise 5\n",
    "There is an addition operator for lists too. Try out the addition operator and describe what it does by inspecting the variable you get."
   ]
  },
  {
   "cell_type": "markdown",
   "id": "19e7be2c",
   "metadata": {},
   "source": [
    "<font color = lightgreen> concatenates the two lists in order"
   ]
  },
  {
   "cell_type": "code",
   "execution_count": null,
   "id": "cfb0903b-5202-44bc-b424-5d07bf0e71f0",
   "metadata": {},
   "outputs": [],
   "source": [
    "result = plants + places"
   ]
  },
  {
   "cell_type": "markdown",
   "id": "0330c8b2-7d95-4bd5-b872-638e115d99be",
   "metadata": {},
   "source": [
    "# Functions\n",
    "Funtions are little built in programs. We already learned one function:  `print`.\n",
    "\n",
    "It's very similar to command line: In command line you did the name of the function then spaces then the inputs.\n",
    "With functions you specify the name of the function, then in *parentheses* the inputs.  \n",
    "\n",
    "\n",
    "|Setting | How to specify function | how to specify inputs to function | how to specify multiple inputs | example |\n",
    "|---  |--- |--- |--- |--- |\n",
    "|Command line | name of function (command) | followed by space | inputs separated  by space | `head a b` |\n",
    "|Python (and most programming) | name of function | followed by `( )` |  inputs (arguments) separated by commas | `print(\"a\",1)` |\n",
    "\n",
    "Some functions can take anything as an input, and other functions only work with specific inputs.\n",
    "\n",
    "## `len()` function\n",
    "This will tell you how long your variable is:\n",
    "- if it's a string variable, it will tell you how many characters\n",
    "- If it's a list variable, it will tell you how many items in the list.\n",
    "\n",
    "**AGAIN DO NOT JUST RUN IT WITHOUT FIRST PREDICTING!!! you need to understand how it is working to learn for when things get more complicated! we can't just type code randomly**\n",
    "\n",
    "![img](https://www.sciencealert.com/images/articles/processed/monkey-typing_1024.jpg \"typing monkey\")\n",
    "\n",
    "### Exercise 5\n",
    "For each of the cells code below, predict what it will give you as an output, then run it and compare to your prediction. Explain how you predicted it.\n",
    "\n"
   ]
  },
  {
   "cell_type": "markdown",
   "id": "40478b4d",
   "metadata": {},
   "source": [
    "<font color = lightgreen> 4 characters"
   ]
  },
  {
   "cell_type": "code",
   "execution_count": 13,
   "id": "656d6e91-abac-4be0-9f70-d99a49c21f69",
   "metadata": {},
   "outputs": [
    {
     "data": {
      "text/plain": [
       "4"
      ]
     },
     "execution_count": 13,
     "metadata": {},
     "output_type": "execute_result"
    }
   ],
   "source": [
    "len(\"Corn\")"
   ]
  },
  {
   "cell_type": "markdown",
   "id": "025d480b",
   "metadata": {},
   "source": [
    "<font color = lightgreen> 7 items in plants list"
   ]
  },
  {
   "cell_type": "code",
   "execution_count": 14,
   "id": "32c44cad-cfad-4f6a-ae6c-d88c6f015ba3",
   "metadata": {},
   "outputs": [
    {
     "data": {
      "text/plain": [
       "7"
      ]
     },
     "execution_count": 14,
     "metadata": {},
     "output_type": "execute_result"
    }
   ],
   "source": [
    "len(plants)"
   ]
  },
  {
   "cell_type": "markdown",
   "id": "ad275741-f196-4288-9247-c743003b0df6",
   "metadata": {},
   "source": [
    "Other list functions\n",
    "- Just like with strings, you can concatenate lists with `+`\n",
    "- You can add an element to the end of the list with `append`\n",
    "- Find out how long your list is with `len`"
   ]
  },
  {
   "cell_type": "markdown",
   "id": "6d3e74a4-4322-444e-ae30-f54444e3c3c7",
   "metadata": {},
   "source": [
    "## Objects \n",
    "\n",
    "The`list` variable is more complicated than the simple number or boolean types. These are called **objects** which are special variable types that group together in one place related:\n",
    "- **attributes**: (nouns/adjectives) Pieces of knowledge we need in order to use the object. For example, how long a list is. \n",
    "- **abilities**: (verbs)\n",
    "    - functions: used by using the `.` period operator, such as `plants.append('Mango')`\n",
    "    - operators: like functions but don't use the period operator \n",
    "\n",
    "## `list` object\n",
    "Stores sequential data. \n",
    "\n",
    "Some operators:\n",
    "- `[]` access or store data at particular locations in list\n",
    "- `+` concatenate 2 lists\n",
    "- `in` check if particular variable is in the list\n",
    "\n",
    "We can use a `list` function like below. Here the input is (goes inside the parenthesis) is what you want to add to the list. You are telling the list \"Here list, add this `\"Mango\"` to yourself\""
   ]
  },
  {
   "cell_type": "code",
   "execution_count": null,
   "id": "782e0af4-d0d6-41aa-b444-228f6da5eb2d",
   "metadata": {},
   "outputs": [],
   "source": [
    "\n",
    "plants.append(\"Mango\")"
   ]
  },
  {
   "cell_type": "markdown",
   "id": "a2df2896-ae0c-436a-8b87-c4a1d59786e7",
   "metadata": {},
   "source": [
    "### Exercise 6\n",
    "How can we check what is in the `plants` variable now? Predict what's in it then check it."
   ]
  },
  {
   "cell_type": "code",
   "execution_count": null,
   "id": "d9640b13-72a4-452e-ace6-6a6292320662",
   "metadata": {},
   "outputs": [],
   "source": []
  }
 ],
 "metadata": {
  "kernelspec": {
   "display_name": "Python 3.9.7 ('base')",
   "language": "python",
   "name": "python3"
  },
  "language_info": {
   "codemirror_mode": {
    "name": "ipython",
    "version": 3
   },
   "file_extension": ".py",
   "mimetype": "text/x-python",
   "name": "python",
   "nbconvert_exporter": "python",
   "pygments_lexer": "ipython3",
   "version": "3.8.8"
  },
  "vscode": {
   "interpreter": {
    "hash": "e595df4329fcf3a3af43d6766bc23e541941e8ce9ea758c4bedfcbd321d7c58e"
   }
  }
 },
 "nbformat": 4,
 "nbformat_minor": 5
}
