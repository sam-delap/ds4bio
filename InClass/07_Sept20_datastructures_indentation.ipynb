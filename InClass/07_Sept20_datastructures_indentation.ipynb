{
 "cells": [
  {
   "cell_type": "markdown",
   "id": "7fcc3d83-a2e0-443c-97b1-82fab4fcef7c",
   "metadata": {},
   "source": [
    "## Agenda\n",
    "- Quiz review\n",
    "- Variables review\n",
    "- Goal: Move out of basic python programming and into using python data science packages by the end of the week!\n",
    "\n",
    "## Learning objectives for today:\n",
    "- Describe when you'd use a list, set, or dictionary\n",
    "- Create, modify, and access values from lists and dictionaries\n",
    "- UML LinkedIn Learning is useful for developing programming skills further"
   ]
  },
  {
   "cell_type": "markdown",
   "id": "edf6629e-442a-4f17-bcdd-ef6788b6922f",
   "metadata": {},
   "source": [
    "## Variable review\n",
    "Variables are part of how we communicate with the computer\n",
    "\n",
    "There's a temptation to avoid the variables in simple examples when we know the answer. But then we are not learning how to use the computer to do computing. \n",
    "\n",
    "You can always step through your code line  by line doing the \"role playing\" method and verify to yourself what your code is doing (or add more prints to it!)\n",
    "\n",
    "Example from Teams: write code to print the sum of 2 variables `x` and `y`. Your code should work for any value of variables `x` and `y`.\n",
    "\n",
    "For example:\n",
    "```\n",
    "x = 1\n",
    "y = 2\n",
    "```\n",
    "\n",
    "would print\n",
    "\"x + y is 3\"\n",
    "\n",
    "Bad answer:\n",
    "`print(\"x + y is 3\")`\n",
    "\n",
    "Good answer:\n",
    "`print(\"x + y is \" , x + y)`\n",
    "\n",
    "**Discuss**: why is one good and the other is bad?"
   ]
  },
  {
   "cell_type": "markdown",
   "id": "ce9377f7-54da-4150-8466-57a13733b6ab",
   "metadata": {},
   "source": [
    "### Self-check\n",
    "Use the variable q to below to make the following lines of code work by replacing the \"...\" something else\n",
    "\n",
    "Change what's in `x` to make a variable called `words` that stores \"7 deadly sins\". Check that it worked."
   ]
  },
  {
   "cell_type": "code",
   "execution_count": 2,
   "id": "16f2f8e9-7fcf-4774-bb46-1701428f2754",
   "metadata": {},
   "outputs": [
    {
     "data": {
      "text/plain": [
       "'7 deadly sins'"
      ]
     },
     "execution_count": 2,
     "metadata": {},
     "output_type": "execute_result"
    }
   ],
   "source": [
    "x = \"7\"\n",
    "words = x + \" deadly sins\" \n",
    "\n",
    "words"
   ]
  },
  {
   "cell_type": "markdown",
   "id": "bef7e368-166a-445f-a922-07d37c8d6449",
   "metadata": {},
   "source": [
    "Change what's in `x` to make a variable `sums` that stores the number 10 "
   ]
  },
  {
   "cell_type": "code",
   "execution_count": 3,
   "id": "63f9bb22-5a76-4751-a07f-57fa596552d9",
   "metadata": {},
   "outputs": [
    {
     "data": {
      "text/plain": [
       "10"
      ]
     },
     "execution_count": 3,
     "metadata": {},
     "output_type": "execute_result"
    }
   ],
   "source": [
    "x = 7\n",
    "sums = x  + 3  \n",
    "\n",
    "sums"
   ]
  },
  {
   "cell_type": "markdown",
   "id": "af117f4d-0c43-4c68-a2f9-963ceda02c07",
   "metadata": {},
   "source": [
    "## Daily homework\n",
    "Add more lines of code that use 2 variables: a number stored in the variable `index` and a list variable `list_variable` \n",
    "\n",
    "Your code should print out the value at that index, if it's a valid index. If it's not a valid index it will tell you \"Sorry, please choose an integer between \" and tell you the valid numbers.  You can assume the value stored in index will be an integer.\n",
    "\n",
    "For example, if these are the values for index and list_variable\n",
    "```\n",
    "index = 4\n",
    "list_variable = ['Cabbage', 'Coffee', 'Corn', 'Tea', 'Tomato', 'Apple', 'Potato'] \n",
    "```\n",
    "Then it would print out `The item is Tomato`\n",
    " \n",
    "If these are the values\n",
    "```\n",
    "index = 4\n",
    "list_variable = ['Cabbage', 'Coffee', 'Corn'] \n",
    "```\n",
    "Or \n",
    "```\n",
    "index = -1\n",
    "list_variable = ['Cabbage', 'Coffee', 'Corn'] \n",
    "```\n",
    " \n",
    "Then it would print out `Sorry please choose an integer between 0 and 2`\n",
    "\n",
    "1. As a group, come up with a good solution\n",
    "2. Do a quick role-play of the solution trying new values of the `list_variable`. FOr each one, copy and paste your code cell and run it. Verify that what you get is what you predicted"
   ]
  },
  {
   "cell_type": "code",
   "execution_count": null,
   "id": "21c2fe14-67b2-442c-8819-f37d24f7c97f",
   "metadata": {},
   "outputs": [],
   "source": [
    "index = 7\n",
    "list_variable = ['Cabbage', 'Coffee', 'Corn', 'Tea', 'Tomato', 'Apple', 'Potato']\n",
    "\n",
    "if 0 <= index < len(list_variable):\n",
    "    print(f\"The item is {list_variable[index]}\")\n",
    "else:\n",
    "    print(f\"Sorry please choose an integer between 0 and {len(list_variable) - 1}\")"
   ]
  },
  {
   "cell_type": "markdown",
   "id": "179e452f-55e2-4534-b807-48149410ddd4",
   "metadata": {},
   "source": [
    "### Self-check\n",
    "Predict what would be the output of running the following code cell."
   ]
  },
  {
   "cell_type": "code",
   "execution_count": null,
   "id": "e17e32d0-2e52-4cba-a4be-c5d27408e0a0",
   "metadata": {},
   "outputs": [],
   "source": [
    "i = 4\n",
    "print(plants[i] + plants[i + 1])"
   ]
  },
  {
   "cell_type": "markdown",
   "id": "af421092-9fec-4191-9cb6-da39f88d342e",
   "metadata": {},
   "source": [
    "## Comments\n",
    "You can make code that doesn't execute by putting a \"#\" in front of it. Jupyter handily colors this in a grayish color to remind you that this isn't code but just notes to yourself. You ca"
   ]
  },
  {
   "cell_type": "code",
   "execution_count": null,
   "id": "d390ecee",
   "metadata": {},
   "outputs": [],
   "source": [
    "print(\"a\") # code comment 1\n",
    "\n",
    "# Code comment 2\n",
    "# print(\"b\", x)"
   ]
  },
  {
   "cell_type": "markdown",
   "id": "27cdf437-5857-4d69-a18c-640f1117226b",
   "metadata": {},
   "source": [
    "## 0. `if / else` review\n",
    "\n",
    "An `if` by itself controls whether or not the indented chunk below it gets executed.\n",
    "\n",
    "An `if` with an `else` chooses one chunk *or* the other chunk.\n",
    "\n",
    "**Exercise 0.1**: Predict what will get printed from each of the 2 code cells below. Why is what gets printed different?"
   ]
  },
  {
   "cell_type": "code",
   "execution_count": 4,
   "id": "3158762a-4b94-4798-8146-5850132aa319",
   "metadata": {},
   "outputs": [
    {
     "name": "stdout",
     "output_type": "stream",
     "text": [
      "a\n"
     ]
    }
   ],
   "source": [
    "print('a')\n",
    "if False:\n",
    "    print('b')\n",
    "    print('c')"
   ]
  },
  {
   "cell_type": "code",
   "execution_count": 5,
   "id": "ac0f0cce-e1b9-4015-9bc1-eeab52163832",
   "metadata": {},
   "outputs": [
    {
     "name": "stdout",
     "output_type": "stream",
     "text": [
      "a\n",
      "c\n"
     ]
    }
   ],
   "source": [
    "print('a')\n",
    "if False:\n",
    "    print('b')\n",
    "print('c')"
   ]
  },
  {
   "cell_type": "markdown",
   "id": "915bf0ae-3f13-4784-8dee-ddabc837921a",
   "metadata": {},
   "source": [
    "**Self-check**\n",
    "Change the indentation in this code cell so if you run it, it will only print `a` and `d`"
   ]
  },
  {
   "cell_type": "code",
   "execution_count": null,
   "id": "22d8ae5a-19f4-4271-a545-23cb3a1de995",
   "metadata": {},
   "outputs": [],
   "source": [
    "print('a')\n",
    "if False:\n",
    "    print('b')\n",
    "print('c')\n",
    "print('d')"
   ]
  },
  {
   "cell_type": "markdown",
   "id": "33eb93fe-f992-4803-8ca0-d1b68e0e4554",
   "metadata": {},
   "source": [
    "You are not limited to a single pair of `if` and `else`. You can have more than 2 indented chunks and select which of 3 or more chunks will get executed with `elif`"
   ]
  },
  {
   "cell_type": "markdown",
   "id": "3808bb99-3915-49c9-9acd-f4dee8018099",
   "metadata": {},
   "source": [
    "**Exercise 0.2**: Try changing the number of wheels below and predict what the print will give you **before** running"
   ]
  },
  {
   "cell_type": "code",
   "execution_count": 7,
   "id": "60b1aa8e-867a-4408-8349-77a887dcca1e",
   "metadata": {},
   "outputs": [
    {
     "name": "stdout",
     "output_type": "stream",
     "text": [
      "I can't make anything with this number of wheels.\n"
     ]
    }
   ],
   "source": [
    "wheels = 5\n",
    "if wheels == 1:\n",
    "    print(\"I will make you a unicycle\")\n",
    "elif wheels == 2:\n",
    "    print(\"I will make you a bicycle\")\n",
    "elif wheels == 3:\n",
    "    print(\"I will make you a tricycle\")\n",
    "elif wheels == 4:\n",
    "    print(\"I will make you an ATV\")\n",
    "else:\n",
    "    print(\"I can't make anything with this number of wheels.\")"
   ]
  },
  {
   "cell_type": "markdown",
   "id": "c5d0885c-129a-4c8c-833f-bf7ba1e780de",
   "metadata": {},
   "source": [
    "**Exercise 0.3**: Write code using `elif` to use `value` and `compare_to` to execute `|value| < compare_to`. Your code should print *Too low!* if the value is too low, *Success!* if the absolute value is less and *Too high!* if the  value is too high. Verify your code works by changing the value of `value` to be something too low, too high, or other.  Add comments to your code **briefly** explaining key parts"
   ]
  },
  {
   "cell_type": "code",
   "execution_count": 8,
   "id": "072af479-68c5-449d-b133-8655a7361edb",
   "metadata": {},
   "outputs": [
    {
     "name": "stdout",
     "output_type": "stream",
     "text": [
      "Too low!\n"
     ]
    }
   ],
   "source": [
    "value = -2\n",
    "compare_to = 3\n",
    "\n",
    "# Checks each side of the absolute value equation\n",
    "check_pos = value < compare_to\n",
    "check_neg = value * -1 < compare_to\n",
    "\n",
    "# Steps through each possible scenario (both, one, or the other)\n",
    "# Prints the appropriate statement\n",
    "print(check_pos, check_neg)\n",
    "if check_pos and check_neg:\n",
    "    print(\"Success\")\n",
    "elif check_pos:\n",
    "    print(\"Too low!\")\n",
    "else:\n",
    "    print(\"Too high!\")\n",
    "\n"
   ]
  },
  {
   "cell_type": "markdown",
   "id": "d72594c7-d907-4bfa-96e6-75b1e92737fe",
   "metadata": {},
   "source": [
    "# 1: Data structures"
   ]
  },
  {
   "cell_type": "markdown",
   "id": "4e96442b-10bd-44e6-aee9-5d377ebd5718",
   "metadata": {},
   "source": [
    "### String objects and practicing with lists\n",
    "Strings are more complicated than number variable or Boolean variable. They have many functions (like convert to upper case, etc) which you can learn by Googling. We will only cover a couple.\n",
    "\n",
    "Remember you can use a function of an object with the `.` like we learned with the \"append\""
   ]
  },
  {
   "cell_type": "code",
   "execution_count": 1,
   "id": "9a887647-a289-4c32-a348-16cf0b6e9073",
   "metadata": {},
   "outputs": [
    {
     "data": {
      "text/plain": [
       "['Cabbage', 'Coffee', 'Corn', 'Tea', 'Tomato', 'Apple', 'Potato', 'Mango']"
      ]
     },
     "execution_count": 1,
     "metadata": {},
     "output_type": "execute_result"
    }
   ],
   "source": [
    "plants = ['Cabbage', 'Coffee', 'Corn', 'Tea', 'Tomato', 'Apple', 'Potato']\n",
    "\n",
    "plants.append('Mango')\n",
    "\n",
    "plants"
   ]
  },
  {
   "cell_type": "markdown",
   "id": "c3f0c53b-e7ea-4b7f-8b93-6636f3fe85fa",
   "metadata": {},
   "source": [
    "A useful function of a String `split`s it up into a list using a delimiter"
   ]
  },
  {
   "cell_type": "code",
   "execution_count": 2,
   "id": "97fe874d-72dc-4865-b3dc-d08edce188e2",
   "metadata": {},
   "outputs": [
    {
     "data": {
      "text/plain": [
       "['a', 'b', 'c']"
      ]
     },
     "execution_count": 2,
     "metadata": {},
     "output_type": "execute_result"
    }
   ],
   "source": [
    "example = 'a b c'\n",
    "example.split()"
   ]
  },
  {
   "cell_type": "markdown",
   "id": "fe6343e9-4e16-49bc-9ce3-23b838c2f732",
   "metadata": {},
   "source": [
    "By **default** it will split it up by any **white space** (examples of white space: spaces or tabs). \n",
    "\n",
    "The **input** to the function specifies which delimiter to use."
   ]
  },
  {
   "cell_type": "markdown",
   "id": "5cf818de-8a61-4b0a-8f68-c7b1c811d78b",
   "metadata": {},
   "source": [
    "\n",
    "**Exercise 1.1**: First run the line of code below defining the `gencode_line` variables, which each contain one line from the gencode file. Then, try running the following lines of code below it. How many items are in the resulting lists? Explain the difference between the results. "
   ]
  },
  {
   "cell_type": "code",
   "execution_count": 11,
   "id": "e71316df-fb76-44f9-b593-3325a3e75eb8",
   "metadata": {},
   "outputs": [],
   "source": [
    "gencode_line = 'chr1\tHAVANA\tCDS\t65565\t65573\t.\t+\t0\tgene_id \"ENSG00000186092.6\"; transcript_id \"ENST00000641515.2\"; gene_type \"protein_coding\"; gene_name \"OR4F5\"; transcript_type \"protein_coding\"; transcript_name \"OR4F5-202\"; exon_number 2; exon_id \"ENSE00003813641.1\"; level 2; protein_id \"ENSP00000493376.2\"; hgnc_id \"HGNC:14825\"; tag \"RNA_Seq_supported_partial\"; tag \"basic\"; havana_gene \"OTTHUMG00000001094.4\"; havana_transcript \"OTTHUMT00000003223.4\";\"'\n",
    "\n",
    "another_line = 'chr1\tHAVANA\texon\t11869\t12227\t.\t+\t.\tgene_id \"ENSG00000223972.5\"; transcript_id \"ENST00000456328.2\"; gene_type \"transcribed_unprocessed_pseudogene\"; gene_name \"DDX11L1\"; transcript_type \"processed_transcript\"; transcript_name \"DDX11L1-202\"; exon_number 1; exon_id \"ENSE00002234944.1\"; level 2; transcript_support_level \"1\"; hgnc_id \"HGNC:37102\"; tag \"basic\"; havana_gene \"OTTHUMG00000000961.2\"; havana_transcript \"OTTHUMT00000362751.1\";'"
   ]
  },
  {
   "cell_type": "code",
   "execution_count": 89,
   "id": "16b621ac-1d6c-4a60-adf0-d392f3548d92",
   "metadata": {
    "collapsed": true,
    "jupyter": {
     "outputs_hidden": true
    },
    "tags": []
   },
   "outputs": [
    {
     "data": {
      "text/plain": [
       "['chr1',\n",
       " 'HAVANA',\n",
       " 'CDS',\n",
       " '65565',\n",
       " '65573',\n",
       " '.',\n",
       " '+',\n",
       " '0',\n",
       " 'gene_id \"ENSG00000186092.6\"; transcript_id \"ENST00000641515.2\"; gene_type \"protein_coding\"; gene_name \"OR4F5\"; transcript_type \"protein_coding\"; transcript_name \"OR4F5-202\"; exon_number 2; exon_id \"ENSE00003813641.1\"; level 2; protein_id \"ENSP00000493376.2\"; hgnc_id \"HGNC:14825\"; tag \"RNA_Seq_supported_partial\"; tag \"basic\"; havana_gene \"OTTHUMG00000001094.4\"; havana_transcript \"OTTHUMT00000003223.4\";\"']"
      ]
     },
     "execution_count": 89,
     "metadata": {},
     "output_type": "execute_result"
    }
   ],
   "source": [
    "whitesplit = gencode_line.split()"
   ]
  },
  {
   "cell_type": "code",
   "execution_count": 89,
   "id": "99a509bf-4cc5-4928-8bb0-24fe00139368",
   "metadata": {
    "collapsed": true,
    "jupyter": {
     "outputs_hidden": true
    },
    "tags": []
   },
   "outputs": [
    {
     "data": {
      "text/plain": [
       "['chr1',\n",
       " 'HAVANA',\n",
       " 'CDS',\n",
       " '65565',\n",
       " '65573',\n",
       " '.',\n",
       " '+',\n",
       " '0',\n",
       " 'gene_id \"ENSG00000186092.6\"; transcript_id \"ENST00000641515.2\"; gene_type \"protein_coding\"; gene_name \"OR4F5\"; transcript_type \"protein_coding\"; transcript_name \"OR4F5-202\"; exon_number 2; exon_id \"ENSE00003813641.1\"; level 2; protein_id \"ENSP00000493376.2\"; hgnc_id \"HGNC:14825\"; tag \"RNA_Seq_supported_partial\"; tag \"basic\"; havana_gene \"OTTHUMG00000001094.4\"; havana_transcript \"OTTHUMT00000003223.4\";\"']"
      ]
     },
     "execution_count": 89,
     "metadata": {},
     "output_type": "execute_result"
    }
   ],
   "source": [
    "tabsplit = gencode_line.split(\"\\t\")"
   ]
  },
  {
   "cell_type": "code",
   "execution_count": 5,
   "id": "41e27aca-f43b-4d8a-9302-c8a9b406a553",
   "metadata": {
    "tags": []
   },
   "outputs": [],
   "source": [
    "semisplit = gencode_line.split(\";\")"
   ]
  },
  {
   "cell_type": "markdown",
   "id": "4fcd14cf-27db-4961-b3d2-27cb3accc558",
   "metadata": {},
   "source": [
    "**Exercise 1.2**: Run the tab and semicolon splits on the other string variable `another_line`. Which results are the same and which are different from the result from running on the first string variable? why?"
   ]
  },
  {
   "cell_type": "markdown",
   "id": "9a543f5e-4699-4a60-889f-a5631a8be04a",
   "metadata": {},
   "source": [
    "**Self check**: Try getting the last column of of data the `gencode_line` variable. How would you use `split` to break this last column up into all the entries in it? "
   ]
  },
  {
   "cell_type": "markdown",
   "id": "60c7010b-634e-435f-9f54-738382facb91",
   "metadata": {},
   "source": [
    "## Sets\n",
    "A set is like a list but it only has unique elements. This can be very useful! You can make one like this:"
   ]
  },
  {
   "cell_type": "code",
   "execution_count": 84,
   "id": "fb4bf9d7-fd21-46fe-ae5d-ca95e7ee19f4",
   "metadata": {},
   "outputs": [
    {
     "data": {
      "text/plain": [
       "{'duck', 'goose'}"
      ]
     },
     "execution_count": 84,
     "metadata": {},
     "output_type": "execute_result"
    }
   ],
   "source": [
    "input_list = ['duck', 'duck', 'goose']\n",
    "first_set = set(input_list)\n",
    "first_set"
   ]
  },
  {
   "cell_type": "markdown",
   "id": "2cb46eef-d356-4480-8d62-a223fd37f1c0",
   "metadata": {},
   "source": [
    "**Question**: \n",
    "- What is the name of the function I just used?\n",
    "- What is the input to the function?"
   ]
  },
  {
   "cell_type": "code",
   "execution_count": 86,
   "id": "4fce57cb-1813-4b1e-a0e7-8f8228d5153d",
   "metadata": {},
   "outputs": [],
   "source": [
    "places = ['Europe',\n",
    "             'Africa',\n",
    "             'North America',\n",
    "             'Asia',\n",
    "             'North America',\n",
    "             'Asia',\n",
    "             'South America']\n",
    "\n"
   ]
  },
  {
   "cell_type": "markdown",
   "id": "7a1a5ebe-7db1-4445-ac7e-923e0a7ad01a",
   "metadata": {},
   "source": [
    "Just like with `list` and `dict` you can find how many elements are in the set using `len`. Write code to get the number of continents from the set. What do you expect the result to be?"
   ]
  },
  {
   "cell_type": "markdown",
   "id": "a1e64af9-824d-447d-9eae-4626743d067d",
   "metadata": {},
   "source": [
    "Look at our `places` list above.\n",
    "\n",
    "**Exercise 3**: Write code to obtain the unique continents in the `places` list. What do you expect to get? How many items should be in the set? Verify that your prediction was correct."
   ]
  },
  {
   "cell_type": "markdown",
   "id": "f42255e8-c84d-4d87-8cb5-73c66a692290",
   "metadata": {},
   "source": [
    "## Dictionaries\n",
    "You would never actually store a data set like our plant-place data in lists. A more natural way to store related pairs of data is the dict which stores \"key-value pairs\". You create it like this:\n",
    "`dictVariable = {key1:value1, key2:value2, .... }`\n",
    "\n"
   ]
  },
  {
   "cell_type": "code",
   "execution_count": 73,
   "id": "8c9b0f81-204c-44b0-ab3b-7730520d8cc6",
   "metadata": {},
   "outputs": [],
   "source": [
    "plant2place = {'Cabbage': 'Europe',\n",
    "             'Coffee': 'Africa',\n",
    "             'Corn': 'North America',\n",
    "             'Tea': 'Asia',\n",
    "             'Tomato': 'North America',\n",
    "             'Apple': 'Asia',\n",
    "             'Potato': 'South America'}"
   ]
  },
  {
   "cell_type": "markdown",
   "id": "72fe6e8f-f762-4df4-9965-6b5d660e3672",
   "metadata": {},
   "source": [
    "Like if you wanted to store pairs of the name and phone numbers:"
   ]
  },
  {
   "cell_type": "code",
   "execution_count": null,
   "id": "3f51d7f0-1e30-4242-8187-b277d8ded029",
   "metadata": {},
   "outputs": [],
   "source": [
    "phone_numbers = {'Lupita':  '978 656 8750',\n",
    "                'Egyptian grill':  '978 455 9698'}"
   ]
  },
  {
   "cell_type": "markdown",
   "id": "50f8d431-2bd3-4861-a96f-ad9637ea5f46",
   "metadata": {},
   "source": [
    "Unlike the list where you look up values by the position, you look up values by key:"
   ]
  },
  {
   "cell_type": "code",
   "execution_count": 63,
   "id": "eb2f66ac-ded6-429b-baf8-3fa587d53e8c",
   "metadata": {},
   "outputs": [
    {
     "data": {
      "text/plain": [
       "'Europe'"
      ]
     },
     "execution_count": 63,
     "metadata": {},
     "output_type": "execute_result"
    }
   ],
   "source": [
    "plant2place['Cabbage']"
   ]
  },
  {
   "cell_type": "code",
   "execution_count": null,
   "id": "642b5b93-762f-4932-8d87-a725c5281237",
   "metadata": {},
   "outputs": [],
   "source": [
    "phone_numbers['Lupita']"
   ]
  },
  {
   "cell_type": "markdown",
   "id": "ac2357af-bdee-4253-b869-6f6da70030c5",
   "metadata": {},
   "source": [
    "**Exercise 4**:\n",
    "*4A*: Write code to create a dictionary to store the number of each of the following body parts a person is typically born with:\n",
    "- eyes\n",
    "- nose\n",
    "- fingers\n",
    "\n"
   ]
  },
  {
   "cell_type": "code",
   "execution_count": null,
   "id": "5aace822-13f8-456a-acc0-0d0cc1de6531",
   "metadata": {},
   "outputs": [],
   "source": []
  },
  {
   "cell_type": "markdown",
   "id": "80105d28-1121-42e4-ba8e-fa634022d8b9",
   "metadata": {},
   "source": [
    "*4B*: Write code to look up the number of fingers a person has."
   ]
  },
  {
   "cell_type": "markdown",
   "id": "b0796dfe-a5f1-48cc-8dc9-766c9ed49201",
   "metadata": {},
   "source": [
    "You can store items in a dictionary by **assigning** again, where you specify the key and assign the value to that key:"
   ]
  },
  {
   "cell_type": "code",
   "execution_count": null,
   "id": "924649cb-c8bb-47f2-ab5e-cc7ab9de51ff",
   "metadata": {},
   "outputs": [],
   "source": [
    "plant2place['Mango'] = 'Asia'\n",
    "\n",
    "plant2place['Coconut'] = 'Antarctica'"
   ]
  },
  {
   "cell_type": "markdown",
   "id": "d28f0a1a-f59d-49df-a28c-dcb433e13c27",
   "metadata": {},
   "source": [
    "You can replace a dictionary value just be re-assigning over it, just like for a variable:"
   ]
  },
  {
   "cell_type": "code",
   "execution_count": 10,
   "id": "4c387d7f-fbd3-4dc1-bc6b-d38df4c58494",
   "metadata": {},
   "outputs": [
    {
     "ename": "NameError",
     "evalue": "name 'plant2place' is not defined",
     "output_type": "error",
     "traceback": [
      "\u001b[0;31m---------------------------------------------------------------------------\u001b[0m",
      "\u001b[0;31mNameError\u001b[0m                                 Traceback (most recent call last)",
      "\u001b[0;32m<ipython-input-10-84816ac417a7>\u001b[0m in \u001b[0;36m<module>\u001b[0;34m\u001b[0m\n\u001b[0;32m----> 1\u001b[0;31m \u001b[0mplant2place\u001b[0m\u001b[0;34m[\u001b[0m\u001b[0;34m'Coconut'\u001b[0m\u001b[0;34m]\u001b[0m \u001b[0;34m=\u001b[0m \u001b[0;34m'Asia'\u001b[0m\u001b[0;34m\u001b[0m\u001b[0;34m\u001b[0m\u001b[0m\n\u001b[0m",
      "\u001b[0;31mNameError\u001b[0m: name 'plant2place' is not defined"
     ]
    }
   ],
   "source": [
    "plant2place['Coconut'] = 'Asia'"
   ]
  },
  {
   "cell_type": "markdown",
   "id": "8943360a-de44-4b29-86c8-30e07bf6d186",
   "metadata": {},
   "source": [
    "## 2. Loops\n",
    "**Conditions** (if / elif /else ) control *whether or not* a code gets executed. \n",
    "\n",
    "**Loops** instead execute the same code over and over but with a different variable.\n",
    "\n",
    "You can think of it as an assembly line. Think of the 4 guys here as 4 lines of code inside a loop.\n",
    "\n",
    "*For* every widget that comes down the line, the first person files it, then Charlie Chaplin tightens it, then the person with the mustache hammers it, then the person with the hat brushes it. They do the exact same thing over and over again but each time with a new widget."
   ]
  },
  {
   "cell_type": "markdown",
   "id": "6358f882-641e-4c95-a3fa-d5ebefae8a79",
   "metadata": {},
   "source": [
    "![img](http://i.cdn.turner.com/cnn/2010/OPINION/11/29/zelizer.chaplin.modern.times/t1larg.charlie.chaplin.modern.times.scene.gi.jpg \"assembly lines\")"
   ]
  },
  {
   "cell_type": "markdown",
   "id": "9c7b848a-967d-4380-b21a-5e8cb1622b38",
   "metadata": {},
   "source": [
    "For the assembly line, someone must be loading the things on the front... In our case, python will set up the assembly line with `for` and load variables at you if you load it up with something like a list. You use the special word `for` like this:\n",
    "\n",
    "```\n",
    "for next_widget in widget_list:\n",
    "    file next_widget\n",
    "    tighten next_widget\n",
    "    hammer next_widget \n",
    "    brush next_widget\n",
    "```"
   ]
  },
  {
   "cell_type": "markdown",
   "id": "59ef1734-0bca-49d4-858d-6a589347ebc1",
   "metadata": {},
   "source": [
    "You can **loop** over the plants and execute the same print line, but each time the value of `fave_food` is assigned to the next item in the list."
   ]
  },
  {
   "cell_type": "code",
   "execution_count": 13,
   "id": "53c3087a-edbc-472a-8b08-c65051cf398a",
   "metadata": {},
   "outputs": [
    {
     "name": "stdout",
     "output_type": "stream",
     "text": [
      "my favorite food is Cabbage\n",
      "my favorite food is Coffee\n",
      "my favorite food is Corn\n",
      "my favorite food is Tea\n",
      "my favorite food is Tomato\n",
      "my favorite food is Apple\n",
      "my favorite food is Potato\n",
      "my favorite food is Mango\n"
     ]
    }
   ],
   "source": [
    "for fave_food in plants:\n",
    "    # the first line makes a new string using current variable given by the \"for\"\n",
    "    to_print = \"my favorite food is \" + fave_food\n",
    "    \n",
    "    # this line then takes that variable then prints it\n",
    "    print(to_print)\n",
    "    "
   ]
  },
  {
   "cell_type": "markdown",
   "id": "c7261a9e-8aad-4560-a2c4-70e651eaebff",
   "metadata": {},
   "source": [
    "Basically python is allowing you to run repetitive code and be flexible about how many times you should run it. \n",
    "\n",
    "Each time through the loop is called an **iteration**.\n",
    "What the computer is doing in each of the first 3 iterations: "
   ]
  },
  {
   "cell_type": "code",
   "execution_count": null,
   "id": "b7ef8e1e-37fd-40a3-91f4-1603a34750b3",
   "metadata": {},
   "outputs": [],
   "source": [
    "fave_food = plants[0]\n",
    "to_print = \"my favorite food is \" + fave_food\n",
    "print(to_print)\n",
    "\n",
    "fave_food = plants[1]\n",
    "to_print = \"my favorite food is \" + fave_food\n",
    "print(to_print)\n",
    "\n",
    "fave_food = plants[2]\n",
    "to_print = \"my favorite food is \" + fave_food\n",
    "print(to_print)\n",
    "\n",
    "# and so on..."
   ]
  },
  {
   "cell_type": "markdown",
   "id": "678e1732-30f0-48fe-a7c1-aa2be6be12ff",
   "metadata": {},
   "source": [
    "Instead of a list, you can also use the function `range` and specify what number you want to go up to. If you give it one number it will go from 0 to that number - 1"
   ]
  },
  {
   "cell_type": "code",
   "execution_count": 17,
   "id": "0a0c10e0-2358-4396-8abd-26a6905d07d1",
   "metadata": {},
   "outputs": [
    {
     "name": "stdout",
     "output_type": "stream",
     "text": [
      "looping # 0\n",
      "looping # 1\n",
      "looping # 2\n",
      "looping # 3\n",
      "looping # 4\n"
     ]
    }
   ],
   "source": [
    "for i in range(5):\n",
    "        print('looping #' ,i)"
   ]
  },
  {
   "cell_type": "markdown",
   "id": "4e0390e0-ec42-4378-94e9-c41b6b3ce917",
   "metadata": {},
   "source": [
    "Otherwise if you give it 2 numbers, it will go from the first to the second - 1"
   ]
  },
  {
   "cell_type": "code",
   "execution_count": 18,
   "id": "b234de60-31ec-4ded-9f48-2e022ac1a851",
   "metadata": {},
   "outputs": [
    {
     "name": "stdout",
     "output_type": "stream",
     "text": [
      "looping # 2\n",
      "looping # 3\n",
      "looping # 4\n"
     ]
    }
   ],
   "source": [
    "for i in range(2, 5):\n",
    "        print('looping #' ,i)"
   ]
  },
  {
   "cell_type": "markdown",
   "id": "8cc80f4c-d23a-4c37-b687-ac73f55a8c58",
   "metadata": {},
   "source": [
    "You can **loop** over the plants and execute the same print line, but each time the value of `fave_food` is assigned to the next item in the list."
   ]
  },
  {
   "cell_type": "markdown",
   "id": "01f3c5fc-6249-47bc-b589-cf252b792a83",
   "metadata": {},
   "source": [
    "#### Self-check\n",
    "\n",
    "1. Copy the loop above and change the text to say \"I hate Cabbage\"\n",
    "2. Write a loop that uses `range` to get the plant at each position and print \"my favorite plant is Cabbage\" etc, for each plant."
   ]
  },
  {
   "cell_type": "markdown",
   "id": "4c0237d6-f00b-43cc-ae27-f69c5e6d83ef",
   "metadata": {},
   "source": [
    "**Exercise 2.1**: \n",
    "\n",
    "A. Write a for loop below that loops thrugh the numbers -10 to +10 and prints out what the number is"
   ]
  },
  {
   "cell_type": "code",
   "execution_count": null,
   "id": "1c6e7138-278a-4187-86e5-52660291603e",
   "metadata": {},
   "outputs": [],
   "source": []
  },
  {
   "cell_type": "markdown",
   "id": "50b5817c-0bd0-4654-8275-17c7f8a75a45",
   "metadata": {},
   "source": [
    "B. Copy your loop below and add a line  so it prints out the Plant at that index in the `plants` list if it's a valid index, or else says \"too low\" if the number is too low to be an index, or else says too high if  the number is too high to be a valid index"
   ]
  },
  {
   "cell_type": "code",
   "execution_count": null,
   "id": "47f752ed-def7-4070-bee2-0e2bd4b09c73",
   "metadata": {},
   "outputs": [],
   "source": []
  },
  {
   "cell_type": "markdown",
   "id": "c36f83e4-da4e-44bc-9cd6-6fca3b81aaae",
   "metadata": {},
   "source": [
    "**Self-check**\n",
    "Edit the loop from 2.1A it again but have then edit it to add in our absolute value result. So that if the value is too low for |value| < 3 it will say too low, etc"
   ]
  },
  {
   "cell_type": "markdown",
   "id": "75a28725-61cc-4114-9aa1-0e90bdecbb53",
   "metadata": {},
   "source": [
    "**Exercise 2.2 Discuss**: List 2 advantages of a loop versus not using a loop "
   ]
  },
  {
   "cell_type": "markdown",
   "id": "900f373a-4e35-4cae-867f-70f83b1ed7f1",
   "metadata": {},
   "source": [
    "**Self-check**\n",
    "Edit the loop below. Change it so it loops through from 0 to 10 and prints the number, but skips 3."
   ]
  },
  {
   "cell_type": "code",
   "execution_count": 2,
   "id": "43c22f3b-086d-46ad-8337-8dac0f40515d",
   "metadata": {},
   "outputs": [
    {
     "name": "stdout",
     "output_type": "stream",
     "text": [
      "next number 0\n",
      "next number 1\n",
      "next number 2\n",
      "next number 3\n",
      "next number 4\n",
      "next number 5\n",
      "next number 6\n",
      "next number 7\n",
      "next number 8\n",
      "next number 9\n"
     ]
    }
   ],
   "source": [
    "for i in range(10):\n",
    "    print(\"next number\",i)"
   ]
  },
  {
   "cell_type": "markdown",
   "id": "00b959fe-be0e-4883-b95a-59debe2939fa",
   "metadata": {},
   "source": [
    "### 2.2 Looping over dictionary\n",
    "Here are our plants and places again. You can loop over a dictionary in the same way. The loop will loop over the *keys* of the ditionary:"
   ]
  },
  {
   "cell_type": "code",
   "execution_count": null,
   "id": "7eee9f64-3f35-478a-800c-fb22f9c35abe",
   "metadata": {},
   "outputs": [],
   "source": [
    "plant2place = {'Cabbage': 'Europe',\n",
    "             'Coffee': 'Africa',\n",
    "             'Corn': 'North America',\n",
    "             'Tea': 'Asia',\n",
    "             'Tomato': 'North America',\n",
    "             'Apple': 'Asia',\n",
    "             'Potato': 'South America'}"
   ]
  },
  {
   "cell_type": "code",
   "execution_count": null,
   "id": "1886bab5-e1b5-4bc0-89ee-4f25502da982",
   "metadata": {},
   "outputs": [],
   "source": [
    "for x in plant2place:\n",
    "    print('plant is', x)"
   ]
  },
  {
   "cell_type": "code",
   "execution_count": 11,
   "id": "963cd6f4-ea0f-437c-8e4e-555682457c59",
   "metadata": {},
   "outputs": [],
   "source": [
    "gencode_line = 'chr1\tHAVANA\tCDS\t65565\t65573\t.\t+\t0\tgene_id \"ENSG00000186092.6\"; transcript_id \"ENST00000641515.2\"; gene_type \"protein_coding\"; gene_name \"OR4F5\"; transcript_type \"protein_coding\"; transcript_name \"OR4F5-202\"; exon_number 2; exon_id \"ENSE00003813641.1\"; level 2; protein_id \"ENSP00000493376.2\"; hgnc_id \"HGNC:14825\"; tag \"RNA_Seq_supported_partial\"; tag \"basic\"; havana_gene \"OTTHUMG00000001094.4\"; havana_transcript \"OTTHUMT00000003223.4\";\"'\n",
    "\n",
    "another_line = 'chr1\tHAVANA\texon\t11869\t12227\t.\t+\t.\tgene_id \"ENSG00000223972.5\"; transcript_id \"ENST00000456328.2\"; gene_type \"transcribed_unprocessed_pseudogene\"; gene_name \"DDX11L1\"; transcript_type \"processed_transcript\"; transcript_name \"DDX11L1-202\"; exon_number 1; exon_id \"ENSE00002234944.1\"; level 2; transcript_support_level \"1\"; hgnc_id \"HGNC:37102\"; tag \"basic\"; havana_gene \"OTTHUMG00000000961.2\"; havana_transcript \"OTTHUMT00000362751.1\";'"
   ]
  },
  {
   "cell_type": "markdown",
   "id": "201265ca-adc1-4b5d-9208-ddf7f1a00d0e",
   "metadata": {},
   "source": [
    "**Exercise 2.2.1**: \n",
    "\n",
    "A. write a loop that will loop over the plant2place and for every plant extract the place it's from and print that.  "
   ]
  },
  {
   "cell_type": "code",
   "execution_count": null,
   "id": "f51babb3-3826-421c-aab2-93d548180b5b",
   "metadata": {},
   "outputs": [],
   "source": []
  },
  {
   "cell_type": "markdown",
   "id": "c873a3db-66ce-4505-a6b9-2651918d6cac",
   "metadata": {},
   "source": [
    "B. Change your loop and have it print out a line like \"Cabbage originated from Europe\" for every plant"
   ]
  },
  {
   "cell_type": "code",
   "execution_count": null,
   "id": "2faf5618-9ac0-4be5-956a-e2ee83e23d3a",
   "metadata": {},
   "outputs": [],
   "source": []
  },
  {
   "cell_type": "markdown",
   "id": "bd4280a3-6c7a-49ec-b252-b869514b34cb",
   "metadata": {},
   "source": [
    "## 2.3 Looping through lines in a file\n",
    "Where it's very handy is looping through a file using the Python function `open` that opens a file stored on your computer so we can read in one line at a time.\n",
    "\n",
    "Make a text file *in Jupyter* (File --> New --> Text File) and write 3 sentences in it. Put each sentence on a different line. Rename it to be \"testfile.txt\".\n",
    "\n",
    "You can loop through lines in a file like this:"
   ]
  },
  {
   "cell_type": "code",
   "execution_count": null,
   "id": "50aaa81c-a1ab-488f-af53-a001f83d06de",
   "metadata": {},
   "outputs": [],
   "source": [
    "for one_line in open(\"testfile.txt\"):\n",
    "    print(\"my line is \", one_line)"
   ]
  },
  {
   "cell_type": "markdown",
   "id": "6cf5ebf7-2efa-4c6b-b488-913313b52617",
   "metadata": {},
   "source": [
    "Each time through the loop, python reads in another line of the file and puts it into the variable `one_line`\n",
    "\n",
    "#### Self-check\n",
    "Write another \"for\" loop that goes through the lines of that same file, and prints the **first word** of each sentence.\n",
    "\n"
   ]
  },
  {
   "cell_type": "code",
   "execution_count": null,
   "id": "119eb0ab-83a5-4553-98ff-488b46544c6a",
   "metadata": {},
   "outputs": [],
   "source": []
  }
 ],
 "metadata": {
  "kernelspec": {
   "display_name": "Python 3.9.7 ('base')",
   "language": "python",
   "name": "python3"
  },
  "language_info": {
   "codemirror_mode": {
    "name": "ipython",
    "version": 3
   },
   "file_extension": ".py",
   "mimetype": "text/x-python",
   "name": "python",
   "nbconvert_exporter": "python",
   "pygments_lexer": "ipython3",
   "version": "3.8.8"
  },
  "vscode": {
   "interpreter": {
    "hash": "e595df4329fcf3a3af43d6766bc23e541941e8ce9ea758c4bedfcbd321d7c58e"
   }
  }
 },
 "nbformat": 4,
 "nbformat_minor": 5
}
