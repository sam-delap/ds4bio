{
 "cells": [
  {
   "cell_type": "markdown",
   "id": "6c93cbca-6334-4228-831d-21004946b4e0",
   "metadata": {},
   "source": [
    "# Learning objectives for today\n",
    "- Able to access subsets of data frame to answer questions about the data\n",
    "- Can perform operations on all observations of a single feature without for loops\n",
    "- Can put together multiple data frame operations to form a simple analysis\n"
   ]
  },
  {
   "cell_type": "code",
   "execution_count": 2,
   "id": "fa1220d1-14fc-456d-a149-8b12db602305",
   "metadata": {},
   "outputs": [],
   "source": [
    "import pandas as pd\n",
    "lakes = {'name':['Huron','Ontario','Michigan','Erie','Superior'],\n",
    "        'surface':[23000, 7340,22400,9900,31700],\n",
    "        'ave_depth':[195,284,279,70,480],\n",
    "        'max_depth':[750,802,923,210,1333],\n",
    "        'shared_canada':[True,True, False, True, True],\n",
    "         'temperature':[48,51,49,54,43],\n",
    "         'native_name':['Karegnondi','Oniatarí:io','Mich gami','Erielhonan','Gichi-gami']\n",
    "        }"
   ]
  },
  {
   "cell_type": "markdown",
   "id": "d416b225-c2d6-4217-b0de-ed5178026a48",
   "metadata": {},
   "source": [
    "## Daily homework\n",
    "write code that will add a new feature (key ) to the lakes dictionary called depth_meters storing for every lake what its average depth in meters is (one foot is 0.3 meters).\n",
    " \n",
    "It probably does not need to be said, but this should be code, not manually entering the numbers."
   ]
  },
  {
   "cell_type": "markdown",
   "id": "59579f34-b1e5-43b2-88c0-d5d378402dd9",
   "metadata": {},
   "source": [
    "\n",
    "# 2. (continued)"
   ]
  },
  {
   "cell_type": "markdown",
   "id": "c37082a6-eed1-4954-8442-976c4e3ab82e",
   "metadata": {},
   "source": [
    "Making a data frame"
   ]
  },
  {
   "cell_type": "code",
   "execution_count": 24,
   "id": "bc257ca9-af91-4c45-9870-d4104db203c8",
   "metadata": {},
   "outputs": [],
   "source": [
    "df = pd.DataFrame(lakes)  "
   ]
  },
  {
   "cell_type": "markdown",
   "id": "488bd417-95b9-46ba-b420-4fab087c772a",
   "metadata": {},
   "source": [
    "Two ways to set index: returning a new DF or `in place`"
   ]
  },
  {
   "cell_type": "code",
   "execution_count": 4,
   "id": "66bf030d-8bcf-4464-a4fc-d68b540edb23",
   "metadata": {},
   "outputs": [],
   "source": [
    "df_named = df.set_index(\"name\")"
   ]
  },
  {
   "cell_type": "code",
   "execution_count": 45,
   "id": "6e4a1b4c-3f35-4fb3-bbc3-d84031cf7538",
   "metadata": {},
   "outputs": [],
   "source": [
    "df.set_index(\"name\",inplace=True)"
   ]
  },
  {
   "cell_type": "markdown",
   "id": "627db87a-f9ca-466e-a19f-71e1fee786a8",
   "metadata": {},
   "source": [
    "Review on `index` and `columns`:"
   ]
  },
  {
   "cell_type": "code",
   "execution_count": 5,
   "id": "8a8193e7-1a56-4834-a2eb-c38ae6b2e458",
   "metadata": {},
   "outputs": [
    {
     "data": {
      "text/plain": [
       "Index(['Huron', 'Ontario', 'Michigan', 'Erie', 'Superior'], dtype='object', name='name')"
      ]
     },
     "execution_count": 5,
     "metadata": {},
     "output_type": "execute_result"
    }
   ],
   "source": [
    "df_named.index"
   ]
  },
  {
   "cell_type": "code",
   "execution_count": 6,
   "id": "fbf96f7f-659c-4351-a84a-d2229861ea3e",
   "metadata": {},
   "outputs": [
    {
     "data": {
      "text/plain": [
       "Index(['name', 'surface', 'ave_depth', 'max_depth', 'shared_canada',\n",
       "       'temperature', 'native_name'],\n",
       "      dtype='object')"
      ]
     },
     "execution_count": 6,
     "metadata": {},
     "output_type": "execute_result"
    }
   ],
   "source": [
    "df.columns"
   ]
  },
  {
   "cell_type": "markdown",
   "id": "0f43d972-e4e0-4ff3-b128-b893425f947b",
   "metadata": {},
   "source": [
    "### 2.3 `.loc[]` to access items by index and columns"
   ]
  },
  {
   "cell_type": "markdown",
   "id": "b257ac53-028d-4b1b-80c2-9c8f0dbabd29",
   "metadata": {},
   "source": [
    "In Excel we can access them using \"B3\", etc. \n",
    "\n",
    "We can access the rows and the columns of the DataFrame using the special `.loc[]` operator.\n",
    "\n",
    "Inside, you can specify the ROW then the COLUMN.  You can remember this because **DataFrames <font color=red>R</font>o<font color=red>C</font>k!!**"
   ]
  },
  {
   "cell_type": "code",
   "execution_count": 11,
   "id": "35dadac0-103b-4c95-adaa-95a9e923112f",
   "metadata": {},
   "outputs": [
    {
     "data": {
      "text/plain": [
       "9900"
      ]
     },
     "execution_count": 11,
     "metadata": {},
     "output_type": "execute_result"
    }
   ],
   "source": [
    "df_named.loc['Erie', 'surface']"
   ]
  },
  {
   "cell_type": "markdown",
   "id": "057f8fa5-3fcc-4ec7-bbef-2b9cc133fd74",
   "metadata": {},
   "source": [
    "**Exercise 2.3.1**: use `.loc` to get the maximum depth of Lake Superior."
   ]
  },
  {
   "cell_type": "code",
   "execution_count": 7,
   "id": "ac5868db",
   "metadata": {},
   "outputs": [
    {
     "data": {
      "text/plain": [
       "1333"
      ]
     },
     "execution_count": 7,
     "metadata": {},
     "output_type": "execute_result"
    }
   ],
   "source": [
    "df_named.loc['Superior', 'max_depth']"
   ]
  },
  {
   "cell_type": "markdown",
   "id": "8a23249a-ce11-4fe8-8e16-99661dfa2b79",
   "metadata": {},
   "source": [
    "**Self check**: use `.loc` to get the Native name of Lake Michigan"
   ]
  },
  {
   "cell_type": "code",
   "execution_count": 12,
   "id": "7d4d08ee",
   "metadata": {},
   "outputs": [
    {
     "data": {
      "text/plain": [
       "'Mich gami'"
      ]
     },
     "execution_count": 12,
     "metadata": {},
     "output_type": "execute_result"
    }
   ],
   "source": [
    "df_named.loc['Michigan', 'native_name']"
   ]
  },
  {
   "cell_type": "markdown",
   "id": "ffd47f05-e819-4cd6-8243-a5f256d64185",
   "metadata": {},
   "source": [
    "### 2.4 Accessing a whole row or column\n",
    "You can leave off the rows or the columns in your `.loc[]` but keep the comma and it will give you back *the whole row (or column)*\n",
    "\n",
    "This single row or column is called a `series` which are basically the one-dimensional version of a DataFrame. Any time you take a slice across one row (getting multiple columns for one lake) or a slice across a column (getting multiple rows for one feature), you get a series:"
   ]
  },
  {
   "cell_type": "code",
   "execution_count": 13,
   "id": "3b1625a1-7e10-428a-ad4b-d1c3c009ebb8",
   "metadata": {},
   "outputs": [
    {
     "data": {
      "text/plain": [
       "name\n",
       "Huron       23000\n",
       "Ontario      7340\n",
       "Michigan    22400\n",
       "Erie         9900\n",
       "Superior    31700\n",
       "Name: surface, dtype: int64"
      ]
     },
     "execution_count": 13,
     "metadata": {},
     "output_type": "execute_result"
    }
   ],
   "source": [
    "df_named.loc[:,'surface']"
   ]
  },
  {
   "cell_type": "code",
   "execution_count": 14,
   "id": "0b711b6e",
   "metadata": {},
   "outputs": [
    {
     "data": {
      "text/plain": [
       "surface                9900\n",
       "ave_depth                70\n",
       "max_depth               210\n",
       "shared_canada          True\n",
       "temperature              54\n",
       "native_name      Erielhonan\n",
       "Name: Erie, dtype: object"
      ]
     },
     "execution_count": 14,
     "metadata": {},
     "output_type": "execute_result"
    }
   ],
   "source": [
    "df_named.loc['Erie',]"
   ]
  },
  {
   "cell_type": "markdown",
   "id": "acb7584f-7b8d-499c-ad68-5e864d3e5101",
   "metadata": {},
   "source": [
    "**Discuss**: What will happen if I try to run the cell below and why?"
   ]
  },
  {
   "cell_type": "code",
   "execution_count": 20,
   "id": "7e038583-fe42-4ae4-80cf-8984ff8b65da",
   "metadata": {},
   "outputs": [
    {
     "ename": "KeyError",
     "evalue": "'Erie'",
     "output_type": "error",
     "traceback": [
      "\u001b[1;31m---------------------------------------------------------------------------\u001b[0m",
      "\u001b[1;31mKeyError\u001b[0m                                  Traceback (most recent call last)",
      "\u001b[1;32mc:\\Users\\sjcde\\anaconda3\\lib\\site-packages\\pandas\\core\\indexes\\base.py\u001b[0m in \u001b[0;36mget_loc\u001b[1;34m(self, key, method, tolerance)\u001b[0m\n\u001b[0;32m   3360\u001b[0m             \u001b[1;32mtry\u001b[0m\u001b[1;33m:\u001b[0m\u001b[1;33m\u001b[0m\u001b[1;33m\u001b[0m\u001b[0m\n\u001b[1;32m-> 3361\u001b[1;33m                 \u001b[1;32mreturn\u001b[0m \u001b[0mself\u001b[0m\u001b[1;33m.\u001b[0m\u001b[0m_engine\u001b[0m\u001b[1;33m.\u001b[0m\u001b[0mget_loc\u001b[0m\u001b[1;33m(\u001b[0m\u001b[0mcasted_key\u001b[0m\u001b[1;33m)\u001b[0m\u001b[1;33m\u001b[0m\u001b[1;33m\u001b[0m\u001b[0m\n\u001b[0m\u001b[0;32m   3362\u001b[0m             \u001b[1;32mexcept\u001b[0m \u001b[0mKeyError\u001b[0m \u001b[1;32mas\u001b[0m \u001b[0merr\u001b[0m\u001b[1;33m:\u001b[0m\u001b[1;33m\u001b[0m\u001b[1;33m\u001b[0m\u001b[0m\n",
      "\u001b[1;32mc:\\Users\\sjcde\\anaconda3\\lib\\site-packages\\pandas\\_libs\\index.pyx\u001b[0m in \u001b[0;36mpandas._libs.index.IndexEngine.get_loc\u001b[1;34m()\u001b[0m\n",
      "\u001b[1;32mc:\\Users\\sjcde\\anaconda3\\lib\\site-packages\\pandas\\_libs\\index.pyx\u001b[0m in \u001b[0;36mpandas._libs.index.IndexEngine.get_loc\u001b[1;34m()\u001b[0m\n",
      "\u001b[1;32mpandas\\_libs\\hashtable_class_helper.pxi\u001b[0m in \u001b[0;36mpandas._libs.hashtable.PyObjectHashTable.get_item\u001b[1;34m()\u001b[0m\n",
      "\u001b[1;32mpandas\\_libs\\hashtable_class_helper.pxi\u001b[0m in \u001b[0;36mpandas._libs.hashtable.PyObjectHashTable.get_item\u001b[1;34m()\u001b[0m\n",
      "\u001b[1;31mKeyError\u001b[0m: 'Erie'",
      "\nThe above exception was the direct cause of the following exception:\n",
      "\u001b[1;31mKeyError\u001b[0m                                  Traceback (most recent call last)",
      "\u001b[1;32m~\\AppData\\Local\\Temp/ipykernel_15028/2131421069.py\u001b[0m in \u001b[0;36m<module>\u001b[1;34m\u001b[0m\n\u001b[1;32m----> 1\u001b[1;33m \u001b[0mdf_named\u001b[0m\u001b[1;33m.\u001b[0m\u001b[0mloc\u001b[0m\u001b[1;33m[\u001b[0m\u001b[1;33m:\u001b[0m\u001b[1;33m,\u001b[0m\u001b[1;34m'Erie'\u001b[0m\u001b[1;33m]\u001b[0m\u001b[1;33m\u001b[0m\u001b[1;33m\u001b[0m\u001b[0m\n\u001b[0m",
      "\u001b[1;32mc:\\Users\\sjcde\\anaconda3\\lib\\site-packages\\pandas\\core\\indexing.py\u001b[0m in \u001b[0;36m__getitem__\u001b[1;34m(self, key)\u001b[0m\n\u001b[0;32m    923\u001b[0m                 \u001b[1;32mwith\u001b[0m \u001b[0msuppress\u001b[0m\u001b[1;33m(\u001b[0m\u001b[0mKeyError\u001b[0m\u001b[1;33m,\u001b[0m \u001b[0mIndexError\u001b[0m\u001b[1;33m)\u001b[0m\u001b[1;33m:\u001b[0m\u001b[1;33m\u001b[0m\u001b[1;33m\u001b[0m\u001b[0m\n\u001b[0;32m    924\u001b[0m                     \u001b[1;32mreturn\u001b[0m \u001b[0mself\u001b[0m\u001b[1;33m.\u001b[0m\u001b[0mobj\u001b[0m\u001b[1;33m.\u001b[0m\u001b[0m_get_value\u001b[0m\u001b[1;33m(\u001b[0m\u001b[1;33m*\u001b[0m\u001b[0mkey\u001b[0m\u001b[1;33m,\u001b[0m \u001b[0mtakeable\u001b[0m\u001b[1;33m=\u001b[0m\u001b[0mself\u001b[0m\u001b[1;33m.\u001b[0m\u001b[0m_takeable\u001b[0m\u001b[1;33m)\u001b[0m\u001b[1;33m\u001b[0m\u001b[1;33m\u001b[0m\u001b[0m\n\u001b[1;32m--> 925\u001b[1;33m             \u001b[1;32mreturn\u001b[0m \u001b[0mself\u001b[0m\u001b[1;33m.\u001b[0m\u001b[0m_getitem_tuple\u001b[0m\u001b[1;33m(\u001b[0m\u001b[0mkey\u001b[0m\u001b[1;33m)\u001b[0m\u001b[1;33m\u001b[0m\u001b[1;33m\u001b[0m\u001b[0m\n\u001b[0m\u001b[0;32m    926\u001b[0m         \u001b[1;32melse\u001b[0m\u001b[1;33m:\u001b[0m\u001b[1;33m\u001b[0m\u001b[1;33m\u001b[0m\u001b[0m\n\u001b[0;32m    927\u001b[0m             \u001b[1;31m# we by definition only have the 0th axis\u001b[0m\u001b[1;33m\u001b[0m\u001b[1;33m\u001b[0m\u001b[0m\n",
      "\u001b[1;32mc:\\Users\\sjcde\\anaconda3\\lib\\site-packages\\pandas\\core\\indexing.py\u001b[0m in \u001b[0;36m_getitem_tuple\u001b[1;34m(self, tup)\u001b[0m\n\u001b[0;32m   1098\u001b[0m     \u001b[1;32mdef\u001b[0m \u001b[0m_getitem_tuple\u001b[0m\u001b[1;33m(\u001b[0m\u001b[0mself\u001b[0m\u001b[1;33m,\u001b[0m \u001b[0mtup\u001b[0m\u001b[1;33m:\u001b[0m \u001b[0mtuple\u001b[0m\u001b[1;33m)\u001b[0m\u001b[1;33m:\u001b[0m\u001b[1;33m\u001b[0m\u001b[1;33m\u001b[0m\u001b[0m\n\u001b[0;32m   1099\u001b[0m         \u001b[1;32mwith\u001b[0m \u001b[0msuppress\u001b[0m\u001b[1;33m(\u001b[0m\u001b[0mIndexingError\u001b[0m\u001b[1;33m)\u001b[0m\u001b[1;33m:\u001b[0m\u001b[1;33m\u001b[0m\u001b[1;33m\u001b[0m\u001b[0m\n\u001b[1;32m-> 1100\u001b[1;33m             \u001b[1;32mreturn\u001b[0m \u001b[0mself\u001b[0m\u001b[1;33m.\u001b[0m\u001b[0m_getitem_lowerdim\u001b[0m\u001b[1;33m(\u001b[0m\u001b[0mtup\u001b[0m\u001b[1;33m)\u001b[0m\u001b[1;33m\u001b[0m\u001b[1;33m\u001b[0m\u001b[0m\n\u001b[0m\u001b[0;32m   1101\u001b[0m \u001b[1;33m\u001b[0m\u001b[0m\n\u001b[0;32m   1102\u001b[0m         \u001b[1;31m# no multi-index, so validate all of the indexers\u001b[0m\u001b[1;33m\u001b[0m\u001b[1;33m\u001b[0m\u001b[0m\n",
      "\u001b[1;32mc:\\Users\\sjcde\\anaconda3\\lib\\site-packages\\pandas\\core\\indexing.py\u001b[0m in \u001b[0;36m_getitem_lowerdim\u001b[1;34m(self, tup)\u001b[0m\n\u001b[0;32m    836\u001b[0m                 \u001b[1;31m# We don't need to check for tuples here because those are\u001b[0m\u001b[1;33m\u001b[0m\u001b[1;33m\u001b[0m\u001b[0m\n\u001b[0;32m    837\u001b[0m                 \u001b[1;31m#  caught by the _is_nested_tuple_indexer check above.\u001b[0m\u001b[1;33m\u001b[0m\u001b[1;33m\u001b[0m\u001b[0m\n\u001b[1;32m--> 838\u001b[1;33m                 \u001b[0msection\u001b[0m \u001b[1;33m=\u001b[0m \u001b[0mself\u001b[0m\u001b[1;33m.\u001b[0m\u001b[0m_getitem_axis\u001b[0m\u001b[1;33m(\u001b[0m\u001b[0mkey\u001b[0m\u001b[1;33m,\u001b[0m \u001b[0maxis\u001b[0m\u001b[1;33m=\u001b[0m\u001b[0mi\u001b[0m\u001b[1;33m)\u001b[0m\u001b[1;33m\u001b[0m\u001b[1;33m\u001b[0m\u001b[0m\n\u001b[0m\u001b[0;32m    839\u001b[0m \u001b[1;33m\u001b[0m\u001b[0m\n\u001b[0;32m    840\u001b[0m                 \u001b[1;31m# We should never have a scalar section here, because\u001b[0m\u001b[1;33m\u001b[0m\u001b[1;33m\u001b[0m\u001b[0m\n",
      "\u001b[1;32mc:\\Users\\sjcde\\anaconda3\\lib\\site-packages\\pandas\\core\\indexing.py\u001b[0m in \u001b[0;36m_getitem_axis\u001b[1;34m(self, key, axis)\u001b[0m\n\u001b[0;32m   1162\u001b[0m         \u001b[1;31m# fall thru to straight lookup\u001b[0m\u001b[1;33m\u001b[0m\u001b[1;33m\u001b[0m\u001b[0m\n\u001b[0;32m   1163\u001b[0m         \u001b[0mself\u001b[0m\u001b[1;33m.\u001b[0m\u001b[0m_validate_key\u001b[0m\u001b[1;33m(\u001b[0m\u001b[0mkey\u001b[0m\u001b[1;33m,\u001b[0m \u001b[0maxis\u001b[0m\u001b[1;33m)\u001b[0m\u001b[1;33m\u001b[0m\u001b[1;33m\u001b[0m\u001b[0m\n\u001b[1;32m-> 1164\u001b[1;33m         \u001b[1;32mreturn\u001b[0m \u001b[0mself\u001b[0m\u001b[1;33m.\u001b[0m\u001b[0m_get_label\u001b[0m\u001b[1;33m(\u001b[0m\u001b[0mkey\u001b[0m\u001b[1;33m,\u001b[0m \u001b[0maxis\u001b[0m\u001b[1;33m=\u001b[0m\u001b[0maxis\u001b[0m\u001b[1;33m)\u001b[0m\u001b[1;33m\u001b[0m\u001b[1;33m\u001b[0m\u001b[0m\n\u001b[0m\u001b[0;32m   1165\u001b[0m \u001b[1;33m\u001b[0m\u001b[0m\n\u001b[0;32m   1166\u001b[0m     \u001b[1;32mdef\u001b[0m \u001b[0m_get_slice_axis\u001b[0m\u001b[1;33m(\u001b[0m\u001b[0mself\u001b[0m\u001b[1;33m,\u001b[0m \u001b[0mslice_obj\u001b[0m\u001b[1;33m:\u001b[0m \u001b[0mslice\u001b[0m\u001b[1;33m,\u001b[0m \u001b[0maxis\u001b[0m\u001b[1;33m:\u001b[0m \u001b[0mint\u001b[0m\u001b[1;33m)\u001b[0m\u001b[1;33m:\u001b[0m\u001b[1;33m\u001b[0m\u001b[1;33m\u001b[0m\u001b[0m\n",
      "\u001b[1;32mc:\\Users\\sjcde\\anaconda3\\lib\\site-packages\\pandas\\core\\indexing.py\u001b[0m in \u001b[0;36m_get_label\u001b[1;34m(self, label, axis)\u001b[0m\n\u001b[0;32m   1111\u001b[0m     \u001b[1;32mdef\u001b[0m \u001b[0m_get_label\u001b[0m\u001b[1;33m(\u001b[0m\u001b[0mself\u001b[0m\u001b[1;33m,\u001b[0m \u001b[0mlabel\u001b[0m\u001b[1;33m,\u001b[0m \u001b[0maxis\u001b[0m\u001b[1;33m:\u001b[0m \u001b[0mint\u001b[0m\u001b[1;33m)\u001b[0m\u001b[1;33m:\u001b[0m\u001b[1;33m\u001b[0m\u001b[1;33m\u001b[0m\u001b[0m\n\u001b[0;32m   1112\u001b[0m         \u001b[1;31m# GH#5667 this will fail if the label is not present in the axis.\u001b[0m\u001b[1;33m\u001b[0m\u001b[1;33m\u001b[0m\u001b[0m\n\u001b[1;32m-> 1113\u001b[1;33m         \u001b[1;32mreturn\u001b[0m \u001b[0mself\u001b[0m\u001b[1;33m.\u001b[0m\u001b[0mobj\u001b[0m\u001b[1;33m.\u001b[0m\u001b[0mxs\u001b[0m\u001b[1;33m(\u001b[0m\u001b[0mlabel\u001b[0m\u001b[1;33m,\u001b[0m \u001b[0maxis\u001b[0m\u001b[1;33m=\u001b[0m\u001b[0maxis\u001b[0m\u001b[1;33m)\u001b[0m\u001b[1;33m\u001b[0m\u001b[1;33m\u001b[0m\u001b[0m\n\u001b[0m\u001b[0;32m   1114\u001b[0m \u001b[1;33m\u001b[0m\u001b[0m\n\u001b[0;32m   1115\u001b[0m     \u001b[1;32mdef\u001b[0m \u001b[0m_handle_lowerdim_multi_index_axis0\u001b[0m\u001b[1;33m(\u001b[0m\u001b[0mself\u001b[0m\u001b[1;33m,\u001b[0m \u001b[0mtup\u001b[0m\u001b[1;33m:\u001b[0m \u001b[0mtuple\u001b[0m\u001b[1;33m)\u001b[0m\u001b[1;33m:\u001b[0m\u001b[1;33m\u001b[0m\u001b[1;33m\u001b[0m\u001b[0m\n",
      "\u001b[1;32mc:\\Users\\sjcde\\anaconda3\\lib\\site-packages\\pandas\\core\\generic.py\u001b[0m in \u001b[0;36mxs\u001b[1;34m(self, key, axis, level, drop_level)\u001b[0m\n\u001b[0;32m   3759\u001b[0m         \u001b[1;32mif\u001b[0m \u001b[0maxis\u001b[0m \u001b[1;33m==\u001b[0m \u001b[1;36m1\u001b[0m\u001b[1;33m:\u001b[0m\u001b[1;33m\u001b[0m\u001b[1;33m\u001b[0m\u001b[0m\n\u001b[0;32m   3760\u001b[0m             \u001b[1;32mif\u001b[0m \u001b[0mdrop_level\u001b[0m\u001b[1;33m:\u001b[0m\u001b[1;33m\u001b[0m\u001b[1;33m\u001b[0m\u001b[0m\n\u001b[1;32m-> 3761\u001b[1;33m                 \u001b[1;32mreturn\u001b[0m \u001b[0mself\u001b[0m\u001b[1;33m[\u001b[0m\u001b[0mkey\u001b[0m\u001b[1;33m]\u001b[0m\u001b[1;33m\u001b[0m\u001b[1;33m\u001b[0m\u001b[0m\n\u001b[0m\u001b[0;32m   3762\u001b[0m             \u001b[0mindex\u001b[0m \u001b[1;33m=\u001b[0m \u001b[0mself\u001b[0m\u001b[1;33m.\u001b[0m\u001b[0mcolumns\u001b[0m\u001b[1;33m\u001b[0m\u001b[1;33m\u001b[0m\u001b[0m\n\u001b[0;32m   3763\u001b[0m         \u001b[1;32melse\u001b[0m\u001b[1;33m:\u001b[0m\u001b[1;33m\u001b[0m\u001b[1;33m\u001b[0m\u001b[0m\n",
      "\u001b[1;32mc:\\Users\\sjcde\\anaconda3\\lib\\site-packages\\pandas\\core\\frame.py\u001b[0m in \u001b[0;36m__getitem__\u001b[1;34m(self, key)\u001b[0m\n\u001b[0;32m   3456\u001b[0m             \u001b[1;32mif\u001b[0m \u001b[0mself\u001b[0m\u001b[1;33m.\u001b[0m\u001b[0mcolumns\u001b[0m\u001b[1;33m.\u001b[0m\u001b[0mnlevels\u001b[0m \u001b[1;33m>\u001b[0m \u001b[1;36m1\u001b[0m\u001b[1;33m:\u001b[0m\u001b[1;33m\u001b[0m\u001b[1;33m\u001b[0m\u001b[0m\n\u001b[0;32m   3457\u001b[0m                 \u001b[1;32mreturn\u001b[0m \u001b[0mself\u001b[0m\u001b[1;33m.\u001b[0m\u001b[0m_getitem_multilevel\u001b[0m\u001b[1;33m(\u001b[0m\u001b[0mkey\u001b[0m\u001b[1;33m)\u001b[0m\u001b[1;33m\u001b[0m\u001b[1;33m\u001b[0m\u001b[0m\n\u001b[1;32m-> 3458\u001b[1;33m             \u001b[0mindexer\u001b[0m \u001b[1;33m=\u001b[0m \u001b[0mself\u001b[0m\u001b[1;33m.\u001b[0m\u001b[0mcolumns\u001b[0m\u001b[1;33m.\u001b[0m\u001b[0mget_loc\u001b[0m\u001b[1;33m(\u001b[0m\u001b[0mkey\u001b[0m\u001b[1;33m)\u001b[0m\u001b[1;33m\u001b[0m\u001b[1;33m\u001b[0m\u001b[0m\n\u001b[0m\u001b[0;32m   3459\u001b[0m             \u001b[1;32mif\u001b[0m \u001b[0mis_integer\u001b[0m\u001b[1;33m(\u001b[0m\u001b[0mindexer\u001b[0m\u001b[1;33m)\u001b[0m\u001b[1;33m:\u001b[0m\u001b[1;33m\u001b[0m\u001b[1;33m\u001b[0m\u001b[0m\n\u001b[0;32m   3460\u001b[0m                 \u001b[0mindexer\u001b[0m \u001b[1;33m=\u001b[0m \u001b[1;33m[\u001b[0m\u001b[0mindexer\u001b[0m\u001b[1;33m]\u001b[0m\u001b[1;33m\u001b[0m\u001b[1;33m\u001b[0m\u001b[0m\n",
      "\u001b[1;32mc:\\Users\\sjcde\\anaconda3\\lib\\site-packages\\pandas\\core\\indexes\\base.py\u001b[0m in \u001b[0;36mget_loc\u001b[1;34m(self, key, method, tolerance)\u001b[0m\n\u001b[0;32m   3361\u001b[0m                 \u001b[1;32mreturn\u001b[0m \u001b[0mself\u001b[0m\u001b[1;33m.\u001b[0m\u001b[0m_engine\u001b[0m\u001b[1;33m.\u001b[0m\u001b[0mget_loc\u001b[0m\u001b[1;33m(\u001b[0m\u001b[0mcasted_key\u001b[0m\u001b[1;33m)\u001b[0m\u001b[1;33m\u001b[0m\u001b[1;33m\u001b[0m\u001b[0m\n\u001b[0;32m   3362\u001b[0m             \u001b[1;32mexcept\u001b[0m \u001b[0mKeyError\u001b[0m \u001b[1;32mas\u001b[0m \u001b[0merr\u001b[0m\u001b[1;33m:\u001b[0m\u001b[1;33m\u001b[0m\u001b[1;33m\u001b[0m\u001b[0m\n\u001b[1;32m-> 3363\u001b[1;33m                 \u001b[1;32mraise\u001b[0m \u001b[0mKeyError\u001b[0m\u001b[1;33m(\u001b[0m\u001b[0mkey\u001b[0m\u001b[1;33m)\u001b[0m \u001b[1;32mfrom\u001b[0m \u001b[0merr\u001b[0m\u001b[1;33m\u001b[0m\u001b[1;33m\u001b[0m\u001b[0m\n\u001b[0m\u001b[0;32m   3364\u001b[0m \u001b[1;33m\u001b[0m\u001b[0m\n\u001b[0;32m   3365\u001b[0m         \u001b[1;32mif\u001b[0m \u001b[0mis_scalar\u001b[0m\u001b[1;33m(\u001b[0m\u001b[0mkey\u001b[0m\u001b[1;33m)\u001b[0m \u001b[1;32mand\u001b[0m \u001b[0misna\u001b[0m\u001b[1;33m(\u001b[0m\u001b[0mkey\u001b[0m\u001b[1;33m)\u001b[0m \u001b[1;32mand\u001b[0m \u001b[1;32mnot\u001b[0m \u001b[0mself\u001b[0m\u001b[1;33m.\u001b[0m\u001b[0mhasnans\u001b[0m\u001b[1;33m:\u001b[0m\u001b[1;33m\u001b[0m\u001b[1;33m\u001b[0m\u001b[0m\n",
      "\u001b[1;31mKeyError\u001b[0m: 'Erie'"
     ]
    }
   ],
   "source": [
    "df_named.loc[:,'Erie']"
   ]
  },
  {
   "cell_type": "markdown",
   "id": "2c32d201-c83c-4015-8d48-0ecce3d3c529",
   "metadata": {},
   "source": [
    "You can also leave off the comma and it can work, but this can be a bit confusing"
   ]
  },
  {
   "cell_type": "markdown",
   "id": "55fb6027-bb8e-43cf-932d-b69b68f4a552",
   "metadata": {},
   "source": [
    "A particular specification for code is called *syntax*. The *syntax* for accessing items from a dictionary is `plant2place['Tea']`\n",
    "\n",
    "**You can access data for one *feature* (a whole column) from a data frame using dictionary syntax**\n",
    "\n",
    "**Discuss**: Compare the results of the commands below. How is the  code different? and how are the results different:"
   ]
  },
  {
   "cell_type": "code",
   "execution_count": 9,
   "id": "3eef49a4-aa54-4d37-8214-2bbb97a9f304",
   "metadata": {},
   "outputs": [
    {
     "data": {
      "text/plain": [
       "[23000, 7340, 22400, 9900, 31700]"
      ]
     },
     "execution_count": 9,
     "metadata": {},
     "output_type": "execute_result"
    }
   ],
   "source": [
    "lakes['surface']"
   ]
  },
  {
   "cell_type": "code",
   "execution_count": 10,
   "id": "70769fc9-ff3c-4264-9457-79b5e5eeddb2",
   "metadata": {},
   "outputs": [
    {
     "data": {
      "text/plain": [
       "name\n",
       "Huron       23000\n",
       "Ontario      7340\n",
       "Michigan    22400\n",
       "Erie         9900\n",
       "Superior    31700\n",
       "Name: surface, dtype: int64"
      ]
     },
     "execution_count": 10,
     "metadata": {},
     "output_type": "execute_result"
    }
   ],
   "source": [
    "df_named['surface']"
   ]
  },
  {
   "cell_type": "markdown",
   "id": "8c2252a7-5faf-4fe4-bc53-b4d3aefd513e",
   "metadata": {},
   "source": [
    "### 2.5 Indexing using a list\n",
    "We don't need to specify just the name of one row/column but we have many ways.  Say we are only interested in the depths info for Ontario and Michigan. We can create a list of all the rows and all the columns we are interested in:"
   ]
  },
  {
   "cell_type": "code",
   "execution_count": 17,
   "id": "9a6c7b77-2350-4f15-a471-0632b5715ca2",
   "metadata": {},
   "outputs": [],
   "source": [
    "rows = ['Michigan', 'Ontario']\n",
    "cols = ['ave_depth', 'max_depth']"
   ]
  },
  {
   "cell_type": "markdown",
   "id": "9a022e97-6720-44de-97ae-6567e595bc80",
   "metadata": {},
   "source": [
    "Now I will use the variables to just get these rows and columns from the DataFrame:"
   ]
  },
  {
   "cell_type": "code",
   "execution_count": 21,
   "id": "3c9cc87b-cb66-45fe-8d34-8febf7a8a9f8",
   "metadata": {},
   "outputs": [
    {
     "data": {
      "text/html": [
       "<div>\n",
       "<style scoped>\n",
       "    .dataframe tbody tr th:only-of-type {\n",
       "        vertical-align: middle;\n",
       "    }\n",
       "\n",
       "    .dataframe tbody tr th {\n",
       "        vertical-align: top;\n",
       "    }\n",
       "\n",
       "    .dataframe thead th {\n",
       "        text-align: right;\n",
       "    }\n",
       "</style>\n",
       "<table border=\"1\" class=\"dataframe\">\n",
       "  <thead>\n",
       "    <tr style=\"text-align: right;\">\n",
       "      <th></th>\n",
       "      <th>ave_depth</th>\n",
       "      <th>max_depth</th>\n",
       "    </tr>\n",
       "    <tr>\n",
       "      <th>name</th>\n",
       "      <th></th>\n",
       "      <th></th>\n",
       "    </tr>\n",
       "  </thead>\n",
       "  <tbody>\n",
       "    <tr>\n",
       "      <th>Michigan</th>\n",
       "      <td>279</td>\n",
       "      <td>923</td>\n",
       "    </tr>\n",
       "    <tr>\n",
       "      <th>Ontario</th>\n",
       "      <td>284</td>\n",
       "      <td>802</td>\n",
       "    </tr>\n",
       "  </tbody>\n",
       "</table>\n",
       "</div>"
      ],
      "text/plain": [
       "          ave_depth  max_depth\n",
       "name                          \n",
       "Michigan        279        923\n",
       "Ontario         284        802"
      ]
     },
     "execution_count": 21,
     "metadata": {},
     "output_type": "execute_result"
    }
   ],
   "source": [
    "df.loc[rows, cols]"
   ]
  },
  {
   "cell_type": "markdown",
   "id": "47add56c-8f89-4fcd-a093-471e0b5e1168",
   "metadata": {},
   "source": [
    "**Exercise 2.5.1**: use list indexing to manually put the data frame in alphabetical order by lake name, and select only the native_name and shared_canada columns."
   ]
  },
  {
   "cell_type": "code",
   "execution_count": 38,
   "id": "8c15412c-042f-4ce5-8f96-d5a323860a92",
   "metadata": {},
   "outputs": [
    {
     "data": {
      "text/html": [
       "<div>\n",
       "<style scoped>\n",
       "    .dataframe tbody tr th:only-of-type {\n",
       "        vertical-align: middle;\n",
       "    }\n",
       "\n",
       "    .dataframe tbody tr th {\n",
       "        vertical-align: top;\n",
       "    }\n",
       "\n",
       "    .dataframe thead th {\n",
       "        text-align: right;\n",
       "    }\n",
       "</style>\n",
       "<table border=\"1\" class=\"dataframe\">\n",
       "  <thead>\n",
       "    <tr style=\"text-align: right;\">\n",
       "      <th></th>\n",
       "      <th>native_name</th>\n",
       "      <th>shared_canada</th>\n",
       "    </tr>\n",
       "    <tr>\n",
       "      <th>name</th>\n",
       "      <th></th>\n",
       "      <th></th>\n",
       "    </tr>\n",
       "  </thead>\n",
       "  <tbody>\n",
       "    <tr>\n",
       "      <th>Erie</th>\n",
       "      <td>Erielhonan</td>\n",
       "      <td>True</td>\n",
       "    </tr>\n",
       "    <tr>\n",
       "      <th>Huron</th>\n",
       "      <td>Karegnondi</td>\n",
       "      <td>True</td>\n",
       "    </tr>\n",
       "    <tr>\n",
       "      <th>Michigan</th>\n",
       "      <td>Mich gami</td>\n",
       "      <td>False</td>\n",
       "    </tr>\n",
       "    <tr>\n",
       "      <th>Ontario</th>\n",
       "      <td>Oniatarí:io</td>\n",
       "      <td>True</td>\n",
       "    </tr>\n",
       "    <tr>\n",
       "      <th>Superior</th>\n",
       "      <td>Gichi-gami</td>\n",
       "      <td>True</td>\n",
       "    </tr>\n",
       "  </tbody>\n",
       "</table>\n",
       "</div>"
      ],
      "text/plain": [
       "          native_name  shared_canada\n",
       "name                                \n",
       "Erie       Erielhonan           True\n",
       "Huron      Karegnondi           True\n",
       "Michigan    Mich gami          False\n",
       "Ontario   Oniatarí:io           True\n",
       "Superior   Gichi-gami           True"
      ]
     },
     "execution_count": 38,
     "metadata": {},
     "output_type": "execute_result"
    }
   ],
   "source": [
    "# Sort the data in the dataframe in alphabetical order\n",
    "lakes['name'].sort()\n",
    "\n",
    "# Columns\n",
    "columns = ['native_name', 'shared_canada']\n",
    "\n",
    "# Get data from the dataframe\n",
    "df_named.loc[lakes['name'], columns]"
   ]
  },
  {
   "cell_type": "markdown",
   "id": "22557790-db42-4612-bf24-10fefcbb34e6",
   "metadata": {},
   "source": [
    "### 2.6 `.iloc[]` locates by row/column number\n",
    "Sometimes you might want to choose your own rows and columns by number, rather than just head and tail. With `iloc` you specify row number and column numbers (zero based) \n",
    "\n",
    "This follows the same rules as list position indexing, but gives you 2 dimensions to pick from."
   ]
  },
  {
   "cell_type": "code",
   "execution_count": null,
   "id": "bca86a19-9f2f-4152-b062-2eeda919000f",
   "metadata": {},
   "outputs": [],
   "source": [
    "df_named.iloc[:2,3:5]"
   ]
  },
  {
   "cell_type": "markdown",
   "id": "601e2155-d7ad-4c60-81b1-7eb898f576bf",
   "metadata": {},
   "source": [
    "**Exercise 2.6.1**: Look at the `df_named` and verify which rows and columns you would expect this to have given you."
   ]
  },
  {
   "cell_type": "code",
   "execution_count": 40,
   "id": "2d39404c-50e8-4ec1-8954-32eb4ef25d3f",
   "metadata": {},
   "outputs": [
    {
     "name": "stdout",
     "output_type": "stream",
     "text": [
      "          surface  ave_depth  max_depth  shared_canada  temperature  \\\n",
      "name                                                                  \n",
      "Huron       23000        195        750           True           48   \n",
      "Ontario      7340        284        802           True           51   \n",
      "Michigan    22400        279        923          False           49   \n",
      "Erie         9900         70        210           True           54   \n",
      "Superior    31700        480       1333           True           43   \n",
      "\n",
      "          native_name  \n",
      "name                   \n",
      "Huron      Karegnondi  \n",
      "Ontario   Oniatarí:io  \n",
      "Michigan    Mich gami  \n",
      "Erie       Erielhonan  \n",
      "Superior   Gichi-gami  \n"
     ]
    },
    {
     "data": {
      "text/html": [
       "<div>\n",
       "<style scoped>\n",
       "    .dataframe tbody tr th:only-of-type {\n",
       "        vertical-align: middle;\n",
       "    }\n",
       "\n",
       "    .dataframe tbody tr th {\n",
       "        vertical-align: top;\n",
       "    }\n",
       "\n",
       "    .dataframe thead th {\n",
       "        text-align: right;\n",
       "    }\n",
       "</style>\n",
       "<table border=\"1\" class=\"dataframe\">\n",
       "  <thead>\n",
       "    <tr style=\"text-align: right;\">\n",
       "      <th></th>\n",
       "      <th>shared_canada</th>\n",
       "      <th>temperature</th>\n",
       "    </tr>\n",
       "    <tr>\n",
       "      <th>name</th>\n",
       "      <th></th>\n",
       "      <th></th>\n",
       "    </tr>\n",
       "  </thead>\n",
       "  <tbody>\n",
       "    <tr>\n",
       "      <th>Huron</th>\n",
       "      <td>True</td>\n",
       "      <td>48</td>\n",
       "    </tr>\n",
       "    <tr>\n",
       "      <th>Ontario</th>\n",
       "      <td>True</td>\n",
       "      <td>51</td>\n",
       "    </tr>\n",
       "  </tbody>\n",
       "</table>\n",
       "</div>"
      ],
      "text/plain": [
       "         shared_canada  temperature\n",
       "name                               \n",
       "Huron             True           48\n",
       "Ontario           True           51"
      ]
     },
     "execution_count": 40,
     "metadata": {},
     "output_type": "execute_result"
    }
   ],
   "source": [
    "print(df_named)\n",
    "df_named.iloc[:2,3:5]"
   ]
  },
  {
   "cell_type": "markdown",
   "id": "1970d222-658d-45f2-8c15-e2cd140e6307",
   "metadata": {},
   "source": [
    "## 3. Vectorized operations\n",
    "Where pandas gets really powerful is the ability to manipulate a bunch of numbers at once. \n",
    "\n"
   ]
  },
  {
   "cell_type": "code",
   "execution_count": null,
   "id": "93341b12-33e7-4d53-a4d6-d060e53a9f1e",
   "metadata": {},
   "outputs": [],
   "source": [
    "df['temperature'] / 100"
   ]
  },
  {
   "cell_type": "code",
   "execution_count": null,
   "id": "ce27d9a0-5fee-434f-a61d-d358339c8481",
   "metadata": {},
   "outputs": [],
   "source": [
    "df_named['ave_depth'] + 1000"
   ]
  },
  {
   "cell_type": "markdown",
   "id": "7a38773f-a059-4270-aa4d-7e11bee0206d",
   "metadata": {},
   "source": [
    "What is an alternative way to accomplish the same task?\n",
    "\n",
    "Two reasons why this is better:\n",
    "- less code\n",
    "- much much faster with large data\n",
    "\n",
    "**3.1 Exercise**: convert the Fahrenheit temperatures to Celsius using vector operations (celsius = 5/9 * (fahrenheight - 32))"
   ]
  },
  {
   "cell_type": "code",
   "execution_count": 34,
   "id": "64584fc4-c157-411f-b871-f85554145fba",
   "metadata": {},
   "outputs": [
    {
     "data": {
      "text/plain": [
       "name\n",
       "Huron        8.888889\n",
       "Ontario     10.555556\n",
       "Michigan     9.444444\n",
       "Erie        12.222222\n",
       "Superior     6.111111\n",
       "Name: temperature, dtype: float64"
      ]
     },
     "execution_count": 34,
     "metadata": {},
     "output_type": "execute_result"
    }
   ],
   "source": [
    "5 / 9 * (df_named['temperature'] - 32)"
   ]
  },
  {
   "cell_type": "markdown",
   "id": "cc404dde-fc44-4fc9-b958-62ea8bd94c45",
   "metadata": {},
   "source": [
    "### 3.1 Vectorized math between two series\n",
    "You aren't limited to a Series and a number, with 2 Series of the same size, pandas will perform the operations like you were in a for loop. So we can get for each lake, how much deeper the deepest point is than the average depth."
   ]
  },
  {
   "cell_type": "code",
   "execution_count": null,
   "id": "e54fbf51-0b92-4b7f-85ea-7b6f39ebb070",
   "metadata": {},
   "outputs": [],
   "source": [
    "diff_depth =  df_named['max_depth'] - df_named['ave_depth']"
   ]
  },
  {
   "cell_type": "code",
   "execution_count": null,
   "id": "af551b52-0aad-4d85-b725-085fae6a4765",
   "metadata": {},
   "outputs": [],
   "source": [
    "diff_depth"
   ]
  },
  {
   "cell_type": "markdown",
   "id": "234b49c8-8603-49dc-9ee7-cce69c0533be",
   "metadata": {},
   "source": [
    "**3.1.1 Exercise**: use vectorized math to create a Series containing a very approximate volume for each lake"
   ]
  },
  {
   "cell_type": "code",
   "execution_count": 41,
   "id": "998f4c7f",
   "metadata": {},
   "outputs": [
    {
     "data": {
      "text/html": [
       "<div>\n",
       "<style scoped>\n",
       "    .dataframe tbody tr th:only-of-type {\n",
       "        vertical-align: middle;\n",
       "    }\n",
       "\n",
       "    .dataframe tbody tr th {\n",
       "        vertical-align: top;\n",
       "    }\n",
       "\n",
       "    .dataframe thead th {\n",
       "        text-align: right;\n",
       "    }\n",
       "</style>\n",
       "<table border=\"1\" class=\"dataframe\">\n",
       "  <thead>\n",
       "    <tr style=\"text-align: right;\">\n",
       "      <th></th>\n",
       "      <th>surface</th>\n",
       "      <th>ave_depth</th>\n",
       "      <th>max_depth</th>\n",
       "      <th>shared_canada</th>\n",
       "      <th>temperature</th>\n",
       "      <th>native_name</th>\n",
       "    </tr>\n",
       "    <tr>\n",
       "      <th>name</th>\n",
       "      <th></th>\n",
       "      <th></th>\n",
       "      <th></th>\n",
       "      <th></th>\n",
       "      <th></th>\n",
       "      <th></th>\n",
       "    </tr>\n",
       "  </thead>\n",
       "  <tbody>\n",
       "    <tr>\n",
       "      <th>Huron</th>\n",
       "      <td>23000</td>\n",
       "      <td>195</td>\n",
       "      <td>750</td>\n",
       "      <td>True</td>\n",
       "      <td>48</td>\n",
       "      <td>Karegnondi</td>\n",
       "    </tr>\n",
       "    <tr>\n",
       "      <th>Ontario</th>\n",
       "      <td>7340</td>\n",
       "      <td>284</td>\n",
       "      <td>802</td>\n",
       "      <td>True</td>\n",
       "      <td>51</td>\n",
       "      <td>Oniatarí:io</td>\n",
       "    </tr>\n",
       "    <tr>\n",
       "      <th>Michigan</th>\n",
       "      <td>22400</td>\n",
       "      <td>279</td>\n",
       "      <td>923</td>\n",
       "      <td>False</td>\n",
       "      <td>49</td>\n",
       "      <td>Mich gami</td>\n",
       "    </tr>\n",
       "    <tr>\n",
       "      <th>Erie</th>\n",
       "      <td>9900</td>\n",
       "      <td>70</td>\n",
       "      <td>210</td>\n",
       "      <td>True</td>\n",
       "      <td>54</td>\n",
       "      <td>Erielhonan</td>\n",
       "    </tr>\n",
       "    <tr>\n",
       "      <th>Superior</th>\n",
       "      <td>31700</td>\n",
       "      <td>480</td>\n",
       "      <td>1333</td>\n",
       "      <td>True</td>\n",
       "      <td>43</td>\n",
       "      <td>Gichi-gami</td>\n",
       "    </tr>\n",
       "  </tbody>\n",
       "</table>\n",
       "</div>"
      ],
      "text/plain": [
       "          surface  ave_depth  max_depth  shared_canada  temperature  \\\n",
       "name                                                                  \n",
       "Huron       23000        195        750           True           48   \n",
       "Ontario      7340        284        802           True           51   \n",
       "Michigan    22400        279        923          False           49   \n",
       "Erie         9900         70        210           True           54   \n",
       "Superior    31700        480       1333           True           43   \n",
       "\n",
       "          native_name  \n",
       "name                   \n",
       "Huron      Karegnondi  \n",
       "Ontario   Oniatarí:io  \n",
       "Michigan    Mich gami  \n",
       "Erie       Erielhonan  \n",
       "Superior   Gichi-gami  "
      ]
     },
     "execution_count": 41,
     "metadata": {},
     "output_type": "execute_result"
    }
   ],
   "source": [
    "df_named"
   ]
  },
  {
   "cell_type": "code",
   "execution_count": 43,
   "id": "20ff6071",
   "metadata": {},
   "outputs": [
    {
     "data": {
      "text/plain": [
       "float"
      ]
     },
     "execution_count": 43,
     "metadata": {},
     "output_type": "execute_result"
    }
   ],
   "source": [
    "df_named['surface'] * df_named['ave_depth'] * 2.788e+7 # Conversion from square miles to square feet"
   ]
  },
  {
   "cell_type": "markdown",
   "id": "09e964a9-edfb-4c7d-b87a-9310dd8ac76b",
   "metadata": {},
   "source": [
    "### 3.2 Vectorized string operations\n",
    "The main ones are vectorized string concatenation\n",
    "\n",
    "Just like doing `\"Lake\" + \"Karegnondi\"` would give you a string concatenating the two, this does the same thing in a vectorized fashion-- notice that what you get is of course another Series."
   ]
  },
  {
   "cell_type": "code",
   "execution_count": 46,
   "id": "4aec40b9-a617-4336-b36c-ad249803fe72",
   "metadata": {},
   "outputs": [
    {
     "data": {
      "text/plain": [
       "name\n",
       "Huron        Lake Karegnondi is a lake\n",
       "Ontario     Lake Oniatarí:io is a lake\n",
       "Michigan      Lake Mich gami is a lake\n",
       "Erie         Lake Erielhonan is a lake\n",
       "Superior     Lake Gichi-gami is a lake\n",
       "Name: native_name, dtype: object"
      ]
     },
     "execution_count": 46,
     "metadata": {},
     "output_type": "execute_result"
    }
   ],
   "source": [
    "\"Lake \" + df['native_name'] + \" is a lake\""
   ]
  },
  {
   "cell_type": "markdown",
   "id": "3cf1da31-edb0-47f1-b831-578b26691865",
   "metadata": {},
   "source": [
    "**Self check**: Write code to make a series that say \"The native name for Erie is Erielhonan\" etc for all lakes using vector operations."
   ]
  },
  {
   "cell_type": "markdown",
   "id": "76c46448-97ac-4e6f-b829-3e0545bf376d",
   "metadata": {},
   "source": [
    "### 3.4 Vectorized inequalities\n",
    "Just like the other vectorized operations, we can do tests that give Boolean results for vectorized operations"
   ]
  },
  {
   "cell_type": "code",
   "execution_count": 47,
   "id": "a732cda7-64e4-400f-8c84-3f8433eebdc4",
   "metadata": {},
   "outputs": [
    {
     "data": {
      "text/plain": [
       "name\n",
       "Huron       False\n",
       "Ontario      True\n",
       "Michigan    False\n",
       "Erie         True\n",
       "Superior    False\n",
       "Name: temperature, dtype: bool"
      ]
     },
     "execution_count": 47,
     "metadata": {},
     "output_type": "execute_result"
    }
   ],
   "source": [
    "df['temperature'] > 50"
   ]
  },
  {
   "cell_type": "code",
   "execution_count": 48,
   "id": "0930a69d-7f04-4e45-be95-0709a49198b1",
   "metadata": {},
   "outputs": [
    {
     "data": {
      "text/html": [
       "<div>\n",
       "<style scoped>\n",
       "    .dataframe tbody tr th:only-of-type {\n",
       "        vertical-align: middle;\n",
       "    }\n",
       "\n",
       "    .dataframe tbody tr th {\n",
       "        vertical-align: top;\n",
       "    }\n",
       "\n",
       "    .dataframe thead th {\n",
       "        text-align: right;\n",
       "    }\n",
       "</style>\n",
       "<table border=\"1\" class=\"dataframe\">\n",
       "  <thead>\n",
       "    <tr style=\"text-align: right;\">\n",
       "      <th></th>\n",
       "      <th>surface</th>\n",
       "      <th>ave_depth</th>\n",
       "      <th>max_depth</th>\n",
       "      <th>shared_canada</th>\n",
       "      <th>temperature</th>\n",
       "      <th>native_name</th>\n",
       "    </tr>\n",
       "    <tr>\n",
       "      <th>name</th>\n",
       "      <th></th>\n",
       "      <th></th>\n",
       "      <th></th>\n",
       "      <th></th>\n",
       "      <th></th>\n",
       "      <th></th>\n",
       "    </tr>\n",
       "  </thead>\n",
       "  <tbody>\n",
       "    <tr>\n",
       "      <th>Huron</th>\n",
       "      <td>23000</td>\n",
       "      <td>195</td>\n",
       "      <td>750</td>\n",
       "      <td>True</td>\n",
       "      <td>48</td>\n",
       "      <td>Karegnondi</td>\n",
       "    </tr>\n",
       "    <tr>\n",
       "      <th>Ontario</th>\n",
       "      <td>7340</td>\n",
       "      <td>284</td>\n",
       "      <td>802</td>\n",
       "      <td>True</td>\n",
       "      <td>51</td>\n",
       "      <td>Oniatarí:io</td>\n",
       "    </tr>\n",
       "    <tr>\n",
       "      <th>Michigan</th>\n",
       "      <td>22400</td>\n",
       "      <td>279</td>\n",
       "      <td>923</td>\n",
       "      <td>False</td>\n",
       "      <td>49</td>\n",
       "      <td>Mich gami</td>\n",
       "    </tr>\n",
       "    <tr>\n",
       "      <th>Erie</th>\n",
       "      <td>9900</td>\n",
       "      <td>70</td>\n",
       "      <td>210</td>\n",
       "      <td>True</td>\n",
       "      <td>54</td>\n",
       "      <td>Erielhonan</td>\n",
       "    </tr>\n",
       "    <tr>\n",
       "      <th>Superior</th>\n",
       "      <td>31700</td>\n",
       "      <td>480</td>\n",
       "      <td>1333</td>\n",
       "      <td>True</td>\n",
       "      <td>43</td>\n",
       "      <td>Gichi-gami</td>\n",
       "    </tr>\n",
       "  </tbody>\n",
       "</table>\n",
       "</div>"
      ],
      "text/plain": [
       "          surface  ave_depth  max_depth  shared_canada  temperature  \\\n",
       "name                                                                  \n",
       "Huron       23000        195        750           True           48   \n",
       "Ontario      7340        284        802           True           51   \n",
       "Michigan    22400        279        923          False           49   \n",
       "Erie         9900         70        210           True           54   \n",
       "Superior    31700        480       1333           True           43   \n",
       "\n",
       "          native_name  \n",
       "name                   \n",
       "Huron      Karegnondi  \n",
       "Ontario   Oniatarí:io  \n",
       "Michigan    Mich gami  \n",
       "Erie       Erielhonan  \n",
       "Superior   Gichi-gami  "
      ]
     },
     "execution_count": 48,
     "metadata": {},
     "output_type": "execute_result"
    }
   ],
   "source": [
    "df"
   ]
  },
  {
   "cell_type": "code",
   "execution_count": 49,
   "id": "534713f2-d3c6-46a6-806d-e4b03642ccfb",
   "metadata": {},
   "outputs": [
    {
     "data": {
      "text/plain": [
       "name\n",
       "Huron       False\n",
       "Ontario     False\n",
       "Michigan    False\n",
       "Erie         True\n",
       "Superior    False\n",
       "Name: native_name, dtype: bool"
      ]
     },
     "execution_count": 49,
     "metadata": {},
     "output_type": "execute_result"
    }
   ],
   "source": [
    "df['native_name'] == \"Erielhonan\""
   ]
  },
  {
   "cell_type": "markdown",
   "id": "8da61432-a92e-4aa8-aa24-08644dae840c",
   "metadata": {},
   "source": [
    "Just like in 3.2, this can be between 2 Series rather than comparing each item to the same thing"
   ]
  },
  {
   "cell_type": "code",
   "execution_count": 50,
   "id": "bae9acef-7230-4ce3-95c8-288d0d5a76fc",
   "metadata": {},
   "outputs": [
    {
     "data": {
      "text/plain": [
       "name\n",
       "Huron       True\n",
       "Ontario     True\n",
       "Michigan    True\n",
       "Erie        True\n",
       "Superior    True\n",
       "dtype: bool"
      ]
     },
     "execution_count": 50,
     "metadata": {},
     "output_type": "execute_result"
    }
   ],
   "source": [
    "df['ave_depth'] < df['max_depth']"
   ]
  },
  {
   "cell_type": "markdown",
   "id": "917d68db-2d75-4eca-aaa5-8cd0d12a35f6",
   "metadata": {},
   "source": [
    "**Exercise 3.4.1**: Write one line of code  that finds out if each lake's volume is more than 1 million cubic feet "
   ]
  },
  {
   "cell_type": "code",
   "execution_count": 54,
   "id": "96a8da2c",
   "metadata": {},
   "outputs": [
    {
     "data": {
      "text/plain": [
       "name\n",
       "Huron        True\n",
       "Ontario      True\n",
       "Michigan     True\n",
       "Erie        False\n",
       "Superior     True\n",
       "dtype: bool"
      ]
     },
     "execution_count": 54,
     "metadata": {},
     "output_type": "execute_result"
    }
   ],
   "source": [
    "df_named['surface'] * df_named['ave_depth'] > 1e+6 #* 2.788e+7"
   ]
  },
  {
   "cell_type": "markdown",
   "id": "fffe4919-1271-4f09-940e-c2498c739d1b",
   "metadata": {},
   "source": [
    "### 3.5 Vectorized Boolean operations.\n",
    "\n",
    "There are different operators for Series and DataFrame Booleans versus regular ones. These will operate on the whole Series at once:\n",
    "- `and` --> `&`\n",
    "- `or` --> `|`\n",
    "- `not` --> `~`\n"
   ]
  },
  {
   "cell_type": "markdown",
   "id": "fb1775fc-cebe-4bfa-85b4-db02eb48aefb",
   "metadata": {},
   "source": [
    "To flip True and False (the `not` operation) you must use the `~`:"
   ]
  },
  {
   "cell_type": "code",
   "execution_count": 56,
   "id": "96dd23be-e951-4b81-842a-5618c5d49428",
   "metadata": {},
   "outputs": [
    {
     "data": {
      "text/plain": [
       "name\n",
       "Huron       False\n",
       "Ontario     False\n",
       "Michigan     True\n",
       "Erie        False\n",
       "Superior    False\n",
       "Name: shared_canada, dtype: bool"
      ]
     },
     "execution_count": 56,
     "metadata": {},
     "output_type": "execute_result"
    }
   ],
   "source": [
    "~df['shared_canada']"
   ]
  },
  {
   "cell_type": "markdown",
   "id": "9b42321b-b285-411e-a37a-14ca54259962",
   "metadata": {},
   "source": [
    "To combine two inequalities you must put the inequality in parentheses like below! Common source of errors!"
   ]
  },
  {
   "cell_type": "code",
   "execution_count": 57,
   "id": "7b4d562f-b160-4bc5-b904-0d520536cb2b",
   "metadata": {},
   "outputs": [
    {
     "data": {
      "text/plain": [
       "name\n",
       "Huron        True\n",
       "Ontario     False\n",
       "Michigan    False\n",
       "Erie        False\n",
       "Superior     True\n",
       "dtype: bool"
      ]
     },
     "execution_count": 57,
     "metadata": {},
     "output_type": "execute_result"
    }
   ],
   "source": [
    "df['shared_canada'] & (df['temperature'] < 50)"
   ]
  },
  {
   "cell_type": "code",
   "execution_count": 58,
   "id": "d35bc67c-2d14-47df-897d-23f2ac08e2bb",
   "metadata": {},
   "outputs": [
    {
     "data": {
      "text/plain": [
       "name\n",
       "Huron       True\n",
       "Ontario     True\n",
       "Michigan    True\n",
       "Erie        True\n",
       "Superior    True\n",
       "dtype: bool"
      ]
     },
     "execution_count": 58,
     "metadata": {},
     "output_type": "execute_result"
    }
   ],
   "source": [
    "df['shared_canada'] | (df['temperature'] < 50)"
   ]
  },
  {
   "cell_type": "markdown",
   "id": "e4a9560a-56b8-4cf6-a7dd-6339f5508967",
   "metadata": {},
   "source": [
    "**Self check**: Use Boolean operations to get for all lakes a Boolean Series indicating lakes that are shared with Canada and have average depth more than 200 feet."
   ]
  },
  {
   "cell_type": "code",
   "execution_count": 60,
   "id": "4dad697b",
   "metadata": {},
   "outputs": [
    {
     "data": {
      "text/plain": [
       "name\n",
       "Huron       False\n",
       "Ontario      True\n",
       "Michigan    False\n",
       "Erie        False\n",
       "Superior     True\n",
       "dtype: bool"
      ]
     },
     "execution_count": 60,
     "metadata": {},
     "output_type": "execute_result"
    }
   ],
   "source": [
    "df['shared_canada'] & (df['ave_depth'] > 200)"
   ]
  },
  {
   "cell_type": "markdown",
   "id": "65f88732-3a21-4e08-b511-f79ff2542b37",
   "metadata": {},
   "source": [
    "## 4. Dimension/shape\n",
    "You can get the number of rows and columns by getting the `.shape` attribute. \n",
    "\n",
    "Remember it's always Row then Column because **DataFrames <font color=red>R</font>o<font color=red>C</font>k!!**"
   ]
  },
  {
   "cell_type": "code",
   "execution_count": 59,
   "id": "1216228c-b161-4c41-b83e-2517633dbc5c",
   "metadata": {},
   "outputs": [
    {
     "data": {
      "text/plain": [
       "(5, 6)"
      ]
     },
     "execution_count": 59,
     "metadata": {},
     "output_type": "execute_result"
    }
   ],
   "source": [
    "df.shape"
   ]
  },
  {
   "cell_type": "markdown",
   "id": "3ec134c1-e4ef-471d-844a-ec72e09b5396",
   "metadata": {},
   "source": [
    "What do you expect the shape of a series to be? How many rows and columns do you expect in the variable `aseries` below?"
   ]
  },
  {
   "cell_type": "code",
   "execution_count": 61,
   "id": "78b38e75-d72e-41bc-b5ba-faaf5b8b976f",
   "metadata": {},
   "outputs": [
    {
     "data": {
      "text/plain": [
       "(5,)"
      ]
     },
     "execution_count": 61,
     "metadata": {},
     "output_type": "execute_result"
    }
   ],
   "source": [
    "aseries = df['shared_canada']\n",
    "aseries.shape"
   ]
  },
  {
   "cell_type": "markdown",
   "id": "ca6939c2-f576-4e71-b67e-e40859165830",
   "metadata": {},
   "source": [
    "## 5. Assigning into your data frame"
   ]
  },
  {
   "cell_type": "markdown",
   "id": "0cbf4a51-4765-4a8a-8533-db2570828136",
   "metadata": {},
   "source": [
    "We can also assign a whole Series **into** a column, just like getting the series out of the column"
   ]
  },
  {
   "cell_type": "code",
   "execution_count": 62,
   "id": "21f8c119-28e3-4364-a033-67d8cb9a1319",
   "metadata": {},
   "outputs": [],
   "source": [
    "df['diff_depth'] = df['max_depth'] - df['ave_depth']"
   ]
  },
  {
   "cell_type": "code",
   "execution_count": 65,
   "id": "6b38f518",
   "metadata": {},
   "outputs": [
    {
     "data": {
      "text/html": [
       "<div>\n",
       "<style scoped>\n",
       "    .dataframe tbody tr th:only-of-type {\n",
       "        vertical-align: middle;\n",
       "    }\n",
       "\n",
       "    .dataframe tbody tr th {\n",
       "        vertical-align: top;\n",
       "    }\n",
       "\n",
       "    .dataframe thead th {\n",
       "        text-align: right;\n",
       "    }\n",
       "</style>\n",
       "<table border=\"1\" class=\"dataframe\">\n",
       "  <thead>\n",
       "    <tr style=\"text-align: right;\">\n",
       "      <th></th>\n",
       "      <th>surface</th>\n",
       "      <th>ave_depth</th>\n",
       "      <th>max_depth</th>\n",
       "      <th>shared_canada</th>\n",
       "      <th>temperature</th>\n",
       "      <th>native_name</th>\n",
       "      <th>diff_depth</th>\n",
       "    </tr>\n",
       "    <tr>\n",
       "      <th>name</th>\n",
       "      <th></th>\n",
       "      <th></th>\n",
       "      <th></th>\n",
       "      <th></th>\n",
       "      <th></th>\n",
       "      <th></th>\n",
       "      <th></th>\n",
       "    </tr>\n",
       "  </thead>\n",
       "  <tbody>\n",
       "    <tr>\n",
       "      <th>Huron</th>\n",
       "      <td>23000</td>\n",
       "      <td>195</td>\n",
       "      <td>750</td>\n",
       "      <td>True</td>\n",
       "      <td>48</td>\n",
       "      <td>Karegnondi</td>\n",
       "      <td>555</td>\n",
       "    </tr>\n",
       "    <tr>\n",
       "      <th>Ontario</th>\n",
       "      <td>7340</td>\n",
       "      <td>284</td>\n",
       "      <td>802</td>\n",
       "      <td>True</td>\n",
       "      <td>51</td>\n",
       "      <td>Oniatarí:io</td>\n",
       "      <td>518</td>\n",
       "    </tr>\n",
       "    <tr>\n",
       "      <th>Michigan</th>\n",
       "      <td>22400</td>\n",
       "      <td>279</td>\n",
       "      <td>923</td>\n",
       "      <td>False</td>\n",
       "      <td>49</td>\n",
       "      <td>Mich gami</td>\n",
       "      <td>644</td>\n",
       "    </tr>\n",
       "    <tr>\n",
       "      <th>Erie</th>\n",
       "      <td>9900</td>\n",
       "      <td>70</td>\n",
       "      <td>210</td>\n",
       "      <td>True</td>\n",
       "      <td>54</td>\n",
       "      <td>Erielhonan</td>\n",
       "      <td>140</td>\n",
       "    </tr>\n",
       "    <tr>\n",
       "      <th>Superior</th>\n",
       "      <td>31700</td>\n",
       "      <td>480</td>\n",
       "      <td>1333</td>\n",
       "      <td>True</td>\n",
       "      <td>43</td>\n",
       "      <td>Gichi-gami</td>\n",
       "      <td>853</td>\n",
       "    </tr>\n",
       "  </tbody>\n",
       "</table>\n",
       "</div>"
      ],
      "text/plain": [
       "          surface  ave_depth  max_depth  shared_canada  temperature  \\\n",
       "name                                                                  \n",
       "Huron       23000        195        750           True           48   \n",
       "Ontario      7340        284        802           True           51   \n",
       "Michigan    22400        279        923          False           49   \n",
       "Erie         9900         70        210           True           54   \n",
       "Superior    31700        480       1333           True           43   \n",
       "\n",
       "          native_name  diff_depth  \n",
       "name                               \n",
       "Huron      Karegnondi         555  \n",
       "Ontario   Oniatarí:io         518  \n",
       "Michigan    Mich gami         644  \n",
       "Erie       Erielhonan         140  \n",
       "Superior   Gichi-gami         853  "
      ]
     },
     "execution_count": 65,
     "metadata": {},
     "output_type": "execute_result"
    }
   ],
   "source": [
    "df"
   ]
  },
  {
   "cell_type": "markdown",
   "id": "957eb724-a52e-42b6-a256-0f78d6dc6e7f",
   "metadata": {},
   "source": [
    "**Exercise 5.1**: Assign a new `volume` column into the data frame. "
   ]
  },
  {
   "cell_type": "code",
   "execution_count": 66,
   "id": "f7e38aff",
   "metadata": {},
   "outputs": [
    {
     "data": {
      "text/html": [
       "<div>\n",
       "<style scoped>\n",
       "    .dataframe tbody tr th:only-of-type {\n",
       "        vertical-align: middle;\n",
       "    }\n",
       "\n",
       "    .dataframe tbody tr th {\n",
       "        vertical-align: top;\n",
       "    }\n",
       "\n",
       "    .dataframe thead th {\n",
       "        text-align: right;\n",
       "    }\n",
       "</style>\n",
       "<table border=\"1\" class=\"dataframe\">\n",
       "  <thead>\n",
       "    <tr style=\"text-align: right;\">\n",
       "      <th></th>\n",
       "      <th>surface</th>\n",
       "      <th>ave_depth</th>\n",
       "      <th>max_depth</th>\n",
       "      <th>shared_canada</th>\n",
       "      <th>temperature</th>\n",
       "      <th>native_name</th>\n",
       "      <th>diff_depth</th>\n",
       "      <th>volume</th>\n",
       "    </tr>\n",
       "    <tr>\n",
       "      <th>name</th>\n",
       "      <th></th>\n",
       "      <th></th>\n",
       "      <th></th>\n",
       "      <th></th>\n",
       "      <th></th>\n",
       "      <th></th>\n",
       "      <th></th>\n",
       "      <th></th>\n",
       "    </tr>\n",
       "  </thead>\n",
       "  <tbody>\n",
       "    <tr>\n",
       "      <th>Huron</th>\n",
       "      <td>23000</td>\n",
       "      <td>195</td>\n",
       "      <td>750</td>\n",
       "      <td>True</td>\n",
       "      <td>48</td>\n",
       "      <td>Karegnondi</td>\n",
       "      <td>555</td>\n",
       "      <td>1.250418e+14</td>\n",
       "    </tr>\n",
       "    <tr>\n",
       "      <th>Ontario</th>\n",
       "      <td>7340</td>\n",
       "      <td>284</td>\n",
       "      <td>802</td>\n",
       "      <td>True</td>\n",
       "      <td>51</td>\n",
       "      <td>Oniatarí:io</td>\n",
       "      <td>518</td>\n",
       "      <td>5.811753e+13</td>\n",
       "    </tr>\n",
       "    <tr>\n",
       "      <th>Michigan</th>\n",
       "      <td>22400</td>\n",
       "      <td>279</td>\n",
       "      <td>923</td>\n",
       "      <td>False</td>\n",
       "      <td>49</td>\n",
       "      <td>Mich gami</td>\n",
       "      <td>644</td>\n",
       "      <td>1.742388e+14</td>\n",
       "    </tr>\n",
       "    <tr>\n",
       "      <th>Erie</th>\n",
       "      <td>9900</td>\n",
       "      <td>70</td>\n",
       "      <td>210</td>\n",
       "      <td>True</td>\n",
       "      <td>54</td>\n",
       "      <td>Erielhonan</td>\n",
       "      <td>140</td>\n",
       "      <td>1.932084e+13</td>\n",
       "    </tr>\n",
       "    <tr>\n",
       "      <th>Superior</th>\n",
       "      <td>31700</td>\n",
       "      <td>480</td>\n",
       "      <td>1333</td>\n",
       "      <td>True</td>\n",
       "      <td>43</td>\n",
       "      <td>Gichi-gami</td>\n",
       "      <td>853</td>\n",
       "      <td>4.242221e+14</td>\n",
       "    </tr>\n",
       "  </tbody>\n",
       "</table>\n",
       "</div>"
      ],
      "text/plain": [
       "          surface  ave_depth  max_depth  shared_canada  temperature  \\\n",
       "name                                                                  \n",
       "Huron       23000        195        750           True           48   \n",
       "Ontario      7340        284        802           True           51   \n",
       "Michigan    22400        279        923          False           49   \n",
       "Erie         9900         70        210           True           54   \n",
       "Superior    31700        480       1333           True           43   \n",
       "\n",
       "          native_name  diff_depth        volume  \n",
       "name                                             \n",
       "Huron      Karegnondi         555  1.250418e+14  \n",
       "Ontario   Oniatarí:io         518  5.811753e+13  \n",
       "Michigan    Mich gami         644  1.742388e+14  \n",
       "Erie       Erielhonan         140  1.932084e+13  \n",
       "Superior   Gichi-gami         853  4.242221e+14  "
      ]
     },
     "execution_count": 66,
     "metadata": {},
     "output_type": "execute_result"
    }
   ],
   "source": [
    "df['volume'] = df['ave_depth'] * df['surface'] * 2.788e+7\n",
    "df"
   ]
  },
  {
   "cell_type": "markdown",
   "id": "16ce4be0-edd2-4753-b7bb-fd3da94df725",
   "metadata": {},
   "source": [
    "## 6. Boolean indexing\n",
    "How can we easily extract just the lakes that are shared with Canada?\n",
    "\n",
    "This is the trickiest kind of indexing! \n",
    "\n",
    "Using Boolean indexing to get the rows we want involves 2 steps:\n",
    "\n",
    "1. Get/make a Boolean series that is the same dimension as your data frame (so in our cases, same number of lakes), that has True for every row you want to extract.\n",
    "\n",
    "2. Use this boolean series as the `rows`"
   ]
  },
  {
   "cell_type": "code",
   "execution_count": 68,
   "id": "eed3a542-91a5-4f0e-9a8a-7ac95797e952",
   "metadata": {},
   "outputs": [
    {
     "name": "stdout",
     "output_type": "stream",
     "text": [
      "name\n",
      "Huron        True\n",
      "Ontario      True\n",
      "Michigan    False\n",
      "Erie         True\n",
      "Superior     True\n",
      "Name: shared_canada, dtype: bool\n"
     ]
    }
   ],
   "source": [
    "row_selector = df['shared_canada']\n",
    "print(row_selector)"
   ]
  },
  {
   "cell_type": "code",
   "execution_count": 69,
   "id": "4d061d1d-2b82-45e4-90d8-e4ca7809f18d",
   "metadata": {},
   "outputs": [
    {
     "data": {
      "text/html": [
       "<div>\n",
       "<style scoped>\n",
       "    .dataframe tbody tr th:only-of-type {\n",
       "        vertical-align: middle;\n",
       "    }\n",
       "\n",
       "    .dataframe tbody tr th {\n",
       "        vertical-align: top;\n",
       "    }\n",
       "\n",
       "    .dataframe thead th {\n",
       "        text-align: right;\n",
       "    }\n",
       "</style>\n",
       "<table border=\"1\" class=\"dataframe\">\n",
       "  <thead>\n",
       "    <tr style=\"text-align: right;\">\n",
       "      <th></th>\n",
       "      <th>surface</th>\n",
       "      <th>ave_depth</th>\n",
       "      <th>max_depth</th>\n",
       "      <th>shared_canada</th>\n",
       "      <th>temperature</th>\n",
       "      <th>native_name</th>\n",
       "      <th>diff_depth</th>\n",
       "      <th>volume</th>\n",
       "    </tr>\n",
       "    <tr>\n",
       "      <th>name</th>\n",
       "      <th></th>\n",
       "      <th></th>\n",
       "      <th></th>\n",
       "      <th></th>\n",
       "      <th></th>\n",
       "      <th></th>\n",
       "      <th></th>\n",
       "      <th></th>\n",
       "    </tr>\n",
       "  </thead>\n",
       "  <tbody>\n",
       "    <tr>\n",
       "      <th>Huron</th>\n",
       "      <td>23000</td>\n",
       "      <td>195</td>\n",
       "      <td>750</td>\n",
       "      <td>True</td>\n",
       "      <td>48</td>\n",
       "      <td>Karegnondi</td>\n",
       "      <td>555</td>\n",
       "      <td>1.250418e+14</td>\n",
       "    </tr>\n",
       "    <tr>\n",
       "      <th>Ontario</th>\n",
       "      <td>7340</td>\n",
       "      <td>284</td>\n",
       "      <td>802</td>\n",
       "      <td>True</td>\n",
       "      <td>51</td>\n",
       "      <td>Oniatarí:io</td>\n",
       "      <td>518</td>\n",
       "      <td>5.811753e+13</td>\n",
       "    </tr>\n",
       "    <tr>\n",
       "      <th>Erie</th>\n",
       "      <td>9900</td>\n",
       "      <td>70</td>\n",
       "      <td>210</td>\n",
       "      <td>True</td>\n",
       "      <td>54</td>\n",
       "      <td>Erielhonan</td>\n",
       "      <td>140</td>\n",
       "      <td>1.932084e+13</td>\n",
       "    </tr>\n",
       "    <tr>\n",
       "      <th>Superior</th>\n",
       "      <td>31700</td>\n",
       "      <td>480</td>\n",
       "      <td>1333</td>\n",
       "      <td>True</td>\n",
       "      <td>43</td>\n",
       "      <td>Gichi-gami</td>\n",
       "      <td>853</td>\n",
       "      <td>4.242221e+14</td>\n",
       "    </tr>\n",
       "  </tbody>\n",
       "</table>\n",
       "</div>"
      ],
      "text/plain": [
       "          surface  ave_depth  max_depth  shared_canada  temperature  \\\n",
       "name                                                                  \n",
       "Huron       23000        195        750           True           48   \n",
       "Ontario      7340        284        802           True           51   \n",
       "Erie         9900         70        210           True           54   \n",
       "Superior    31700        480       1333           True           43   \n",
       "\n",
       "          native_name  diff_depth        volume  \n",
       "name                                             \n",
       "Huron      Karegnondi         555  1.250418e+14  \n",
       "Ontario   Oniatarí:io         518  5.811753e+13  \n",
       "Erie       Erielhonan         140  1.932084e+13  \n",
       "Superior   Gichi-gami         853  4.242221e+14  "
      ]
     },
     "execution_count": 69,
     "metadata": {},
     "output_type": "execute_result"
    }
   ],
   "source": [
    "df.loc[row_selector,:]"
   ]
  },
  {
   "cell_type": "code",
   "execution_count": null,
   "id": "59977a4e-e7a9-4612-a580-f1bfb5e91cf6",
   "metadata": {},
   "outputs": [],
   "source": [
    "df.shape"
   ]
  },
  {
   "cell_type": "markdown",
   "id": "b1fb4976-b81e-4668-b445-1ce81a67d34b",
   "metadata": {},
   "source": [
    "**Exercise 6.1**: Get the volume of the lakes where temperature is greater than 50, and the volume of lakes where temperature is less than 50."
   ]
  },
  {
   "cell_type": "code",
   "execution_count": 80,
   "id": "024cc690",
   "metadata": {},
   "outputs": [
    {
     "data": {
      "text/html": [
       "<div>\n",
       "<style scoped>\n",
       "    .dataframe tbody tr th:only-of-type {\n",
       "        vertical-align: middle;\n",
       "    }\n",
       "\n",
       "    .dataframe tbody tr th {\n",
       "        vertical-align: top;\n",
       "    }\n",
       "\n",
       "    .dataframe thead th {\n",
       "        text-align: right;\n",
       "    }\n",
       "</style>\n",
       "<table border=\"1\" class=\"dataframe\">\n",
       "  <thead>\n",
       "    <tr style=\"text-align: right;\">\n",
       "      <th></th>\n",
       "      <th>volume</th>\n",
       "    </tr>\n",
       "    <tr>\n",
       "      <th>name</th>\n",
       "      <th></th>\n",
       "    </tr>\n",
       "  </thead>\n",
       "  <tbody>\n",
       "    <tr>\n",
       "      <th>Ontario</th>\n",
       "      <td>5.811753e+13</td>\n",
       "    </tr>\n",
       "    <tr>\n",
       "      <th>Erie</th>\n",
       "      <td>1.932084e+13</td>\n",
       "    </tr>\n",
       "  </tbody>\n",
       "</table>\n",
       "</div>"
      ],
      "text/plain": [
       "               volume\n",
       "name                 \n",
       "Ontario  5.811753e+13\n",
       "Erie     1.932084e+13"
      ]
     },
     "metadata": {},
     "output_type": "display_data"
    },
    {
     "data": {
      "text/html": [
       "<div>\n",
       "<style scoped>\n",
       "    .dataframe tbody tr th:only-of-type {\n",
       "        vertical-align: middle;\n",
       "    }\n",
       "\n",
       "    .dataframe tbody tr th {\n",
       "        vertical-align: top;\n",
       "    }\n",
       "\n",
       "    .dataframe thead th {\n",
       "        text-align: right;\n",
       "    }\n",
       "</style>\n",
       "<table border=\"1\" class=\"dataframe\">\n",
       "  <thead>\n",
       "    <tr style=\"text-align: right;\">\n",
       "      <th></th>\n",
       "      <th>volume</th>\n",
       "    </tr>\n",
       "    <tr>\n",
       "      <th>name</th>\n",
       "      <th></th>\n",
       "    </tr>\n",
       "  </thead>\n",
       "  <tbody>\n",
       "    <tr>\n",
       "      <th>Huron</th>\n",
       "      <td>1.250418e+14</td>\n",
       "    </tr>\n",
       "    <tr>\n",
       "      <th>Michigan</th>\n",
       "      <td>1.742388e+14</td>\n",
       "    </tr>\n",
       "    <tr>\n",
       "      <th>Superior</th>\n",
       "      <td>4.242221e+14</td>\n",
       "    </tr>\n",
       "  </tbody>\n",
       "</table>\n",
       "</div>"
      ],
      "text/plain": [
       "                volume\n",
       "name                  \n",
       "Huron     1.250418e+14\n",
       "Michigan  1.742388e+14\n",
       "Superior  4.242221e+14"
      ]
     },
     "metadata": {},
     "output_type": "display_data"
    },
    {
     "data": {
      "text/plain": [
       "pandas.core.series.Series"
      ]
     },
     "execution_count": 80,
     "metadata": {},
     "output_type": "execute_result"
    }
   ],
   "source": [
    "row_selector = df['temperature'] > 50\n",
    "\n",
    "display(df.loc[row_selector, 'volume'].to_frame())\n",
    "\n",
    "row_selector = df['temperature'] < 50\n",
    "\n",
    "display(df.loc[row_selector, 'volume'].to_frame())\n",
    "\n",
    "type(df.loc[row_selector, 'volume'])"
   ]
  },
  {
   "cell_type": "markdown",
   "id": "cf6eb05a-297d-4f74-b0ab-6ada1e659c64",
   "metadata": {},
   "source": [
    "**Self check**: Get the depth for lakes *not* shared with canada"
   ]
  },
  {
   "cell_type": "markdown",
   "id": "bdb26907-36cd-4039-ba5b-d102474003b0",
   "metadata": {},
   "source": [
    "## 7. Sorting\n",
    "We can sort by a value which returns another DataFrame, but sorted. I used the named argument `ascending` to go from highest to lowest-- the default is `ascending=True`:"
   ]
  },
  {
   "cell_type": "code",
   "execution_count": null,
   "id": "9f82c6fb-3627-4187-8093-8d10685f01a7",
   "metadata": {},
   "outputs": [],
   "source": [
    "df.sort_values(\"surface\", ascending=False)"
   ]
  },
  {
   "cell_type": "code",
   "execution_count": null,
   "id": "36242147-4a57-4a75-a394-806e13cb5cb4",
   "metadata": {},
   "outputs": [],
   "source": [
    "df.sort_values(\"max_depth\", ascending=True)"
   ]
  },
  {
   "cell_type": "markdown",
   "id": "1437069b-e3d1-4dea-942c-5e6bca1c1d0c",
   "metadata": {},
   "source": [
    "## 8. Reading in data\n",
    "\n",
    "Obviously we mostly don't type in our data by hand but get it in text files.  We can use another pandas function to load directly from the file **if** the file is formatted correctly.\n",
    "Note that in my case, I have the data in a subdirectory called data that is inside my *current working directory*"
   ]
  },
  {
   "cell_type": "code",
   "execution_count": 76,
   "id": "7ed97373-336f-4cbb-adc2-bec3f9c10141",
   "metadata": {},
   "outputs": [],
   "source": [
    "states = pd.read_csv(\"../Data/state_health.csv\")"
   ]
  },
  {
   "cell_type": "markdown",
   "id": "43d9f38d-bcf2-43cf-a592-d961fa17160f",
   "metadata": {},
   "source": [
    "### 8.1 Exploring the data\n",
    "\n",
    "How do I get the number of rows and columns in the  data? type below:"
   ]
  },
  {
   "cell_type": "code",
   "execution_count": 77,
   "id": "7f031f60-3456-4a6e-98c3-84ec0ddb426a",
   "metadata": {},
   "outputs": [
    {
     "data": {
      "text/plain": [
       "(52, 100)"
      ]
     },
     "execution_count": 77,
     "metadata": {},
     "output_type": "execute_result"
    }
   ],
   "source": [
    "states.shape"
   ]
  },
  {
   "cell_type": "markdown",
   "id": "45214087-9357-4c78-b382-2fbab531ad71",
   "metadata": {},
   "source": [
    "The next step after we load in some data into our notebook is to start looking at it to understand what we have. Just like with command line we have head and tail to look at our data, but now they are *functions*. It's prettier in Jupyter. "
   ]
  },
  {
   "cell_type": "code",
   "execution_count": 85,
   "id": "19018a0d-bcd6-4723-9c27-8ee5a386c4e4",
   "metadata": {},
   "outputs": [
    {
     "data": {
      "text/html": [
       "<div>\n",
       "<style scoped>\n",
       "    .dataframe tbody tr th:only-of-type {\n",
       "        vertical-align: middle;\n",
       "    }\n",
       "\n",
       "    .dataframe tbody tr th {\n",
       "        vertical-align: top;\n",
       "    }\n",
       "\n",
       "    .dataframe thead th {\n",
       "        text-align: right;\n",
       "    }\n",
       "</style>\n",
       "<table border=\"1\" class=\"dataframe\">\n",
       "  <thead>\n",
       "    <tr style=\"text-align: right;\">\n",
       "      <th></th>\n",
       "      <th>State Name</th>\n",
       "      <th>Adverse Childhood Experiences</th>\n",
       "      <th>Air Pollution</th>\n",
       "      <th>Arthritis</th>\n",
       "      <th>Asthma</th>\n",
       "      <th>Avoided Care Due to Cost</th>\n",
       "      <th>Behaviors</th>\n",
       "      <th>Binge Drinking</th>\n",
       "      <th>Cancer</th>\n",
       "      <th>Cannabis Use</th>\n",
       "      <th>...</th>\n",
       "      <th>Total Population</th>\n",
       "      <th>Transportation Energy Use</th>\n",
       "      <th>Unemployment</th>\n",
       "      <th>Uninsured</th>\n",
       "      <th>Violent Crime</th>\n",
       "      <th>Volunteerism</th>\n",
       "      <th>Voter Participation (Average)</th>\n",
       "      <th>Voter Participation (Midterm)</th>\n",
       "      <th>Voter Participation (Presidential)</th>\n",
       "      <th>Water Fluoridation</th>\n",
       "    </tr>\n",
       "  </thead>\n",
       "  <tbody>\n",
       "    <tr>\n",
       "      <th>0</th>\n",
       "      <td>Maine</td>\n",
       "      <td>18.2</td>\n",
       "      <td>5.0</td>\n",
       "      <td>29.0</td>\n",
       "      <td>10.6</td>\n",
       "      <td>9.4</td>\n",
       "      <td>0.587</td>\n",
       "      <td>14.4</td>\n",
       "      <td>8.1</td>\n",
       "      <td>30.0</td>\n",
       "      <td>...</td>\n",
       "      <td>1350141</td>\n",
       "      <td>7.9</td>\n",
       "      <td>3.5</td>\n",
       "      <td>8.0</td>\n",
       "      <td>115</td>\n",
       "      <td>38.5</td>\n",
       "      <td>68.5</td>\n",
       "      <td>65.6</td>\n",
       "      <td>71.3</td>\n",
       "      <td>79.3</td>\n",
       "    </tr>\n",
       "    <tr>\n",
       "      <th>1</th>\n",
       "      <td>Massachusetts</td>\n",
       "      <td>10.8</td>\n",
       "      <td>7.0</td>\n",
       "      <td>23.8</td>\n",
       "      <td>10.7</td>\n",
       "      <td>8.3</td>\n",
       "      <td>0.680</td>\n",
       "      <td>15.8</td>\n",
       "      <td>7.0</td>\n",
       "      <td>22.9</td>\n",
       "      <td>...</td>\n",
       "      <td>6893574</td>\n",
       "      <td>7.0</td>\n",
       "      <td>4.0</td>\n",
       "      <td>3.0</td>\n",
       "      <td>328</td>\n",
       "      <td>33.6</td>\n",
       "      <td>60.9</td>\n",
       "      <td>55.5</td>\n",
       "      <td>66.3</td>\n",
       "      <td>57.3</td>\n",
       "    </tr>\n",
       "    <tr>\n",
       "      <th>2</th>\n",
       "      <td>Rhode Island</td>\n",
       "      <td>13.6</td>\n",
       "      <td>7.0</td>\n",
       "      <td>24.2</td>\n",
       "      <td>12.1</td>\n",
       "      <td>8.3</td>\n",
       "      <td>0.271</td>\n",
       "      <td>15.1</td>\n",
       "      <td>6.8</td>\n",
       "      <td>25.4</td>\n",
       "      <td>...</td>\n",
       "      <td>1057125</td>\n",
       "      <td>5.6</td>\n",
       "      <td>4.4</td>\n",
       "      <td>4.1</td>\n",
       "      <td>221</td>\n",
       "      <td>28.3</td>\n",
       "      <td>59.0</td>\n",
       "      <td>51.6</td>\n",
       "      <td>66.3</td>\n",
       "      <td>83.2</td>\n",
       "    </tr>\n",
       "    <tr>\n",
       "      <th>3</th>\n",
       "      <td>District of Columbia</td>\n",
       "      <td>17.5</td>\n",
       "      <td>8.7</td>\n",
       "      <td>16.3</td>\n",
       "      <td>10.4</td>\n",
       "      <td>7.0</td>\n",
       "      <td>NaN</td>\n",
       "      <td>22.7</td>\n",
       "      <td>5.0</td>\n",
       "      <td>28.2</td>\n",
       "      <td>...</td>\n",
       "      <td>712816</td>\n",
       "      <td>3.1</td>\n",
       "      <td>6.4</td>\n",
       "      <td>3.5</td>\n",
       "      <td>1049</td>\n",
       "      <td>40.7</td>\n",
       "      <td>72.6</td>\n",
       "      <td>61.1</td>\n",
       "      <td>84.0</td>\n",
       "      <td>100.0</td>\n",
       "    </tr>\n",
       "    <tr>\n",
       "      <th>4</th>\n",
       "      <td>Michigan</td>\n",
       "      <td>15.5</td>\n",
       "      <td>7.9</td>\n",
       "      <td>30.1</td>\n",
       "      <td>11.0</td>\n",
       "      <td>7.9</td>\n",
       "      <td>-0.094</td>\n",
       "      <td>17.4</td>\n",
       "      <td>7.6</td>\n",
       "      <td>27.8</td>\n",
       "      <td>...</td>\n",
       "      <td>9966555</td>\n",
       "      <td>7.8</td>\n",
       "      <td>5.1</td>\n",
       "      <td>5.8</td>\n",
       "      <td>437</td>\n",
       "      <td>34.5</td>\n",
       "      <td>63.2</td>\n",
       "      <td>59.5</td>\n",
       "      <td>66.9</td>\n",
       "      <td>89.5</td>\n",
       "    </tr>\n",
       "  </tbody>\n",
       "</table>\n",
       "<p>5 rows × 100 columns</p>\n",
       "</div>"
      ],
      "text/plain": [
       "             State Name  Adverse Childhood Experiences  Air Pollution  \\\n",
       "0                 Maine                           18.2            5.0   \n",
       "1         Massachusetts                           10.8            7.0   \n",
       "2          Rhode Island                           13.6            7.0   \n",
       "3  District of Columbia                           17.5            8.7   \n",
       "4              Michigan                           15.5            7.9   \n",
       "\n",
       "   Arthritis  Asthma  Avoided Care Due to Cost  Behaviors  Binge Drinking  \\\n",
       "0       29.0    10.6                       9.4      0.587            14.4   \n",
       "1       23.8    10.7                       8.3      0.680            15.8   \n",
       "2       24.2    12.1                       8.3      0.271            15.1   \n",
       "3       16.3    10.4                       7.0        NaN            22.7   \n",
       "4       30.1    11.0                       7.9     -0.094            17.4   \n",
       "\n",
       "   Cancer  Cannabis Use  ...  Total Population  Transportation Energy Use  \\\n",
       "0     8.1          30.0  ...           1350141                        7.9   \n",
       "1     7.0          22.9  ...           6893574                        7.0   \n",
       "2     6.8          25.4  ...           1057125                        5.6   \n",
       "3     5.0          28.2  ...            712816                        3.1   \n",
       "4     7.6          27.8  ...           9966555                        7.8   \n",
       "\n",
       "   Unemployment  Uninsured  Violent Crime  Volunteerism  \\\n",
       "0           3.5        8.0            115          38.5   \n",
       "1           4.0        3.0            328          33.6   \n",
       "2           4.4        4.1            221          28.3   \n",
       "3           6.4        3.5           1049          40.7   \n",
       "4           5.1        5.8            437          34.5   \n",
       "\n",
       "   Voter Participation (Average)  Voter Participation (Midterm)  \\\n",
       "0                           68.5                           65.6   \n",
       "1                           60.9                           55.5   \n",
       "2                           59.0                           51.6   \n",
       "3                           72.6                           61.1   \n",
       "4                           63.2                           59.5   \n",
       "\n",
       "   Voter Participation (Presidential)  Water Fluoridation  \n",
       "0                                71.3                79.3  \n",
       "1                                66.3                57.3  \n",
       "2                                66.3                83.2  \n",
       "3                                84.0               100.0  \n",
       "4                                66.9                89.5  \n",
       "\n",
       "[5 rows x 100 columns]"
      ]
     },
     "execution_count": 85,
     "metadata": {},
     "output_type": "execute_result"
    }
   ],
   "source": [
    "states.head()"
   ]
  },
  {
   "cell_type": "markdown",
   "id": "24d5cc5c-29d6-45aa-82ed-951519b3a16e",
   "metadata": {},
   "source": [
    "**Discuss**: what is this data? what are the observations and features?"
   ]
  },
  {
   "cell_type": "markdown",
   "id": "791cc84b",
   "metadata": {},
   "source": [
    "__States__ are the observations, __characteristics of each state__ are the features"
   ]
  },
  {
   "cell_type": "markdown",
   "id": "2b213dc8-f894-4181-ac99-f0cfac13320b",
   "metadata": {},
   "source": [
    "**Discuss**: How can I set the row names (index) to be the state name instead of the numbers"
   ]
  },
  {
   "cell_type": "code",
   "execution_count": 87,
   "id": "f62e4d95",
   "metadata": {},
   "outputs": [],
   "source": [
    "states.set_index(\"State Name\", inplace=True)"
   ]
  },
  {
   "cell_type": "markdown",
   "id": "a65d7349-e195-4590-bca7-5e45ccee393f",
   "metadata": {},
   "source": [
    "### 8.2 Get a subset of the data for your research question\n",
    "\n",
    "Pick a set of 5 or so columns your group is interested in. "
   ]
  },
  {
   "cell_type": "markdown",
   "id": "8e3a7357-28f9-4a68-aed6-5ff34c686d19",
   "metadata": {},
   "source": [
    "**Exercise 8.2.1**: \n",
    "A. Get a list of all of the characteristics we have for each state."
   ]
  },
  {
   "cell_type": "code",
   "execution_count": null,
   "id": "d543e5bb",
   "metadata": {},
   "outputs": [],
   "source": [
    "state_selector = [\"New Hampshire\", \"Massachusetts\", \"Vermont\", \"Rhode Island\", \"Connecticut\", \"Maine\"]"
   ]
  },
  {
   "cell_type": "markdown",
   "id": "0c195a0c-50fa-4f36-9e3c-be32bfb896bb",
   "metadata": {},
   "source": [
    "B. Select out only those columns and store the smaller data frame into a new variable"
   ]
  },
  {
   "cell_type": "markdown",
   "id": "ff5d65a4-61a7-4ce9-9151-5c8d8ac0fb5a",
   "metadata": {},
   "source": [
    "C. What do you expect the `shape` to be? Predict then write the code to get the shape"
   ]
  },
  {
   "cell_type": "markdown",
   "id": "3d858f46-597e-494b-a4d5-87f7fd918fed",
   "metadata": {},
   "source": [
    "D. Get a preview of what the first and last rows of your subsetted data looks like"
   ]
  },
  {
   "cell_type": "markdown",
   "id": "b5a11534-e875-4b3f-a1e2-f0ee3cc8e941",
   "metadata": {},
   "source": [
    "**Exercise 8.2.2**: Which 10 states are doing the best or and which are worst on the characteristics you chose? "
   ]
  },
  {
   "cell_type": "markdown",
   "id": "c4c74598-7dd0-4479-b25f-dc691f21871b",
   "metadata": {},
   "source": [
    "**Exercise 8.2.3**: How is Massachusetts doing on the characteristics you chose?  (write code)"
   ]
  },
  {
   "cell_type": "markdown",
   "id": "fc5ec017-5c8f-48b3-8550-8fb4966fe903",
   "metadata": {},
   "source": [
    "**Exercise 8.2.4**: Get the data for states that are doing better than Massachusetts on one characteristic."
   ]
  },
  {
   "cell_type": "code",
   "execution_count": null,
   "id": "c0f11232-caa0-48b5-b124-bbbd92bd8f4c",
   "metadata": {},
   "outputs": [],
   "source": []
  },
  {
   "cell_type": "code",
   "execution_count": null,
   "id": "86fae908-6a14-4b62-9f02-a5be0eb229ba",
   "metadata": {},
   "outputs": [],
   "source": [
    "states.columns"
   ]
  },
  {
   "cell_type": "markdown",
   "id": "47dab2e5-5024-4e16-bc46-a469a7539e2b",
   "metadata": {},
   "source": [
    "**Self check**: Get the states with per-capita income greater than \\$40,000. Then, write code to get which two states have the *lowest* income that is greater than $40,000"
   ]
  },
  {
   "cell_type": "markdown",
   "id": "1e8c6c3d-ea53-45b4-a0d9-9e5bc4e74d0a",
   "metadata": {},
   "source": [
    "# 9. Univariate summaries\n",
    "A feature can also be called a *variable*. We can summarize a single variable with *univariate summaries*\n",
    "\n",
    "The `describe` function is useful for getting a quick overview of your data:"
   ]
  },
  {
   "cell_type": "code",
   "execution_count": 88,
   "id": "153b3683-851b-4ec5-bd71-a0a3e9a95821",
   "metadata": {},
   "outputs": [
    {
     "data": {
      "text/plain": [
       "count      5.000000\n",
       "mean     261.600000\n",
       "std      149.707381\n",
       "min       70.000000\n",
       "25%      195.000000\n",
       "50%      279.000000\n",
       "75%      284.000000\n",
       "max      480.000000\n",
       "Name: ave_depth, dtype: float64"
      ]
     },
     "execution_count": 88,
     "metadata": {},
     "output_type": "execute_result"
    }
   ],
   "source": [
    "df['ave_depth'].describe()"
   ]
  },
  {
   "cell_type": "markdown",
   "id": "ca514efc-d549-4197-9edd-63908666c9a1",
   "metadata": {},
   "source": [
    "Similarly, we can get the `max`, `mean`, and `min` on their own"
   ]
  },
  {
   "cell_type": "code",
   "execution_count": 89,
   "id": "d59b8248-272f-4908-8707-d04195fc9e3e",
   "metadata": {},
   "outputs": [
    {
     "data": {
      "text/plain": [
       "480"
      ]
     },
     "execution_count": 89,
     "metadata": {},
     "output_type": "execute_result"
    }
   ],
   "source": [
    "df['ave_depth'].max()"
   ]
  },
  {
   "cell_type": "code",
   "execution_count": 90,
   "id": "e2073169-9d66-4a57-ab8f-5fb091614f80",
   "metadata": {},
   "outputs": [
    {
     "data": {
      "text/plain": [
       "70"
      ]
     },
     "execution_count": 90,
     "metadata": {},
     "output_type": "execute_result"
    }
   ],
   "source": [
    "df['ave_depth'].min()"
   ]
  },
  {
   "cell_type": "markdown",
   "id": "4e647d96-bac6-463e-8224-f54690335440",
   "metadata": {},
   "source": [
    "Let's get practice using Boolean indexing and create some summaries of our data.\n",
    "\n",
    "We will try to cut up the range of values of one of our features into 10 bins, and count how many states fall in each bin. For example, if we wanted to find which states the per capita income is between $40,000 and $50,000, that range of values would be a bin.\n",
    "\n",
    "We can easily create evenly spaced bins using a function from the `numpy` package"
   ]
  },
  {
   "cell_type": "code",
   "execution_count": null,
   "id": "fc556184-ec68-4ff3-a480-227ca8c9972a",
   "metadata": {},
   "outputs": [],
   "source": [
    "states.set_index('State Name')['Per Capita Income'].sort_values()[:10]"
   ]
  },
  {
   "cell_type": "code",
   "execution_count": 91,
   "id": "f6d9860b-34ba-4159-8234-cadf66bd63d2",
   "metadata": {},
   "outputs": [
    {
     "data": {
      "text/plain": [
       "array([ 2.,  4.,  6.,  8., 10., 12., 14., 16., 18., 20.])"
      ]
     },
     "execution_count": 91,
     "metadata": {},
     "output_type": "execute_result"
    }
   ],
   "source": [
    "import numpy as np\n",
    "## np.linspace(low end, high end, how many bins)\n",
    "np.linspace(2, 20, 10)"
   ]
  },
  {
   "cell_type": "markdown",
   "id": "bc627836-194b-4f38-8435-d5d848d1591c",
   "metadata": {},
   "source": [
    "**Exercise 9.1**: Pick a feature you are interested in. Create 10 evenly spaced bins going from the lowest to the highest value of that feature."
   ]
  },
  {
   "cell_type": "code",
   "execution_count": 105,
   "id": "2dd08ebf",
   "metadata": {},
   "outputs": [],
   "source": [
    "# Insufficient Sleep\n",
    "sleepy = states['Insufficient Sleep']\n",
    "\n",
    "# Create evenly spaced bins\n",
    "bins = np.linspace(sleepy.min(), sleepy.max(), 10)"
   ]
  },
  {
   "cell_type": "markdown",
   "id": "c28da649-e9d1-45aa-b484-156293905935",
   "metadata": {},
   "source": [
    "**Exercise 9.2**: Write *algorithm* and then *code* that will store for every bin, the number of states that fall in that bin. **Write your algorithm first**.  Pieces to think about: how will we store the counts? For every bin, how do we get the number of states in that particular bin? How do we repeat this for all bins? **Algorithm first!!**"
   ]
  },
  {
   "cell_type": "code",
   "execution_count": 113,
   "id": "7e871e71",
   "metadata": {},
   "outputs": [
    {
     "data": {
      "text/plain": [
       "{26.8: 2,\n",
       " 28.2: 3,\n",
       " 29.6: 9,\n",
       " 31.0: 10,\n",
       " 32.4: 12,\n",
       " 33.8: 5,\n",
       " 35.2: 4,\n",
       " 36.6: 0,\n",
       " 38.0: 3}"
      ]
     },
     "execution_count": 113,
     "metadata": {},
     "output_type": "execute_result"
    }
   ],
   "source": [
    "d = {}\n",
    "for i,b in enumerate(bins):\n",
    "    if i < len(bins) - 1:\n",
    "        d[round(b, 1)] = len(sleepy.to_frame().loc[(b < sleepy) & (sleepy < bins[i + 1]), 'Insufficient Sleep'])\n",
    "        \n",
    "d"
   ]
  },
  {
   "cell_type": "markdown",
   "id": "3eecddba-a9c1-4ff4-aa7f-cb20619dc35c",
   "metadata": {},
   "source": [
    "# 10. Intro to plotting\n"
   ]
  },
  {
   "cell_type": "markdown",
   "id": "0fe79c5b-47d5-4d4e-b2dd-b66ae48b7c93",
   "metadata": {},
   "source": [
    "One useful summary is the **histogram** which allows us to visualize the **distribution** of our data. The distribution is which means how many times (how frequently) your *observations* have certain values. This can provide some insight! \n",
    "\n",
    "![img](https://preview.redd.it/oruqlgczepp91.png?width=960&crop=smart&auto=webp&s=e583fbd71ccc3e9028a3a21fe20daeabfaf85129 \"heights\")\n",
    "\n",
    "\n"
   ]
  },
  {
   "cell_type": "markdown",
   "id": "977d7a57-1b7e-4d25-83a9-69859635290b",
   "metadata": {},
   "source": [
    "Plots have 4 fundamental properties that vary:\n",
    "- x-axis (horizontal space)\n",
    "- y-axis (vertical space)\n",
    "- markers / shapes\n",
    "- colors\n",
    "\n",
    "Each of these mean something for representing our data. Every time you look at a plot you should ask yourself:\n",
    "- what does the x-axis mean\n",
    "- what does the y-axis mean\n",
    "- what do markers or shapes mean\n",
    "- what do colors mean\n",
    "\n",
    "**Discuss**: Look at the histogram above. Note 1) what the *axes* are, 2) what the *bars* mean, and 3) what *observations* and *features* are in this plot."
   ]
  },
  {
   "cell_type": "markdown",
   "id": "ca7493a7-6f5c-4192-a2b8-368ce6ea05ed",
   "metadata": {},
   "source": [
    "We can use the `seaborn` package for making plots. Today we will learn about using this to make plots of single features.\n",
    "\n",
    "First we use `import` to load the package, then we set it up..."
   ]
  },
  {
   "cell_type": "code",
   "execution_count": null,
   "id": "d6071e0c-01a9-407b-96d2-ec556aee37f0",
   "metadata": {},
   "outputs": [],
   "source": [
    "\n",
    "import seaborn as sns\n",
    "sns.set_theme()  ## the default theme with a grid"
   ]
  },
  {
   "cell_type": "markdown",
   "id": "c265926d-57fe-4b01-a609-0e939eaa47ea",
   "metadata": {},
   "source": [
    "Seaborn always operates on a data frame. \n",
    "\n",
    "Depending on what seaborn function you use, it will make a different kind of plot. Right now we'll just use `displot` short for **distribution plot** which is the same thing as a histogram:"
   ]
  },
  {
   "cell_type": "code",
   "execution_count": null,
   "id": "85ae9ecc-ea0b-4930-b937-70941ff44e87",
   "metadata": {},
   "outputs": [],
   "source": [
    "sns.displot(data=df, x=\"surface\")"
   ]
  },
  {
   "cell_type": "markdown",
   "id": "a7d896f7-adbd-4bb7-a244-f372b5867989",
   "metadata": {},
   "source": [
    "**Exercise 10.1**: Make a histogram (or distribution plot) of your chosen feature from exercise 9.2. Compare the values to what you got in exercise 9.2"
   ]
  },
  {
   "cell_type": "code",
   "execution_count": null,
   "id": "ad9b362e-9923-4c6e-91e0-6b961a6778c8",
   "metadata": {},
   "outputs": [],
   "source": []
  }
 ],
 "metadata": {
  "kernelspec": {
   "display_name": "Python 3.9.7 ('base')",
   "language": "python",
   "name": "python3"
  },
  "language_info": {
   "codemirror_mode": {
    "name": "ipython",
    "version": 3
   },
   "file_extension": ".py",
   "mimetype": "text/x-python",
   "name": "python",
   "nbconvert_exporter": "python",
   "pygments_lexer": "ipython3",
   "version": "3.9.7"
  },
  "vscode": {
   "interpreter": {
    "hash": "e595df4329fcf3a3af43d6766bc23e541941e8ce9ea758c4bedfcbd321d7c58e"
   }
  }
 },
 "nbformat": 4,
 "nbformat_minor": 5
}
