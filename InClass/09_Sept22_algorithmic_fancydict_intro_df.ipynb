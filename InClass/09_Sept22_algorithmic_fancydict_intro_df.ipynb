{
 "cells": [
  {
   "cell_type": "markdown",
   "id": "f4a8c67a-4f3a-486b-a811-d7d0e1cfbdfb",
   "metadata": {},
   "source": [
    "## Agenda\n",
    "- [Class feedback](https://umasslowell.co1.qualtrics.com/jfe/form/SV_bQ5Uz5heMoXCTsi)\n",
    "- Algorithmic thinking\n",
    "- Then more practice with loops and dictionaries, and hopefully data frames"
   ]
  },
  {
   "cell_type": "markdown",
   "id": "fdb62c84-0d98-4eb2-86f6-36cffbabbe7e",
   "metadata": {},
   "source": [
    "## Learning objectives\n",
    "- Can articulate algorithmic solutions to problems and write them down as a framework **before** adding code\n",
    "- Able to recognize uses for and create more complex dictionaries that store data sets\n",
    "- Describe the connection between data frames and data sets and dictionaries\n"
   ]
  },
  {
   "cell_type": "markdown",
   "id": "98e80c71-cdfd-43a6-a3a6-22bc54e06d7d",
   "metadata": {},
   "source": [
    "## Algorithmic thinking\n",
    "What it means: break down a solution into sequential, logical, detailed steps \n",
    "\n",
    "[pb & j dad video](https://www.youtube.com/watch?v=cDA3_5982h8)\n",
    "\n",
    "\n",
    "Examples:\n",
    "- Recipe\n",
    "- Furniture assembly instructions\n",
    "- Driving directions\n",
    "\n",
    "Try it: write the steps you need to do to brush your teeth. \n",
    "\n",
    "What happens if you do the steps in a different order? What happens if you leave out a step? "
   ]
  },
  {
   "cell_type": "markdown",
   "id": "1f76c214-9483-400a-8aa6-ecf8a3965261",
   "metadata": {},
   "source": [
    "## Daily homework\n",
    "\n",
    "First, write down your algorithm for doing the daily homework in a code cell.\n",
    "Put each step on a separate line as a *comment*. Write in human language not in code. \n",
    "\n",
    "Then, add your code in under each line of the algorithm\n"
   ]
  },
  {
   "cell_type": "markdown",
   "id": "e2ea41e8-76a4-45aa-bd72-fafdd3c07eda",
   "metadata": {},
   "source": [
    "## 1. Getting fancy with data structures\n",
    "First, we will build some comfort with loops, dictionary creation, and algorithmic thinking."
   ]
  },
  {
   "cell_type": "markdown",
   "id": "86a57f15-fe0c-4b68-8ca0-3106edaa7fb8",
   "metadata": {},
   "source": [
    "**Exercise 1.1**: Write code that uses the plant2place dictionary and stores how many times each place appears in the plant2place. \n",
    "- Again, first write the algorithm\n",
    "- Then add the code\n",
    "\n",
    "## 1.1 Dictionaries of lists"
   ]
  },
  {
   "cell_type": "markdown",
   "id": "65ab41b2-9bc7-4e61-a0df-494fd50bbc6e",
   "metadata": {},
   "source": [
    "Dictionaries are very flexible and useful. They can have as *keys* strings or numbers, and as values, anything:\n",
    "- Sets\n",
    "- Lists\n",
    "- Other dictionaries!\n",
    "\n",
    "Lists as well have other lists as items (so we can have a list of lists or lists of dictionaries!). It depends on what you're trying to accomplish.\n",
    "\n",
    "![img](https://c.tenor.com/x-tCSS8RPZEAAAAd/mind-blown-mind.gif \"mind blown\")"
   ]
  },
  {
   "cell_type": "markdown",
   "id": "3bfd8057-69c5-474c-9ef8-051a3c422cd0",
   "metadata": {},
   "source": [
    "**Exercise 1.2**: Write code that uses the plant2place dictionary and creates another dictionary where the keys are plants, and the values are **lists** containing all the plants in that place. Again, algorithm then code"
   ]
  },
  {
   "cell_type": "code",
   "execution_count": null,
   "id": "3a821a9d-155c-44b9-8604-45cc65592992",
   "metadata": {},
   "outputs": [],
   "source": []
  },
  {
   "cell_type": "markdown",
   "id": "24072808-bc15-40fa-8b19-2ba3dbb4a2b9",
   "metadata": {},
   "source": [
    "## 2. From dictionaries to data frames\n",
    "Dictionaries can store a lot of data.\n",
    "\n",
    "One way we can store a data set is by using the dictionary *keys as features*, and a *list of observations* of each feature. \n",
    "\n",
    "Here the features are characteristics of lakes, and the observations are different lakes: "
   ]
  },
  {
   "cell_type": "code",
   "execution_count": null,
   "id": "879bce4a-8044-4307-b890-3134a934f506",
   "metadata": {},
   "outputs": [],
   "source": [
    "lakes = {'name':['Huron','Ontario','Michigan','Erie','Superior'],\n",
    "        'surface':[23000, 7340,22400,9900,31700],\n",
    "        'ave_depth':[195,284,279,70,480],\n",
    "        'max_depth':[750,802,923,210,1333],\n",
    "        'shared_canada':[True,True, False, True, True],\n",
    "         'temperature':[48,51,49,54,43],\n",
    "         'native_name':['Karegnondi','Oniatarí:io','Mich gami','Erielhonan','Gichi-gami']\n",
    "        }"
   ]
  },
  {
   "cell_type": "markdown",
   "id": "97cbf000-72d7-4bdb-b970-bedfc5f724ca",
   "metadata": {},
   "source": [
    "Downside: the observations of each feature are not connected to each other. \n",
    "\n",
    "**Discuss**: What kind of algorithm would you use with this dictionary to look at up average depth of Lake Michigan?"
   ]
  },
  {
   "cell_type": "markdown",
   "id": "19392206-7f15-485d-946b-1dafabd4df71",
   "metadata": {},
   "source": [
    "### 2.1 Making a DataFrame"
   ]
  },
  {
   "cell_type": "markdown",
   "id": "de622bb6-d7ba-4ba6-9f2f-7d3d3190d564",
   "metadata": {},
   "source": [
    "We can instead store this in a table format by using a python toolbox called **pandas**. \n",
    "![img](https://miro.medium.com/max/1400/1*_oSOImPmBFeKj8vqE4FCkQ.jpeg \"pandas\")\n",
    "\n",
    "We call these toolboxes **package** and we get access to them by a special command called `import` as below. The `as pd` part creates a nickname, so we save typing a few letters:"
   ]
  },
  {
   "cell_type": "code",
   "execution_count": null,
   "id": "d3c795d0-894d-4e2d-a278-3993314d02c0",
   "metadata": {},
   "outputs": [],
   "source": [
    "import pandas as pd"
   ]
  },
  {
   "cell_type": "markdown",
   "id": "8d691aca-188f-46ff-a0c1-6d30f5618299",
   "metadata": {},
   "source": [
    "Once we do this, we have access to the pandas functions -- we can use them by specifying the package (`pandas` or `pd`), and using the period (`.`) to say we want to use a function or object in that package.\n",
    "\n",
    "The main object we'll use for now is `DataFrame` which allows us to create an object that is a table/spreadsheet. So `DataFrame` is a table we can work with with python code.\n",
    "\n",
    "We can create a DataFrame in a number of ways.  \n",
    "\n",
    "We can convert our dictionary to a DataFrame object. This only works if each list in the dictionary has the same length:"
   ]
  },
  {
   "cell_type": "code",
   "execution_count": null,
   "id": "7fa12060-a151-4b97-9ef5-aca1eecc4c8b",
   "metadata": {},
   "outputs": [],
   "source": [
    "pd.DataFrame(lakes)"
   ]
  },
  {
   "cell_type": "markdown",
   "id": "99c02d5d-475b-4c2d-ac42-52d23f4e0d2c",
   "metadata": {},
   "source": [
    "Just like a dictionary prints out in a certain way with the `{` and the `:`, a DataFrame prints out a certain way for you to look at it. "
   ]
  },
  {
   "cell_type": "markdown",
   "id": "eedc487b-a83e-48b1-b8ab-5ca29a6d3f67",
   "metadata": {},
   "source": [
    "**Think about it**: How would you fill in your table if this was instead your dictionary holding the data? "
   ]
  },
  {
   "cell_type": "code",
   "execution_count": null,
   "id": "8ea4e7f7-2942-4268-a337-66840db7b042",
   "metadata": {},
   "outputs": [],
   "source": [
    "lakes = {'name':['Huron','Ontario','Michigan','Erie','Superior'],\n",
    "        'surface':[31700],\n",
    "        'ave_depth':[195],\n",
    "        'max_depth':[750,802],\n",
    "        'shared_canada':[ False, True, True],\n",
    "        'temperature':[48,51,54,43],\n",
    "        'native_name':['Oniatarí:io','Mich gami','Erielhonan','Gichi-gami']}"
   ]
  },
  {
   "cell_type": "markdown",
   "id": "5b718f81-3b49-46f8-a48e-4a82dea4b847",
   "metadata": {},
   "source": [
    "You can also make a data frame from a **list of lists**. \n",
    "Each list again must be the same length."
   ]
  },
  {
   "cell_type": "code",
   "execution_count": null,
   "id": "af9ba4b7-4fb5-4b63-8ae0-c799ae8e095c",
   "metadata": {},
   "outputs": [],
   "source": [
    "list_of_lists = [['Huron','Ontario','Michigan','Erie','Superior'],\n",
    "              [23000, 7340,22400,9900,31700],\n",
    "             [195,284,279,70,480],\n",
    "             [750,802,923,210,1333],\n",
    "             [True,True, False, True, True],\n",
    "                [48,51,49,54,43],\n",
    "                ['Karegnondi','Oniatarí:io','Mich gami','Erielhonan','Gichi-gami']]"
   ]
  },
  {
   "cell_type": "markdown",
   "id": "d0cc82b3-f19a-4e67-8919-26709459f655",
   "metadata": {},
   "source": [
    "**Discuss**: \n",
    "- how long is this list? \n",
    "- What are the items in this list?"
   ]
  },
  {
   "cell_type": "code",
   "execution_count": null,
   "id": "e00abcf1-9bee-4ccb-af5b-7860c8039d70",
   "metadata": {},
   "outputs": [],
   "source": [
    "pd.DataFrame(list_of_lists)"
   ]
  },
  {
   "cell_type": "markdown",
   "id": "3dcbca33-5ae7-4e0d-a9ab-4530ad68d159",
   "metadata": {},
   "source": [
    "**Discuss**: compare this to the result from using the dictionary. What is the difference?"
   ]
  },
  {
   "cell_type": "markdown",
   "id": "3111024a-4dc3-46c1-8cd6-53d9a13511d0",
   "metadata": {},
   "source": [
    "The `DataFrame` function does not just print out the pretty table. It actually puts your data into an `object` called a `DataFrame`. The pretty table is how Jupyter displays that object.\n",
    "\n",
    "**Discuss**: how would you assign the result to a variable?"
   ]
  },
  {
   "cell_type": "markdown",
   "id": "9aa27e1a-c545-42ae-924e-b5bcefe2391c",
   "metadata": {},
   "source": [
    "There are lots of other ways to make a DataFrame. We'll talk about those later.\n",
    "\n",
    "We're going to assign the result to a data frame"
   ]
  },
  {
   "cell_type": "code",
   "execution_count": null,
   "id": "b1735632-1e26-49ff-a786-161af5eff737",
   "metadata": {},
   "outputs": [],
   "source": [
    "df = pd.DataFrame(lakes)  "
   ]
  },
  {
   "cell_type": "markdown",
   "id": "c521fb81-9407-4026-b484-52b3d7c70477",
   "metadata": {},
   "source": [
    "### 2.2 Index and columns"
   ]
  },
  {
   "cell_type": "markdown",
   "id": "a2352758-9939-4833-b130-160f8c8a59f4",
   "metadata": {},
   "source": [
    "The rows and columns have **names** as you can see by the bolding in the table. The names of the rows are the lake number 0 --> 4 and the names of the columns are the features of the lakes. \n",
    "\n",
    "In pandas DataFrames ojbect, the names of the rows are called the **index** and the names of the columns are called the **columns** (I don't know why!). \n",
    "\n",
    "We  can set any column to be the index using `set_index` and give as an argument the name of the column yoou want to be the index. We'll say we want the \"names\" column. This will give you back another dataFrame where the row names(index) are set to be the lake names: "
   ]
  },
  {
   "cell_type": "code",
   "execution_count": null,
   "id": "99301df1-3e06-441f-bf15-62f921d6a737",
   "metadata": {},
   "outputs": [],
   "source": [
    "df.set_index(\"name\")"
   ]
  },
  {
   "cell_type": "markdown",
   "id": "7b16cd26-95ed-45a7-9170-9d78a52781ba",
   "metadata": {},
   "source": [
    "But we could also set any other column to be the index, though that would be weird:"
   ]
  },
  {
   "cell_type": "code",
   "execution_count": null,
   "id": "1bd8bd60-8c6d-4056-a2dd-e1f01772751d",
   "metadata": {},
   "outputs": [],
   "source": [
    "df.set_index(\"temperature\")"
   ]
  },
  {
   "cell_type": "markdown",
   "id": "a81e2071-1a62-42e6-a250-bf54c51747c9",
   "metadata": {},
   "source": [
    "Notice this didn't do anything to our original `df`, it just **returns** another data frame. \n",
    "How can we save this new data frame to another variable?"
   ]
  },
  {
   "cell_type": "code",
   "execution_count": null,
   "id": "31d60295-8d2b-4069-b49a-b9f0ecef9ca8",
   "metadata": {},
   "outputs": [],
   "source": [
    "df"
   ]
  },
  {
   "cell_type": "markdown",
   "id": "2ec4c4f6-fa0a-4d31-9e2b-813f21ef571b",
   "metadata": {},
   "source": [
    "Now, we can look at what the index and columns are they are using the DataFrame object and using the `.index` **attributes**"
   ]
  },
  {
   "cell_type": "code",
   "execution_count": null,
   "id": "3df04f3d-6a40-4f15-9211-64ed079492d8",
   "metadata": {},
   "outputs": [],
   "source": [
    "df.index"
   ]
  },
  {
   "cell_type": "code",
   "execution_count": null,
   "id": "ca8aea3e-91ac-4558-aa29-15dd0ee02195",
   "metadata": {},
   "outputs": [],
   "source": [
    "df.columns"
   ]
  },
  {
   "cell_type": "markdown",
   "id": "6f0f6953-dad7-4d79-9d8c-e5224aa885eb",
   "metadata": {},
   "source": [
    "### 2.3 `.loc[]` to access items by index and columns"
   ]
  },
  {
   "cell_type": "markdown",
   "id": "89d3169e-8165-4f5c-8383-71649898fb70",
   "metadata": {},
   "source": [
    "In Excel we can access them using \"B3\", etc. \n",
    "\n",
    "We can access the rows and the columns of the DataFrame using the special `.loc[]` operator.\n",
    "\n",
    "Inside, you can specify the ROW then the COLUMN.  You can remember this because **DataFrames <font color=red>R</font>o<font color=red>C</font>k!!**"
   ]
  },
  {
   "cell_type": "code",
   "execution_count": null,
   "id": "ea675445-56da-41f9-8978-bec929a8c6c9",
   "metadata": {},
   "outputs": [],
   "source": [
    "df_named.loc['Erie', 'surface']"
   ]
  },
  {
   "cell_type": "markdown",
   "id": "727f0349-281c-4c6a-ae23-90af3a075979",
   "metadata": {},
   "source": [
    "**Exercise 2.3.1**: use `.loc` to get the maximum depth of Lake Superior."
   ]
  },
  {
   "cell_type": "markdown",
   "id": "2ce6c153-acc0-466b-afe5-e57c0f693f56",
   "metadata": {},
   "source": [
    "**Self check**: use `.loc` to get the Native name of Lake Michigan"
   ]
  },
  {
   "cell_type": "markdown",
   "id": "042dacad-bf2e-4b9f-99ef-a5766214dcf4",
   "metadata": {},
   "source": [
    "### 2.4 Accessing a whole row or column\n",
    "You can leave off the rows or the columns in your `.loc[]` but keep the comma and it will give you back *the whole row (or column)*\n",
    "\n",
    "This single row or column is called a `series` which are basically the one-dimensional version of a DataFrame. Any time you take a slice across one row (getting multiple columns for one lake) or a slice across a column (getting multiple rows for one feature), you get a series:"
   ]
  },
  {
   "cell_type": "code",
   "execution_count": null,
   "id": "389d8f2d-add7-417e-b16e-b95173f608e5",
   "metadata": {},
   "outputs": [],
   "source": [
    "df_named.loc[,'surface']"
   ]
  },
  {
   "cell_type": "code",
   "execution_count": null,
   "id": "f793e0ad-f31d-40f7-999a-56042172581f",
   "metadata": {},
   "outputs": [],
   "source": [
    "df_named.loc['Erie',]"
   ]
  },
  {
   "cell_type": "markdown",
   "id": "4f30395b-b8d4-4ee4-8bca-9534a9a02d4f",
   "metadata": {},
   "source": [
    "**Discuss**: What will happen if I try to run the cell below and why?"
   ]
  },
  {
   "cell_type": "code",
   "execution_count": null,
   "id": "d4a16fae-ab46-4fb1-b9e6-17983af8589b",
   "metadata": {},
   "outputs": [],
   "source": [
    "df_named.loc[,'Erie']"
   ]
  },
  {
   "cell_type": "markdown",
   "id": "73d64cd1-5d3b-49c1-a64c-c9427aafad5b",
   "metadata": {},
   "source": [
    "You can also leave off the comma and it can work, but this can be a bit confusing"
   ]
  },
  {
   "cell_type": "markdown",
   "id": "ec24c5fe-3a94-4c26-9ccc-8bffc8bd141f",
   "metadata": {},
   "source": [
    "A particular specification for code is called *syntax*. The *syntax* for accessing items from a dictionary is `plant2place['Tea']`\n",
    "\n",
    "**You can access data for one *feature* (a whole column) from a data frame using dictionary syntax**\n",
    "\n",
    "**Discuss**: Compare the results of the commands below. How is the  code different? and how is the results different:"
   ]
  },
  {
   "cell_type": "code",
   "execution_count": null,
   "id": "aace0ecb-8ef7-407b-9fd9-231635c8fb00",
   "metadata": {},
   "outputs": [],
   "source": [
    "lakes['surface']"
   ]
  },
  {
   "cell_type": "code",
   "execution_count": null,
   "id": "0d2105e5-465f-4d3b-aa8d-6af5bc715f93",
   "metadata": {},
   "outputs": [],
   "source": [
    "df_named['surface']"
   ]
  },
  {
   "cell_type": "markdown",
   "id": "89b6a0ba-a200-45cc-a251-b881f5a73412",
   "metadata": {},
   "source": [
    "### 2.5 Indexing using a list\n",
    "We don't need to specify just the name of one row/column but we have many ways.  Say we are only interested in the depths info for Ontario and Michigan. We can create a list of all the rows and all the columns we are interested in:"
   ]
  },
  {
   "cell_type": "code",
   "execution_count": null,
   "id": "dfc07af3-c987-47e8-a61d-58321262bef2",
   "metadata": {},
   "outputs": [],
   "source": [
    "rows = ['Michigan', 'Ontario']\n",
    "cols = ['ave_depth', 'max_depth']"
   ]
  },
  {
   "cell_type": "markdown",
   "id": "cca8a4c4-29c1-4f68-9004-222b0acdfcd1",
   "metadata": {},
   "source": [
    "Now I will use the variables to just get these rows and columns from the DataFrame:"
   ]
  },
  {
   "cell_type": "code",
   "execution_count": null,
   "id": "96c28620-79ab-468d-9965-e66781d95191",
   "metadata": {},
   "outputs": [],
   "source": [
    "df.loc[rows, cols]"
   ]
  },
  {
   "cell_type": "markdown",
   "id": "a175da42-6b97-403e-9a02-b2d71884ec7b",
   "metadata": {},
   "source": [
    "**Exercise 2.5.1**: use list indexing to manually put the data frame in alphabetical order by lake name, and select only the native_name and shared_canada columns."
   ]
  },
  {
   "cell_type": "code",
   "execution_count": null,
   "id": "3fdf134e-a71b-4d60-a192-19d495f75638",
   "metadata": {},
   "outputs": [],
   "source": []
  },
  {
   "cell_type": "markdown",
   "id": "384114ae-85b9-4438-89d9-83522fff7941",
   "metadata": {},
   "source": [
    "### 2.6 `.iloc[]` locates by row/column number\n",
    "Sometimes you might want to get more specific and choose your own rows and columns by number, rather than just head and tail. With `iloc` you specify row number and column numbers (zero based) \n",
    "\n",
    "This follows the same rules as list position indexing, but gives you 2 dimensions to pick from."
   ]
  },
  {
   "cell_type": "code",
   "execution_count": null,
   "id": "77a870da-4c25-43f2-aade-21bc660426ab",
   "metadata": {},
   "outputs": [],
   "source": [
    "df_named.iloc[:2,3:5]"
   ]
  },
  {
   "cell_type": "markdown",
   "id": "e043a6b8-201e-4a48-8dcb-5f0eae3a9c75",
   "metadata": {},
   "source": [
    "**Exercise 2.6.1**: Look at the `df_named` and verify which rows and columns you would expect this to have given you."
   ]
  },
  {
   "cell_type": "code",
   "execution_count": null,
   "id": "bc80618a-d259-4501-8296-9a0f579de288",
   "metadata": {},
   "outputs": [],
   "source": []
  },
  {
   "cell_type": "markdown",
   "id": "23087a8f-90b7-4b55-8a7d-7993ca376212",
   "metadata": {},
   "source": [
    "## 3. Vectorized operations\n",
    "Where pandas gets really powerful is the ability to manipulate a bunch of numbers at once. \n",
    "\n"
   ]
  },
  {
   "cell_type": "code",
   "execution_count": null,
   "id": "81f525d9-1882-4b7d-9a0e-805bc24575a8",
   "metadata": {},
   "outputs": [],
   "source": [
    "df['temperature'] / 100"
   ]
  },
  {
   "cell_type": "code",
   "execution_count": null,
   "id": "3f6baa37-d98f-48d9-86c8-56ef0d20b983",
   "metadata": {},
   "outputs": [],
   "source": [
    "df_named['ave_depth'] + 1000"
   ]
  },
  {
   "cell_type": "markdown",
   "id": "5375aa6c-3d9c-42ce-9011-905a4b698b1e",
   "metadata": {},
   "source": [
    "What is an alternative way to accomplish the same task?\n",
    "\n",
    "Two reasons why this is better:\n",
    "- less code\n",
    "- much much faster with large data\n",
    "\n",
    "**3.1 Exercise**: convert the Fahrenheit temperatures to Celsius using vector operations (celsius = 5/9 * (fahrenheight - 32))"
   ]
  },
  {
   "cell_type": "code",
   "execution_count": null,
   "id": "5ff0c62b-f7b2-4d57-b241-540ae5b7fdf8",
   "metadata": {},
   "outputs": [],
   "source": []
  },
  {
   "cell_type": "markdown",
   "id": "5d6cb17c-33c0-4518-97c7-3f4631be7fce",
   "metadata": {},
   "source": [
    "### 3.1 Vectorized math between two series\n",
    "You aren't limited to a Series and a number, with 2 Series of the same size, pandas will perform the operations like you were in a for loop. So we can get for each lake, how much deeper the deepest point is than the average depth."
   ]
  },
  {
   "cell_type": "code",
   "execution_count": null,
   "id": "06f52033-31ed-49ae-ac52-764eb30bbe7b",
   "metadata": {},
   "outputs": [],
   "source": [
    "diff_depth =  df_named['max_depth'] - df_named['ave_depth']"
   ]
  },
  {
   "cell_type": "code",
   "execution_count": null,
   "id": "0229b9ef-3d6f-4b56-85d3-78068e4a8560",
   "metadata": {},
   "outputs": [],
   "source": [
    "diff_depth"
   ]
  },
  {
   "cell_type": "markdown",
   "id": "f4058628-c0d7-4609-9228-aac5e9e5d1df",
   "metadata": {},
   "source": [
    "**3.1.1 Exercise**: use vectorized math to create a Series containing a very approximate volume for each lake"
   ]
  },
  {
   "cell_type": "markdown",
   "id": "c847e836-ec88-4cb7-b125-5eb31c12e75f",
   "metadata": {},
   "source": [
    "### 3.2 Vectorized string operations\n",
    "The main ones are vectorized string concatenation\n",
    "\n",
    "Just like doing `\"Lake\" + \"Karegnondi\"` would give you a string concatenating the two, this does the same thing in a vectorized fashion-- notice that what you get is of course another Series."
   ]
  },
  {
   "cell_type": "code",
   "execution_count": null,
   "id": "7ebb344f-086d-4727-91a1-7d0ab4fea6d3",
   "metadata": {},
   "outputs": [],
   "source": [
    "\"Lake \" + df['native_name'] + \" is a lake\""
   ]
  },
  {
   "cell_type": "markdown",
   "id": "c0adf3db-265f-4b95-9092-848caec608ff",
   "metadata": {},
   "source": [
    "**Self check**: Write code to make a series that say \"The native name for Erie is Erielhonan\" etc for all lakes using vector operations."
   ]
  },
  {
   "cell_type": "markdown",
   "id": "12c20c6e-a77e-4f61-bb1b-9bbacd24d1f9",
   "metadata": {},
   "source": [
    "### 3.4 Vectorized inequalities\n",
    "Just like the other vectorized operations, we can do tests that give Boolean results for vectorized operations"
   ]
  },
  {
   "cell_type": "code",
   "execution_count": null,
   "id": "ba91377a-4795-45a1-90a8-1f00faefd40c",
   "metadata": {},
   "outputs": [],
   "source": [
    "df['temperature'] > 50"
   ]
  },
  {
   "cell_type": "code",
   "execution_count": null,
   "id": "7bd7511f-904b-4a8a-b9de-b7e91836fade",
   "metadata": {},
   "outputs": [],
   "source": [
    "df"
   ]
  },
  {
   "cell_type": "code",
   "execution_count": null,
   "id": "e0f93014-298c-4c49-bfa2-c519da983ff9",
   "metadata": {},
   "outputs": [],
   "source": [
    "df['native_name'] == \"Erielhonan\""
   ]
  },
  {
   "cell_type": "markdown",
   "id": "8a82d9d7-ef4d-444f-961c-c8f698409ee0",
   "metadata": {},
   "source": [
    "Just like in 3.2, this can be between 2 Series rather than comparing each item to the same thing"
   ]
  },
  {
   "cell_type": "code",
   "execution_count": null,
   "id": "d55ea44d-5ac7-49b0-8e4c-c426deab9fc5",
   "metadata": {},
   "outputs": [],
   "source": [
    "df['ave_depth'] < df['max_depth']"
   ]
  },
  {
   "cell_type": "markdown",
   "id": "b2ce8c6d-7439-4557-8726-873d9217f9ca",
   "metadata": {},
   "source": [
    "**Exercise 3.4.1**: Write one line of code  that finds out if each lake's volume is more than 1 million cubic feet "
   ]
  },
  {
   "cell_type": "markdown",
   "id": "7ad7552a-1e07-4458-8056-ac5887fd87ec",
   "metadata": {},
   "source": [
    "### 3.5 Vectorized Boolean operations.\n",
    "\n",
    "There are different operators for Series and DataFrame Booleans versus regular ones. These will operate on the whole Series at once:\n",
    "- `and` --> `&`\n",
    "- `or` --> `|`\n",
    "- `not` --> `~`\n"
   ]
  },
  {
   "cell_type": "markdown",
   "id": "e6b13a98-a32a-4674-812c-a082f1fb35bc",
   "metadata": {},
   "source": [
    "To flip True and False (the `not` operation) you must use the `~`:"
   ]
  },
  {
   "cell_type": "code",
   "execution_count": null,
   "id": "c300e8d7-cbce-4a99-a2ad-6dbd75f0a85d",
   "metadata": {},
   "outputs": [],
   "source": [
    "~df['shared_canada']"
   ]
  },
  {
   "cell_type": "markdown",
   "id": "4c9ad748-e8f5-412f-88fb-65543db8c23e",
   "metadata": {},
   "source": [
    "To combine two inequalities you must put the inequality in parentheses like below! Common source of errors!"
   ]
  },
  {
   "cell_type": "code",
   "execution_count": null,
   "id": "7969d80c-0002-48a8-b740-7f316a976783",
   "metadata": {},
   "outputs": [],
   "source": [
    "df['shared_canada'] & (df['temperature'] < 50)"
   ]
  },
  {
   "cell_type": "code",
   "execution_count": null,
   "id": "9fb9e25a-dff7-4633-9fa4-bf88931c67ce",
   "metadata": {},
   "outputs": [],
   "source": [
    "df['shared_canada'] | (df['temperature'] < 50)"
   ]
  },
  {
   "cell_type": "markdown",
   "id": "ce86c2fc-2437-4728-979a-2c50cfaf8976",
   "metadata": {},
   "source": [
    "**Self check**: Use Boolean operations to get for all lakes a Boolean Series indicating lakes that are shared with Canada and have average depth more than 200 feet."
   ]
  },
  {
   "cell_type": "markdown",
   "id": "a267ff70-6b28-44cb-8e08-6701489beaae",
   "metadata": {},
   "source": [
    "## 4. Dimension/shape\n",
    "You can get the number of rows and columns by getting the `.shape` attribute. \n",
    "\n",
    "Remember it's always Row then Column because **DataFrames <font color=red>R</font>o<font color=red>C</font>k!!**"
   ]
  },
  {
   "cell_type": "code",
   "execution_count": null,
   "id": "d923ab6d-ab43-4548-92e3-503cbc28348f",
   "metadata": {},
   "outputs": [],
   "source": [
    "df.shape"
   ]
  },
  {
   "cell_type": "markdown",
   "id": "05f9f240-67b5-4161-868c-03c4bade46ff",
   "metadata": {},
   "source": [
    "What do you expect the shape of a series to be? How many rows and columns do you expect in the variable `aseries` below?"
   ]
  },
  {
   "cell_type": "code",
   "execution_count": null,
   "id": "e7b5d27e-bf4e-4444-a2c0-cb3b21c93c73",
   "metadata": {},
   "outputs": [],
   "source": [
    "aseries = df['shared_canada']\n",
    "aseries.shape"
   ]
  },
  {
   "cell_type": "code",
   "execution_count": null,
   "id": "e9668ee6-5538-4578-a437-1a7139518c34",
   "metadata": {},
   "outputs": [],
   "source": []
  }
 ],
 "metadata": {
  "kernelspec": {
   "display_name": "Python 3.8.8 ('base')",
   "language": "python",
   "name": "python3"
  },
  "language_info": {
   "codemirror_mode": {
    "name": "ipython",
    "version": 3
   },
   "file_extension": ".py",
   "mimetype": "text/x-python",
   "name": "python",
   "nbconvert_exporter": "python",
   "pygments_lexer": "ipython3",
   "version": "3.8.8"
  },
  "vscode": {
   "interpreter": {
    "hash": "e595df4329fcf3a3af43d6766bc23e541941e8ce9ea758c4bedfcbd321d7c58e"
   }
  }
 },
 "nbformat": 4,
 "nbformat_minor": 5
}
