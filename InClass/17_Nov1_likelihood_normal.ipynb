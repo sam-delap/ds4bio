{
 "cells": [
  {
   "cell_type": "markdown",
   "id": "72aa1f66-429b-4a21-9de9-6f5e4a836b75",
   "metadata": {},
   "source": [
    "## Learning objectives\n",
    "- Understand how the parameter of the model influences the probabilities of seeing different values from a model.\n",
    "- Predict how models with different probability of observations taking on certain values will generate different data\n",
    "- Implement the principle of maximum likelihood to find the best model.\n",
    "- Describe how "
   ]
  },
  {
   "cell_type": "code",
   "execution_count": 1,
   "id": "f81db392-91bf-452f-ab09-ca71711f9758",
   "metadata": {},
   "outputs": [
    {
     "name": "stderr",
     "output_type": "stream",
     "text": [
      "c:\\Users\\sjcde\\anaconda3\\lib\\site-packages\\numpy\\_distributor_init.py:30: UserWarning: loaded more than 1 DLL from .libs:\n",
      "c:\\Users\\sjcde\\anaconda3\\lib\\site-packages\\numpy\\.libs\\libopenblas.FB5AE2TYXYH2IJRDKGDGQ3XBKLKTF43H.gfortran-win_amd64.dll\n",
      "c:\\Users\\sjcde\\anaconda3\\lib\\site-packages\\numpy\\.libs\\libopenblas.JPIJNSWNNAN3CE6LLI5FWSPHUT2VXMTH.gfortran-win_amd64.dll\n",
      "  warnings.warn(\"loaded more than 1 DLL from .libs:\"\n"
     ]
    }
   ],
   "source": [
    "## some imports...\n",
    "import pandas as pd\n",
    "import numpy as np\n",
    "import seaborn as sns\n",
    "sns.set_theme()\n",
    "from scipy.stats import bernoulli"
   ]
  },
  {
   "cell_type": "markdown",
   "id": "b7fc9854-b197-4b93-a9d7-2a23cb9f5e05",
   "metadata": {},
   "source": [
    "## 1.1 From probability to likelihood\n",
    "Note that this gave us the probility of each observation. We want to get an overall score of how close our model to our data so we can automatically pick a good model.  This is called the **likelihood** of seeing our data, given that model. The models with the highest likelihood is the best model."
   ]
  },
  {
   "cell_type": "code",
   "execution_count": 2,
   "id": "5ba795a3-2403-4310-88fb-07796bb0a82f",
   "metadata": {},
   "outputs": [],
   "source": [
    "model1 = bernoulli(p=0.05)"
   ]
  },
  {
   "cell_type": "code",
   "execution_count": 3,
   "id": "f35e61e1-b9d1-4254-b1bd-c5cd86dcd2a5",
   "metadata": {},
   "outputs": [],
   "source": [
    "model2 = bernoulli(p=0.9)"
   ]
  },
  {
   "cell_type": "markdown",
   "id": "bc7f112f-93d9-4464-be5b-d4c2ea230032",
   "metadata": {},
   "source": [
    "For a single observation `[1]` we know the probability of getting that observation was 0.05 from `model1` and 0.9 from `model2`. That's how **likely** each model is to create this one observation.\n",
    "\n",
    "Now let's go to multiple observations."
   ]
  },
  {
   "cell_type": "markdown",
   "id": "5816c995-2fb8-4d6b-a2df-7cfc0c1281d6",
   "metadata": {},
   "source": [
    "(Recap) **Exercise 1.2**: Which model above is more likely for each of the following data sets (each containing 5 observations)?\n",
    "1. `[0, 0, 1, 0, 0]`\n",
    "2. `[1, 1, 1, 1, 0]`\n",
    "  \n",
    "As we discussed `model1` is more likely for 1 and `model2` for 2. Because a p=0.05 model has a probability of 0.05 of generating 1 and 0.95 of generating a 0.\n",
    "\n",
    "But we want the computer to automatically be able to pick the best model, not us! Therefore we make a score, that says: when your overall observations are *more likely to have come from this model vs other models* then this most likely model is the best one.\n",
    "\n",
    "A bit of math: feel free to ignore: BASICALLY with independent observations, the likelihood of observing all of them is the product of their individual probabilities.. so we would like to multiply together probabilities to get this overall value. So for data set 1 `[0, 0, 1, 0, 0]`:\n",
    "\n",
    "$$ likelihood = p(0 | model1) \\times p(0 | model1) \\times p(1 | model1) \\times p(0 | model1) \\times p(0 | model1 )$$\n",
    "\n",
    "But, with many observations this can get very small when you multiply together many things that are under 1. THe rules of log are: $log(A \\times B) = log(A) + log(B)$. So we log them and add it up to get this overall likleihood."
   ]
  },
  {
   "cell_type": "markdown",
   "id": "bc6aa7a5-6e6e-4c86-9b3c-91c74e805717",
   "metadata": {},
   "source": [
    "\n",
    "Therefore, we are going to use the *logarithm, summed across all observations* to get an overall picture of the closeness of the model and the data."
   ]
  },
  {
   "cell_type": "markdown",
   "id": "d29df045-6c8f-44d9-b1fe-9e06df4f6dd3",
   "metadata": {},
   "source": [
    "**Exercise 1.1.1**: Make a plot comparing 100 values between 0 and 1 (for probilities from the pmf function) versus their logs. Below is how your take the log. Then, interpret the plot. How do the axes compare?"
   ]
  },
  {
   "cell_type": "code",
   "execution_count": 4,
   "id": "e2a795ca-2b66-4dcb-ac05-efb50356b50e",
   "metadata": {},
   "outputs": [
    {
     "data": {
      "text/plain": [
       "<seaborn.axisgrid.FacetGrid at 0x1e492134b50>"
      ]
     },
     "execution_count": 4,
     "metadata": {},
     "output_type": "execute_result"
    },
    {
     "data": {
      "image/png": "[encoded data removed]",
      "text/plain": [
       "<Figure size 360x360 with 1 Axes>"
      ]
     },
     "metadata": {
      "needs_background": "light"
     },
     "output_type": "display_data"
    }
   ],
   "source": [
    "p = np.linspace(.01,1,100)\n",
    "for_plot = pd.DataFrame({'p':p,\n",
    "                         'log': np.log(p)})\n",
    "sns.relplot(data=for_plot, x = 'p', y='log')"
   ]
  },
  {
   "cell_type": "markdown",
   "id": "38cd95ce-90c7-4404-bfbf-1f6f65be2585",
   "metadata": {},
   "source": [
    "**Exercise 1.1.2**: **without doing math or code** describe which model is *more likely* (log sum of the probabilities) by considering the steps:\n",
    "\n",
    "1. Get probability of each observation\n",
    "2. Get the log of each probability (refer to the plot above)\n",
    "3. Add those up\n",
    "\n",
    "For which model should the likelihood value be closer to zero? "
   ]
  },
  {
   "cell_type": "code",
   "execution_count": null,
   "id": "2348d69d-643f-4aee-bc6f-ff8ce338ecd3",
   "metadata": {},
   "outputs": [],
   "source": []
  },
  {
   "cell_type": "markdown",
   "id": "453a7731-12d2-4d29-93d2-ad5d204d97e9",
   "metadata": {},
   "source": [
    "## Homework\n",
    "Here I'm creating 20 data sets (samples), each containing 30 observations, from a bernoulli model with p = 0.8.\n",
    " \n",
    "```\n",
    "list_of_bernoulli_samples = []\n",
    "bern_p8 = bernoulli(p = 0.8 )\n",
    "for i in range(20):\n",
    "    list_of_bernoulli_samples.append( bernoulli.rvs(size=30) )\n",
    "```\n",
    "So this is a list of lists-- every item in this list is 30 samples from a bernoulli.\n",
    " \n",
    "Write code to use this data\n",
    "\n",
    "A. Calculate the likelihood for the first sample under 4 different Bernoulli models: p = .2, p=.4, p=.6, p=.8 (remember, likelihood is sum of the logs of the probabilities of each of hte observations). Describe the likelihood results. Is it what you expect? Which is the most likely model?\n",
    " \n",
    "B. For each of the 4 different models, calculate the likelihood for all 20 samlpes, and make a histogram of the distribution of the likelihoods  (4 separate histograms is ok, nothing fancy) Explain/interpret the results. What is different? Which model is most likely and how ccan you see that in the histograms?"
   ]
  },
  {
   "cell_type": "markdown",
   "id": "3088a95e-8fa3-4d1e-9097-933492c42532",
   "metadata": {},
   "source": [
    "**Exercise 1.1.3**: You can copy over some of your code from the previous notebook Exercise 2.2.3. But change it to use the maximium likelihood to find the best model. Plot the value of p versus the likelihood."
   ]
  },
  {
   "cell_type": "code",
   "execution_count": null,
   "id": "31d73791-d835-4c4e-9713-441719468412",
   "metadata": {},
   "outputs": [],
   "source": []
  },
  {
   "cell_type": "markdown",
   "id": "ac729a83-1189-4db0-b7ab-b75077b748b4",
   "metadata": {},
   "source": [
    "# 2. Normal (Gaussian) model for number data\n",
    "Just like with the Binary data and the Bernoulli, there are built-in models for number data.\n",
    "\n",
    "The bell curve aka Normal aka Guassian model is good for modeling data that is:\n",
    "- numbers\n",
    "- most of them are close to the mean\n",
    "- distribution is symmetricl"
   ]
  },
  {
   "cell_type": "code",
   "execution_count": 6,
   "id": "9643d5fb-90c6-470f-b858-a556f6c4eb3a",
   "metadata": {},
   "outputs": [
    {
     "data": {
      "text/plain": [
       "<seaborn.axisgrid.FacetGrid at 0x1e494227ac0>"
      ]
     },
     "execution_count": 6,
     "metadata": {},
     "output_type": "execute_result"
    },
    {
     "data": {
      "image/png": "[encoded data removed]",
      "text/plain": [
       "<Figure size 360x360 with 1 Axes>"
      ]
     },
     "metadata": {
      "needs_background": "light"
     },
     "output_type": "display_data"
    }
   ],
   "source": [
    "geno = pd.read_table(\"../data/arabmagic/arabmagic_geno.csv\", sep=\",\",skiprows=3,index_col=0)\n",
    "pheno = pd.read_table(\"../data/arabmagic/arabmagic_pheno.csv\", sep=\",\",skiprows=3,index_col=0)\n",
    "\n",
    "sns.displot(pheno,x='fruit_length')"
   ]
  },
  {
   "cell_type": "markdown",
   "id": "80b9caab-3fed-4382-a8f5-53c5be90ee96",
   "metadata": {},
   "source": [
    "Like our fruit lengths-- We discussed  that the data has an obvious \"most common\" value (around 15) and very high values (near 20), etc. Some values are more *probable* or *likely* than others."
   ]
  },
  {
   "cell_type": "markdown",
   "id": "25a2117c-5085-4f88-94aa-674275cd735a",
   "metadata": {},
   "source": [
    "Just like the Bernoulli we can import the `norm` (normal) and use it to generate observations. \n",
    "\n",
    "And just like the Bernoulli we can tell it to use  particular **parameters**. The first one we'll learn is called `loc` which specifies the mean. The default is 0:"
   ]
  },
  {
   "cell_type": "code",
   "execution_count": 7,
   "id": "424c6e81-4621-426c-9700-c277f3faf8d3",
   "metadata": {},
   "outputs": [
    {
     "data": {
      "text/plain": [
       "0.9401915628954681"
      ]
     },
     "execution_count": 7,
     "metadata": {},
     "output_type": "execute_result"
    }
   ],
   "source": [
    "from scipy.stats import norm\n",
    "norm_loc0 = norm(loc = 0) ## make a model with loc=0 (this part is redundant because loc = 0 is the default)\n",
    "norm_loc0.rvs()"
   ]
  },
  {
   "cell_type": "markdown",
   "id": "f8fe9c81-1e96-41b8-b9bc-1e0ab11977aa",
   "metadata": {},
   "source": [
    "As with before, the size argument lets us generate different amounts of observations"
   ]
  },
  {
   "cell_type": "code",
   "execution_count": 8,
   "id": "6c0aa487-9d81-451a-a180-39853fc897f3",
   "metadata": {},
   "outputs": [
    {
     "data": {
      "text/plain": [
       "array([ 1.89265595,  1.48645318, -0.52004384,  0.69776122,  0.73568534])"
      ]
     },
     "execution_count": 8,
     "metadata": {},
     "output_type": "execute_result"
    }
   ],
   "source": [
    "norm.rvs( size=5 )"
   ]
  },
  {
   "cell_type": "markdown",
   "id": "b07ecec6-d15e-4c05-adea-95ef282b4ddc",
   "metadata": {},
   "source": [
    "I'm going to make another model, with another `loc`."
   ]
  },
  {
   "cell_type": "code",
   "execution_count": 9,
   "id": "807a8251-dbc7-4d91-8c08-b2e9cfa7c621",
   "metadata": {},
   "outputs": [
    {
     "data": {
      "text/plain": [
       "10.684512518574184"
      ]
     },
     "execution_count": 9,
     "metadata": {},
     "output_type": "execute_result"
    }
   ],
   "source": [
    "norm_loc10 = norm(loc = 10) # make a model\n",
    "norm_loc10.rvs() # use it to generate"
   ]
  },
  {
   "cell_type": "markdown",
   "id": "ab41d631-36c3-4a86-919b-33e0c1121853",
   "metadata": {},
   "source": [
    "What do you notice is different if I generate 5 observations from the `loc=10` model:"
   ]
  },
  {
   "cell_type": "code",
   "execution_count": 10,
   "id": "c2b1d4cd-974f-4aa2-9704-70ee756c5c34",
   "metadata": {},
   "outputs": [
    {
     "data": {
      "text/plain": [
       "array([ 9.34995205,  9.92175103, 11.51015282, 11.06198922, 10.02244575])"
      ]
     },
     "execution_count": 10,
     "metadata": {},
     "output_type": "execute_result"
    }
   ],
   "source": [
    "norm_loc10.rvs( size=5 )"
   ]
  },
  {
   "cell_type": "markdown",
   "id": "6ae6f0b0-551d-464d-aad1-12ed1b516912",
   "metadata": {},
   "source": [
    "**Exercise 2.1**: Generate 1000 observations of the distribution under models with different values for `loc` (such as, -5, 1, 100). Plot each in a histogram. What do you notice?"
   ]
  },
  {
   "cell_type": "code",
   "execution_count": 13,
   "id": "2b5f8bac",
   "metadata": {},
   "outputs": [
    {
     "data": {
      "text/plain": [
       "<seaborn.axisgrid.FacetGrid at 0x1e49461ddc0>"
      ]
     },
     "execution_count": 13,
     "metadata": {},
     "output_type": "execute_result"
    },
    {
     "data": {
      "image/png": "[encoded data removed]",
      "text/plain": [
       "<Figure size 360x360 with 1 Axes>"
      ]
     },
     "metadata": {
      "needs_background": "light"
     },
     "output_type": "display_data"
    }
   ],
   "source": [
    "num=100\n",
    "model = norm(loc=num)\n",
    "data = model.rvs(size=1000)\n",
    "\n",
    "sns.displot(data=data)"
   ]
  },
  {
   "cell_type": "markdown",
   "id": "e04635c9-6451-4d29-9253-497d605858db",
   "metadata": {},
   "source": [
    "**Exercise 2.2 (think & discuss)**: Look at the histogram of the fruit_length data. What model could you make that could generate observations that look like that:\n",
    "- Would you use Bernoulli or normal? Why?\n",
    "- What do you think would be a good `loc` to make a model of the fruit_length?\n",
    "- Plot a histogram of bolting days. Would a normal model be appropriate for bolting days?"
   ]
  },
  {
   "cell_type": "markdown",
   "id": "c7fb73c1-b8fb-4599-bfd7-f3087036117b",
   "metadata": {},
   "source": [
    "Just like with the Bernoulli, some values are more *probable* than other values for a given model. Values that are more probable are more likely to be generated.\n",
    "\n",
    "Just like we had `pmf` for the Bernoulli, we can calculate the probability of observing any particular value from a Normal model using `pdf`."
   ]
  },
  {
   "cell_type": "code",
   "execution_count": 14,
   "id": "3bdc8b82-792b-4e71-81dd-8a62d7b48f4b",
   "metadata": {},
   "outputs": [
    {
     "data": {
      "text/plain": [
       "array([0.05399097, 0.39894228, 0.24197072])"
      ]
     },
     "execution_count": 14,
     "metadata": {},
     "output_type": "execute_result"
    }
   ],
   "source": [
    "norm_loc0.pdf([-2, 0, 1] )"
   ]
  },
  {
   "cell_type": "markdown",
   "id": "210d8989-b375-40f4-b535-449ace4f9027",
   "metadata": {},
   "source": [
    "**Exercise 2.3** What would you guess would be an observation with a **high probability** of coming from `loc=10`? And from `loc=0`"
   ]
  },
  {
   "cell_type": "code",
   "execution_count": 15,
   "id": "8e3acb75-44c7-4c74-9c10-896faf3ac810",
   "metadata": {},
   "outputs": [],
   "source": [
    "high_loc10 = 10.1\n",
    "high_loc0 = 0.1"
   ]
  },
  {
   "cell_type": "markdown",
   "id": "390655ee-bfa1-49b6-b93a-fc859b9b65f2",
   "metadata": {},
   "source": [
    "Try running the following cells and see which has  higher probability for the first:"
   ]
  },
  {
   "cell_type": "code",
   "execution_count": 16,
   "id": "e3533932-ca0e-4ee2-a42a-daef855d81a2",
   "metadata": {},
   "outputs": [
    {
     "data": {
      "text/plain": [
       "2.8165665442762424e-23"
      ]
     },
     "execution_count": 16,
     "metadata": {},
     "output_type": "execute_result"
    }
   ],
   "source": [
    "norm_loc0.pdf(high_loc10)"
   ]
  },
  {
   "cell_type": "code",
   "execution_count": 17,
   "id": "ed7d8fbd-583c-4b6b-8843-ee9c1e7040d7",
   "metadata": {},
   "outputs": [
    {
     "data": {
      "text/plain": [
       "0.3969525474770118"
      ]
     },
     "execution_count": 17,
     "metadata": {},
     "output_type": "execute_result"
    }
   ],
   "source": [
    "norm_loc10.pdf(high_loc10)"
   ]
  },
  {
   "cell_type": "markdown",
   "id": "11be90d4-8e51-455d-8ba6-507c2a0edbf9",
   "metadata": {},
   "source": [
    "And for the second: "
   ]
  },
  {
   "cell_type": "code",
   "execution_count": 18,
   "id": "95d1abe5-525d-4bd0-b2ca-9b1f6eeb7e2f",
   "metadata": {},
   "outputs": [
    {
     "data": {
      "text/plain": [
       "0.3969525474770118"
      ]
     },
     "execution_count": 18,
     "metadata": {},
     "output_type": "execute_result"
    }
   ],
   "source": [
    "norm_loc0.pdf(high_loc0)"
   ]
  },
  {
   "cell_type": "code",
   "execution_count": 19,
   "id": "c5b7ce72-520a-4a9f-98e6-3da7b7dc6397",
   "metadata": {},
   "outputs": [
    {
     "data": {
      "text/plain": [
       "2.0811768202028245e-22"
      ]
     },
     "execution_count": 19,
     "metadata": {},
     "output_type": "execute_result"
    }
   ],
   "source": [
    "norm_loc10.pdf(high_loc0)"
   ]
  },
  {
   "cell_type": "markdown",
   "id": "f44f8c0f-cbf1-4e4c-82ff-ba03623e9df6",
   "metadata": {},
   "source": [
    "**Exercise 2.4**: *A*. Make a plot for 100 evenly spaced values of an observation for `norm_loc10` spanning \"pretty low\" to \"pretty high\". Calculate the probability of each one (no for loop needed!). Plot the values on x-axis and their probability on the y-axis."
   ]
  },
  {
   "cell_type": "code",
   "execution_count": 20,
   "id": "65a3977a-9878-4bf2-8633-fd2b3481be17",
   "metadata": {},
   "outputs": [
    {
     "data": {
      "text/plain": [
       "<seaborn.axisgrid.FacetGrid at 0x1e494611970>"
      ]
     },
     "execution_count": 20,
     "metadata": {},
     "output_type": "execute_result"
    },
    {
     "data": {
      "image/png": "[encoded data removed]",
      "text/plain": [
       "<Figure size 360x360 with 1 Axes>"
      ]
     },
     "metadata": {
      "needs_background": "light"
     },
     "output_type": "display_data"
    }
   ],
   "source": [
    "vals = np.linspace(5, 15, 100)\n",
    "probs = norm_loc10.pdf(vals)\n",
    "\n",
    "prob_df = pd.DataFrame({'value':vals, 'probability':probs})\n",
    "\n",
    "sns.relplot(data=prob_df, x='value', y='probability')"
   ]
  },
  {
   "cell_type": "markdown",
   "id": "6e0318fe-0f18-4e00-8eb1-b4184a49262e",
   "metadata": {},
   "source": [
    "*B*. Generate 1000 values from this model and plot a histogram with `stat=\"density\"` to get fractions. Compare this histogram to your probabilities from A. Write one sentence summarizing what you observe."
   ]
  },
  {
   "cell_type": "code",
   "execution_count": 21,
   "id": "27455f41-d00d-4fb1-9022-14c450ba5216",
   "metadata": {},
   "outputs": [
    {
     "data": {
      "text/plain": [
       "<seaborn.axisgrid.FacetGrid at 0x1e494646f70>"
      ]
     },
     "execution_count": 21,
     "metadata": {},
     "output_type": "execute_result"
    },
    {
     "data": {
      "image/png": "[encoded data removed]",
      "text/plain": [
       "<Figure size 360x360 with 1 Axes>"
      ]
     },
     "metadata": {
      "needs_background": "light"
     },
     "output_type": "display_data"
    }
   ],
   "source": [
    "samples = norm_loc10.rvs(1000)\n",
    "\n",
    "sns.displot(data=samples, stat='density')"
   ]
  },
  {
   "cell_type": "markdown",
   "id": "5bdaa3b3-9ae4-4d38-a8cf-ed2d2e9b6a74",
   "metadata": {},
   "source": [
    "**Exercise 2.5**: *A*. Generate the data from your chosen model from 2.2 for the same number of plants as there is in the real data. Fill in the line below to make a data frame containing your real and generated data. "
   ]
  },
  {
   "cell_type": "code",
   "execution_count": 22,
   "id": "1db55925-2e87-4fe4-91fb-ce6ecab20d4b",
   "metadata": {},
   "outputs": [
    {
     "ename": "ValueError",
     "evalue": "All arrays must be of the same length",
     "output_type": "error",
     "traceback": [
      "\u001b[1;31m---------------------------------------------------------------------------\u001b[0m",
      "\u001b[1;31mValueError\u001b[0m                                Traceback (most recent call last)",
      "\u001b[1;32m<ipython-input-22-8f11b1874451>\u001b[0m in \u001b[0;36m<module>\u001b[1;34m\u001b[0m\n\u001b[0;32m      5\u001b[0m \u001b[0mgen\u001b[0m \u001b[1;33m=\u001b[0m \u001b[1;33m[\u001b[0m\u001b[1;34m'generated'\u001b[0m\u001b[1;33m]\u001b[0m\u001b[1;33m*\u001b[0m\u001b[0mpheno\u001b[0m\u001b[1;33m.\u001b[0m\u001b[0mshape\u001b[0m\u001b[1;33m[\u001b[0m\u001b[1;36m0\u001b[0m\u001b[1;33m]\u001b[0m\u001b[1;33m\u001b[0m\u001b[1;33m\u001b[0m\u001b[0m\n\u001b[0;32m      6\u001b[0m \u001b[0mis_real\u001b[0m \u001b[1;33m=\u001b[0m \u001b[0mreal\u001b[0m \u001b[1;33m+\u001b[0m \u001b[0mgen\u001b[0m\u001b[1;33m\u001b[0m\u001b[1;33m\u001b[0m\u001b[0m\n\u001b[1;32m----> 7\u001b[1;33m toplot = pd.DataFrame({'fruit_length':lengths,\n\u001b[0m\u001b[0;32m      8\u001b[0m                        \u001b[1;34m'is_real'\u001b[0m\u001b[1;33m:\u001b[0m \u001b[0mis_real\u001b[0m\u001b[1;33m\u001b[0m\u001b[1;33m\u001b[0m\u001b[0m\n\u001b[0;32m      9\u001b[0m                       })\n",
      "\u001b[1;32mc:\\Users\\sjcde\\anaconda3\\lib\\site-packages\\pandas\\core\\frame.py\u001b[0m in \u001b[0;36m__init__\u001b[1;34m(self, data, index, columns, dtype, copy)\u001b[0m\n\u001b[0;32m    634\u001b[0m         \u001b[1;32melif\u001b[0m \u001b[0misinstance\u001b[0m\u001b[1;33m(\u001b[0m\u001b[0mdata\u001b[0m\u001b[1;33m,\u001b[0m \u001b[0mdict\u001b[0m\u001b[1;33m)\u001b[0m\u001b[1;33m:\u001b[0m\u001b[1;33m\u001b[0m\u001b[1;33m\u001b[0m\u001b[0m\n\u001b[0;32m    635\u001b[0m             \u001b[1;31m# GH#38939 de facto copy defaults to False only in non-dict cases\u001b[0m\u001b[1;33m\u001b[0m\u001b[1;33m\u001b[0m\u001b[1;33m\u001b[0m\u001b[0m\n\u001b[1;32m--> 636\u001b[1;33m             \u001b[0mmgr\u001b[0m \u001b[1;33m=\u001b[0m \u001b[0mdict_to_mgr\u001b[0m\u001b[1;33m(\u001b[0m\u001b[0mdata\u001b[0m\u001b[1;33m,\u001b[0m \u001b[0mindex\u001b[0m\u001b[1;33m,\u001b[0m \u001b[0mcolumns\u001b[0m\u001b[1;33m,\u001b[0m \u001b[0mdtype\u001b[0m\u001b[1;33m=\u001b[0m\u001b[0mdtype\u001b[0m\u001b[1;33m,\u001b[0m \u001b[0mcopy\u001b[0m\u001b[1;33m=\u001b[0m\u001b[0mcopy\u001b[0m\u001b[1;33m,\u001b[0m \u001b[0mtyp\u001b[0m\u001b[1;33m=\u001b[0m\u001b[0mmanager\u001b[0m\u001b[1;33m)\u001b[0m\u001b[1;33m\u001b[0m\u001b[1;33m\u001b[0m\u001b[0m\n\u001b[0m\u001b[0;32m    637\u001b[0m         \u001b[1;32melif\u001b[0m \u001b[0misinstance\u001b[0m\u001b[1;33m(\u001b[0m\u001b[0mdata\u001b[0m\u001b[1;33m,\u001b[0m \u001b[0mma\u001b[0m\u001b[1;33m.\u001b[0m\u001b[0mMaskedArray\u001b[0m\u001b[1;33m)\u001b[0m\u001b[1;33m:\u001b[0m\u001b[1;33m\u001b[0m\u001b[1;33m\u001b[0m\u001b[0m\n\u001b[0;32m    638\u001b[0m             \u001b[1;32mimport\u001b[0m \u001b[0mnumpy\u001b[0m\u001b[1;33m.\u001b[0m\u001b[0mma\u001b[0m\u001b[1;33m.\u001b[0m\u001b[0mmrecords\u001b[0m \u001b[1;32mas\u001b[0m \u001b[0mmrecords\u001b[0m\u001b[1;33m\u001b[0m\u001b[1;33m\u001b[0m\u001b[0m\n",
      "\u001b[1;32mc:\\Users\\sjcde\\anaconda3\\lib\\site-packages\\pandas\\core\\internals\\construction.py\u001b[0m in \u001b[0;36mdict_to_mgr\u001b[1;34m(data, index, columns, dtype, typ, copy)\u001b[0m\n\u001b[0;32m    500\u001b[0m         \u001b[1;31m# TODO: can we get rid of the dt64tz special case above?\u001b[0m\u001b[1;33m\u001b[0m\u001b[1;33m\u001b[0m\u001b[1;33m\u001b[0m\u001b[0m\n\u001b[0;32m    501\u001b[0m \u001b[1;33m\u001b[0m\u001b[0m\n\u001b[1;32m--> 502\u001b[1;33m     \u001b[1;32mreturn\u001b[0m \u001b[0marrays_to_mgr\u001b[0m\u001b[1;33m(\u001b[0m\u001b[0marrays\u001b[0m\u001b[1;33m,\u001b[0m \u001b[0mcolumns\u001b[0m\u001b[1;33m,\u001b[0m \u001b[0mindex\u001b[0m\u001b[1;33m,\u001b[0m \u001b[0mdtype\u001b[0m\u001b[1;33m=\u001b[0m\u001b[0mdtype\u001b[0m\u001b[1;33m,\u001b[0m \u001b[0mtyp\u001b[0m\u001b[1;33m=\u001b[0m\u001b[0mtyp\u001b[0m\u001b[1;33m,\u001b[0m \u001b[0mconsolidate\u001b[0m\u001b[1;33m=\u001b[0m\u001b[0mcopy\u001b[0m\u001b[1;33m)\u001b[0m\u001b[1;33m\u001b[0m\u001b[1;33m\u001b[0m\u001b[0m\n\u001b[0m\u001b[0;32m    503\u001b[0m \u001b[1;33m\u001b[0m\u001b[0m\n\u001b[0;32m    504\u001b[0m \u001b[1;33m\u001b[0m\u001b[0m\n",
      "\u001b[1;32mc:\\Users\\sjcde\\anaconda3\\lib\\site-packages\\pandas\\core\\internals\\construction.py\u001b[0m in \u001b[0;36marrays_to_mgr\u001b[1;34m(arrays, columns, index, dtype, verify_integrity, typ, consolidate)\u001b[0m\n\u001b[0;32m    118\u001b[0m         \u001b[1;31m# figure out the index, if necessary\u001b[0m\u001b[1;33m\u001b[0m\u001b[1;33m\u001b[0m\u001b[1;33m\u001b[0m\u001b[0m\n\u001b[0;32m    119\u001b[0m         \u001b[1;32mif\u001b[0m \u001b[0mindex\u001b[0m \u001b[1;32mis\u001b[0m \u001b[1;32mNone\u001b[0m\u001b[1;33m:\u001b[0m\u001b[1;33m\u001b[0m\u001b[1;33m\u001b[0m\u001b[0m\n\u001b[1;32m--> 120\u001b[1;33m             \u001b[0mindex\u001b[0m \u001b[1;33m=\u001b[0m \u001b[0m_extract_index\u001b[0m\u001b[1;33m(\u001b[0m\u001b[0marrays\u001b[0m\u001b[1;33m)\u001b[0m\u001b[1;33m\u001b[0m\u001b[1;33m\u001b[0m\u001b[0m\n\u001b[0m\u001b[0;32m    121\u001b[0m         \u001b[1;32melse\u001b[0m\u001b[1;33m:\u001b[0m\u001b[1;33m\u001b[0m\u001b[1;33m\u001b[0m\u001b[0m\n\u001b[0;32m    122\u001b[0m             \u001b[0mindex\u001b[0m \u001b[1;33m=\u001b[0m \u001b[0mensure_index\u001b[0m\u001b[1;33m(\u001b[0m\u001b[0mindex\u001b[0m\u001b[1;33m)\u001b[0m\u001b[1;33m\u001b[0m\u001b[1;33m\u001b[0m\u001b[0m\n",
      "\u001b[1;32mc:\\Users\\sjcde\\anaconda3\\lib\\site-packages\\pandas\\core\\internals\\construction.py\u001b[0m in \u001b[0;36m_extract_index\u001b[1;34m(data)\u001b[0m\n\u001b[0;32m    672\u001b[0m             \u001b[0mlengths\u001b[0m \u001b[1;33m=\u001b[0m \u001b[0mlist\u001b[0m\u001b[1;33m(\u001b[0m\u001b[0mset\u001b[0m\u001b[1;33m(\u001b[0m\u001b[0mraw_lengths\u001b[0m\u001b[1;33m)\u001b[0m\u001b[1;33m)\u001b[0m\u001b[1;33m\u001b[0m\u001b[1;33m\u001b[0m\u001b[0m\n\u001b[0;32m    673\u001b[0m             \u001b[1;32mif\u001b[0m \u001b[0mlen\u001b[0m\u001b[1;33m(\u001b[0m\u001b[0mlengths\u001b[0m\u001b[1;33m)\u001b[0m \u001b[1;33m>\u001b[0m \u001b[1;36m1\u001b[0m\u001b[1;33m:\u001b[0m\u001b[1;33m\u001b[0m\u001b[1;33m\u001b[0m\u001b[0m\n\u001b[1;32m--> 674\u001b[1;33m                 \u001b[1;32mraise\u001b[0m \u001b[0mValueError\u001b[0m\u001b[1;33m(\u001b[0m\u001b[1;34m\"All arrays must be of the same length\"\u001b[0m\u001b[1;33m)\u001b[0m\u001b[1;33m\u001b[0m\u001b[1;33m\u001b[0m\u001b[0m\n\u001b[0m\u001b[0;32m    675\u001b[0m \u001b[1;33m\u001b[0m\u001b[0m\n\u001b[0;32m    676\u001b[0m             \u001b[1;32mif\u001b[0m \u001b[0mhave_dicts\u001b[0m\u001b[1;33m:\u001b[0m\u001b[1;33m\u001b[0m\u001b[1;33m\u001b[0m\u001b[0m\n",
      "\u001b[1;31mValueError\u001b[0m: All arrays must be of the same length"
     ]
    }
   ],
   "source": [
    "model = norm(loc = 15)\n",
    "generated = model.rvs(size=703)\n",
    "lengths = np.append(pheno['fruit_length'].values, generated)\n",
    "real = ['real']*pheno.shape[0]\n",
    "gen = ['generated']*pheno.shape[0]\n",
    "is_real = real + gen\n",
    "toplot = pd.DataFrame({'fruit_length':lengths,\n",
    "                       'is_real': is_real\n",
    "                      })\n",
    "\n"
   ]
  },
  {
   "cell_type": "markdown",
   "id": "593a6518-dd32-4e01-a3a9-18265f389a05",
   "metadata": {},
   "source": [
    "*B*. Make a histogram that plots the real data and the generated data. Discuss: are you happy with your model? Does it seem to fit the data?"
   ]
  },
  {
   "cell_type": "code",
   "execution_count": null,
   "id": "7c4220e0-a9ef-4a01-91e3-e9a7edce1960",
   "metadata": {},
   "outputs": [],
   "source": []
  },
  {
   "cell_type": "markdown",
   "id": "8c8859f4-3db5-413d-a4b9-d4a49aa49a38",
   "metadata": {},
   "source": [
    "**Exercise 2.6 (discuss as a group)**: The code above uses some Python I have not taught you. What is it doing? Add comments to the code."
   ]
  },
  {
   "cell_type": "markdown",
   "id": "5203d4e2-66fd-442e-aad2-3451088fde79",
   "metadata": {},
   "source": [
    "### 2.1 Scale\n",
    "The reason the generated data doesn't look so good is because it is too wide. There is a second **parameter** called **`scale`** which controls how wide it is. The default scale is 1."
   ]
  },
  {
   "cell_type": "code",
   "execution_count": null,
   "id": "42bc70c2-86d3-4111-b301-391f4206d54a",
   "metadata": {},
   "outputs": [],
   "source": [
    "model_loc10_wider = norm(loc=15, scale = 2)"
   ]
  },
  {
   "cell_type": "markdown",
   "id": "19292562-4548-40af-9f3e-3105956c77cc",
   "metadata": {},
   "source": [
    "**Exercise 2.1.1**: Make models with the same loc above but different values for  values for `scale` (it must be greater than zero, you can't have a negative width)-- try 1, 5, 100). For each model, generate 703 observations of the distribution and plot a histogram. What do you notice?\n",
    "\n"
   ]
  },
  {
   "cell_type": "code",
   "execution_count": null,
   "id": "7b95f3e9-c209-4c4c-b060-18c4a34bbfd6",
   "metadata": {},
   "outputs": [],
   "source": []
  },
  {
   "cell_type": "markdown",
   "id": "d4af45f9-e0c3-41cb-8f2b-e38e3dde368b",
   "metadata": {},
   "source": [
    "**Exercise 2.1.2**: Make the same plot as with 2.4 but with your wider model. Compare the plots. Write one sentence describing the difference between them."
   ]
  },
  {
   "cell_type": "code",
   "execution_count": null,
   "id": "a460ed87-657c-457e-81bb-558fa0e2a831",
   "metadata": {},
   "outputs": [],
   "source": []
  },
  {
   "cell_type": "markdown",
   "id": "85712197-3cfa-45f5-9383-487ad05636d9",
   "metadata": {
    "tags": []
   },
   "source": [
    "### 2.2 Maximum likelihood normal model\n",
    "So now we have 2 parameters we can tweak, scale and loc, to make a good model. LEt's use  these to find a good normal model for fruit_length"
   ]
  },
  {
   "cell_type": "markdown",
   "id": "aac336c9-e8cc-4662-af03-60417b73467d",
   "metadata": {},
   "source": [
    "First we need to get rid of the plants where fruit_length is null. Let's use the `pd.isnull` function which checks for each entry, is it missing (called **null** and usually prints out as `NA` (not available))"
   ]
  },
  {
   "cell_type": "code",
   "execution_count": null,
   "id": "13e62fd8-3afe-4d73-a594-a122348654ec",
   "metadata": {},
   "outputs": [],
   "source": [
    "null_lengths = pd.isnull(pheno['fruit_length'])"
   ]
  },
  {
   "cell_type": "code",
   "execution_count": null,
   "id": "a05ce709-f22e-4d70-9373-17029df7e68c",
   "metadata": {
    "tags": []
   },
   "outputs": [],
   "source": [
    "null_lengths"
   ]
  },
  {
   "cell_type": "markdown",
   "id": "ca0b1f62-a7a3-4461-8c2f-082f2930c64d",
   "metadata": {},
   "source": [
    "**Exercise 2.1.1**: \n",
    "*A*. count the number of missing fruit lengths"
   ]
  },
  {
   "cell_type": "code",
   "execution_count": null,
   "id": "33e8082a-786d-4ad5-888d-f264acf1206d",
   "metadata": {},
   "outputs": [],
   "source": []
  },
  {
   "cell_type": "markdown",
   "id": "923e2808-04c7-41ed-9940-51cec3443f03",
   "metadata": {},
   "source": [
    "*B*: obtain the plants where the fruit length is null and look at those rows"
   ]
  },
  {
   "cell_type": "code",
   "execution_count": null,
   "id": "cff987a1-191a-4d6b-8366-f5446be9df2c",
   "metadata": {},
   "outputs": [],
   "source": []
  },
  {
   "cell_type": "markdown",
   "id": "7bc1c643-84db-4485-b0b6-aef41c67f20a",
   "metadata": {},
   "source": [
    "*C*: take only the rows of `pheno` where fruit length is **not** null and save those rows to a data frame called `pheno2` for analysis?"
   ]
  },
  {
   "cell_type": "code",
   "execution_count": null,
   "id": "6f6c58bc-d373-4abc-8158-d52f17032cb5",
   "metadata": {},
   "outputs": [],
   "source": []
  },
  {
   "cell_type": "markdown",
   "id": "d0f59af5-1d9d-412f-ad61-247556df53a0",
   "metadata": {},
   "source": [
    "Now that we fixed our pheno data, let's fit the model to it.\n",
    "\n",
    "**Exercise 2.1.2**: \n",
    "1. Create 20 evenly spaced values of `loc`  spaced out from 0 to 30. "
   ]
  },
  {
   "cell_type": "code",
   "execution_count": null,
   "id": "4ffdd71d-51c0-45c4-ba38-458e88b5f316",
   "metadata": {},
   "outputs": [],
   "source": []
  },
  {
   "cell_type": "markdown",
   "id": "dfbbb034-d6ca-42f7-865c-67992fcceb5f",
   "metadata": {},
   "source": [
    "2. For each of these values for loc, make a model and store 2 values for comparing your data to the model (to be made intoa data fra: \n",
    "- *A: squared diference in means*. generate 703 plants, and get the squared difference in means and \n",
    "- *B likelihood of observed data*: Get the probability of each of your observed plants and convert it to the total likelihood of the `fruit_length` data."
   ]
  },
  {
   "cell_type": "code",
   "execution_count": null,
   "id": "cb97ab71-5054-4bde-9996-06e5289f15b7",
   "metadata": {},
   "outputs": [],
   "source": []
  },
  {
   "cell_type": "markdown",
   "id": "a1eb2c5a-b070-40b4-a150-5f2a594e6447",
   "metadata": {},
   "source": [
    "3. Make 2 plots:\n",
    "- *A: squared difference in means*: Plot on the x-axis \"loc\" and on the y-axis the squared difference in means."
   ]
  },
  {
   "cell_type": "code",
   "execution_count": null,
   "id": "9a611b5d-6b07-4f0f-abe1-b95ecfb2b501",
   "metadata": {},
   "outputs": [],
   "source": []
  },
  {
   "cell_type": "markdown",
   "id": "11000581-3963-42fd-b228-a58c9a5cf987",
   "metadata": {},
   "source": [
    "- *B: likelihoods*: Plot on the x-axis \"loc\" and on the y-axis the likelihood"
   ]
  },
  {
   "cell_type": "code",
   "execution_count": null,
   "id": "884b1e82-749d-4e6e-a8b8-5ea1a99de732",
   "metadata": {},
   "outputs": [],
   "source": []
  },
  {
   "cell_type": "markdown",
   "id": "2bae1d39-696c-4164-a7cf-30c6e3c4d01a",
   "metadata": {},
   "source": [
    "4. Get the value where the squred difference is smallest and where the likelihood is best"
   ]
  },
  {
   "cell_type": "code",
   "execution_count": null,
   "id": "2abc47a5-a620-4ddc-9e1d-2d6055398ae0",
   "metadata": {},
   "outputs": [],
   "source": []
  },
  {
   "cell_type": "markdown",
   "id": "5b7a1507-1cf7-412b-949b-d73ef3b3c679",
   "metadata": {},
   "source": [
    "**Exercise 2.1.3**: Repeat 2.1.2 but keeping your loc you picked in 2.1.2 and with 20 evenly spaced values for `scale`. Find the best secale."
   ]
  },
  {
   "cell_type": "code",
   "execution_count": null,
   "id": "fe0983b0-06ec-46fa-a91e-a69715c89f86",
   "metadata": {},
   "outputs": [],
   "source": []
  },
  {
   "cell_type": "code",
   "execution_count": null,
   "id": "36725efa-b4af-4a8b-a423-8f90f2c93312",
   "metadata": {},
   "outputs": [],
   "source": []
  },
  {
   "cell_type": "markdown",
   "id": "f65d92b8-c80e-46fe-82c0-177e937eedc4",
   "metadata": {},
   "source": [
    "## 2.3 Normal models for subsets of your data\n",
    "Now that we have an idea about making a good model for the data, let's make a good model for subsets of the data."
   ]
  },
  {
   "cell_type": "code",
   "execution_count": null,
   "id": "3c619e14-451d-47f1-8746-a4a280d6b6a8",
   "metadata": {},
   "outputs": [],
   "source": [
    "fruit_length_geno = pd.read_table(\"data/arabmagic/fruit_length_geno.csv\",sep=\",\",index_col=0)"
   ]
  },
  {
   "cell_type": "markdown",
   "id": "e8bfe815-ba8d-40e6-81cd-e5a5abcdd64a",
   "metadata": {},
   "source": [
    "**Exercise 2.3.1**: Obtain the fruit length data for plants with genotype A, and plot a histogram. Find good values for `scale` and `loc` to make a good model for plant with genotype A."
   ]
  },
  {
   "cell_type": "code",
   "execution_count": null,
   "id": "45d97206-0d7d-4b43-9f9a-a5e2047a8cbd",
   "metadata": {},
   "outputs": [],
   "source": [
    "fruit_length_geno.loc[ fruit_length_geno['MASC06116']=='A','fruit_length'].describe()"
   ]
  },
  {
   "cell_type": "code",
   "execution_count": null,
   "id": "65d193e9-db8c-48ff-b857-2d1835242b6d",
   "metadata": {},
   "outputs": [],
   "source": [
    "fruit_length_geno.loc[ fruit_length_geno['MASC06116']!='A','fruit_length'].describe()"
   ]
  },
  {
   "cell_type": "code",
   "execution_count": null,
   "id": "375e1af3-7cb5-486c-af31-8c4d5e426886",
   "metadata": {},
   "outputs": [],
   "source": [
    "sns.displot( fruit_length_geno.loc[ fruit_length_geno['MASC06116']=='A','fruit_length'])"
   ]
  },
  {
   "cell_type": "code",
   "execution_count": null,
   "id": "c118760e-7d3e-4a66-8148-62f376631c40",
   "metadata": {},
   "outputs": [],
   "source": [
    "sns.displot( fruit_length_geno.loc[ fruit_length_geno['MASC06116']!='A','fruit_length'])"
   ]
  },
  {
   "cell_type": "markdown",
   "id": "cbe1341f-20a2-4e7b-a66d-c1debf68b7cc",
   "metadata": {},
   "source": [
    "**Exercise 2.3.2**: Try generating observations from the model you made for genotype A (as many as there are plants with genotype B). Get the data for the real and generated plants and fill in the code below. Run the code cell to make a histogram of each with matplotlib. How does it look?"
   ]
  },
  {
   "cell_type": "code",
   "execution_count": null,
   "id": "7cb50b0a-7b11-4242-8f6b-755a237f69cc",
   "metadata": {},
   "outputs": [],
   "source": [
    "realB = ## get real fruit lengths for MASC06116 = B plants\n",
    "genB =  ## generate same number of plants\n",
    "\n",
    "import matplotlib.pyplot as plt\n",
    "f, ax = plt.subplots(1)\n",
    "ax.hist([genB, realB])\n",
    "ax.legend(['generated','real'])"
   ]
  },
  {
   "cell_type": "markdown",
   "id": "46276b40-b484-4b7a-9ab7-82b443e5dc58",
   "metadata": {},
   "source": [
    "**Exercise 2.3.3**: Just eyeballing it, make another model you think would be a better fit for your dta. Then, verify that this model actually has  better likelihood score by comparing the likelihood from the model from 2.3.1 versus the model you made here."
   ]
  },
  {
   "cell_type": "code",
   "execution_count": null,
   "id": "772d5835-51e7-44ad-99dd-1bbb3b628125",
   "metadata": {},
   "outputs": [],
   "source": []
  },
  {
   "cell_type": "markdown",
   "id": "d3de84e9-ef3f-41a4-a063-fb6945c3bb38",
   "metadata": {},
   "source": [
    "# 3. Linear models\n",
    "So we made models of fruit length overall and among just plants with MASC06116 = A or not-A, and we see the models have different means.\n",
    "\n",
    "With a linear model we state a hypothesis such as: *fruit length depends on genotype* and we basically are saying:\n",
    "- we know the plants have some kind of normal distribution\n",
    "- but the **mean** of that distribution could be different for plants with different genotype\n",
    "\n",
    "To put our hypothesis in terms the computer can understand:\n",
    "- loc (mean) follows a formula like:\n",
    "\n",
    "   ${mean Fruit Length} = intercept + slope \\times genotypeNumber $\n",
    "   \n",
    "(where genotypeNumber is 1 if MASC06116 = A otherwise 0)"
   ]
  },
  {
   "cell_type": "code",
   "execution_count": null,
   "id": "2933db84-7f5e-45a8-a88c-ef858061e3cd",
   "metadata": {},
   "outputs": [],
   "source": [
    "binary_marker = (geno.loc['MASC06116',:]== 'A').astype(int)\n",
    "binary_marker.describe()"
   ]
  },
  {
   "cell_type": "markdown",
   "id": "1e26ab92-14f8-4387-bf72-4726f59819cc",
   "metadata": {},
   "source": [
    "Let's start by picking values for intercept and slope that we think would make a model that best fits our data."
   ]
  },
  {
   "cell_type": "code",
   "execution_count": null,
   "id": "c60c2533-5244-4e39-b6a9-6d95a45b48f1",
   "metadata": {},
   "outputs": [],
   "source": [
    "\n",
    "sns.displot(data=fruit_length_geno, x=\"fruit_length\", hue='MASC06116',stat='density',common_norm=False, kde=True)"
   ]
  },
  {
   "cell_type": "markdown",
   "id": "84920b3c-30b8-4c3a-ae4a-0ce00e4eebbd",
   "metadata": {},
   "source": [
    "**Exercise 3.1**: Pick values for intercept and slope that you think would make a model that fits our data, just by eyeballing it. Then, use this to get the predicted mean value for plants in each category. Compare that to the actual means for plants in the 2 categories."
   ]
  },
  {
   "cell_type": "code",
   "execution_count": null,
   "id": "cc15ba3d-9fda-4226-8ffe-7056d8321126",
   "metadata": {},
   "outputs": [],
   "source": []
  },
  {
   "cell_type": "markdown",
   "id": "ff9c4868-7fb8-47e2-9018-b3f1422e174e",
   "metadata": {},
   "source": [
    "We can generate random values with different means from Normal by providing list of values for `loc` -- then you get 1 random value for each value of loc:"
   ]
  },
  {
   "cell_type": "code",
   "execution_count": null,
   "id": "6967cf51-f89a-4eee-818a-2031f2e322a8",
   "metadata": {},
   "outputs": [],
   "source": [
    "norm.rvs(loc=[1,10,-20])"
   ]
  },
  {
   "cell_type": "markdown",
   "id": "a5bedae8-cb82-470d-8214-b52e16d153b4",
   "metadata": {},
   "source": [
    "**Exercise 3.2**: Compare generated values\n",
    "1. Calculate the value of `loc` for each plant (2 unique values, but calculated for each of the plants) using vectorized math and the slope and intercept you picked. \n",
    "2. Use this value to generate `rvs` from normals with those means.\n",
    "3. Put your generated plants into the fruit_length_geno data frame and make the histogram comparing the generated fruit lengths (you can copy the displot code above."
   ]
  },
  {
   "cell_type": "code",
   "execution_count": null,
   "id": "3f66bd0a-211b-4452-b13c-f47bbc015cb0",
   "metadata": {},
   "outputs": [],
   "source": []
  },
  {
   "cell_type": "markdown",
   "id": "2369f4a6-e016-410a-8373-e9360443f789",
   "metadata": {},
   "source": [
    "**Exercise 3.3**: Set the intercept equal to the mean value for genotype B (about 12.3), and the scale value equal to what we picked above. Use the maximum likelihood method to get the slope that best fits the data (try 20 different slopes between 1 and 4. Plot the value of the slope parameter against the likelihood of the data under that slope parameter."
   ]
  },
  {
   "cell_type": "code",
   "execution_count": null,
   "id": "65bb51a2-77f5-41a0-a01f-81478aba77fc",
   "metadata": {},
   "outputs": [],
   "source": []
  },
  {
   "cell_type": "code",
   "execution_count": null,
   "id": "9502bbbc-8433-4bd9-ba3d-09c954ee54b3",
   "metadata": {},
   "outputs": [],
   "source": []
  },
  {
   "cell_type": "markdown",
   "id": "d4835e19-86d9-492e-bc31-dd9f0e1866cf",
   "metadata": {},
   "source": [
    "# 4. Using `statsmodels` to find the parameters of our model\n",
    "Obviously, this could get more difficult if we wanted to find the best intercept AND slope  or if we wanted to make a more complicated model to predict the mean, such as including the height of the plant in the model, or other genotype markers.\n",
    "\n",
    "Generally we do not find the parameters manually, but through using modeling packages like `statsmodels`. Here is how we import it:"
   ]
  },
  {
   "cell_type": "code",
   "execution_count": null,
   "id": "74e01329-3e0d-47b0-bbb7-7dc57f7fc729",
   "metadata": {},
   "outputs": [],
   "source": [
    "import statsmodels.api as sm"
   ]
  },
  {
   "cell_type": "markdown",
   "id": "4322ca6a-99e1-455d-a962-9ca1a353dabe",
   "metadata": {},
   "source": [
    "Then, we make a data frame containing the data we want to model:"
   ]
  },
  {
   "cell_type": "code",
   "execution_count": null,
   "id": "c665a75d-49ea-4d91-823b-d8178589c475",
   "metadata": {},
   "outputs": [],
   "source": [
    "fruit_length_geno.head()"
   ]
  },
  {
   "cell_type": "markdown",
   "id": "d5889ab5-c71a-4916-8a15-78689b1f0e5f",
   "metadata": {},
   "source": [
    "### 4.1 Make the data frame to model"
   ]
  },
  {
   "cell_type": "code",
   "execution_count": null,
   "id": "9696ce75-f87a-42d6-9e91-205fb7e86ffe",
   "metadata": {},
   "outputs": [],
   "source": [
    "to_model = pd.DataFrame({\"fruit_length\":fruit_length_geno['fruit_length'],\n",
    "                         \"MASC06116\": (fruit_length_geno['MASC06116']== 'A').astype(int)})"
   ]
  },
  {
   "cell_type": "markdown",
   "id": "14f35c74-7b25-4b87-b7a1-eb1646aad20f",
   "metadata": {},
   "source": [
    "Then, in order to model an intercept as well as a slope, we use the `add_constant` function:"
   ]
  },
  {
   "cell_type": "code",
   "execution_count": null,
   "id": "cb55a1a3-0c49-4344-93a2-519a80f0b162",
   "metadata": {},
   "outputs": [],
   "source": [
    "to_model = sm.add_constant(to_model)"
   ]
  },
  {
   "cell_type": "markdown",
   "id": "6fc7e501-e32b-4f5f-b1d5-8294d64afd2c",
   "metadata": {
    "tags": []
   },
   "source": [
    "This is because the model works multiplying each column by a number and adding up across the columns. So now we are saying fruit length follows a model that looks like:\n",
    "${mean Fruit Length} = intercept \\times 1  + slope \\times genotypeNumber $\n",
    "\n",
    "We didn't change much! Any number times 1 is the same number."
   ]
  },
  {
   "cell_type": "code",
   "execution_count": null,
   "id": "730abb0a-bde1-4f84-8904-f7c66a04d374",
   "metadata": {},
   "outputs": [],
   "source": [
    "to_model.head()"
   ]
  },
  {
   "cell_type": "markdown",
   "id": "3167ec2f-b39d-4e46-8e66-3806dcb24ec1",
   "metadata": {},
   "source": [
    "**Exercise 4.1**: Remove the rows of `to_model` where there are any null values, and save this back to the variable `to_model`."
   ]
  },
  {
   "cell_type": "code",
   "execution_count": null,
   "id": "c37f6600-8035-4458-8da2-278f07493674",
   "metadata": {},
   "outputs": [],
   "source": []
  },
  {
   "cell_type": "markdown",
   "id": "253d6c0d-9925-410d-a8aa-2a2ee3b9422d",
   "metadata": {},
   "source": [
    "## 4.2 Convert to input for Statsmodels and run the model"
   ]
  },
  {
   "cell_type": "markdown",
   "id": "6ad73748-0c5b-4fcd-8a1c-c0883ebc6cdc",
   "metadata": {},
   "source": [
    "Then we split the data up into the **feature** we want to model (fruit length) and the features we will use to predict that feature"
   ]
  },
  {
   "cell_type": "code",
   "execution_count": null,
   "id": "20911ef2-6f9c-4b27-9730-057a4d94a29a",
   "metadata": {},
   "outputs": [],
   "source": [
    "y = to_model['fruit_length'].astype('float')\n",
    "X = to_model.drop(['fruit_length','MASC06116'],axis=1)"
   ]
  },
  {
   "cell_type": "code",
   "execution_count": null,
   "id": "91b4ba6e-16e8-42dd-a98e-3280caaf9a8c",
   "metadata": {},
   "outputs": [],
   "source": [
    "y.head()"
   ]
  },
  {
   "cell_type": "code",
   "execution_count": null,
   "id": "d189b673-e20f-4832-94dd-33be19b7a139",
   "metadata": {},
   "outputs": [],
   "source": [
    "X.head()"
   ]
  },
  {
   "cell_type": "markdown",
   "id": "fb7e3654-4148-4df1-a4cf-328522cd7d5c",
   "metadata": {},
   "source": [
    "Now, we can use statsmodels to **fit** the best model for fruit length based on the genotype info. Note that statsmodels also uses the maximum likelihood method, but it does it in a different way."
   ]
  },
  {
   "cell_type": "code",
   "execution_count": null,
   "id": "f8260639-d8c9-40b8-bef1-a272dad2aa89",
   "metadata": {},
   "outputs": [],
   "source": [
    "model = sm.OLS(y, X).fit()"
   ]
  },
  {
   "cell_type": "markdown",
   "id": "ad42f9d8-7567-47ac-89b2-687e5e0ad10c",
   "metadata": {},
   "source": [
    "The `summary()` function of the model object prints out a nice summary with lots of info... Compare the intercept (const) and slope (MASC06116) to what we got above. Also notice the log-likelihood:"
   ]
  },
  {
   "cell_type": "code",
   "execution_count": null,
   "id": "59689492-9ff2-422f-bb9d-21908c83bc2f",
   "metadata": {
    "tags": []
   },
   "outputs": [],
   "source": [
    "model.summary()"
   ]
  },
  {
   "cell_type": "markdown",
   "id": "86f58233-4f54-4cc7-b1d3-71bf909fd296",
   "metadata": {},
   "source": [
    "R-squared tells us the percent of variation in the fruit_length that is explained by the model, which we can see is 17% of the variation:"
   ]
  },
  {
   "cell_type": "markdown",
   "id": "edac849c-802d-48b5-b8d0-f973f4ac9b3f",
   "metadata": {},
   "source": [
    "## 4.1 Understanding the model parameters\n",
    "You can get the model parameters using the **attribute** `params`:"
   ]
  },
  {
   "cell_type": "code",
   "execution_count": null,
   "id": "2808dafc-6c65-483e-9142-d6cba8fabd1e",
   "metadata": {},
   "outputs": [],
   "source": [
    "model.params"
   ]
  },
  {
   "cell_type": "markdown",
   "id": "b03f33f7-8ec4-41a0-93dc-668cc07feb07",
   "metadata": {},
   "source": [
    "**Exercise 4.1.1**: Use the data frame `X` and model parameters to predict the mean fruit length value for each plant, like we did in Exercise 3.2 (step 1) but now using `X` which has 2 columns, and using `model.params`. "
   ]
  },
  {
   "cell_type": "code",
   "execution_count": null,
   "id": "b45710ab-7e70-490a-9b1b-ed65b320af89",
   "metadata": {},
   "outputs": [],
   "source": []
  },
  {
   "cell_type": "markdown",
   "id": "9a29317a-cd27-47a2-b8d1-2a56ba0610e6",
   "metadata": {},
   "source": [
    "**Exercise 4.1.2**: The model object has a function called `predict` that will predict the mean fruit length for each observation (plant) in X. Compare the predicted means against your results from Exercise 4.1.1. "
   ]
  },
  {
   "cell_type": "code",
   "execution_count": null,
   "id": "232eb9f4-3437-49ea-b018-4c0746ce9f10",
   "metadata": {},
   "outputs": [],
   "source": [
    "predicted_values = model.predict(X)"
   ]
  },
  {
   "cell_type": "markdown",
   "id": "86eabf35-6979-494d-8130-cf29c7c73663",
   "metadata": {},
   "source": [
    "**Exercise 4.1.2**: describe in everyday words the meaning of the slope parameter."
   ]
  },
  {
   "cell_type": "markdown",
   "id": "5bbe280d-3b25-42d7-96b0-e3b708e51d3d",
   "metadata": {},
   "source": [
    "## 4.2 Uncertainty about parameters"
   ]
  },
  {
   "cell_type": "markdown",
   "id": "52ba16f9-bfbf-442e-88ae-9520f23fa7ae",
   "metadata": {},
   "source": [
    "Is the true effect of that genotype exactly 2.846963? \n",
    "\n",
    "This is just a noisy estimate of what the true value of the parameter is\n",
    "\n",
    "Maybe there's some true effect that that genotype has, by changing the function of some gene/protein. We are using our sample of 677 plants to estimate what that true effect is. If we got a new set of plants, hopefully it would be a similar estimate but probably not the same. "
   ]
  },
  {
   "cell_type": "markdown",
   "id": "9c1d89b3-b40f-4cd9-8f55-ef441123004e",
   "metadata": {},
   "source": [
    "**Exercise 4.2.1**: Generate random fruit lengths based on our predicted means above (like in 4.1.3). Then, we are generating fruit lengths that follow a *known true value for intercept and slope*. Fit the model again using these fruit lengths. What do you get for the parameters? Do you get exactly 2.84963?"
   ]
  },
  {
   "cell_type": "markdown",
   "id": "52565e58-6709-4f0e-91ac-6cddc82ad5f4",
   "metadata": {},
   "source": [
    "So the `std err` or *standard error* describes the spread we'd expect between different estimates if we could redo the data collection.\n",
    "\n",
    "Let's see what kind of spread we actually get:"
   ]
  },
  {
   "cell_type": "markdown",
   "id": "632c639c-5a96-4ba2-a5ff-377f97d16750",
   "metadata": {},
   "source": [
    "**Exercise 4.2.2**: Examine the spread in the estimate of the effect of the genotype by doing the following steps:\n",
    "1. Generate 100 random samples of the 674 plants, using the results from our model to set the `loc` values (similar to 4.2.1, but do this 100 times)"
   ]
  },
  {
   "cell_type": "markdown",
   "id": "c8cc10f2-2f17-4158-9d0f-7449901f886b",
   "metadata": {},
   "source": [
    "2. For each of the 100 random samples, fit your model again and get the parameter for the slope."
   ]
  },
  {
   "cell_type": "markdown",
   "id": "cea36c4a-09a1-40e0-9d04-7af076345a7d",
   "metadata": {},
   "source": [
    "3. Store those in a list (list of length 100 for the 100 random data sets)"
   ]
  },
  {
   "cell_type": "markdown",
   "id": "82ef92af-d522-432a-bf38-cb5dc92bddd2",
   "metadata": {},
   "source": [
    "4. Then, make a histogram of the parameter value across the 100 random sets. "
   ]
  },
  {
   "cell_type": "markdown",
   "id": "2b21dc76-55c1-42f2-b792-d7490d8aa179",
   "metadata": {},
   "source": [
    "5. What is the mean? What is the standard deviation? What is the 2.75% percentile and the 97.25% Compare this to sthe standard error from your model above. "
   ]
  },
  {
   "cell_type": "markdown",
   "id": "7e1b042c-e040-421f-94f5-ea7315d631bc",
   "metadata": {},
   "source": [
    "**Exercise 4.2.1**: Examine the spread in the estimate of the effect of the genotype by doing the following steps:\n",
    "1. Generate 100 random samples of the 674 plants, using the values for `loc` from our model (similar to 4.1.1, but do this 100 times)\n",
    "2. For each of the 100 random plants, fit your model again and get the parameter for the slope.\n",
    "3. Store those in a list (list of length 100 for the 100 random data sets)\n",
    "4. Then, make a histogram of the parameters across the 100 random sets. \n",
    "5. What is the mean? What is the standard deviation? Compare this to sthe standard error from your model above. "
   ]
  },
  {
   "cell_type": "markdown",
   "id": "7f394201-5c48-4fe9-86aa-b877ee04e344",
   "metadata": {},
   "source": [
    "The p-value follows directly from the standard error. We want to know whether the slope we're getting is different from zero, which would be no effect of the genotype on \n",
    "\n",
    "The p-value says: how frequently would we see a parameter value this big, if the true parameter value is zero?"
   ]
  },
  {
   "cell_type": "markdown",
   "id": "d0bb24fb-e523-4e49-9e77-c8c3cf2a4c4b",
   "metadata": {},
   "source": [
    "**Exercise 4.2.2**: Imagine instead of 0.243 the standard error was 2.43.  What would the histogram above look like? Can we say the true value is definitely higher than zero?"
   ]
  },
  {
   "cell_type": "markdown",
   "id": "250cd846-58ff-4c6e-9871-9f8b9632cb26",
   "metadata": {},
   "source": [
    "**Exercise 4.2.3**: Adapt your code from 4.2.1 to generate plants with slope = 0 and fit the model, and make a histogram. How often do you see a slope as big as 2.7? (the value from the real data)"
   ]
  },
  {
   "cell_type": "code",
   "execution_count": null,
   "id": "1dacfa0f-e33a-4f0e-ae0e-9ab69c31e80a",
   "metadata": {},
   "outputs": [],
   "source": [
    "fruit_length_geno.corr()"
   ]
  }
 ],
 "metadata": {
  "kernelspec": {
   "display_name": "Python 3.8.8 ('base')",
   "language": "python",
   "name": "python3"
  },
  "language_info": {
   "codemirror_mode": {
    "name": "ipython",
    "version": 3
   },
   "file_extension": ".py",
   "mimetype": "text/x-python",
   "name": "python",
   "nbconvert_exporter": "python",
   "pygments_lexer": "ipython3",
   "version": "3.8.8"
  },
  "vscode": {
   "interpreter": {
    "hash": "e595df4329fcf3a3af43d6766bc23e541941e8ce9ea758c4bedfcbd321d7c58e"
   }
  }
 },
 "nbformat": 4,
 "nbformat_minor": 5
}
