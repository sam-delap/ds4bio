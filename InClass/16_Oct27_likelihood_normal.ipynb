{
 "cells": [
  {
   "cell_type": "markdown",
   "id": "088d7abf-5592-498c-ae56-969604e52910",
   "metadata": {},
   "source": [
    "## Learning objectives\n",
    "- Understand how the parameter of hte model influences the probabilities of seeing different values from a model.\n",
    "- Predict how models with different probability of observations taking on certain values will generate different data\n",
    "- Implement the principle of maximum likelihood to find the best model."
   ]
  },
  {
   "cell_type": "markdown",
   "id": "1b4fe032-0ff4-4940-976a-8ba141fe8d7a",
   "metadata": {},
   "source": [
    "# 1. Probabilities in Bernoulli, `pmf`\n",
    "\n",
    "As we have discussed a lot, 92% of our plants had an A at marker MASC06116.  We have formed a model in our heads that says, if we get a new plant, that plant has a 92% chance (probability = 0.92) of having an A. \n",
    "\n",
    "Yesterday we simulated data from different models to see what the data looked like and how close it was to our real data. But we can directly compare the model and the data by using the model to calculate the probability of getting a particular observation, under that model."
   ]
  },
  {
   "cell_type": "markdown",
   "id": "309e3ed1-7a58-4ac5-9d7e-aefae3b7bf8c",
   "metadata": {},
   "source": [
    "**Exercise 1.1**: What is the probability of getting a 1 if the data follows Bernoulli with p = 0.1? What about p = 0.9?"
   ]
  },
  {
   "cell_type": "markdown",
   "id": "3d5f2fe7",
   "metadata": {},
   "source": [
    "<font color = lightgreen>\n",
    "<ul> \n",
    "<li>p = 0.1: 0.1</li>\n",
    "<li>p = 0.9: 0.9</li>\n",
    "</ul>"
   ]
  },
  {
   "cell_type": "markdown",
   "id": "f55be164-c529-4aa8-9533-3b90e16160e4",
   "metadata": {},
   "source": [
    "**Exercise 1.2**: The p=0.1 and p=0.9 are 2 different models that can generate binary observations. Which model is more likely for each of the following data sets (each containing 5 observations)?\n",
    "1. `[0, 0, 1, 0, 0]` <font color = lightgreen>(p = 0.1)\n",
    "2. `[1, 1, 1, 1, 0]` (p = 0.9)\n",
    "  "
   ]
  },
  {
   "cell_type": "markdown",
   "id": "20c0de28-62b9-422c-a1d1-758ea136bc17",
   "metadata": {},
   "source": [
    "We can have the model directly calculate the probability using the `pmf` function, which says: **for each observation, how likely are you to get this observation from this model**"
   ]
  },
  {
   "cell_type": "code",
   "execution_count": 1,
   "id": "fb4ea26a-b931-4a0e-a258-72917ea5a2a8",
   "metadata": {},
   "outputs": [],
   "source": [
    "## some imports...\n",
    "import pandas as pd\n",
    "import numpy as np\n",
    "import seaborn as sns\n",
    "sns.set_theme()\n",
    "from scipy.stats import bernoulli"
   ]
  },
  {
   "cell_type": "code",
   "execution_count": 2,
   "id": "0efc1fa5-7ce0-423b-83e2-7f0e256fee78",
   "metadata": {},
   "outputs": [
    {
     "data": {
      "text/plain": [
       "0.1"
      ]
     },
     "execution_count": 2,
     "metadata": {},
     "output_type": "execute_result"
    }
   ],
   "source": [
    "bernoulli.pmf(1, p = 0.1)"
   ]
  },
  {
   "cell_type": "markdown",
   "id": "2f4f614b-ba6c-4648-8180-4f904cf2aeb0",
   "metadata": {},
   "source": [
    "**Exercise 1.3**: predict what the output will be. Write down your predictions. Run it and if it's different, figure out why"
   ]
  },
  {
   "cell_type": "code",
   "execution_count": 3,
   "id": "1a43f879-6fd2-44c6-bf64-ff5b8794ee01",
   "metadata": {},
   "outputs": [
    {
     "data": {
      "text/plain": [
       "0.9"
      ]
     },
     "execution_count": 3,
     "metadata": {},
     "output_type": "execute_result"
    }
   ],
   "source": [
    "bernoulli.pmf(0, p = 0.1) # 0.1 (was 0.9, what was prob of 0 not 1)"
   ]
  },
  {
   "cell_type": "code",
   "execution_count": 4,
   "id": "5495c3cd-5d12-494e-9473-9f8990397961",
   "metadata": {},
   "outputs": [
    {
     "data": {
      "text/plain": [
       "0.5"
      ]
     },
     "execution_count": 4,
     "metadata": {},
     "output_type": "execute_result"
    }
   ],
   "source": [
    "bernoulli.pmf(0, p = 0.5) # 0.5"
   ]
  },
  {
   "cell_type": "code",
   "execution_count": 6,
   "id": "24441dde-6a54-439e-9c60-e78adbfb3718",
   "metadata": {},
   "outputs": [
    {
     "data": {
      "text/plain": [
       "0.5"
      ]
     },
     "execution_count": 6,
     "metadata": {},
     "output_type": "execute_result"
    }
   ],
   "source": [
    "bernoulli.pmf(1, p = 0.5) # 0.5"
   ]
  },
  {
   "cell_type": "code",
   "execution_count": 7,
   "id": "a41d0ce5-1c71-4c15-a837-3fbe94f21134",
   "metadata": {},
   "outputs": [
    {
     "data": {
      "text/plain": [
       "0.19999999999999996"
      ]
     },
     "execution_count": 7,
     "metadata": {},
     "output_type": "execute_result"
    }
   ],
   "source": [
    "bernoulli.pmf(0, p = 0.8) # 0.2"
   ]
  },
  {
   "cell_type": "markdown",
   "id": "6eea6cf0-a1a9-4565-998a-414616d90c69",
   "metadata": {},
   "source": [
    "**Exercise 1.4**: we can calculate it for any number of observations. Predict what this one will be, for 3 observations, then run it"
   ]
  },
  {
   "cell_type": "code",
   "execution_count": 9,
   "id": "08ad9792-9673-44fe-bd26-6c07f8a23a49",
   "metadata": {},
   "outputs": [
    {
     "name": "stdout",
     "output_type": "stream",
     "text": [
      "0.12800000000000003\n"
     ]
    },
    {
     "data": {
      "text/plain": [
       "array([0.2, 0.8, 0.8])"
      ]
     },
     "execution_count": 9,
     "metadata": {},
     "output_type": "execute_result"
    }
   ],
   "source": [
    "print(0.2 * 0.8**2)\n",
    "bernoulli.pmf([0,1,1], p = 0.8) # 0.2 * 0.8**2"
   ]
  },
  {
   "cell_type": "markdown",
   "id": "168ae184-1678-467d-ab29-822ea7483991",
   "metadata": {},
   "source": [
    "## 1.1 From probability to likelihood\n",
    "Note that this gave us the probility of each observation. We want to get an overall score of how close our model to our data so we can automatically pick a good model.  This is called the **likelihood** of seeing our data, given that model. The models with the highest likelihood is the best model.\n",
    "\n",
    "We are going to use the *negative logarithm, summed across all observations* to get an overall picture of the closeness "
   ]
  },
  {
   "cell_type": "markdown",
   "id": "e40e1e83-44f9-4098-a4ab-9f04f7b434ff",
   "metadata": {},
   "source": [
    "**Exercise 1.1.1**: Make a plot comparing 100 values between 0 and 1 (for probilities from the pmf function) versus their negative logs. Below is how your take the log. Then, interpret the plot. How do the axes compare?"
   ]
  },
  {
   "cell_type": "code",
   "execution_count": 10,
   "id": "421e24b2-dfe9-4850-9a73-03e95b8e9609",
   "metadata": {},
   "outputs": [
    {
     "data": {
      "text/plain": [
       "-0.6931471805599453"
      ]
     },
     "execution_count": 10,
     "metadata": {},
     "output_type": "execute_result"
    }
   ],
   "source": [
    "np.log(.5)"
   ]
  },
  {
   "cell_type": "code",
   "execution_count": 11,
   "id": "e700590f-eca1-4d4a-b9fe-3e0ae8a24206",
   "metadata": {},
   "outputs": [
    {
     "data": {
      "text/plain": [
       "array([0., 0., 0.])"
      ]
     },
     "execution_count": 11,
     "metadata": {},
     "output_type": "execute_result"
    }
   ],
   "source": [
    "np.log([1,1,1])"
   ]
  },
  {
   "cell_type": "code",
   "execution_count": 12,
   "id": "0eb2e031",
   "metadata": {},
   "outputs": [],
   "source": [
    "# import geno data\n",
    "geno = pd.read_table(\"../data/arabmagic/arabmagic_geno.csv\", sep=\",\",skiprows=3,index_col=0)\n",
    "binary_marker = (geno.loc['MASC06116',:]== 'A').astype(int)"
   ]
  },
  {
   "cell_type": "code",
   "execution_count": 15,
   "id": "1355060a",
   "metadata": {},
   "outputs": [
    {
     "name": "stderr",
     "output_type": "stream",
     "text": [
      "C:\\Users\\sjcde\\AppData\\Local\\Temp/ipykernel_10288/2706297943.py:4: RuntimeWarning: divide by zero encountered in log\n",
      "  logs.append(np.log(prob) * -1)\n"
     ]
    },
    {
     "data": {
      "text/plain": [
       "<seaborn.axisgrid.FacetGrid at 0x2827d724e50>"
      ]
     },
     "execution_count": 15,
     "metadata": {},
     "output_type": "execute_result"
    },
    {
     "data": {
      "image/png": "[encoded data removed]",
      "text/plain": [
       "<Figure size 360x360 with 1 Axes>"
      ]
     },
     "metadata": {},
     "output_type": "display_data"
    }
   ],
   "source": [
    "# Create 100 evenly spaced bins of probability between 0 and 1 (and an empty list)\n",
    "bins = np.linspace(0, 1, 100)\n",
    "logs = []\n",
    "# For each probability\n",
    "for prob in bins:\n",
    "    # Take the negative log\n",
    "    logs.append(np.log(prob) * -1)\n",
    "\n",
    "# Create a dataframe with the probabilities in one column, and the log probabilities in another\n",
    "logs_df = pd.DataFrame({'prob':bins, 'logs':logs})\n",
    "# Plot the graph of log probability vs probability\n",
    "sns.relplot(data=logs_df, x='prob', y='logs')"
   ]
  },
  {
   "cell_type": "markdown",
   "id": "67f814d0-0ff9-4c07-b4c8-60a66446e7f2",
   "metadata": {},
   "source": [
    "**Exercise 1.1.2**: You can copy over some of your code from the previous notebook Exercise 2.2.3. But change it to use the maximium likelihood to find the best model. Plot the value of p versus the likelihood."
   ]
  },
  {
   "cell_type": "code",
   "execution_count": 28,
   "id": "72f88ad5-5b80-45e9-a74c-6d0d49258d5d",
   "metadata": {},
   "outputs": [
    {
     "name": "stderr",
     "output_type": "stream",
     "text": [
      "C:\\Users\\sjcde\\AppData\\Local\\Temp/ipykernel_10288/1472146811.py:5: RuntimeWarning: divide by zero encountered in log\n",
      "  prob_logs = np.log(bernoulli.pmf(binary_marker, p=prob))\n"
     ]
    },
    {
     "name": "stdout",
     "output_type": "stream",
     "text": [
      "Maximum likelihood 0.9292929292929294\n"
     ]
    },
    {
     "data": {
      "image/png": "[encoded data removed]",
      "text/plain": [
       "<Figure size 360x360 with 1 Axes>"
      ]
     },
     "metadata": {},
     "output_type": "display_data"
    }
   ],
   "source": [
    "# Create 100 evenly spaced bins of probability between 0 and 1 (and an empty list)\n",
    "bins = np.linspace(0, 1, 100)\n",
    "logs = []\n",
    "\n",
    "# For each probability of As\n",
    "for prob in bins:\n",
    "    # Take the log of the probability that each observation in our dataset would be observed\n",
    "    # With the given probability\n",
    "    prob_logs = np.log(bernoulli.pmf(binary_marker, p=prob))\n",
    "    # Take the sum of all of the log(prob) measurements and multiply by -1\n",
    "    logs.append(prob_logs.sum() * -1)\n",
    "\n",
    "# Create a dataframe with the probability in 1 column and the negative log in another\n",
    "logs_df = pd.DataFrame({'prob':bins, 'logs':logs})\n",
    "\n",
    "# Plot the logs vs prob data and determine the probability with the maximum likelihood of explaining the real data\n",
    "sns.relplot(data=logs_df, x='prob', y='logs')\n",
    "\n",
    "print('Maximum likelihood', logs_df.loc[logs_df['logs'].idxmin(), 'prob'])"
   ]
  },
  {
   "cell_type": "markdown",
   "id": "3e2358c6-40f4-448c-9945-9617fb674b78",
   "metadata": {},
   "source": [
    "# 3. Normal (Gaussian) model for number data\n",
    "Just like with the Binary data and the Bernoulli, there are built-in models for number data.\n",
    "\n",
    "The bell curve aka Normal aka Guassian model is good for modeling data that is:\n",
    "- numbers\n",
    "- most of them are close to the mean\n",
    "- distribution is symmetricl\n",
    "\n",
    "Just like the Bernoulli we can import the `norm` (normal) and use it to generate observations. \n",
    "\n",
    "And just like the Bernoulli we can tell it to use  particular **parameters**. The first one we'll learn is called `loc` which specifies the mean. The default is 0:"
   ]
  },
  {
   "cell_type": "code",
   "execution_count": null,
   "id": "6394650a-5230-43bf-adce-038436a6c17a",
   "metadata": {},
   "outputs": [],
   "source": [
    "from scipy.stats import norm\n",
    "norm.rvs()"
   ]
  },
  {
   "cell_type": "markdown",
   "id": "c2635b95-bc67-4504-8605-4ad497322c1f",
   "metadata": {},
   "source": [
    "Another `loc`."
   ]
  },
  {
   "cell_type": "code",
   "execution_count": null,
   "id": "a0b0c0d1-25e9-4eb9-b395-2f9a828bfa49",
   "metadata": {},
   "outputs": [],
   "source": [
    "norm.rvs(loc = 10)"
   ]
  },
  {
   "cell_type": "markdown",
   "id": "0e6eb2c6-4c4e-4c4a-b0fc-ffcfd7130a7a",
   "metadata": {},
   "source": [
    "Sme thing with the size argument"
   ]
  },
  {
   "cell_type": "code",
   "execution_count": null,
   "id": "568b7eb0-57d4-4a6d-a293-4611f8c9b534",
   "metadata": {},
   "outputs": [],
   "source": [
    "norm.rvs(loc = 10, size=5)"
   ]
  },
  {
   "cell_type": "markdown",
   "id": "4c232470-aa43-4f4e-8ae6-118c84ab56f2",
   "metadata": {},
   "source": [
    "**Exercise 3.1**: Generate 1000 observations of the distribution under models with different values for `loc` (such as, -5, 1, 100). Plot each in a histogram. What do you notice?"
   ]
  },
  {
   "cell_type": "markdown",
   "id": "56727fc6-b794-4ce4-a6e9-f16920c232da",
   "metadata": {},
   "source": [
    "**Exercise 3.2 (think & discuss)**: Look at the histogram of the fruit_length data. What model could you make that could generate observations that look like that:\n",
    "- Would you use Bernoulli or normal? Why?\n",
    "- What do you think would be a good `loc` to make a model of the fruit_length?"
   ]
  },
  {
   "cell_type": "code",
   "execution_count": null,
   "id": "ef6b26a0-d150-4306-9b02-e7f6a9442ab4",
   "metadata": {},
   "outputs": [],
   "source": [
    "sns.displot(data=pheno, x=\"fruit_length\")"
   ]
  },
  {
   "cell_type": "markdown",
   "id": "27bcbe39-51fe-4bf5-9954-5dec35f51427",
   "metadata": {},
   "source": [
    "**Exercise 3.3**: *A*. Generate the data from your chosen model for the same number of plants as there is in the real data. Fill in the line below to make a data frame containing your real and generated data. "
   ]
  },
  {
   "cell_type": "code",
   "execution_count": null,
   "id": "bb877972-40b0-48c8-b544-4b93215d0f3a",
   "metadata": {},
   "outputs": [],
   "source": [
    "generated =  ## fill this in\n",
    "lengths = np.append(pheno['fruit_length'].values, generated)\n",
    "real = ['real']*pheno.shape[0]\n",
    "gen = ['generated']*pheno.shape[0]\n",
    "is_real = real + gen\n",
    "toplot = pd.DataFrame({'fruit_length':lengths,\n",
    "                       'is_real': is_real\n",
    "                      })\n",
    "\n"
   ]
  },
  {
   "cell_type": "markdown",
   "id": "a45566cd-835e-442d-a706-07d286c1ef2b",
   "metadata": {},
   "source": [
    "*B*. Make a histogram that plots the real data and the generated data. Discuss: are you happy with your model? Does it seem to fit the data?"
   ]
  },
  {
   "cell_type": "code",
   "execution_count": null,
   "id": "a89a8a16-5aa6-47ed-9e0b-da8d06ae9824",
   "metadata": {},
   "outputs": [],
   "source": []
  },
  {
   "cell_type": "markdown",
   "id": "11e364f8-51af-4fae-9efa-62941c46a1bc",
   "metadata": {},
   "source": [
    "**Exercise 3.4 (discuss as a group)**: The code above uses some Python I have not taught you. What is it doing? Add comments to the code."
   ]
  },
  {
   "cell_type": "markdown",
   "id": "65ad40e2-f0c7-4f09-a6a3-99ff71e752b7",
   "metadata": {},
   "source": [
    "The reason the generated data doesn't look so good is because it is too wide. There is a second **parameter** called **`scale`** which controls how wide it is."
   ]
  },
  {
   "cell_type": "markdown",
   "id": "87c20268-3b66-41a4-bf85-e39f519c3e3e",
   "metadata": {},
   "source": [
    "**Exercise 3.5**: Generate 703 observations of the distribution under models with the same loc above but different values for  values for `scale` (it must be greater than zero, you can't have a negative width)-- try 1, 5, 100). Plot each in a histogram. What do you notice?\n",
    "\n"
   ]
  },
  {
   "cell_type": "code",
   "execution_count": null,
   "id": "52593429-dc2c-4704-bb42-10ed043e1650",
   "metadata": {},
   "outputs": [],
   "source": []
  },
  {
   "cell_type": "markdown",
   "id": "03fe73ca-8b6b-48bf-b1ef-cfbbeabc7614",
   "metadata": {},
   "source": [
    "**Exercise 3.6**: Plot a histogram of bolting days. Would a normal model be appropriate for bolting days?"
   ]
  },
  {
   "cell_type": "code",
   "execution_count": null,
   "id": "02a95346-5a72-4600-b2d8-1701272b212d",
   "metadata": {},
   "outputs": [],
   "source": []
  },
  {
   "cell_type": "markdown",
   "id": "ac0b59e1-7764-47e6-86c5-35c1875c12db",
   "metadata": {},
   "source": [
    "**Exercise 3.7**: \n",
    "1. Create 20 evenly spaced values of `loc`  spaced out from 0 to 30. \n",
    "2. For each of these values, generate your plants, and get the squared difference in means like in 2.2.2. \n"
   ]
  },
  {
   "cell_type": "code",
   "execution_count": null,
   "id": "fcdd9c1f-a02e-4a03-8c27-e8d78c3c62bd",
   "metadata": {},
   "outputs": [],
   "source": []
  },
  {
   "cell_type": "markdown",
   "id": "b4a7ca4a-2728-4685-badb-f4dd06ebace5",
   "metadata": {},
   "source": [
    "3. Plot on the x-axis \"loc\" and on the y-axis the squared difference in means."
   ]
  },
  {
   "cell_type": "code",
   "execution_count": null,
   "id": "6906ccf4-2e02-41aa-a8eb-81acb81a6ebf",
   "metadata": {},
   "outputs": [],
   "source": []
  },
  {
   "cell_type": "markdown",
   "id": "d05261ac-9756-4b81-b9bd-8c0144c171aa",
   "metadata": {},
   "source": [
    "4. Get the value where the difference is smallest "
   ]
  },
  {
   "cell_type": "code",
   "execution_count": null,
   "id": "e6206530-3d38-4a61-a640-bc1da5af5947",
   "metadata": {},
   "outputs": [],
   "source": []
  },
  {
   "cell_type": "markdown",
   "id": "5b8f436f-2f3f-45dd-a3cb-dd9ea2335d88",
   "metadata": {},
   "source": [
    "**Exercise 3.8**: Repeat 3.7 but keeping your loc you picked in 3.7 and with 20 evenly spaced values for scale. Find the best secale."
   ]
  },
  {
   "cell_type": "code",
   "execution_count": null,
   "id": "b5e33f78-352b-45db-93a6-a20330f87dd6",
   "metadata": {},
   "outputs": [],
   "source": []
  }
 ],
 "metadata": {
  "kernelspec": {
   "display_name": "Python 3.9.7 ('base')",
   "language": "python",
   "name": "python3"
  },
  "language_info": {
   "codemirror_mode": {
    "name": "ipython",
    "version": 3
   },
   "file_extension": ".py",
   "mimetype": "text/x-python",
   "name": "python",
   "nbconvert_exporter": "python",
   "pygments_lexer": "ipython3",
   "version": "3.8.8"
  },
  "vscode": {
   "interpreter": {
    "hash": "e595df4329fcf3a3af43d6766bc23e541941e8ce9ea758c4bedfcbd321d7c58e"
   }
  }
 },
 "nbformat": 4,
 "nbformat_minor": 5
}
