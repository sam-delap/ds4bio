{
 "cells": [
  {
   "cell_type": "markdown",
   "id": "e20683f4-b659-462c-89a4-9837b3402519",
   "metadata": {},
   "source": [
    "## Learning objectives for this notebook\n",
    "- Describe Bernoulli and Normal models\n",
    "- Understand the relationship between models and generated observations\n",
    "- Predict how different parameters for a model will change what data is generated from that model.\n",
    "- Use data generated from a model to find a good model for the data"
   ]
  },
  {
   "cell_type": "markdown",
   "id": "9020c1f8-f6ee-400a-b7f7-2b5c58bf4e47",
   "metadata": {},
   "source": [
    "# 1. Why Modeling\n",
    "So far, we've only had a kind of visual intuition that there seems to be a difference between the fruits of the 2 genotypes but we don't really have any way to automatically discover this kind of thing.\n",
    "\n",
    "The steps of the scientific process:\n",
    "1. Form hypothesis\n",
    "2. Gather data\n",
    "3. Test hypothesis using data\n",
    "\n",
    "In data science of couse we don't need to gather data but we still must form and test a hypothesis.\n",
    "\n",
    "Possible steps of data science process:\n",
    "1. Obtain and explore data (plots, number summaries)\n",
    "2. Form hypothesis\n",
    "3. Form model to test hypothesis\n",
    "4. Test data against model.\n",
    "\n",
    "What makes a hypothesis different from a model is that a model specifies a specific way to generate **new simulated observations** given a hypothesis. We can then see how similar the actual observations are to the generated observations.\n",
    "\n",
    "1) Hypothesize probability of pandas to reproduce in a given zoo and year = 0.5\n",
    "2) Create model that we can use to generate samples of 0 or 1, (whether or not the panda reproduced or not) of what kind of results you would get if the true rate was 0.5\n",
    "3) Compare the observations generated from that model to the actual observations on panda reproduction to evaluate the model.\n",
    "\n",
    "\n",
    "## 2. Back to Bernoulli\n",
    "\n",
    "### 2.1 Sampling from a model\n",
    "The model is a thing that generates data.\n",
    "\n",
    "Models require input **parameters** that describe the distributions of the data it generates. Since the data is binary,  there is some Bernoulli model that fits it. The only input parameter here is the probability `p` of getting a 1 rather than a zero. Our hypothesis is about the value of that parameter.\n",
    "\n",
    "We can make one (using python scipy stats package) and generate data from it with the `rvs` function.\n",
    "\n",
    "By default this generates 1 observation (plant)"
   ]
  },
  {
   "cell_type": "code",
   "execution_count": 1,
   "id": "e31c9b02-d343-4e64-841b-ebb3ca834ed1",
   "metadata": {},
   "outputs": [
    {
     "data": {
      "text/plain": [
       "0"
      ]
     },
     "execution_count": 1,
     "metadata": {},
     "output_type": "execute_result"
    }
   ],
   "source": [
    "## some imports...\n",
    "import pandas as pd\n",
    "import seaborn as sns\n",
    "sns.set_theme()\n",
    "from scipy.stats import bernoulli\n",
    "\n",
    "\n",
    "bernoulli.rvs(p=0.4)"
   ]
  },
  {
   "cell_type": "markdown",
   "id": "9f0ac6cc-204a-42dc-b343-525577782efe",
   "metadata": {},
   "source": [
    "We can ask it to generate any number with `size`"
   ]
  },
  {
   "cell_type": "code",
   "execution_count": 2,
   "id": "93e511ea-cc3a-43e5-8764-9e330ef03c5e",
   "metadata": {},
   "outputs": [
    {
     "data": {
      "text/plain": [
       "array([1, 0, 1])"
      ]
     },
     "execution_count": 2,
     "metadata": {},
     "output_type": "execute_result"
    }
   ],
   "source": [
    "bernoulli.rvs(p=0.4, size = 3)"
   ]
  },
  {
   "cell_type": "markdown",
   "id": "eeb03015-8aa3-43b2-96ea-73f1cbcb3b64",
   "metadata": {},
   "source": [
    "Convince yourself that the data generated from different models is in fact different . "
   ]
  },
  {
   "cell_type": "markdown",
   "id": "69c6b442-1cbf-4e85-a55c-6f58fe7591fc",
   "metadata": {},
   "source": [
    "**Exercise 2.1.1**: *A*. Generate 100 samples of 703 plants. From the `p=0.4` model. For each sample, store how many A's (1s) there are. "
   ]
  },
  {
   "cell_type": "code",
   "execution_count": 28,
   "id": "b2edd7e6-4d01-477b-a25a-2230937680b3",
   "metadata": {},
   "outputs": [
    {
     "data": {
      "text/plain": [
       "[313,\n",
       " 274,\n",
       " 284,\n",
       " 253,\n",
       " 288,\n",
       " 279,\n",
       " 304,\n",
       " 265,\n",
       " 280,\n",
       " 273,\n",
       " 286,\n",
       " 279,\n",
       " 260,\n",
       " 284,\n",
       " 262,\n",
       " 271,\n",
       " 266,\n",
       " 282,\n",
       " 302,\n",
       " 262,\n",
       " 282,\n",
       " 294,\n",
       " 289,\n",
       " 301,\n",
       " 282,\n",
       " 276,\n",
       " 273,\n",
       " 285,\n",
       " 290,\n",
       " 284,\n",
       " 259,\n",
       " 284,\n",
       " 288,\n",
       " 272,\n",
       " 283,\n",
       " 278,\n",
       " 280,\n",
       " 278,\n",
       " 260,\n",
       " 281,\n",
       " 286,\n",
       " 269,\n",
       " 287,\n",
       " 280,\n",
       " 281,\n",
       " 286,\n",
       " 291,\n",
       " 263,\n",
       " 267,\n",
       " 287,\n",
       " 296,\n",
       " 286,\n",
       " 271,\n",
       " 272,\n",
       " 288,\n",
       " 262,\n",
       " 289,\n",
       " 299,\n",
       " 274,\n",
       " 288,\n",
       " 277,\n",
       " 279,\n",
       " 293,\n",
       " 289,\n",
       " 280,\n",
       " 286,\n",
       " 288,\n",
       " 254,\n",
       " 262,\n",
       " 279,\n",
       " 287,\n",
       " 292,\n",
       " 288,\n",
       " 278,\n",
       " 272,\n",
       " 289,\n",
       " 289,\n",
       " 298,\n",
       " 289,\n",
       " 263,\n",
       " 294,\n",
       " 290,\n",
       " 288,\n",
       " 287,\n",
       " 277,\n",
       " 292,\n",
       " 282,\n",
       " 303,\n",
       " 280,\n",
       " 275,\n",
       " 300,\n",
       " 300,\n",
       " 300,\n",
       " 315,\n",
       " 256,\n",
       " 287,\n",
       " 271,\n",
       " 293,\n",
       " 287,\n",
       " 275]"
      ]
     },
     "execution_count": 28,
     "metadata": {},
     "output_type": "execute_result"
    }
   ],
   "source": [
    "p = []\n",
    "for i in range(100):\n",
    "    model = bernoulli.rvs(p=0.4, size=703)\n",
    "    p.append(model.sum())\n",
    "\n",
    "p"
   ]
  },
  {
   "cell_type": "markdown",
   "id": "2cfc52f5-fa74-4368-b29e-e301e2de01d0",
   "metadata": {},
   "source": [
    "*B*. Make a histogram of the number of As. Interpret your histogram."
   ]
  },
  {
   "cell_type": "code",
   "execution_count": 21,
   "id": "da091ff4",
   "metadata": {},
   "outputs": [
    {
     "data": {
      "text/plain": [
       "<seaborn.axisgrid.FacetGrid at 0x1ce1dcc53d0>"
      ]
     },
     "execution_count": 21,
     "metadata": {},
     "output_type": "execute_result"
    },
    {
     "data": {
      "image/png": "[encoded data removed]",
      "text/plain": [
       "<Figure size 360x360 with 1 Axes>"
      ]
     },
     "metadata": {},
     "output_type": "display_data"
    }
   ],
   "source": [
    "sns.displot(data=l)"
   ]
  },
  {
   "cell_type": "markdown",
   "id": "4a9bb02e-86a6-4703-aac6-d5c7cf5eb4a8",
   "metadata": {},
   "source": [
    "**Exercise 2.1.2**: Copy and paste your code cell from above but change it to be  model with `p=0.9`. Compare the histograms."
   ]
  },
  {
   "cell_type": "code",
   "execution_count": 22,
   "id": "f94af9f2",
   "metadata": {},
   "outputs": [
    {
     "data": {
      "text/plain": [
       "[632,\n",
       " 625,\n",
       " 636,\n",
       " 643,\n",
       " 636,\n",
       " 652,\n",
       " 616,\n",
       " 627,\n",
       " 625,\n",
       " 647,\n",
       " 630,\n",
       " 638,\n",
       " 631,\n",
       " 624,\n",
       " 620,\n",
       " 618,\n",
       " 629,\n",
       " 622,\n",
       " 637,\n",
       " 635,\n",
       " 634,\n",
       " 631,\n",
       " 633,\n",
       " 627,\n",
       " 633,\n",
       " 628,\n",
       " 637,\n",
       " 638,\n",
       " 639,\n",
       " 642,\n",
       " 631,\n",
       " 636,\n",
       " 636,\n",
       " 629,\n",
       " 645,\n",
       " 614,\n",
       " 625,\n",
       " 633,\n",
       " 636,\n",
       " 633,\n",
       " 638,\n",
       " 630,\n",
       " 632,\n",
       " 629,\n",
       " 618,\n",
       " 648,\n",
       " 634,\n",
       " 643,\n",
       " 636,\n",
       " 649,\n",
       " 610,\n",
       " 628,\n",
       " 626,\n",
       " 633,\n",
       " 632,\n",
       " 634,\n",
       " 626,\n",
       " 622,\n",
       " 633,\n",
       " 636,\n",
       " 634,\n",
       " 635,\n",
       " 629,\n",
       " 636,\n",
       " 637,\n",
       " 644,\n",
       " 614,\n",
       " 626,\n",
       " 640,\n",
       " 626,\n",
       " 628,\n",
       " 635,\n",
       " 632,\n",
       " 636,\n",
       " 636,\n",
       " 634,\n",
       " 635,\n",
       " 618,\n",
       " 632,\n",
       " 622,\n",
       " 632,\n",
       " 636,\n",
       " 634,\n",
       " 631,\n",
       " 631,\n",
       " 624,\n",
       " 618,\n",
       " 640,\n",
       " 620,\n",
       " 643,\n",
       " 618,\n",
       " 634,\n",
       " 624,\n",
       " 639,\n",
       " 624,\n",
       " 644,\n",
       " 633,\n",
       " 631,\n",
       " 642,\n",
       " 634]"
      ]
     },
     "execution_count": 22,
     "metadata": {},
     "output_type": "execute_result"
    }
   ],
   "source": [
    "l = []\n",
    "for i in range(100):\n",
    "    model = bernoulli.rvs(p=0.9, size=703)\n",
    "    l.append(model.sum())\n",
    "\n",
    "l"
   ]
  },
  {
   "cell_type": "code",
   "execution_count": 23,
   "id": "a5a79eda",
   "metadata": {},
   "outputs": [
    {
     "data": {
      "text/plain": [
       "<seaborn.axisgrid.FacetGrid at 0x1ce1ea36b80>"
      ]
     },
     "execution_count": 23,
     "metadata": {},
     "output_type": "execute_result"
    },
    {
     "data": {
      "image/png": "[encoded data removed]",
      "text/plain": [
       "<Figure size 360x360 with 1 Axes>"
      ]
     },
     "metadata": {},
     "output_type": "display_data"
    }
   ],
   "source": [
    "sns.displot(data = l)"
   ]
  },
  {
   "cell_type": "markdown",
   "id": "3c161a73",
   "metadata": {},
   "source": [
    "<font color = lightgreen> The two histograms have a similar distribution, but the values for p = 0.4 range from 240 to 320, while for p = 0.9, they range from 610 to 655"
   ]
  },
  {
   "cell_type": "markdown",
   "id": "a4e3f4be-73d5-42bf-9710-4d3b8035441d",
   "metadata": {},
   "source": [
    "## 2.2 Finding a good model for our data\n",
    "Some models are *better* than other models in terms of how similar they are to our actual data. We compare our data to the models in order to decide which model is the best.\n",
    "\n",
    "Back to our data. I'm converting it again to 0's and 1's to make it easier to compare to observations generated by a Bernoulli."
   ]
  },
  {
   "cell_type": "code",
   "execution_count": 9,
   "id": "93177646-4d77-4904-98ec-a94c61d4fd56",
   "metadata": {},
   "outputs": [],
   "source": [
    "\n",
    "geno = pd.read_table(\"../data/arabmagic/arabmagic_geno.csv\", sep=\",\",skiprows=3,index_col=0)\n",
    "pheno = pd.read_table(\"../data/arabmagic/arabmagic_pheno.csv\", sep=\",\",skiprows=3,index_col=0)\n",
    "\n"
   ]
  },
  {
   "cell_type": "code",
   "execution_count": 10,
   "id": "a0181b17-7728-4326-a063-2d3caa57d699",
   "metadata": {},
   "outputs": [
    {
     "data": {
      "text/plain": [
       "count    703.000000\n",
       "mean       0.928876\n",
       "std        0.257214\n",
       "min        0.000000\n",
       "25%        1.000000\n",
       "50%        1.000000\n",
       "75%        1.000000\n",
       "max        1.000000\n",
       "Name: MASC06116, dtype: float64"
      ]
     },
     "execution_count": 10,
     "metadata": {},
     "output_type": "execute_result"
    }
   ],
   "source": [
    "binary_marker = (geno.loc['MASC06116',:]== 'A').astype(int)\n",
    "binary_marker.describe()"
   ]
  },
  {
   "cell_type": "markdown",
   "id": "d879c664-95f9-4017-8880-a54112c3737a",
   "metadata": {},
   "source": [
    "**Exercise 2.2.1**: Make 3 separate histograms: one for the real data, one for the generated data from from p=0.4, and one for generating data with p=0.9."
   ]
  },
  {
   "cell_type": "code",
   "execution_count": 46,
   "id": "ec7f73eb-46c1-4f8d-b7b2-6e01f89e9a92",
   "metadata": {},
   "outputs": [
    {
     "data": {
      "text/plain": [
       "<seaborn.axisgrid.FacetGrid at 0x1ce209b5df0>"
      ]
     },
     "execution_count": 46,
     "metadata": {},
     "output_type": "execute_result"
    },
    {
     "data": {
      "image/png": "[encoded data removed]",
      "text/plain": [
       "<Figure size 360x360 with 1 Axes>"
      ]
     },
     "metadata": {},
     "output_type": "display_data"
    },
    {
     "data": {
      "image/png": "[encoded data removed]",
      "text/plain": [
       "<Figure size 360x360 with 1 Axes>"
      ]
     },
     "metadata": {},
     "output_type": "display_data"
    },
    {
     "data": {
      "image/png": "[encoded data removed]",
      "text/plain": [
       "<Figure size 360x360 with 1 Axes>"
      ]
     },
     "metadata": {},
     "output_type": "display_data"
    }
   ],
   "source": [
    "sns.displot(data=binary_marker, bins = 2)\n",
    "\n",
    "sns.displot(data=bernoulli.rvs(p=0.4, size=703), bins=2)\n",
    "\n",
    "sns.displot(data=bernoulli.rvs(p=0.9, size=703), bins=2)"
   ]
  },
  {
   "cell_type": "markdown",
   "id": "9f5de640-ceff-4cf0-8769-e25130f7462d",
   "metadata": {},
   "source": [
    "**Exercise 2.2.2**: Create 100 evenly spaced values of p (probability of a 1 rather than 0) spaced out from 0 (never get a 1) to 1 (always get a 1). For each of these values, get the *squared difference* between the number of 1's in the generated data and in the real data. Save this into a data frame. Plot on the x-axis \"p\" and on the y-axis the squared difference."
   ]
  },
  {
   "cell_type": "code",
   "execution_count": 45,
   "id": "5992094f-f25a-4026-ac42-aeae5d46bfe7",
   "metadata": {},
   "outputs": [
    {
     "name": "stdout",
     "output_type": "stream",
     "text": [
      "91    0.919192\n",
      "Name: p, dtype: float64\n"
     ]
    },
    {
     "data": {
      "text/plain": [
       "<seaborn.axisgrid.FacetGrid at 0x1ce20954ee0>"
      ]
     },
     "execution_count": 45,
     "metadata": {},
     "output_type": "execute_result"
    },
    {
     "data": {
      "image/png": "[encoded data removed]",
      "text/plain": [
       "<Figure size 360x360 with 1 Axes>"
      ]
     },
     "metadata": {},
     "output_type": "display_data"
    }
   ],
   "source": [
    "import numpy as np\n",
    "\n",
    "bins = np.linspace(start=0, stop=1, num=100)\n",
    "d = []\n",
    "for p in bins:\n",
    "    model = bernoulli.rvs(p=p, size=703)\n",
    "    As = model.sum()\n",
    "    d.append((As - binary_marker.sum())**2)\n",
    "\n",
    "df = pd.DataFrame({'p':bins, 'SS':d})\n",
    "# print(df.sort_values('SS', ascending=True).head(1).loc['p'])\n",
    "sns.relplot(data=df, x='p', y='SS')"
   ]
  },
  {
   "cell_type": "code",
   "execution_count": 47,
   "id": "6ee67af4",
   "metadata": {},
   "outputs": [
    {
     "data": {
      "text/html": [
       "<div>\n",
       "<style scoped>\n",
       "    .dataframe tbody tr th:only-of-type {\n",
       "        vertical-align: middle;\n",
       "    }\n",
       "\n",
       "    .dataframe tbody tr th {\n",
       "        vertical-align: top;\n",
       "    }\n",
       "\n",
       "    .dataframe thead th {\n",
       "        text-align: right;\n",
       "    }\n",
       "</style>\n",
       "<table border=\"1\" class=\"dataframe\">\n",
       "  <thead>\n",
       "    <tr style=\"text-align: right;\">\n",
       "      <th></th>\n",
       "      <th>p</th>\n",
       "      <th>SS</th>\n",
       "    </tr>\n",
       "  </thead>\n",
       "  <tbody>\n",
       "    <tr>\n",
       "      <th>0</th>\n",
       "      <td>0.000000</td>\n",
       "      <td>426409</td>\n",
       "    </tr>\n",
       "    <tr>\n",
       "      <th>1</th>\n",
       "      <td>0.010101</td>\n",
       "      <td>410881</td>\n",
       "    </tr>\n",
       "    <tr>\n",
       "      <th>2</th>\n",
       "      <td>0.020202</td>\n",
       "      <td>404496</td>\n",
       "    </tr>\n",
       "    <tr>\n",
       "      <th>3</th>\n",
       "      <td>0.030303</td>\n",
       "      <td>403225</td>\n",
       "    </tr>\n",
       "    <tr>\n",
       "      <th>4</th>\n",
       "      <td>0.040404</td>\n",
       "      <td>389376</td>\n",
       "    </tr>\n",
       "    <tr>\n",
       "      <th>...</th>\n",
       "      <td>...</td>\n",
       "      <td>...</td>\n",
       "    </tr>\n",
       "    <tr>\n",
       "      <th>95</th>\n",
       "      <td>0.959596</td>\n",
       "      <td>676</td>\n",
       "    </tr>\n",
       "    <tr>\n",
       "      <th>96</th>\n",
       "      <td>0.969697</td>\n",
       "      <td>625</td>\n",
       "    </tr>\n",
       "    <tr>\n",
       "      <th>97</th>\n",
       "      <td>0.979798</td>\n",
       "      <td>1296</td>\n",
       "    </tr>\n",
       "    <tr>\n",
       "      <th>98</th>\n",
       "      <td>0.989899</td>\n",
       "      <td>1764</td>\n",
       "    </tr>\n",
       "    <tr>\n",
       "      <th>99</th>\n",
       "      <td>1.000000</td>\n",
       "      <td>2500</td>\n",
       "    </tr>\n",
       "  </tbody>\n",
       "</table>\n",
       "<p>100 rows × 2 columns</p>\n",
       "</div>"
      ],
      "text/plain": [
       "           p      SS\n",
       "0   0.000000  426409\n",
       "1   0.010101  410881\n",
       "2   0.020202  404496\n",
       "3   0.030303  403225\n",
       "4   0.040404  389376\n",
       "..       ...     ...\n",
       "95  0.959596     676\n",
       "96  0.969697     625\n",
       "97  0.979798    1296\n",
       "98  0.989899    1764\n",
       "99  1.000000    2500\n",
       "\n",
       "[100 rows x 2 columns]"
      ]
     },
     "execution_count": 47,
     "metadata": {},
     "output_type": "execute_result"
    }
   ],
   "source": [
    "df"
   ]
  },
  {
   "cell_type": "markdown",
   "id": "36435e78-6e83-4255-8b78-2b1080e6b202",
   "metadata": {},
   "source": [
    "**Exercise 2.2.3**: Find the best value based on the smallest squared difference above in exercise 2.2.2. Generate the genotypes of plants from this model and plot the histogram, and compare it to the real data histogram and the other histograms form 2.2.1"
   ]
  },
  {
   "cell_type": "code",
   "execution_count": 53,
   "id": "7415294c-38ec-4c51-a02e-42af2feeeb61",
   "metadata": {},
   "outputs": [
    {
     "data": {
      "text/plain": [
       "<seaborn.axisgrid.FacetGrid at 0x1ce20a7e790>"
      ]
     },
     "execution_count": 53,
     "metadata": {},
     "output_type": "execute_result"
    },
    {
     "data": {
      "image/png": "[encoded data removed]",
      "text/plain": [
       "<Figure size 360x360 with 1 Axes>"
      ]
     },
     "metadata": {},
     "output_type": "display_data"
    }
   ],
   "source": [
    "df = df.sort_values('SS', ascending=True)\n",
    "best_model = bernoulli.rvs(p=df.loc[:,'p'].head(1), size=703)\n",
    "sns.displot(data=best_model, bins=2)"
   ]
  },
  {
   "cell_type": "markdown",
   "id": "55315886-5976-49bf-951d-2f4929dc9908",
   "metadata": {},
   "source": [
    "<font color = lightgreen> It's really similar to the actual data!"
   ]
  },
  {
   "cell_type": "markdown",
   "id": "c8b8960b-9387-47b7-81f9-e46bd96e8ead",
   "metadata": {},
   "source": [
    "# 3. Normal (Gaussian) model for number data\n",
    "Just like with the Binary data and the Bernoulli, there are built-in models for number data.\n",
    "\n",
    "The bell curve aka Normal aka Guassian model is good for modeling data that is:\n",
    "- numbers\n",
    "- most of them are close to the mean\n",
    "- distribution is symmetricl\n",
    "\n",
    "Just like the Bernoulli we can import the `norm` (normal) and use it to generate observations. \n",
    "\n",
    "And just like the Bernoulli we can tell it to use  particular **parameters**. The first one we'll learn is called `loc` which specifies the mean. The default is 0:"
   ]
  },
  {
   "cell_type": "code",
   "execution_count": null,
   "id": "5af3a10f-518d-45fd-b4f3-7da037dfa764",
   "metadata": {},
   "outputs": [],
   "source": [
    "from scipy.stats import norm\n",
    "norm.rvs()"
   ]
  },
  {
   "cell_type": "markdown",
   "id": "8cf5796f-12a0-4885-bf51-fa45c23badcb",
   "metadata": {},
   "source": [
    "Another `loc`."
   ]
  },
  {
   "cell_type": "code",
   "execution_count": null,
   "id": "e7befedd-d083-4a9c-abbe-81e88ab5a189",
   "metadata": {},
   "outputs": [],
   "source": [
    "norm.rvs(loc = 10)"
   ]
  },
  {
   "cell_type": "markdown",
   "id": "aa526565-de4e-462a-b26f-a71fdfb6baaf",
   "metadata": {},
   "source": [
    "Sme thing with the size argument"
   ]
  },
  {
   "cell_type": "code",
   "execution_count": null,
   "id": "e2e8d919-0ebc-48ef-a702-d4d15af5a7ec",
   "metadata": {},
   "outputs": [],
   "source": [
    "norm.rvs(loc = 10, size=5)"
   ]
  },
  {
   "cell_type": "markdown",
   "id": "bf23d3ac-57d3-4656-8b20-451861ddaec5",
   "metadata": {},
   "source": [
    "**Exercise 3.1**: Generate 1000 observations of the distribution under models with different values for `loc` (such as, -5, 1, 100). Plot each in a histogram. What do you notice?"
   ]
  },
  {
   "cell_type": "markdown",
   "id": "f2aff547-c182-42b3-ad67-b9c7491ca70c",
   "metadata": {},
   "source": [
    "**Exercise 3.2 (think & discuss)**: Look at the histogram of the fruit_length data. What model could you make that could generate observations that look like that:\n",
    "- Would you use Bernoulli or normal? Why?\n",
    "- What do you think would be a good `loc` to make a model of the fruit_length?"
   ]
  },
  {
   "cell_type": "code",
   "execution_count": null,
   "id": "aaa4347b-a98e-43ec-b502-f33d3b37356e",
   "metadata": {},
   "outputs": [],
   "source": [
    "sns.displot(data=pheno, x=\"fruit_length\")"
   ]
  },
  {
   "cell_type": "markdown",
   "id": "b6706b44-6a19-45ed-b1fd-aa99e85d3360",
   "metadata": {},
   "source": [
    "**Exercise 3.3**: *A*. Generate the data from your chosen model for the same number of plants as there is in the real data. Fill in the line below to make a data frame containing your real and generated data. "
   ]
  },
  {
   "cell_type": "code",
   "execution_count": null,
   "id": "0e2fb53c-0d8b-4f43-a654-3580d352eb1d",
   "metadata": {},
   "outputs": [],
   "source": [
    "generated =  ## fill this in\n",
    "lengths = np.append(pheno['fruit_length'].values, generated)\n",
    "real = ['real']*pheno.shape[0]\n",
    "gen = ['generated']*pheno.shape[0]\n",
    "is_real = real + gen\n",
    "toplot = pd.DataFrame({'fruit_length':lengths,\n",
    "                       'is_real': is_real\n",
    "                      })\n",
    "\n"
   ]
  },
  {
   "cell_type": "markdown",
   "id": "e8779128-c7fc-46c2-8906-c906cef52d03",
   "metadata": {},
   "source": [
    "*B*. Make a histogram that plots the real data and the generated data. Discuss: are you happy with your model? Does it seem to fit the data?"
   ]
  },
  {
   "cell_type": "code",
   "execution_count": null,
   "id": "5f3f3d46-5bea-471f-92ea-b1ee34dd57aa",
   "metadata": {},
   "outputs": [],
   "source": []
  },
  {
   "cell_type": "markdown",
   "id": "293fd4e7-6c87-40ac-96ef-4348829723a1",
   "metadata": {},
   "source": [
    "**Exercise 3.4 (discuss as a group)**: The code above uses some Python I have not taught you. What is it doing? Add comments to the code."
   ]
  },
  {
   "cell_type": "markdown",
   "id": "6d213a17-0168-4f5c-8fda-1466fcb7ceec",
   "metadata": {},
   "source": [
    "The reason the generated data doesn't look so good is because it is too wide. There is a second **parameter** called **`scale`** which controls how wide it is."
   ]
  },
  {
   "cell_type": "markdown",
   "id": "b3919f37-6c49-4f02-9300-9cc64c3bbec7",
   "metadata": {},
   "source": [
    "**Exercise 3.5**: Generate 703 observations of the distribution under models with the same loc above but different values for  values for `scale` (it must be greater than zero, you can't have a negative width)-- try 1, 5, 100). Plot each in a histogram. What do you notice?\n",
    "\n"
   ]
  },
  {
   "cell_type": "code",
   "execution_count": null,
   "id": "cee3e4b9-6cb3-41a0-be57-327baadd9dae",
   "metadata": {},
   "outputs": [],
   "source": []
  },
  {
   "cell_type": "markdown",
   "id": "ae90fa63-f63f-456d-b7c4-5a2374caae1c",
   "metadata": {},
   "source": [
    "**Exercise 3.6**: Plot a histogram of bolting days. Would a normal model be appropriate for bolting days?"
   ]
  },
  {
   "cell_type": "code",
   "execution_count": null,
   "id": "4790a20d-49b4-495e-adb8-5dbf4b096a30",
   "metadata": {},
   "outputs": [],
   "source": []
  },
  {
   "cell_type": "markdown",
   "id": "2143c3da-b3a9-4412-9d02-9acd5e7ef732",
   "metadata": {},
   "source": [
    "**Exercise 3.7**: \n",
    "1. Create 20 evenly spaced values of `loc`  spaced out from 0 to 30. \n",
    "2. For each of these values, generate your plants, and get the squared difference in means like in 2.2.2. \n"
   ]
  },
  {
   "cell_type": "code",
   "execution_count": null,
   "id": "1d048a96-a928-4718-b133-fcfc015cac5f",
   "metadata": {},
   "outputs": [],
   "source": []
  },
  {
   "cell_type": "markdown",
   "id": "0efabe34-49dc-4b1d-a2bf-c4b3f78c48ae",
   "metadata": {},
   "source": [
    "3. Plot on the x-axis \"loc\" and on the y-axis the squared difference in means."
   ]
  },
  {
   "cell_type": "code",
   "execution_count": null,
   "id": "9f099919-1c17-49df-a2aa-d21cdbc12fd3",
   "metadata": {},
   "outputs": [],
   "source": []
  },
  {
   "cell_type": "markdown",
   "id": "b276a702-c2a5-4dbb-a88b-65a3a92255db",
   "metadata": {},
   "source": [
    "4. Get the value where the difference is smallest "
   ]
  },
  {
   "cell_type": "code",
   "execution_count": null,
   "id": "485db535-fde4-44cb-b5ad-26751e1d9931",
   "metadata": {},
   "outputs": [],
   "source": []
  },
  {
   "cell_type": "markdown",
   "id": "c17b7d80-ef88-421e-9eb8-8e4ccb3789eb",
   "metadata": {},
   "source": [
    "**Exercise 3.8**: Repeat 3.7 but keeping your loc you picked in 3.7 and with 20 evenly spaced values for scale. Find the best secale."
   ]
  },
  {
   "cell_type": "code",
   "execution_count": null,
   "id": "4a7637c4-98e5-4528-8286-31fd827f606c",
   "metadata": {},
   "outputs": [],
   "source": []
  }
 ],
 "metadata": {
  "kernelspec": {
   "display_name": "Python 3.9.7 ('base')",
   "language": "python",
   "name": "python3"
  },
  "language_info": {
   "codemirror_mode": {
    "name": "ipython",
    "version": 3
   },
   "file_extension": ".py",
   "mimetype": "text/x-python",
   "name": "python",
   "nbconvert_exporter": "python",
   "pygments_lexer": "ipython3",
   "version": "3.8.8"
  },
  "vscode": {
   "interpreter": {
    "hash": "e595df4329fcf3a3af43d6766bc23e541941e8ce9ea758c4bedfcbd321d7c58e"
   }
  }
 },
 "nbformat": 4,
 "nbformat_minor": 5
}
