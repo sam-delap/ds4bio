{
 "cells": [
  {
   "cell_type": "markdown",
   "id": "dc1a9e15-c028-4a85-adfd-3c91e44534a8",
   "metadata": {},
   "source": [
    "## Learning objectives for today:\n",
    "- Can appropriately use `if`, `elif`, `else`\n",
    "- Describe when you'd use a list, set, or dictionary\n",
    "- Create, modify, and access values from lists and dictionaries\n"
   ]
  },
  {
   "cell_type": "markdown",
   "id": "bed59fb8-085b-4577-820b-50efa2a59079",
   "metadata": {},
   "source": [
    "## Daily homework Sept 19\n",
    "\n",
    "Below is the homework. \n",
    "\n",
    "Daily Homework Sep 20: Here's the reference for the GTF format: https://www.gencodegenes.org/pages/data_format.html\n",
    " \n",
    "Write code that can operate on 2 variables:\n",
    "1) `gencode_line` is a string storing a line from the gencode file in GTF format,\n",
    "2) `feature` the name of which feature you want  to extract from that line.\n",
    " \n",
    "Depending on what  feature is  (options are \"chromosome\" , \"start\", or \"type\" ), your code will print out that part of the gencode_line. If feature is not one of those 3 options, print \"not found\"\n",
    "It must operate on these variables so that if I changed the variables the output would change.\n",
    "\n",
    "\n",
    "**Write your group answer at teh end of the cell below. Then remove the `#` to un-comment out the lines changing what's stored in feature, and verify that your code works as expected**"
   ]
  },
  {
   "cell_type": "code",
   "execution_count": 1,
   "id": "c1c3e2d0-b868-44af-83d6-75ade3ad7f30",
   "metadata": {},
   "outputs": [],
   "source": [
    "gencode_line = 'chr1    HAVANA    CDS    65565    65573    .    +    0    gene_id \"ENSG00000186092.6\"; transcript_id \"ENST00000641515.2\"; gene_type \"protein_coding\"; gene_name \"OR4F5\"; transcript_type \"protein_coding\"; transcript_name \"OR4F5-202\"; exon_number 2; exon_id \"ENSE00003813641.1\"; level 2; protein_id \"ENSP00000493376.2\"; hgnc_id \"HGNC:14825\"; tag \"RNA_Seq_supported_partial\"; tag \"basic\"; havana_gene \"OTTHUMG00000001094.4\"; havana_transcript \"OTTHUMT00000003223.4\";\"'\n",
    "feature = \"chromosome\"\n",
    "#feature = \"start\"\n",
    "#feature = \"type\"\n",
    "#feature = \"blah\"\n",
    "\n",
    "# write your answer HERE!"
   ]
  },
  {
   "cell_type": "markdown",
   "id": "307ad79c-124f-4fff-bd17-43b7030a155b",
   "metadata": {},
   "source": [
    "# 1. Data structures"
   ]
  },
  {
   "cell_type": "markdown",
   "id": "9605e0dd-2b18-4442-9ea5-f6193c2cf864",
   "metadata": {},
   "source": [
    "## 1.1 Sets\n",
    "A set is like a list but it only has unique elements. This can be very useful! You can make one like this:"
   ]
  },
  {
   "cell_type": "code",
   "execution_count": null,
   "id": "d40cc3d6-0b6c-4869-be77-4ea42deb42bd",
   "metadata": {},
   "outputs": [],
   "source": [
    "input_list = ['duck', 'duck', 'goose']\n",
    "first_set = set(input_list)\n",
    "first_set"
   ]
  },
  {
   "cell_type": "markdown",
   "id": "80894e6e-2c90-4c5f-9d25-8ecc81452dfb",
   "metadata": {},
   "source": [
    "**Question**: \n",
    "- What is the name of the function I just used?\n",
    "- What is the input to the function?"
   ]
  },
  {
   "cell_type": "code",
   "execution_count": 2,
   "id": "27ec3c64-e048-4a95-b5f0-3187950d12d5",
   "metadata": {},
   "outputs": [],
   "source": [
    "plants = ['Cabbage', 'Coffee', 'Corn', 'Tea', 'Tomato', 'Apple', 'Potato']\n",
    "\n",
    "\n",
    "places = ['Europe',\n",
    "             'Africa',\n",
    "             'North America',\n",
    "             'Asia',\n",
    "             'North America',\n",
    "             'Asia',\n",
    "             'South America']\n",
    "\n"
   ]
  },
  {
   "cell_type": "markdown",
   "id": "f0b2bf00-917e-4fd5-a2d4-fc6a4c80f91f",
   "metadata": {},
   "source": [
    "Just like with `list` and `dict` you can find how many elements are in the set using `len`. Write code to get the number of continents from the set. What do you expect the result to be?"
   ]
  },
  {
   "cell_type": "markdown",
   "id": "8cbd3979-b0ec-47ef-95a0-c023a30bcffe",
   "metadata": {},
   "source": [
    "Look at our `places` list above.\n",
    "\n",
    "**Exercise 1.1.1**: Write code to obtain the unique continents in the `places` list. What do you expect to get? How many items should be in the set? Verify that your prediction was correct."
   ]
  },
  {
   "cell_type": "markdown",
   "id": "11a777cd-1335-482d-8936-52d6f743e467",
   "metadata": {},
   "source": [
    "## 1.2 Dictionaries\n",
    "You would never actually store a data set like our plant-place data in lists. A more natural way to store related pairs of data is the dict which stores \"key-value pairs\". You create it like this:\n",
    "`dictVariable = {key1:value1, key2:value2, .... }`\n",
    "\n"
   ]
  },
  {
   "cell_type": "code",
   "execution_count": null,
   "id": "17d33dd4-50a2-4d79-b080-660a1b6ebbd0",
   "metadata": {},
   "outputs": [],
   "source": [
    "plant2place = {'Cabbage': 'Europe',\n",
    "             'Coffee': 'Africa',\n",
    "             'Corn': 'North America',\n",
    "             'Tea': 'Asia',\n",
    "             'Tomato': 'North America',\n",
    "             'Apple': 'Asia',\n",
    "             'Potato': 'South America'}"
   ]
  },
  {
   "cell_type": "markdown",
   "id": "4e1cde33-50ad-4f27-bc2c-4b6228f68451",
   "metadata": {},
   "source": [
    "Like if you wanted to store pairs of the name and phone numbers:"
   ]
  },
  {
   "cell_type": "code",
   "execution_count": null,
   "id": "9c3ba3a1-10fc-49bb-b7c5-9886c223fb97",
   "metadata": {},
   "outputs": [],
   "source": [
    "phone_numbers = {'Lupita':  '978 656 8750',\n",
    "                'Egyptian grill':  '978 455 9698'}"
   ]
  },
  {
   "cell_type": "markdown",
   "id": "03ae7b70-d622-44bf-8a5a-4d30785fc272",
   "metadata": {},
   "source": [
    "Unlike the list where you look up values by the position, you look up values by *key*:"
   ]
  },
  {
   "cell_type": "code",
   "execution_count": null,
   "id": "3a90a65e-6640-4e5c-836c-34b4281635f5",
   "metadata": {},
   "outputs": [],
   "source": [
    "plant2place['Cabbage']"
   ]
  },
  {
   "cell_type": "code",
   "execution_count": null,
   "id": "5b0d9216-3af4-44ba-aff4-667f65228e6d",
   "metadata": {},
   "outputs": [],
   "source": [
    "phone_numbers['Lupita']"
   ]
  },
  {
   "cell_type": "markdown",
   "id": "b1f9ae91-6a7b-4a2e-b8a4-ff62e95ea29c",
   "metadata": {},
   "source": [
    "**Exercise 1.2.1**:\n",
    "*1.2.1A*: Write code to create a dictionary to store the number of each of the following body parts a person is typically born with:\n",
    "- eyes\n",
    "- nose\n",
    "- fingers\n",
    "\n"
   ]
  },
  {
   "cell_type": "code",
   "execution_count": null,
   "id": "db1116b4-2b0b-4bb1-82ee-5a6014c384cd",
   "metadata": {},
   "outputs": [],
   "source": []
  },
  {
   "cell_type": "markdown",
   "id": "631bc40e-621b-42dd-b17f-91f81335af0f",
   "metadata": {},
   "source": [
    "*1.2.1B*: Write code to look up the number of fingers a person has."
   ]
  },
  {
   "cell_type": "markdown",
   "id": "2ecb28da-cb94-435e-9095-0732cc477f9e",
   "metadata": {},
   "source": [
    "You can store items in a dictionary by **assigning** again, where you specify the key and assign the value to that key:"
   ]
  },
  {
   "cell_type": "code",
   "execution_count": null,
   "id": "cc941ad0-708f-42e9-9643-21700d3b857e",
   "metadata": {},
   "outputs": [],
   "source": [
    "plant2place['Mango'] = 'Asia'\n",
    "\n",
    "plant2place['Coconut'] = 'Antarctica'"
   ]
  },
  {
   "cell_type": "markdown",
   "id": "0c9b00b5-8433-4441-9208-f1c2cdc05ddf",
   "metadata": {},
   "source": [
    "You can replace a dictionary value just be re-assigning over it, just like for a variable:"
   ]
  },
  {
   "cell_type": "code",
   "execution_count": null,
   "id": "b44d1bdd-c612-4100-b2fb-c50749d68b6b",
   "metadata": {},
   "outputs": [],
   "source": [
    "plant2place['Coconut'] = 'Asia'"
   ]
  },
  {
   "cell_type": "code",
   "execution_count": null,
   "id": "e1b2bc32-92ba-4fca-b0d9-adf5d46da86c",
   "metadata": {},
   "outputs": [],
   "source": []
  },
  {
   "cell_type": "markdown",
   "id": "0790784b-50d3-4cbc-b75f-2992052f40b6",
   "metadata": {},
   "source": [
    "You can check if a key is assigned to the dictionary using the `in` operator:"
   ]
  },
  {
   "cell_type": "code",
   "execution_count": null,
   "id": "a0b9d249-f08a-4efb-9cf0-d3c83b84e6d9",
   "metadata": {},
   "outputs": [],
   "source": [
    "'Mango' in plant2place"
   ]
  },
  {
   "cell_type": "code",
   "execution_count": null,
   "id": "18e1e607-7609-4d10-b32b-02a57fa86a23",
   "metadata": {},
   "outputs": [],
   "source": [
    "'Banana' in plant2place"
   ]
  },
  {
   "cell_type": "markdown",
   "id": "cb251afc-b798-4844-b3fd-60485aaea055",
   "metadata": {},
   "source": [
    "**Exercise 1.2.2**: Write code that can use any 2 variables `plant` and `place`. It should check if `plant` is in the dictionary and only if it's not in the dictionary, assign it in there so the place the plant is from is stored."
   ]
  },
  {
   "cell_type": "code",
   "execution_count": null,
   "id": "e7f8b7d8-617c-4268-b387-40c2e2fd9b22",
   "metadata": {},
   "outputs": [],
   "source": []
  },
  {
   "cell_type": "markdown",
   "id": "67bc025b-2b3b-43cb-8648-25c51ad5fc38",
   "metadata": {},
   "source": [
    "**Self check**: Fill in the following table with examples of code:\n",
    "\n",
    "|thing to do | list | dictionary |\n",
    "|--- |--- |--- |\n",
    "|making one | `a_dict={'a':1, 'b':2,'c':3}`  | `a_list = ['a','b','c']` |\n",
    "|adding a new item | |\n",
    "|retrieving an existing item | |\n",
    "|example of a query that won't work (given your code above)| |\n",
    "|how to check if indexer is valid | |\n"
   ]
  },
  {
   "cell_type": "markdown",
   "id": "ba4554d9-45ca-4644-9e23-9dd9d214e7f9",
   "metadata": {},
   "source": [
    "## 2. Loops\n",
    "**Conditions** (if / elif /else ) control *whether or not* a code gets executed. \n",
    "\n",
    "**Loops** instead execute the same code over and over but with a different variable.\n",
    "\n",
    "You can think of it as an assembly line. Think of the 4 guys here as 4 lines of code inside a loop.\n",
    "\n",
    "*For* every widget that comes down the line, the first person files it, then Charlie Chaplin tightens it, then the person with the mustache hammers it, then the person with the hat brushes it. They do the exact same thing over and over again but each time with a new widget."
   ]
  },
  {
   "cell_type": "markdown",
   "id": "d1dd850f-da47-4820-8bfb-f647335a1ee6",
   "metadata": {},
   "source": [
    "![img](http://i.cdn.turner.com/cnn/2010/OPINION/11/29/zelizer.chaplin.modern.times/t1larg.charlie.chaplin.modern.times.scene.gi.jpg \"assembly lines\")"
   ]
  },
  {
   "cell_type": "markdown",
   "id": "10f033dd-6685-4772-8f09-ddcecdfd6a10",
   "metadata": {},
   "source": [
    "For the assembly line, someone must be loading the things on the front... In our case, python will set up the assembly line with `for` and load variables at you if you load it up with something like a list. You use the special word `for` like this:\n",
    "\n",
    "```\n",
    "for next_widget in widget_list:\n",
    "    file next_widget\n",
    "    tighten next_widget\n",
    "    hammer next_widget \n",
    "    brush next_widget\n",
    "```"
   ]
  },
  {
   "cell_type": "markdown",
   "id": "c06bca8f-c4af-43bc-98ad-3cd4ab00f619",
   "metadata": {},
   "source": [
    "You can **loop** over the plants and execute the same print line, but each time the value of `fave_food` is assigned to the next item in the list."
   ]
  },
  {
   "cell_type": "code",
   "execution_count": null,
   "id": "e18ee0d7-1984-4c9e-9496-7807f0c62ec6",
   "metadata": {},
   "outputs": [],
   "source": [
    "for fave_food in plants:\n",
    "    # the first line makes a new string using current variable given by the \"for\"\n",
    "    to_print = \"my favorite food is \" + fave_food\n",
    "    \n",
    "    # this line then takes that variable then prints it\n",
    "    print(to_print)\n",
    "    "
   ]
  },
  {
   "cell_type": "markdown",
   "id": "0dd1a799-0533-48f4-8d3c-a166aca4ed11",
   "metadata": {},
   "source": [
    "Basically python is allowing you to run repetitive code and be flexible about how many times you should run it. \n",
    "\n",
    "Each time through the loop is called an **iteration**.\n",
    "What the computer is doing in each of the first 3 iterations: "
   ]
  },
  {
   "cell_type": "code",
   "execution_count": null,
   "id": "d2f166f9-bfcd-4d88-b9a3-f8692fad7bf2",
   "metadata": {},
   "outputs": [],
   "source": [
    "fave_food = plants[0]\n",
    "to_print = \"my favorite food is \" + fave_food\n",
    "print(to_print)\n",
    "\n",
    "fave_food = plants[1]\n",
    "to_print = \"my favorite food is \" + fave_food\n",
    "print(to_print)\n",
    "\n",
    "fave_food = plants[2]\n",
    "to_print = \"my favorite food is \" + fave_food\n",
    "print(to_print)\n",
    "\n",
    "# and so on..."
   ]
  },
  {
   "cell_type": "markdown",
   "id": "9ba0a786-2bba-4c70-82ad-25543607627f",
   "metadata": {},
   "source": [
    "Instead of a list, you can also use the function `range` and specify what number you want to go up to. If you give it one number it will go from 0 to that number - 1"
   ]
  },
  {
   "cell_type": "code",
   "execution_count": null,
   "id": "b7c9380c-0b44-4b77-89ac-d60ce71c810d",
   "metadata": {},
   "outputs": [],
   "source": [
    "for i in range(5):\n",
    "        print('looping #' ,i)"
   ]
  },
  {
   "cell_type": "markdown",
   "id": "217b2906-9401-48b3-8abd-1c35d1ce05b3",
   "metadata": {},
   "source": [
    "Otherwise if you give it 2 numbers, it will go from the first to the second - 1"
   ]
  },
  {
   "cell_type": "code",
   "execution_count": null,
   "id": "015b47ef-d2bc-4ed2-84ab-680dc1d90e19",
   "metadata": {},
   "outputs": [],
   "source": [
    "for i in range(2, 5):\n",
    "        print('looping #' ,i)"
   ]
  },
  {
   "cell_type": "markdown",
   "id": "01d69099-85e1-4381-a37e-d1e666e7f1ea",
   "metadata": {},
   "source": [
    "You can **loop** over the plants and execute the same print line, but each time the value of `fave_food` is assigned to the next item in the list."
   ]
  },
  {
   "cell_type": "markdown",
   "id": "32c0558e-c965-4a63-8d64-2bbc4ea9c276",
   "metadata": {},
   "source": [
    "#### Self-check\n",
    "\n",
    "1. Copy the loop above and change the text to say \"I hate Cabbage\"\n",
    "2. Write a loop that uses `range` to get the plant at each position and print \"my favorite plant is Cabbage\" etc, for each plant."
   ]
  },
  {
   "cell_type": "markdown",
   "id": "b5d4c812-ac2c-4824-91d1-b025fd4f86b8",
   "metadata": {},
   "source": [
    "**Exercise 2.1**: \n",
    "\n",
    "A. Write a for loop below that loops thrugh the numbers -10 to +10 and prints out what the number is"
   ]
  },
  {
   "cell_type": "code",
   "execution_count": null,
   "id": "b08b7bdc-0164-408e-aa07-d27b98bb9d7c",
   "metadata": {},
   "outputs": [],
   "source": []
  },
  {
   "cell_type": "markdown",
   "id": "f9730272-2180-4143-bb25-e36e8dc02d60",
   "metadata": {},
   "source": [
    "B. Copy your loop below and add a line  so it prints out the Plant at that index in the `plants` list if it's a valid index, or else says \"too low\" if the number is too low to be an index, or else says too high if  the number is too high to be a valid index"
   ]
  },
  {
   "cell_type": "code",
   "execution_count": null,
   "id": "c59828da-582c-4e2a-a3bf-34fbd6300a6d",
   "metadata": {},
   "outputs": [],
   "source": []
  },
  {
   "cell_type": "markdown",
   "id": "2ad9d4a6-7c29-43b0-9d96-f9d7af9f3bf1",
   "metadata": {},
   "source": [
    "**Self-check**\n",
    "Edit the loop from 2.1A it again but have then edit it to add in our absolute value result. So that if the value is too low for |value| < 3 it will say too low, etc"
   ]
  },
  {
   "cell_type": "markdown",
   "id": "edc71076-76fd-4c1f-8f7e-16ce603d8bce",
   "metadata": {},
   "source": [
    "**Exercise 2.2 Discuss**: List 2 advantages of a loop versus not using a loop "
   ]
  },
  {
   "cell_type": "markdown",
   "id": "91fb614a-15e4-4946-b6e4-01d51d6e41d9",
   "metadata": {},
   "source": [
    "**Self-check**\n",
    "Edit the loop below. Change it so it loops through from 0 to 10 and prints the number, but skips 3."
   ]
  },
  {
   "cell_type": "code",
   "execution_count": null,
   "id": "a5d9cc90-2970-465d-9f1f-065954bcc5a1",
   "metadata": {},
   "outputs": [],
   "source": [
    "for i in range(10):\n",
    "    print(\"next number\",i)"
   ]
  },
  {
   "cell_type": "markdown",
   "id": "1fb6fca8-df6c-4ab9-8cbf-8da78e52fad0",
   "metadata": {},
   "source": [
    "### 2.2 Looping over dictionary\n",
    "Here are our plants and places again. You can loop over a dictionary in the same way. The loop will loop over the *keys* of the ditionary:"
   ]
  },
  {
   "cell_type": "code",
   "execution_count": null,
   "id": "65209925-0c89-43de-82f8-e72950f9894f",
   "metadata": {},
   "outputs": [],
   "source": [
    "plant2place = {'Cabbage': 'Europe',\n",
    "             'Coffee': 'Africa',\n",
    "             'Corn': 'North America',\n",
    "             'Tea': 'Asia',\n",
    "             'Tomato': 'North America',\n",
    "             'Apple': 'Asia',\n",
    "             'Potato': 'South America'}"
   ]
  },
  {
   "cell_type": "code",
   "execution_count": null,
   "id": "236dda91-316b-4e6b-afc8-5fe0f6e99964",
   "metadata": {},
   "outputs": [],
   "source": [
    "for x in plant2place:\n",
    "    print('plant is', x)"
   ]
  },
  {
   "cell_type": "code",
   "execution_count": null,
   "id": "af0289a8-9cc7-4f8d-b033-e7c1418fb02e",
   "metadata": {},
   "outputs": [],
   "source": [
    "gencode_line = 'chr1\tHAVANA\tCDS\t65565\t65573\t.\t+\t0\tgene_id \"ENSG00000186092.6\"; transcript_id \"ENST00000641515.2\"; gene_type \"protein_coding\"; gene_name \"OR4F5\"; transcript_type \"protein_coding\"; transcript_name \"OR4F5-202\"; exon_number 2; exon_id \"ENSE00003813641.1\"; level 2; protein_id \"ENSP00000493376.2\"; hgnc_id \"HGNC:14825\"; tag \"RNA_Seq_supported_partial\"; tag \"basic\"; havana_gene \"OTTHUMG00000001094.4\"; havana_transcript \"OTTHUMT00000003223.4\";\"'\n",
    "\n",
    "another_line = 'chr1\tHAVANA\texon\t11869\t12227\t.\t+\t.\tgene_id \"ENSG00000223972.5\"; transcript_id \"ENST00000456328.2\"; gene_type \"transcribed_unprocessed_pseudogene\"; gene_name \"DDX11L1\"; transcript_type \"processed_transcript\"; transcript_name \"DDX11L1-202\"; exon_number 1; exon_id \"ENSE00002234944.1\"; level 2; transcript_support_level \"1\"; hgnc_id \"HGNC:37102\"; tag \"basic\"; havana_gene \"OTTHUMG00000000961.2\"; havana_transcript \"OTTHUMT00000362751.1\";'"
   ]
  },
  {
   "cell_type": "markdown",
   "id": "f6ee75aa-994c-41a1-b405-cbcee00812d9",
   "metadata": {},
   "source": [
    "**Exercise 2.2.1**: \n",
    "\n",
    "A. write a loop that will loop over the plant2place and for every plant extract the place it's from and print that.  "
   ]
  },
  {
   "cell_type": "code",
   "execution_count": null,
   "id": "9ef3b0bb-d44d-4335-a900-f878d5a3c6ee",
   "metadata": {},
   "outputs": [],
   "source": []
  },
  {
   "cell_type": "markdown",
   "id": "cd93ae9f-d9ce-4e67-b5c6-fdd48f86b00b",
   "metadata": {},
   "source": [
    "B. Change your loop and have it print out a line like \"Cabbage originated from Europe\" for every plant"
   ]
  },
  {
   "cell_type": "code",
   "execution_count": null,
   "id": "fbe774a5-c893-4de3-8ca7-d0e29c10c960",
   "metadata": {},
   "outputs": [],
   "source": []
  },
  {
   "cell_type": "markdown",
   "id": "9c6ed1f8-97eb-4a3b-a498-58a3747c79b9",
   "metadata": {},
   "source": [
    "## 2.3 Looping through lines in a file\n",
    "Where it's very handy is looping through a file using the Python function `open` that opens a file stored on your computer so we can read in one line at a time.\n",
    "\n",
    "Make a text file *in Jupyter* (File --> New --> Text File) and write 3 sentences in it. Put each sentence on a different line. Rename it to be \"testfile.txt\".\n",
    "\n",
    "You can loop through lines in a file like this:"
   ]
  },
  {
   "cell_type": "markdown",
   "id": "78c1fd83",
   "metadata": {},
   "source": [
    "You can remove newlines using strip"
   ]
  },
  {
   "cell_type": "code",
   "execution_count": 4,
   "id": "099f386e-00d8-4a6c-a677-1f1587db2278",
   "metadata": {},
   "outputs": [
    {
     "name": "stdout",
     "output_type": "stream",
     "text": [
      "my line is  The quick brown fox jumps over the lazy dog\n",
      "my line is  I ran away\n",
      "my line is  Hello, world!\n"
     ]
    }
   ],
   "source": [
    "for one_line in open(\"testfile.txt\"):\n",
    "    print(\"my line is \", one_line.strip())"
   ]
  },
  {
   "cell_type": "markdown",
   "id": "3e75bb67-cfbd-4dd3-87d0-579d6f42bad4",
   "metadata": {},
   "source": [
    "Each time through the loop, python reads in another line of the file and puts it into the variable `one_line`\n",
    "\n",
    "#### Self-check\n",
    "Write another \"for\" loop that goes through the lines of that same file, and prints the **first word** of each sentence.\n",
    "\n"
   ]
  },
  {
   "cell_type": "code",
   "execution_count": null,
   "id": "ba8cbde2-7f38-4580-9bd7-b03ed8aea1d7",
   "metadata": {},
   "outputs": [],
   "source": []
  }
 ],
 "metadata": {
  "kernelspec": {
   "display_name": "Python 3.9.7 ('base')",
   "language": "python",
   "name": "python3"
  },
  "language_info": {
   "codemirror_mode": {
    "name": "ipython",
    "version": 3
   },
   "file_extension": ".py",
   "mimetype": "text/x-python",
   "name": "python",
   "nbconvert_exporter": "python",
   "pygments_lexer": "ipython3",
   "version": "3.9.7"
  },
  "vscode": {
   "interpreter": {
    "hash": "e595df4329fcf3a3af43d6766bc23e541941e8ce9ea758c4bedfcbd321d7c58e"
   }
  }
 },
 "nbformat": 4,
 "nbformat_minor": 5
}
