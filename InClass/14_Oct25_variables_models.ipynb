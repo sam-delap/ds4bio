{
 "cells": [
  {
   "cell_type": "markdown",
   "id": "f28ddae9-0031-499c-a98c-ebc6e38e7eb3",
   "metadata": {},
   "source": [
    "## Learning objectives\n",
    "- Describe the difference  between a variable and  set of observations\n",
    "- Understand concept of probability in terms of predicting future data\n",
    "- Generate data from a model and compare to real data to assess the model."
   ]
  },
  {
   "cell_type": "code",
   "execution_count": 5,
   "id": "82e671f1-7db5-40ea-a4bd-89cbc1b4ed12",
   "metadata": {},
   "outputs": [],
   "source": [
    "import pandas as pd\n",
    "import seaborn as sns\n",
    "geno = pd.read_table(\"../data/arabmagic/arabmagic_geno.csv\", sep=\",\",skiprows=3,index_col=0)\n",
    "pmap = pd.read_table(\"../data/arabmagic/arabmagic_pmap_tair9.csv\", sep=\",\",skiprows=3,index_col=0)\n",
    "pheno = pd.read_table(\"../data/arabmagic/arabmagic_pheno.csv\", sep=\",\",skiprows=3,index_col=0)\n",
    "counts = pd.read_table(\"../data/eco_data/species_counts.txt\")\n",
    "sites = pd.read_table(\"../data/eco_data/eco_sites.txt\")\n",
    "\n",
    "fruit_length_geno = pd.read_table(\"../data/arabmagic/fruit_length_geno.csv\",sep=\",\",index_col=0)\n",
    "gwas_plus_pmap = pd.read_table(\"../data/arabmagic/gwas_plus_pmap.csv\",sep=\",\",index_col=0)"
   ]
  },
  {
   "cell_type": "markdown",
   "id": "a500cab0-884e-40c1-92ac-0289d75d76c2",
   "metadata": {},
   "source": [
    "## 2. Introducing types of variables\n",
    "\n",
    "I already mentioned another word for a feature is a variable.\n",
    "\n",
    "While variables in programming are placeholders for specific values, the word is taken from statistics or math where a variable is a placeholder for a number that can take on certain values. \n",
    "\n",
    "In algebra you learned something like $ y = m \\times x + b $ where $x$ and $y$ are variables. This is the same idea! But in most data our variables cannot take on any values like they can in math. The values they can take on are related to real world things (like fruit lengths, bolting days...)\n",
    "\n",
    "By gathering **observations** we are learning about these **variables**. In the end we don't care about the particular 677 plants, we only care about the biology of how genotype shapes phenotype.\n",
    "\n",
    "**Exercise 2.1**: Let's say we got 400 **new** plants. What do you expect to see when you look at the data for these new plants on MASC06116 and fruit_length? (feel free to make the plots again)"
   ]
  },
  {
   "cell_type": "markdown",
   "id": "9e023a46",
   "metadata": {},
   "source": [
    "## 400 New Plants, what would we see for MASC06116 and fruit length?\n",
    "- A genotype results in longer fruit lengths than B genotype\n",
    "- Genotype for MASC06116 can only be A or B\n",
    "- Fruit lengths would likely be in a similar range as before (somewhere between 9 and 20)"
   ]
  },
  {
   "cell_type": "markdown",
   "id": "6a3fe970-3cea-4e43-8ac3-f496b00e4392",
   "metadata": {},
   "source": [
    "\n",
    "**Exercise 2.2**: For each of the following variables, describe:\n",
    "\n",
    "- Minimum value (if any)\n",
    "- Maximum value (if any)\n",
    "- One kind of value that is not valid\n",
    "    \n",
    "A. `Columba_pulchricollis` (counts data frame):\n",
    "    \n",
    "B. `MN5_26437895` (geno data frame)\n",
    "\n",
    "C. `fruit_length` (pheno data frame)\n",
    "\n",
    "**Exercise 2.3**: Create a histogram (distribution plot) for fruit_length and for MASC06116. Describe what is similar and what different about the axes and other characteristics of these two plots. "
   ]
  },
  {
   "cell_type": "code",
   "execution_count": 11,
   "id": "64802ffb",
   "metadata": {},
   "outputs": [
    {
     "name": "stdout",
     "output_type": "stream",
     "text": [
      "count    38.000000\n",
      "mean      0.052632\n",
      "std       0.324443\n",
      "min       0.000000\n",
      "25%       0.000000\n",
      "50%       0.000000\n",
      "75%       0.000000\n",
      "max       2.000000\n",
      "Name: Columba_pulchricollis, dtype: float64\n",
      "count     702\n",
      "unique      3\n",
      "top         A\n",
      "freq      415\n",
      "Name: MN5_26437895, dtype: object\n",
      "count    674.000000\n",
      "mean      14.941395\n",
      "std        1.794643\n",
      "min        8.790000\n",
      "25%       13.802500\n",
      "50%       14.950000\n",
      "75%       16.107500\n",
      "max       19.940000\n",
      "Name: fruit_length, dtype: float64\n"
     ]
    }
   ],
   "source": [
    "print(counts['Columba_pulchricollis'].describe()) # Invalid data 'B' or '1.2'\n",
    "print(geno.loc['MN5_26437895',:].describe()) # Invalid data '1'\n",
    "print(pheno['fruit_length'].describe()) # Invalid data 200"
   ]
  },
  {
   "cell_type": "markdown",
   "id": "171193b1-107c-4d12-abf7-17bfb42852e0",
   "metadata": {},
   "source": [
    "**Exercise 2.4**: Use the `describe` function on both features. How is the result of `describe` different between the 2? Compare the results to the histogram you just made. "
   ]
  },
  {
   "cell_type": "markdown",
   "id": "935e81ab-9fd8-47dc-addb-2bfff7df7d09",
   "metadata": {},
   "source": [
    "A **distribution** describes how commonly different values of a feature are. \n",
    "\n",
    "For numbers, they are often a \"bell curve\" (no relation to the book), such as things like:\n",
    "- total number of birds in a forest\n",
    "- fruit length\n",
    "- human height\n",
    " \n",
    "Sometimes they are not a bell curve but have other shapes, but the bell curve is very common because, intuitively, many variables have a \"very common\" value, a \"somewhat common but high\" and \"somewhat common but low\" value. Also, many variables have roughly symmetric likelihood fof seeing aa value.\n",
    "\n",
    "**Exercise 2.5**: Describe what is a \"very common\", \"somewhat common but high\", and \"very high\" value for fruit length"
   ]
  },
  {
   "cell_type": "markdown",
   "id": "1e560040-a2d0-4913-a0da-75208de5acb5",
   "metadata": {},
   "source": [
    "**Exercise 2.6**: If you got a new plant at random, what do you think is the approximate chance the  plant's genotype at  MASC06116  will be an A?"
   ]
  },
  {
   "cell_type": "code",
   "execution_count": 15,
   "id": "fc8ff5e0-e8a3-4d8e-99be-a14e30bae220",
   "metadata": {},
   "outputs": [
    {
     "data": {
      "text/plain": [
       "<seaborn.axisgrid.FacetGrid at 0x13bab478af0>"
      ]
     },
     "execution_count": 15,
     "metadata": {},
     "output_type": "execute_result"
    },
    {
     "data": {
      "image/png": "[encoded data removed]",
      "text/plain": [
       "<Figure size 360x360 with 1 Axes>"
      ]
     },
     "metadata": {
      "needs_background": "light"
     },
     "output_type": "display_data"
    }
   ],
   "source": [
    "sns.displot(data=fruit_length_geno, x=\"fruit_length\", stat='density',bins=9)"
   ]
  },
  {
   "cell_type": "markdown",
   "id": "bbc3f530-adfd-4935-8b8b-93305f7414e9",
   "metadata": {},
   "source": [
    "## 3 Probability\n",
    "Probability is simply the **fraction of the time we expect to see a new observation take on a certain value** for a feature (variable) (How probable is it) if we collected more data.\n",
    "\n",
    "In this case, if we got another Arabidopsis similar to the ones we already have.\n",
    "\n",
    "We measure probability from zero (impossible) to 1 (definitely expect). For example, with a coin flip, the probability of heads is 0.5.\n",
    "\n",
    "**Exercise 3.1**: Using no coding but just the plots/info above, give **approximate** answers to these questions in groups:\n",
    "- What is the probability of MASC06116 = A?\n",
    "- What is the probability of MASC06116 = B?\n",
    "- What is the probability of MASC06116 = C?\n",
    "- What is the probability of fruit_length between 14 and 16?\n",
    "- What is the probability of fruit_length between 10 and 12?\n",
    "- What is the probability of fruit_length > 30?\n",
    "- What is the probability of fruit_length < 100?"
   ]
  },
  {
   "cell_type": "markdown",
   "id": "bd115d89-42ac-4b7a-8ba0-517b85eb4202",
   "metadata": {},
   "source": [
    "Remember we can convert a distribution of **frequencies** (counts) to a distribution of **densities** by dividing by the total number of plants:"
   ]
  },
  {
   "cell_type": "code",
   "execution_count": 13,
   "id": "4cfe83fd-3fe7-44e9-8d51-3941d51973f6",
   "metadata": {},
   "outputs": [
    {
     "data": {
      "text/plain": [
       "<seaborn.axisgrid.FacetGrid at 0x13ba7bc84c0>"
      ]
     },
     "execution_count": 13,
     "metadata": {},
     "output_type": "execute_result"
    },
    {
     "data": {
      "image/png": "[encoded data removed]",
      "text/plain": [
       "<Figure size 360x360 with 1 Axes>"
      ]
     },
     "metadata": {
      "needs_background": "light"
     },
     "output_type": "display_data"
    }
   ],
   "source": [
    "sns.displot(data=pheno, x=\"fruit_length\",stat='density',bins=9)"
   ]
  },
  {
   "cell_type": "markdown",
   "id": "5f1da191-1f55-4d07-9ae8-e394ef8c086a",
   "metadata": {},
   "source": [
    "The density of the bin from 14 to 14.4 is about 0.2, we can estimate about 0.2 (20%) is the fraction of future plants that would have fruit_length in that bin."
   ]
  },
  {
   "cell_type": "markdown",
   "id": "78e035ad-202a-4cf8-8ca7-873dfd697bd8",
   "metadata": {},
   "source": [
    "**Exercise 3.2 Discuss**: what is the difference between a density (fraction of plants) and a probability?"
   ]
  },
  {
   "cell_type": "markdown",
   "id": "41c88c56-94f1-43c8-89b1-9b3f93c4b80b",
   "metadata": {},
   "source": [
    "## 4 Statistics\n",
    "Statistics are numbers that summarize a distribution.\n",
    "\n",
    "**Discuss**: Where have we seen a number summary of a distribution?"
   ]
  },
  {
   "cell_type": "markdown",
   "id": "14369943-5a86-4efc-9030-16051da6bd95",
   "metadata": {},
   "source": [
    "The type of distribution determines the relevant statistics.\n",
    "\n",
    "### 4.1 Statistics of binary/boolean\n",
    "(For the purpose of this discussion, we will consider all markers to be A or not-A. This is common in genetics analysis, usually \"Reference\" or \"Alternate\")\n",
    "\n",
    "For a binary variable like the marker, the distribution is determined only by the fraction of time the variable is ."
   ]
  },
  {
   "cell_type": "code",
   "execution_count": null,
   "id": "7ebb53a9-e7d1-4b21-b6e3-5bda2787a2a6",
   "metadata": {},
   "outputs": [],
   "source": [
    "geno.loc['MASC06116'].describe()"
   ]
  },
  {
   "cell_type": "code",
   "execution_count": null,
   "id": "3d84df2f-c287-4d97-ae38-cb25fd21a3f2",
   "metadata": {},
   "outputs": [],
   "source": [
    "geno.transpose().groupby('MASC06116').size()"
   ]
  },
  {
   "cell_type": "markdown",
   "id": "e1a3e056-879e-4794-9e5b-9750b7d52dbd",
   "metadata": {},
   "source": [
    "### 4.2 Statistics of a number variable\n",
    "For a number variable like fruit length, the key numbers include the **mean** (where is the peak) and the **standard deviation** (how wide is it around the peak).\n",
    "\n",
    "Look at this plot again, where we divided up the plants by genotype:"
   ]
  },
  {
   "cell_type": "code",
   "execution_count": null,
   "id": "53024360-94db-4cfb-8c9f-29ea6306e501",
   "metadata": {},
   "outputs": [],
   "source": [
    "sns.displot(data=fruit_length_geno, x=\"fruit_length\", hue='MASC06116',stat='density',common_norm=False, kde=True)"
   ]
  },
  {
   "cell_type": "markdown",
   "id": "332d8e36-b291-4925-81ed-83ef5f6abad1",
   "metadata": {},
   "source": [
    "**Exercise 4.2.1**: Run `describe` on fruit lengths divided by genotype at MASC06116. Combining this info and the plot above, what is the difference between the distributions of fruit lengths?"
   ]
  },
  {
   "cell_type": "markdown",
   "id": "5621af96-4ef8-482a-891f-5a0ca4b776a9",
   "metadata": {},
   "source": [
    "## 5. Why model??\n",
    "So far, we've only had a kind of visual intuition that there seems to be a difference between the fruits of the 2 genotypes but we don't really have any way to automatically discover this kind of thing.\n",
    "\n",
    "we're forming a hypothesis and a model in our head when we predict that future plants will look like these 700 plants\n",
    "\n",
    "But to quantify whether this model is true (to test this hypothesis) rather than just eyeballing it, we come up with *model*.\n",
    "\n",
    "One strategy is conceptually, to use the model to generate data, and then see how similar the actual data is to the generated data.\n",
    "\n",
    "But before we get into modeling with two features, let's keep it simple and model data on one feature."
   ]
  },
  {
   "cell_type": "markdown",
   "id": "4a6b463c-1df9-41c9-a8b0-adc665328353",
   "metadata": {},
   "source": [
    "## 5.1 Model binary data with different probabilities\n",
    "Let's model binary data first as it is a bit simpler. \n",
    "\n",
    "Examples of when you would want to model binary data. You want to test your estimate of:\n",
    "- whether or not a wildfire happens in a given year in a given place\n",
    "- whether a disease occurs in a person\n",
    "- whether pandas reproduce or not\n",
    "\n",
    "We'll create 2 hypotheses for what genotype data for MASC06116 will look like:\n",
    "\n",
    "**Hypothesis I:** we model with probability that genotype = A is 0.4\n",
    "**Hypothesis II:** similar but we pick p= 0.9 as probability of a plant having genotype A\n",
    "\n",
    "**Discuss**: What does it mean if we pick p = 0? p = 1? p = 0.5?\n",
    "\n",
    "First I'll convert the marker info into 0 and 1 to make it binary:"
   ]
  },
  {
   "cell_type": "code",
   "execution_count": null,
   "id": "7c5122b9-0ee2-44c2-b810-1f65246e4689",
   "metadata": {},
   "outputs": [],
   "source": [
    "marker_info = (fruit_length_geno['MASC06116']== 'A').astype(int)\n",
    "marker_info.describe()"
   ]
  },
  {
   "cell_type": "markdown",
   "id": "1a8da9e8-9092-4631-8a68-92b5fcf8ba36",
   "metadata": {},
   "source": [
    "**Discuss**: How does the binary version of this marker data relate to the 'A' vs 'B' version we had before?"
   ]
  },
  {
   "cell_type": "markdown",
   "id": "aacaa2d0-eeaf-45e9-83fa-125fa58605e2",
   "metadata": {},
   "source": [
    "We can **generate data that follows our hypothesis** using the **Bernoulli** model. This models any binary (0 or 1) variable. \n",
    "\n",
    "Once you have your model, you can generate data from the model and see how similar the generated data is to the real data.\n",
    "\n",
    "Models require input **parameters** that describe their distributions. The only input parameter here is the probability of getting a 1 rather than a zero.\n",
    "\n",
    "We can use the `bernoulli` function from the `scipy.stats` package to make our model and generate data from it. You need to supply it `p`, the probability of getting 1 rather than 0 and it will generate one data point: "
   ]
  },
  {
   "cell_type": "code",
   "execution_count": 1,
   "id": "f2c54037-8df0-4d05-a26f-f81e2c9c05ab",
   "metadata": {},
   "outputs": [
    {
     "data": {
      "text/plain": [
       "0"
      ]
     },
     "execution_count": 1,
     "metadata": {},
     "output_type": "execute_result"
    }
   ],
   "source": [
    "from scipy.stats import bernoulli\n",
    "bernoulli.rvs(p=0.4)"
   ]
  },
  {
   "cell_type": "markdown",
   "id": "56825d0e-c5b5-481c-9b75-b1bf8aa3e4c1",
   "metadata": {},
   "source": [
    "You can also give it a `size`, how many observations we want to generate:"
   ]
  },
  {
   "cell_type": "code",
   "execution_count": 2,
   "id": "12d8876a-4369-4b92-b9e3-4b708b73741b",
   "metadata": {},
   "outputs": [
    {
     "data": {
      "text/plain": [
       "array([1, 1, 0, 0, 1, 1, 0, 1, 0, 1])"
      ]
     },
     "execution_count": 2,
     "metadata": {},
     "output_type": "execute_result"
    }
   ],
   "source": [
    "bernoulli.rvs(p=0.4, size = 10)"
   ]
  },
  {
   "cell_type": "code",
   "execution_count": 3,
   "id": "12d8876a-4369-4b92-b9e3-4b708b73741b",
   "metadata": {},
   "outputs": [
    {
     "data": {
      "text/plain": [
       "array([1, 1, 1, 1, 1, 1, 1, 1, 1, 1])"
      ]
     },
     "execution_count": 3,
     "metadata": {},
     "output_type": "execute_result"
    }
   ],
   "source": [
    "bernoulli.rvs(p=0.9, size = 10)"
   ]
  },
  {
   "cell_type": "code",
   "execution_count": 6,
   "id": "77e35486-c050-4a5d-9654-a5fb0b0d5d3e",
   "metadata": {},
   "outputs": [
    {
     "data": {
      "text/plain": [
       "count    10.000000\n",
       "mean      0.400000\n",
       "std       0.516398\n",
       "min       0.000000\n",
       "25%       0.000000\n",
       "50%       0.000000\n",
       "75%       1.000000\n",
       "max       1.000000\n",
       "dtype: float64"
      ]
     },
     "execution_count": 6,
     "metadata": {},
     "output_type": "execute_result"
    }
   ],
   "source": [
    "pd.Series(bernoulli.rvs(p=0.4, size = 10)).describe()"
   ]
  },
  {
   "cell_type": "markdown",
   "id": "dd62bf31-a3a7-45af-8c5c-67d15a0c0c43",
   "metadata": {},
   "source": [
    "**Exercise 5.1.1**: Generate as many observations as there are plants in our data, and save that in a variable."
   ]
  },
  {
   "cell_type": "code",
   "execution_count": 8,
   "id": "1102a952-982a-4723-84aa-3007b77c2076",
   "metadata": {},
   "outputs": [],
   "source": [
    "dist = pd.Series(bernoulli.rvs(p=0.9, size=703))"
   ]
  },
  {
   "cell_type": "markdown",
   "id": "c4b5811f-fc00-44e8-8350-5b3c83a1e462",
   "metadata": {},
   "source": [
    "**Exercise 5.1.2**: Get the number of times across the set of generated observations that there is a 1 rather than 0"
   ]
  },
  {
   "cell_type": "code",
   "execution_count": 10,
   "id": "b511229e-0ce5-4ec5-a197-b892b72a2f61",
   "metadata": {},
   "outputs": [
    {
     "ename": "KeyError",
     "evalue": "'0'",
     "output_type": "error",
     "traceback": [
      "\u001b[1;31m---------------------------------------------------------------------------\u001b[0m",
      "\u001b[1;31mKeyError\u001b[0m                                  Traceback (most recent call last)",
      "\u001b[1;32m~\\AppData\\Local\\Temp/ipykernel_11240/4108158498.py\u001b[0m in \u001b[0;36m<module>\u001b[1;34m\u001b[0m\n\u001b[1;32m----> 1\u001b[1;33m \u001b[1;33m(\u001b[0m\u001b[0mdist\u001b[0m\u001b[1;33m[\u001b[0m\u001b[1;34m'0'\u001b[0m\u001b[1;33m]\u001b[0m \u001b[1;33m==\u001b[0m \u001b[1;36m1\u001b[0m\u001b[1;33m)\u001b[0m\u001b[1;33m.\u001b[0m\u001b[0msum\u001b[0m\u001b[1;33m(\u001b[0m\u001b[1;33m)\u001b[0m\u001b[1;33m\u001b[0m\u001b[1;33m\u001b[0m\u001b[0m\n\u001b[0m",
      "\u001b[1;32mc:\\Users\\sjcde\\anaconda3\\lib\\site-packages\\pandas\\core\\series.py\u001b[0m in \u001b[0;36m__getitem__\u001b[1;34m(self, key)\u001b[0m\n\u001b[0;32m    940\u001b[0m \u001b[1;33m\u001b[0m\u001b[0m\n\u001b[0;32m    941\u001b[0m         \u001b[1;32melif\u001b[0m \u001b[0mkey_is_scalar\u001b[0m\u001b[1;33m:\u001b[0m\u001b[1;33m\u001b[0m\u001b[1;33m\u001b[0m\u001b[0m\n\u001b[1;32m--> 942\u001b[1;33m             \u001b[1;32mreturn\u001b[0m \u001b[0mself\u001b[0m\u001b[1;33m.\u001b[0m\u001b[0m_get_value\u001b[0m\u001b[1;33m(\u001b[0m\u001b[0mkey\u001b[0m\u001b[1;33m)\u001b[0m\u001b[1;33m\u001b[0m\u001b[1;33m\u001b[0m\u001b[0m\n\u001b[0m\u001b[0;32m    943\u001b[0m \u001b[1;33m\u001b[0m\u001b[0m\n\u001b[0;32m    944\u001b[0m         \u001b[1;32mif\u001b[0m \u001b[0mis_hashable\u001b[0m\u001b[1;33m(\u001b[0m\u001b[0mkey\u001b[0m\u001b[1;33m)\u001b[0m\u001b[1;33m:\u001b[0m\u001b[1;33m\u001b[0m\u001b[1;33m\u001b[0m\u001b[0m\n",
      "\u001b[1;32mc:\\Users\\sjcde\\anaconda3\\lib\\site-packages\\pandas\\core\\series.py\u001b[0m in \u001b[0;36m_get_value\u001b[1;34m(self, label, takeable)\u001b[0m\n\u001b[0;32m   1049\u001b[0m \u001b[1;33m\u001b[0m\u001b[0m\n\u001b[0;32m   1050\u001b[0m         \u001b[1;31m# Similar to Index.get_value, but we do not fall back to positional\u001b[0m\u001b[1;33m\u001b[0m\u001b[1;33m\u001b[0m\u001b[0m\n\u001b[1;32m-> 1051\u001b[1;33m         \u001b[0mloc\u001b[0m \u001b[1;33m=\u001b[0m \u001b[0mself\u001b[0m\u001b[1;33m.\u001b[0m\u001b[0mindex\u001b[0m\u001b[1;33m.\u001b[0m\u001b[0mget_loc\u001b[0m\u001b[1;33m(\u001b[0m\u001b[0mlabel\u001b[0m\u001b[1;33m)\u001b[0m\u001b[1;33m\u001b[0m\u001b[1;33m\u001b[0m\u001b[0m\n\u001b[0m\u001b[0;32m   1052\u001b[0m         \u001b[1;32mreturn\u001b[0m \u001b[0mself\u001b[0m\u001b[1;33m.\u001b[0m\u001b[0mindex\u001b[0m\u001b[1;33m.\u001b[0m\u001b[0m_get_values_for_loc\u001b[0m\u001b[1;33m(\u001b[0m\u001b[0mself\u001b[0m\u001b[1;33m,\u001b[0m \u001b[0mloc\u001b[0m\u001b[1;33m,\u001b[0m \u001b[0mlabel\u001b[0m\u001b[1;33m)\u001b[0m\u001b[1;33m\u001b[0m\u001b[1;33m\u001b[0m\u001b[0m\n\u001b[0;32m   1053\u001b[0m \u001b[1;33m\u001b[0m\u001b[0m\n",
      "\u001b[1;32mc:\\Users\\sjcde\\anaconda3\\lib\\site-packages\\pandas\\core\\indexes\\range.py\u001b[0m in \u001b[0;36mget_loc\u001b[1;34m(self, key, method, tolerance)\u001b[0m\n\u001b[0;32m    386\u001b[0m                 \u001b[1;32mexcept\u001b[0m \u001b[0mValueError\u001b[0m \u001b[1;32mas\u001b[0m \u001b[0merr\u001b[0m\u001b[1;33m:\u001b[0m\u001b[1;33m\u001b[0m\u001b[1;33m\u001b[0m\u001b[0m\n\u001b[0;32m    387\u001b[0m                     \u001b[1;32mraise\u001b[0m \u001b[0mKeyError\u001b[0m\u001b[1;33m(\u001b[0m\u001b[0mkey\u001b[0m\u001b[1;33m)\u001b[0m \u001b[1;32mfrom\u001b[0m \u001b[0merr\u001b[0m\u001b[1;33m\u001b[0m\u001b[1;33m\u001b[0m\u001b[0m\n\u001b[1;32m--> 388\u001b[1;33m             \u001b[1;32mraise\u001b[0m \u001b[0mKeyError\u001b[0m\u001b[1;33m(\u001b[0m\u001b[0mkey\u001b[0m\u001b[1;33m)\u001b[0m\u001b[1;33m\u001b[0m\u001b[1;33m\u001b[0m\u001b[0m\n\u001b[0m\u001b[0;32m    389\u001b[0m         \u001b[1;32mreturn\u001b[0m \u001b[0msuper\u001b[0m\u001b[1;33m(\u001b[0m\u001b[1;33m)\u001b[0m\u001b[1;33m.\u001b[0m\u001b[0mget_loc\u001b[0m\u001b[1;33m(\u001b[0m\u001b[0mkey\u001b[0m\u001b[1;33m,\u001b[0m \u001b[0mmethod\u001b[0m\u001b[1;33m=\u001b[0m\u001b[0mmethod\u001b[0m\u001b[1;33m,\u001b[0m \u001b[0mtolerance\u001b[0m\u001b[1;33m=\u001b[0m\u001b[0mtolerance\u001b[0m\u001b[1;33m)\u001b[0m\u001b[1;33m\u001b[0m\u001b[1;33m\u001b[0m\u001b[0m\n\u001b[0;32m    390\u001b[0m \u001b[1;33m\u001b[0m\u001b[0m\n",
      "\u001b[1;31mKeyError\u001b[0m: '0'"
     ]
    }
   ],
   "source": []
  },
  {
   "cell_type": "markdown",
   "id": "ee44187a-36af-4e93-a633-4a046bbe8772",
   "metadata": {},
   "source": [
    "**Exercise 5.1.3**: Get the number of times marker MASC06116 == \"A\" (1 = it is A, 0 = not-A) and get the difference between the number in the generated and real data."
   ]
  },
  {
   "cell_type": "code",
   "execution_count": null,
   "id": "f6e42d17-535b-4103-8918-fcfc2c5fd730",
   "metadata": {},
   "outputs": [],
   "source": []
  },
  {
   "cell_type": "markdown",
   "id": "e54b6e38-7bc0-4b1a-a582-7e1507e12d61",
   "metadata": {},
   "source": [
    "**Exercise 5.1.4**: Make 3 separate histograms: one for the real data, one for the generated data from 5.1.1, and one for generating data with p=0.9."
   ]
  },
  {
   "cell_type": "code",
   "execution_count": null,
   "id": "d4a70688-6ce1-4e62-a4a5-23b9accba0f8",
   "metadata": {},
   "outputs": [],
   "source": []
  },
  {
   "cell_type": "markdown",
   "id": "3e9b2de7-f878-41f9-a67d-06d197cefd69",
   "metadata": {},
   "source": [
    "The idea is, some models are *better* than other models in terms of how similar they are to our actual data. We compare our data to the models in order to decide which model is the best."
   ]
  },
  {
   "cell_type": "markdown",
   "id": "736d4352-a8a0-4ad8-beee-2780cb43cb13",
   "metadata": {},
   "source": [
    "**Exercise 5.1.5**: Create 10 evenly spaced values of p (probability of a 1 rather than 0) spaced out from 0 (never get a 1) to 1 (always get a 1). For each of these values, get the difference between the number of 1's in the generated data and in the real data. Save this into a data frame. Plot on the x-axis \"p\" and on the y-axis the difference."
   ]
  },
  {
   "cell_type": "code",
   "execution_count": null,
   "id": "a87853d6-2785-4492-8e88-7078a2fc3feb",
   "metadata": {},
   "outputs": [],
   "source": []
  },
  {
   "cell_type": "markdown",
   "id": "90a2304c-4f37-4c4e-9d50-4f8614475433",
   "metadata": {},
   "source": [
    "**Exercise 5.1.6**: Find the best value based on the smallest difference above in exercise 5.1.5. Generate the genotypes of plants from this model and plot the histogram, and compare it to the real data histogram and the other histograms form 5.1.4"
   ]
  },
  {
   "cell_type": "markdown",
   "id": "bc6b7e66-c28a-4ea1-b952-b1a039814735",
   "metadata": {},
   "source": [
    "#### Compare the real data to the models\n",
    "Which model, I or II is most similar to the real data?"
   ]
  },
  {
   "cell_type": "code",
   "execution_count": null,
   "id": "89bba221-d427-4cad-a922-7dbc3711e73b",
   "metadata": {},
   "outputs": [],
   "source": []
  }
 ],
 "metadata": {
  "kernelspec": {
   "display_name": "Python 3.9.7 ('base')",
   "language": "python",
   "name": "python3"
  },
  "language_info": {
   "codemirror_mode": {
    "name": "ipython",
    "version": 3
   },
   "file_extension": ".py",
   "mimetype": "text/x-python",
   "name": "python",
   "nbconvert_exporter": "python",
   "pygments_lexer": "ipython3",
   "version": "3.9.7"
  },
  "vscode": {
   "interpreter": {
    "hash": "e595df4329fcf3a3af43d6766bc23e541941e8ce9ea758c4bedfcbd321d7c58e"
   }
  }
 },
 "nbformat": 4,
 "nbformat_minor": 5
}
