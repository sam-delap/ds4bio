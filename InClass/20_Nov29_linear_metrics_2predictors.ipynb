{
 "cells": [
  {
   "cell_type": "markdown",
   "id": "1ff1d0dc-35a2-426b-b403-8fa854ee8773",
   "metadata": {},
   "source": [
    "## Learning objectives\n",
    "- Calculate metrics of a regression model\n",
    "- Understand why two predictors together in the same model have different slopes than if they are in separate models."
   ]
  },
  {
   "cell_type": "code",
   "execution_count": 14,
   "id": "43e7472f-7cb7-411d-8816-f1c4368c20e4",
   "metadata": {},
   "outputs": [
    {
     "name": "stdout",
     "output_type": "stream",
     "text": [
      "MASC06116 (674, 5)\n"
     ]
    }
   ],
   "source": [
    "## our previous code...\n",
    "import pandas as pd\n",
    "import numpy as np\n",
    "import seaborn as sns\n",
    "sns.set_theme()\n",
    "from scipy.stats import bernoulli, norm\n",
    "fruit_length_geno = pd.read_table(\"../data/arabmagic/fruit_length_geno.csv\",sep=\",\",index_col=0)\n",
    "\n",
    "import statsmodels.api as sm\n",
    "\n",
    "### MASC06116 model\n",
    "to_model = pd.DataFrame({\"fruit_length\":fruit_length_geno['fruit_length'],\n",
    "                         \"MASC06116\": (fruit_length_geno['MASC06116']=='A').astype(int),\n",
    "                         \"MASC02863\": (fruit_length_geno['MASC02863']=='A').astype(int),\n",
    "                         \"MASC06116_dup\": (fruit_length_geno['MASC06116']=='A').astype(int)})\n",
    "                                                                                    ###^^or *2\n",
    "to_model = to_model.loc[ pd.isnull(to_model).sum(axis=1)==0, :]\n",
    "\n",
    "to_model = sm.add_constant(to_model)\n",
    "\n",
    "print('MASC06116',to_model.shape)\n",
    "X_marker = to_model.loc[:,['const','MASC06116']]\n",
    "y_marker = to_model['fruit_length']\n",
    "model_marker = sm.OLS(y_marker, X_marker).fit()\n",
    "#model_marker.summary()\n",
    "\n",
    "\n",
    "### height model\n",
    "# to_model = pd.DataFrame({\"fruit_length\":fruit_length_geno['fruit_length'],\n",
    "#                          \"height\": fruit_length_geno['height']})\n",
    "#                                                                                     ###^^or *2\n",
    "# to_model = to_model.loc[ pd.isnull(to_model).sum(axis=1)==0, :]\n",
    "\n",
    "# to_model = sm.add_constant(to_model)\n",
    "# print('height',to_model.shape)\n",
    "# X_height = to_model.loc[:,['const','height']]\n",
    "# y_height = to_model['fruit_length']\n",
    "# model_height = sm.OLS(y_height, X_height).fit()\n",
    "#model_height.summary()"
   ]
  },
  {
   "cell_type": "markdown",
   "id": "e3906303-6f7c-4ab0-bdd2-bc95ce0d5965",
   "metadata": {},
   "source": [
    "## 5. Linear regression Model metrics\n",
    "A **metric** is a formula we calculate using the data + the model to figure out how well the model fits the data\n",
    "\n",
    "**Question**: what metrics have we discussed so far? How can we decide which single predictor is more predictive of fruit_length?"
   ]
  },
  {
   "cell_type": "code",
   "execution_count": null,
   "id": "deac5433-eda1-4217-af94-20bf3ee4853e",
   "metadata": {},
   "outputs": [],
   "source": []
  },
  {
   "cell_type": "markdown",
   "id": "4629a576-db52-4ad0-9028-2dbe712a90df",
   "metadata": {},
   "source": [
    "### 5.1 Residuals"
   ]
  },
  {
   "cell_type": "markdown",
   "id": "8c1263e5-c472-4a8c-956b-d423001c90f9",
   "metadata": {},
   "source": [
    "The difference between our predicted average value of fruit length and the actual value is called the **residual**. You can think of this as the **error** in our prediction... the bigger the difference, the worse we did."
   ]
  },
  {
   "cell_type": "markdown",
   "id": "c2b6bdcb-34bd-46aa-ad47-b0ffadfb5425",
   "metadata": {},
   "source": [
    "**Exercise 5.1.1**: Get the predictions for `model_marker` and save it in a variable called `predicted values`. Calculate the residuals  of fruit length.  "
   ]
  },
  {
   "cell_type": "code",
   "execution_count": null,
   "id": "c080039a-ba95-48b4-b3b7-012eff168f7d",
   "metadata": {},
   "outputs": [],
   "source": []
  },
  {
   "cell_type": "markdown",
   "id": "8cd9eed4-a03d-44f2-9f10-b560ae3cecb0",
   "metadata": {},
   "source": [
    "You can also get this using the attribute `resid`:"
   ]
  },
  {
   "cell_type": "code",
   "execution_count": null,
   "id": "0772dcb7-3134-41c5-89c4-c99c49fc73f3",
   "metadata": {
    "tags": []
   },
   "outputs": [],
   "source": [
    "model_marker.resid"
   ]
  },
  {
   "cell_type": "markdown",
   "id": "91569965-f1a5-451d-b199-0d10aeb417f1",
   "metadata": {},
   "source": [
    "**Exercise 5.1.2**: Make a strip plot or violin plot of residuals for plants separated by the 2 values of genotypeNumber (refer to Seaborn docs [here](https://seaborn.pydata.org/generated/seaborn.catplot.html))"
   ]
  },
  {
   "cell_type": "code",
   "execution_count": null,
   "id": "77bb1907-70ba-473b-ba12-84c9a8853e8d",
   "metadata": {},
   "outputs": [],
   "source": []
  },
  {
   "cell_type": "markdown",
   "id": "b3f8f4c4-99fe-448a-ad62-a1c927975a5e",
   "metadata": {},
   "source": [
    "**Exercise 5.1.3**: Find out whether the error in our model gets worse for taller plants by plotting height versus residual. "
   ]
  },
  {
   "cell_type": "code",
   "execution_count": null,
   "id": "47eb8191-f24d-4bed-bc75-77b29005bf64",
   "metadata": {},
   "outputs": [],
   "source": []
  },
  {
   "cell_type": "markdown",
   "id": "8fe36a1a-1d18-48b9-8970-22027a12f418",
   "metadata": {},
   "source": [
    "The **root mean squared error or RMSE** is a measure of how well your predictions fit the data. It is defined as:\n",
    "1. square the residuals (*squared error*)\n",
    "2. get the mean of the squared residuals (*mean squared error*)\n",
    "3. take the square root of that (*root mean squared error*)"
   ]
  },
  {
   "cell_type": "markdown",
   "id": "d86adf27-b7fe-4f9e-ad08-e1e63b6a6a0f",
   "metadata": {},
   "source": [
    "**Exercise 5.1.4**: Calculate Root Mean Squared Error using your predictions for the height model and for the MASC06116 model."
   ]
  },
  {
   "cell_type": "code",
   "execution_count": null,
   "id": "6c308f9a-06ad-4d71-aec1-dafb6787dfc8",
   "metadata": {},
   "outputs": [],
   "source": []
  },
  {
   "cell_type": "markdown",
   "id": "e6b5af43-7326-480c-bc9d-767610e57b79",
   "metadata": {},
   "source": [
    "You can calculate root mean squared error using the `rmse` function, alongside your predicted values as follows:"
   ]
  },
  {
   "cell_type": "code",
   "execution_count": null,
   "id": "90c985b4-212c-410e-bfc5-3635f48e2a61",
   "metadata": {},
   "outputs": [],
   "source": [
    "from statsmodels.tools.eval_measures import rmse\n",
    "rmse(predicted_values, y)"
   ]
  },
  {
   "cell_type": "markdown",
   "id": "6fc5defb-e446-4ff8-9c16-e9c0c3f2ffd9",
   "metadata": {},
   "source": [
    "### 5.2 R-squared\n",
    "\n",
    "R-squared tells us the percent of variation in the fruit_length that is explained by the model, which we can see is 17% of the variation:"
   ]
  },
  {
   "cell_type": "code",
   "execution_count": 3,
   "id": "8e68001b-73d8-4ee3-999c-506c5315a689",
   "metadata": {},
   "outputs": [
    {
     "data": {
      "text/plain": [
       "0.16990307104374025"
      ]
     },
     "execution_count": 3,
     "metadata": {},
     "output_type": "execute_result"
    }
   ],
   "source": [
    "model_marker.rsquared"
   ]
  },
  {
   "cell_type": "code",
   "execution_count": 4,
   "id": "3507d655-460e-4d8c-9018-43e90b43a1b5",
   "metadata": {},
   "outputs": [
    {
     "data": {
      "text/plain": [
       "3.2207451545628083"
      ]
     },
     "execution_count": 4,
     "metadata": {},
     "output_type": "execute_result"
    }
   ],
   "source": [
    "fruit_length_geno['fruit_length'].var()"
   ]
  },
  {
   "cell_type": "markdown",
   "id": "ca297ee6-1ff9-4e74-87c8-e895cf4fed5f",
   "metadata": {},
   "source": [
    "**Exercise 5.2.1**: Predict the mean values based on only genotype and intercept and get the variance of these (using `var()`). Divide that by the variance of the fruit_lengths overall to calculate fraction of variance explained. Compare that to the `rsquared`."
   ]
  },
  {
   "cell_type": "markdown",
   "id": "c312f4c2-5aab-414d-a19e-3b6eb057552e",
   "metadata": {},
   "source": [
    "**Exercise 5.2.2**: Is height a better predictor of fruit length? How can we use the summaries of the regression model to answer that question? Compare the models in 3 different metrics."
   ]
  },
  {
   "cell_type": "code",
   "execution_count": null,
   "id": "3b3e5a74-9c87-44f7-9d69-c3034141c822",
   "metadata": {},
   "outputs": [],
   "source": []
  },
  {
   "cell_type": "markdown",
   "id": "7a0f5ace-cc93-468f-a627-3db690da8f1b",
   "metadata": {},
   "source": [
    "## 6 Regressions with more than 1 predictor\n",
    "Linear regression uses the maximum likelihood method to build a model of the **dependent variable (aka response)** feature where instead of the mean being a constant number (like 12) the mean of the model depends on the **independent variable (aka predictor)** features (fruit length mean = 12 + 3 * genotypeNumber). The value we expect for the dependent variable *depends* on the value of the independent variables.\n",
    "\n",
    "We've been just using the first marker in fruit_length_geno to predict fruit_length. Let's try a different marker."
   ]
  },
  {
   "cell_type": "code",
   "execution_count": 3,
   "id": "dcb32687-337b-413a-996a-cdfe29bcc72a",
   "metadata": {},
   "outputs": [
    {
     "data": {
      "text/html": [
       "<div>\n",
       "<style scoped>\n",
       "    .dataframe tbody tr th:only-of-type {\n",
       "        vertical-align: middle;\n",
       "    }\n",
       "\n",
       "    .dataframe tbody tr th {\n",
       "        vertical-align: top;\n",
       "    }\n",
       "\n",
       "    .dataframe thead th {\n",
       "        text-align: right;\n",
       "    }\n",
       "</style>\n",
       "<table border=\"1\" class=\"dataframe\">\n",
       "  <thead>\n",
       "    <tr style=\"text-align: right;\">\n",
       "      <th></th>\n",
       "      <th>MASC06116</th>\n",
       "      <th>MASC02863</th>\n",
       "      <th>FES1_3177</th>\n",
       "      <th>RAX2_405</th>\n",
       "      <th>MASC05402</th>\n",
       "      <th>bolting_days</th>\n",
       "      <th>seed_weight</th>\n",
       "      <th>seed_area</th>\n",
       "      <th>ttl_seedspfruit</th>\n",
       "      <th>branches</th>\n",
       "      <th>height</th>\n",
       "      <th>pc_seeds_aborted</th>\n",
       "      <th>fruit_length</th>\n",
       "    </tr>\n",
       "  </thead>\n",
       "  <tbody>\n",
       "    <tr>\n",
       "      <th>MAGIC.1</th>\n",
       "      <td>A</td>\n",
       "      <td>A</td>\n",
       "      <td>A</td>\n",
       "      <td>A</td>\n",
       "      <td>A</td>\n",
       "      <td>15.33</td>\n",
       "      <td>17.15</td>\n",
       "      <td>0.64</td>\n",
       "      <td>45.11</td>\n",
       "      <td>10.50</td>\n",
       "      <td>NaN</td>\n",
       "      <td>0.00</td>\n",
       "      <td>14.95</td>\n",
       "    </tr>\n",
       "    <tr>\n",
       "      <th>MAGIC.10</th>\n",
       "      <td>A</td>\n",
       "      <td>A</td>\n",
       "      <td>A</td>\n",
       "      <td>A</td>\n",
       "      <td>A</td>\n",
       "      <td>30.00</td>\n",
       "      <td>30.46</td>\n",
       "      <td>0.91</td>\n",
       "      <td>56.33</td>\n",
       "      <td>3.00</td>\n",
       "      <td>48.50</td>\n",
       "      <td>0.41</td>\n",
       "      <td>18.63</td>\n",
       "    </tr>\n",
       "    <tr>\n",
       "      <th>MAGIC.100</th>\n",
       "      <td>A</td>\n",
       "      <td>A</td>\n",
       "      <td>A</td>\n",
       "      <td>A</td>\n",
       "      <td>A</td>\n",
       "      <td>38.33</td>\n",
       "      <td>23.59</td>\n",
       "      <td>0.76</td>\n",
       "      <td>53.33</td>\n",
       "      <td>8.67</td>\n",
       "      <td>51.43</td>\n",
       "      <td>0.00</td>\n",
       "      <td>16.36</td>\n",
       "    </tr>\n",
       "    <tr>\n",
       "      <th>MAGIC.101</th>\n",
       "      <td>A</td>\n",
       "      <td>A</td>\n",
       "      <td>A</td>\n",
       "      <td>A</td>\n",
       "      <td>A</td>\n",
       "      <td>17.00</td>\n",
       "      <td>23.20</td>\n",
       "      <td>0.75</td>\n",
       "      <td>64.00</td>\n",
       "      <td>5.67</td>\n",
       "      <td>NaN</td>\n",
       "      <td>0.36</td>\n",
       "      <td>17.65</td>\n",
       "    </tr>\n",
       "    <tr>\n",
       "      <th>MAGIC.102</th>\n",
       "      <td>A</td>\n",
       "      <td>A</td>\n",
       "      <td>A</td>\n",
       "      <td>A</td>\n",
       "      <td>A</td>\n",
       "      <td>15.67</td>\n",
       "      <td>22.12</td>\n",
       "      <td>0.72</td>\n",
       "      <td>55.56</td>\n",
       "      <td>7.33</td>\n",
       "      <td>41.75</td>\n",
       "      <td>0.00</td>\n",
       "      <td>16.52</td>\n",
       "    </tr>\n",
       "  </tbody>\n",
       "</table>\n",
       "</div>"
      ],
      "text/plain": [
       "          MASC06116 MASC02863 FES1_3177 RAX2_405 MASC05402  bolting_days  \\\n",
       "MAGIC.1           A         A         A        A         A         15.33   \n",
       "MAGIC.10          A         A         A        A         A         30.00   \n",
       "MAGIC.100         A         A         A        A         A         38.33   \n",
       "MAGIC.101         A         A         A        A         A         17.00   \n",
       "MAGIC.102         A         A         A        A         A         15.67   \n",
       "\n",
       "           seed_weight  seed_area  ttl_seedspfruit  branches  height  \\\n",
       "MAGIC.1          17.15       0.64            45.11     10.50     NaN   \n",
       "MAGIC.10         30.46       0.91            56.33      3.00   48.50   \n",
       "MAGIC.100        23.59       0.76            53.33      8.67   51.43   \n",
       "MAGIC.101        23.20       0.75            64.00      5.67     NaN   \n",
       "MAGIC.102        22.12       0.72            55.56      7.33   41.75   \n",
       "\n",
       "           pc_seeds_aborted  fruit_length  \n",
       "MAGIC.1                0.00         14.95  \n",
       "MAGIC.10               0.41         18.63  \n",
       "MAGIC.100              0.00         16.36  \n",
       "MAGIC.101              0.36         17.65  \n",
       "MAGIC.102              0.00         16.52  "
      ]
     },
     "execution_count": 3,
     "metadata": {},
     "output_type": "execute_result"
    }
   ],
   "source": [
    "fruit_length_geno.head()"
   ]
  },
  {
   "cell_type": "markdown",
   "id": "5884aa56-c230-4f82-85da-feba970086c5",
   "metadata": {},
   "source": [
    "**Exercise 6.1**: Using a different marker to predict fruit length (Model 2) \n",
    "1. Use the marker MASC02863 as a predictor variable and do regression predicting fruit length (save this into a variable called `model2`."
   ]
  },
  {
   "cell_type": "code",
   "execution_count": 11,
   "id": "260b8263",
   "metadata": {},
   "outputs": [],
   "source": [
    "X = to_model.loc[:, ['const', 'MASC02863']]\n",
    "y = to_model['fruit_length']\n",
    "model2 = sm.OLS(y, X).fit()"
   ]
  },
  {
   "cell_type": "markdown",
   "id": "cead6373-f021-4692-ad60-6e686bd9e007",
   "metadata": {},
   "source": [
    "2. Write down the linear model including the coefficients of the model. "
   ]
  },
  {
   "cell_type": "markdown",
   "id": "3e91a1da-e0c5-4b48-8037-f8ddc06faac2",
   "metadata": {},
   "source": [
    "3. Calculate the predicted mean fruit lengths and the RMSE"
   ]
  },
  {
   "cell_type": "markdown",
   "id": "d484f7a3-020f-478c-bdd1-257fa4a74c2c",
   "metadata": {},
   "source": [
    "4. Is this marker a good predictor of fruit length? Why? Compare it to `model_marker` using at least 2 metrics. "
   ]
  },
  {
   "cell_type": "markdown",
   "id": "19240d12-d3de-4417-80b6-2a53cbcd8e2f",
   "metadata": {},
   "source": [
    "But there's no reason we have to pick one. We can use more than one by including it in the data frame `X`.\n",
    "\n",
    "We will fit a linear model like this one:\n",
    "    \n",
    "${mean Fruit Length} = intercept + slope1 \\times MASC06116 + slope2 \\times MASC02863 $\n",
    "\n",
    "(where the markers are converted into 0 and 1 as above)    "
   ]
  },
  {
   "cell_type": "markdown",
   "id": "4c3b7f24-6c61-487e-a49d-0739d2a00e22",
   "metadata": {},
   "source": [
    "**Exercise 6.2**: Using both markers (Model 3).\n",
    "1. Run the regression now including both MASC06116 and MASC02863 as predictors of fruit length  (save this into a variable called `model3`). How can we compare it to the other models? **We can use the data summary and evaluate the RMSE of the predictions**"
   ]
  },
  {
   "cell_type": "code",
   "execution_count": 8,
   "id": "5032421d-b9e5-4202-9ae9-2aa1b0a8be9d",
   "metadata": {},
   "outputs": [],
   "source": [
    "X = to_model.loc[:, ['const', 'MASC02863', 'MASC06116']]\n",
    "y = to_model['fruit_length']\n",
    "model13 = sm.OLS(y, X).fit()"
   ]
  },
  {
   "cell_type": "markdown",
   "id": "6b499442-0c45-48b9-b179-b0e273216813",
   "metadata": {},
   "source": [
    "2. Write out the linear model that includes both markers, including the actual numbers of the parameters (rounded to 2 decimals)."
   ]
  },
  {
   "cell_type": "code",
   "execution_count": 10,
   "id": "4e2e552e-0fc3-49b9-b5a7-21349add87c1",
   "metadata": {},
   "outputs": [
    {
     "data": {
      "text/html": [
       "<table class=\"simpletable\">\n",
       "<caption>OLS Regression Results</caption>\n",
       "<tr>\n",
       "  <th>Dep. Variable:</th>      <td>fruit_length</td>   <th>  R-squared:         </th> <td>   0.171</td>\n",
       "</tr>\n",
       "<tr>\n",
       "  <th>Model:</th>                   <td>OLS</td>       <th>  Adj. R-squared:    </th> <td>   0.169</td>\n",
       "</tr>\n",
       "<tr>\n",
       "  <th>Method:</th>             <td>Least Squares</td>  <th>  F-statistic:       </th> <td>   69.25</td>\n",
       "</tr>\n",
       "<tr>\n",
       "  <th>Date:</th>             <td>Wed, 30 Nov 2022</td> <th>  Prob (F-statistic):</th> <td>4.56e-28</td>\n",
       "</tr>\n",
       "<tr>\n",
       "  <th>Time:</th>                 <td>13:31:34</td>     <th>  Log-Likelihood:    </th> <td> -1286.8</td>\n",
       "</tr>\n",
       "<tr>\n",
       "  <th>No. Observations:</th>      <td>   674</td>      <th>  AIC:               </th> <td>   2580.</td>\n",
       "</tr>\n",
       "<tr>\n",
       "  <th>Df Residuals:</th>          <td>   671</td>      <th>  BIC:               </th> <td>   2593.</td>\n",
       "</tr>\n",
       "<tr>\n",
       "  <th>Df Model:</th>              <td>     2</td>      <th>                     </th>     <td> </td>   \n",
       "</tr>\n",
       "<tr>\n",
       "  <th>Covariance Type:</th>      <td>nonrobust</td>    <th>                     </th>     <td> </td>   \n",
       "</tr>\n",
       "</table>\n",
       "<table class=\"simpletable\">\n",
       "<tr>\n",
       "      <td></td>         <th>coef</th>     <th>std err</th>      <th>t</th>      <th>P>|t|</th>  <th>[0.025</th>    <th>0.975]</th>  \n",
       "</tr>\n",
       "<tr>\n",
       "  <th>const</th>     <td>   12.2511</td> <td>    0.239</td> <td>   51.190</td> <td> 0.000</td> <td>   11.781</td> <td>   12.721</td>\n",
       "</tr>\n",
       "<tr>\n",
       "  <th>MASC02863</th> <td>    0.8216</td> <td>    0.838</td> <td>    0.981</td> <td> 0.327</td> <td>   -0.823</td> <td>    2.467</td>\n",
       "</tr>\n",
       "<tr>\n",
       "  <th>MASC06116</th> <td>    2.0770</td> <td>    0.822</td> <td>    2.527</td> <td> 0.012</td> <td>    0.463</td> <td>    3.691</td>\n",
       "</tr>\n",
       "</table>\n",
       "<table class=\"simpletable\">\n",
       "<tr>\n",
       "  <th>Omnibus:</th>       <td> 0.283</td> <th>  Durbin-Watson:     </th> <td>   1.988</td>\n",
       "</tr>\n",
       "<tr>\n",
       "  <th>Prob(Omnibus):</th> <td> 0.868</td> <th>  Jarque-Bera (JB):  </th> <td>   0.197</td>\n",
       "</tr>\n",
       "<tr>\n",
       "  <th>Skew:</th>          <td> 0.036</td> <th>  Prob(JB):          </th> <td>   0.906</td>\n",
       "</tr>\n",
       "<tr>\n",
       "  <th>Kurtosis:</th>      <td> 3.044</td> <th>  Cond. No.          </th> <td>    30.9</td>\n",
       "</tr>\n",
       "</table><br/><br/>Notes:<br/>[1] Standard Errors assume that the covariance matrix of the errors is correctly specified."
      ],
      "text/plain": [
       "<class 'statsmodels.iolib.summary.Summary'>\n",
       "\"\"\"\n",
       "                            OLS Regression Results                            \n",
       "==============================================================================\n",
       "Dep. Variable:           fruit_length   R-squared:                       0.171\n",
       "Model:                            OLS   Adj. R-squared:                  0.169\n",
       "Method:                 Least Squares   F-statistic:                     69.25\n",
       "Date:                Wed, 30 Nov 2022   Prob (F-statistic):           4.56e-28\n",
       "Time:                        13:31:34   Log-Likelihood:                -1286.8\n",
       "No. Observations:                 674   AIC:                             2580.\n",
       "Df Residuals:                     671   BIC:                             2593.\n",
       "Df Model:                           2                                         \n",
       "Covariance Type:            nonrobust                                         \n",
       "==============================================================================\n",
       "                 coef    std err          t      P>|t|      [0.025      0.975]\n",
       "------------------------------------------------------------------------------\n",
       "const         12.2511      0.239     51.190      0.000      11.781      12.721\n",
       "MASC02863      0.8216      0.838      0.981      0.327      -0.823       2.467\n",
       "MASC06116      2.0770      0.822      2.527      0.012       0.463       3.691\n",
       "==============================================================================\n",
       "Omnibus:                        0.283   Durbin-Watson:                   1.988\n",
       "Prob(Omnibus):                  0.868   Jarque-Bera (JB):                0.197\n",
       "Skew:                           0.036   Prob(JB):                        0.906\n",
       "Kurtosis:                       3.044   Cond. No.                         30.9\n",
       "==============================================================================\n",
       "\n",
       "Notes:\n",
       "[1] Standard Errors assume that the covariance matrix of the errors is correctly specified.\n",
       "\"\"\""
      ]
     },
     "metadata": {},
     "output_type": "display_data"
    },
    {
     "name": "stdout",
     "output_type": "stream",
     "text": [
      "fruit_length = 12.251128087925638 + 2.0769798674952584 * MASC06116 + 0.8215745638813132 * MASC02863\n"
     ]
    }
   ],
   "source": [
    "display(model13.summary())\n",
    "print(f'fruit_length = {model13.params[0]} + {model13.params[2]} * MASC06116 + {model13.params[1]} * MASC02863')"
   ]
  },
  {
   "cell_type": "markdown",
   "id": "b95c4d73-42a7-4b0a-8c53-9836a2bb5d69",
   "metadata": {},
   "source": [
    "3. There are 4 possible genotypes considering these 2 markers, which is all combinations of A and B at the 2 markers. The values are below (converted to A=1, B=0) in the data frame `genoPairs`. Use the linear model in step 2 (or, if you prefer, the `predict` function) to predict mean fruit lengths for plants in the 4 categories. Add this prediction as a column to the data frame. "
   ]
  },
  {
   "cell_type": "code",
   "execution_count": 12,
   "id": "8bd4f639-829f-4b1b-8873-b07a6b4122a4",
   "metadata": {},
   "outputs": [
    {
     "data": {
      "text/html": [
       "<div>\n",
       "<style scoped>\n",
       "    .dataframe tbody tr th:only-of-type {\n",
       "        vertical-align: middle;\n",
       "    }\n",
       "\n",
       "    .dataframe tbody tr th {\n",
       "        vertical-align: top;\n",
       "    }\n",
       "\n",
       "    .dataframe thead th {\n",
       "        text-align: right;\n",
       "    }\n",
       "</style>\n",
       "<table border=\"1\" class=\"dataframe\">\n",
       "  <thead>\n",
       "    <tr style=\"text-align: right;\">\n",
       "      <th></th>\n",
       "      <th>const</th>\n",
       "      <th>MASC06116</th>\n",
       "      <th>MASC02863</th>\n",
       "      <th>model3_preds</th>\n",
       "      <th>combined_preds</th>\n",
       "    </tr>\n",
       "  </thead>\n",
       "  <tbody>\n",
       "    <tr>\n",
       "      <th>0</th>\n",
       "      <td>1.0</td>\n",
       "      <td>0</td>\n",
       "      <td>0</td>\n",
       "      <td>12.251128</td>\n",
       "      <td>12.251128</td>\n",
       "    </tr>\n",
       "    <tr>\n",
       "      <th>1</th>\n",
       "      <td>1.0</td>\n",
       "      <td>0</td>\n",
       "      <td>1</td>\n",
       "      <td>14.328108</td>\n",
       "      <td>15.095554</td>\n",
       "    </tr>\n",
       "    <tr>\n",
       "      <th>2</th>\n",
       "      <td>1.0</td>\n",
       "      <td>1</td>\n",
       "      <td>0</td>\n",
       "      <td>13.072703</td>\n",
       "      <td>15.098068</td>\n",
       "    </tr>\n",
       "    <tr>\n",
       "      <th>3</th>\n",
       "      <td>1.0</td>\n",
       "      <td>1</td>\n",
       "      <td>1</td>\n",
       "      <td>15.149683</td>\n",
       "      <td>17.942493</td>\n",
       "    </tr>\n",
       "  </tbody>\n",
       "</table>\n",
       "</div>"
      ],
      "text/plain": [
       "   const  MASC06116  MASC02863  model3_preds  combined_preds\n",
       "0    1.0          0          0     12.251128       12.251128\n",
       "1    1.0          0          1     14.328108       15.095554\n",
       "2    1.0          1          0     13.072703       15.098068\n",
       "3    1.0          1          1     15.149683       17.942493"
      ]
     },
     "execution_count": 12,
     "metadata": {},
     "output_type": "execute_result"
    }
   ],
   "source": [
    "geno_pairs = pd.DataFrame({'MASC06116':[0,0,1,1],\n",
    "                           'MASC02863':[0,1,0,1]})\n",
    "geno_pairs\n",
    "geno_pairs = sm.add_constant(geno_pairs)\n",
    "predictions = model13.predict(geno_pairs)\n",
    "geno_pairs['model3_preds'] = predictions\n",
    "\n",
    "predictions = model13.params[0] * geno_pairs['const'] + model_marker.params[1] * geno_pairs['MASC06116'] + model2.params[1] * geno_pairs['MASC02863']\n",
    "geno_pairs['combined_preds'] = predictions\n",
    "\n",
    "geno_pairs"
   ]
  },
  {
   "cell_type": "markdown",
   "id": "f1404cb0-0b63-4e19-950a-6c9935d9c988",
   "metadata": {},
   "source": [
    "4. Compare the slope parameters for model_marker, model2, and model 3. What do you notice? Add another column to the genoPairs data frame that uses the slope parameters from Model 1 and Model 2, together to make predictions. What do you notice?"
   ]
  },
  {
   "cell_type": "markdown",
   "id": "5d888f55-ae5d-4105-a252-0be5de2aa3c4",
   "metadata": {},
   "source": [
    "### 6.1 Collinearity of two independent variables\n",
    "When two independent variables have almost the same values, they can't both have a high slope if they are together in the same model. Even if when they have a high slope when they are in separate models.\n",
    "\n",
    "We can use the `crosstab` function to see what combinations of genotypes are present across the plants."
   ]
  },
  {
   "cell_type": "code",
   "execution_count": 13,
   "id": "b7551831-1c2f-427b-965b-5514395ac2be",
   "metadata": {},
   "outputs": [
    {
     "data": {
      "text/html": [
       "<div>\n",
       "<style scoped>\n",
       "    .dataframe tbody tr th:only-of-type {\n",
       "        vertical-align: middle;\n",
       "    }\n",
       "\n",
       "    .dataframe tbody tr th {\n",
       "        vertical-align: top;\n",
       "    }\n",
       "\n",
       "    .dataframe thead th {\n",
       "        text-align: right;\n",
       "    }\n",
       "</style>\n",
       "<table border=\"1\" class=\"dataframe\">\n",
       "  <thead>\n",
       "    <tr style=\"text-align: right;\">\n",
       "      <th>MASC02863</th>\n",
       "      <th>A</th>\n",
       "      <th>B</th>\n",
       "    </tr>\n",
       "    <tr>\n",
       "      <th>MASC06116</th>\n",
       "      <th></th>\n",
       "      <th></th>\n",
       "    </tr>\n",
       "  </thead>\n",
       "  <tbody>\n",
       "    <tr>\n",
       "      <th>A</th>\n",
       "      <td>627</td>\n",
       "      <td>1</td>\n",
       "    </tr>\n",
       "    <tr>\n",
       "      <th>B</th>\n",
       "      <td>3</td>\n",
       "      <td>45</td>\n",
       "    </tr>\n",
       "  </tbody>\n",
       "</table>\n",
       "</div>"
      ],
      "text/plain": [
       "MASC02863    A   B\n",
       "MASC06116         \n",
       "A          627   1\n",
       "B            3  45"
      ]
     },
     "execution_count": 13,
     "metadata": {},
     "output_type": "execute_result"
    }
   ],
   "source": [
    "pd.crosstab(fruit_length_geno['MASC06116'],\n",
    "            fruit_length_geno['MASC02863'])"
   ]
  },
  {
   "cell_type": "markdown",
   "id": "97dc43bb-daaf-480c-868f-f7a1d06f412d",
   "metadata": {},
   "source": [
    "**Exercise 6.1.1**: In your own words describe the relationship between the two markers by looking at this table. **When one marker is A, the other is A. They covary with one another.**"
   ]
  },
  {
   "cell_type": "markdown",
   "id": "663ac03e-8a5e-4389-97d6-098cf655e35b",
   "metadata": {},
   "source": [
    "**Exercise 6.1.2**: Make another model `model4` that has 2 predictors, but now both predictors are the genotype at marker MASC06116 (so we have 2 identical independent variables). Compare the coefficients and r-squared between Model 4 and Model 1. What do you notice?"
   ]
  },
  {
   "cell_type": "code",
   "execution_count": 15,
   "id": "b7c15373",
   "metadata": {},
   "outputs": [
    {
     "data": {
      "text/html": [
       "<table class=\"simpletable\">\n",
       "<caption>OLS Regression Results</caption>\n",
       "<tr>\n",
       "  <th>Dep. Variable:</th>      <td>fruit_length</td>   <th>  R-squared:         </th> <td>   0.170</td>\n",
       "</tr>\n",
       "<tr>\n",
       "  <th>Model:</th>                   <td>OLS</td>       <th>  Adj. R-squared:    </th> <td>   0.169</td>\n",
       "</tr>\n",
       "<tr>\n",
       "  <th>Method:</th>             <td>Least Squares</td>  <th>  F-statistic:       </th> <td>   137.5</td>\n",
       "</tr>\n",
       "<tr>\n",
       "  <th>Date:</th>             <td>Wed, 30 Nov 2022</td> <th>  Prob (F-statistic):</th> <td>4.98e-29</td>\n",
       "</tr>\n",
       "<tr>\n",
       "  <th>Time:</th>                 <td>13:51:03</td>     <th>  Log-Likelihood:    </th> <td> -1287.3</td>\n",
       "</tr>\n",
       "<tr>\n",
       "  <th>No. Observations:</th>      <td>   674</td>      <th>  AIC:               </th> <td>   2579.</td>\n",
       "</tr>\n",
       "<tr>\n",
       "  <th>Df Residuals:</th>          <td>   672</td>      <th>  BIC:               </th> <td>   2588.</td>\n",
       "</tr>\n",
       "<tr>\n",
       "  <th>Df Model:</th>              <td>     1</td>      <th>                     </th>     <td> </td>   \n",
       "</tr>\n",
       "<tr>\n",
       "  <th>Covariance Type:</th>      <td>nonrobust</td>    <th>                     </th>     <td> </td>   \n",
       "</tr>\n",
       "</table>\n",
       "<table class=\"simpletable\">\n",
       "<tr>\n",
       "        <td></td>           <th>coef</th>     <th>std err</th>      <th>t</th>      <th>P>|t|</th>  <th>[0.025</th>    <th>0.975]</th>  \n",
       "</tr>\n",
       "<tr>\n",
       "  <th>const</th>         <td>   12.3014</td> <td>    0.234</td> <td>   52.625</td> <td> 0.000</td> <td>   11.842</td> <td>   12.760</td>\n",
       "</tr>\n",
       "<tr>\n",
       "  <th>MASC06116</th>     <td>    1.4235</td> <td>    0.121</td> <td>   11.728</td> <td> 0.000</td> <td>    1.185</td> <td>    1.662</td>\n",
       "</tr>\n",
       "<tr>\n",
       "  <th>MASC06116_dup</th> <td>    1.4235</td> <td>    0.121</td> <td>   11.728</td> <td> 0.000</td> <td>    1.185</td> <td>    1.662</td>\n",
       "</tr>\n",
       "</table>\n",
       "<table class=\"simpletable\">\n",
       "<tr>\n",
       "  <th>Omnibus:</th>       <td> 0.247</td> <th>  Durbin-Watson:     </th> <td>   1.985</td>\n",
       "</tr>\n",
       "<tr>\n",
       "  <th>Prob(Omnibus):</th> <td> 0.884</td> <th>  Jarque-Bera (JB):  </th> <td>   0.168</td>\n",
       "</tr>\n",
       "<tr>\n",
       "  <th>Skew:</th>          <td> 0.033</td> <th>  Prob(JB):          </th> <td>   0.919</td>\n",
       "</tr>\n",
       "<tr>\n",
       "  <th>Kurtosis:</th>      <td> 3.040</td> <th>  Cond. No.          </th> <td>2.43e+16</td>\n",
       "</tr>\n",
       "</table><br/><br/>Notes:<br/>[1] Standard Errors assume that the covariance matrix of the errors is correctly specified.<br/>[2] The smallest eigenvalue is 3.21e-30. This might indicate that there are<br/>strong multicollinearity problems or that the design matrix is singular."
      ],
      "text/plain": [
       "<class 'statsmodels.iolib.summary.Summary'>\n",
       "\"\"\"\n",
       "                            OLS Regression Results                            \n",
       "==============================================================================\n",
       "Dep. Variable:           fruit_length   R-squared:                       0.170\n",
       "Model:                            OLS   Adj. R-squared:                  0.169\n",
       "Method:                 Least Squares   F-statistic:                     137.5\n",
       "Date:                Wed, 30 Nov 2022   Prob (F-statistic):           4.98e-29\n",
       "Time:                        13:51:03   Log-Likelihood:                -1287.3\n",
       "No. Observations:                 674   AIC:                             2579.\n",
       "Df Residuals:                     672   BIC:                             2588.\n",
       "Df Model:                           1                                         \n",
       "Covariance Type:            nonrobust                                         \n",
       "=================================================================================\n",
       "                    coef    std err          t      P>|t|      [0.025      0.975]\n",
       "---------------------------------------------------------------------------------\n",
       "const            12.3014      0.234     52.625      0.000      11.842      12.760\n",
       "MASC06116         1.4235      0.121     11.728      0.000       1.185       1.662\n",
       "MASC06116_dup     1.4235      0.121     11.728      0.000       1.185       1.662\n",
       "==============================================================================\n",
       "Omnibus:                        0.247   Durbin-Watson:                   1.985\n",
       "Prob(Omnibus):                  0.884   Jarque-Bera (JB):                0.168\n",
       "Skew:                           0.033   Prob(JB):                        0.919\n",
       "Kurtosis:                       3.040   Cond. No.                     2.43e+16\n",
       "==============================================================================\n",
       "\n",
       "Notes:\n",
       "[1] Standard Errors assume that the covariance matrix of the errors is correctly specified.\n",
       "[2] The smallest eigenvalue is 3.21e-30. This might indicate that there are\n",
       "strong multicollinearity problems or that the design matrix is singular.\n",
       "\"\"\""
      ]
     },
     "execution_count": 15,
     "metadata": {},
     "output_type": "execute_result"
    }
   ],
   "source": [
    "X = to_model.loc[:, ['const', 'MASC06116', 'MASC06116_dup']]\n",
    "y = to_model['fruit_length']\n",
    "model4 = sm.OLS(y, X).fit()\n",
    "model4.summary()"
   ]
  }
 ],
 "metadata": {
  "kernelspec": {
   "display_name": "Python 3.9.13 ('base')",
   "language": "python",
   "name": "python3"
  },
  "language_info": {
   "codemirror_mode": {
    "name": "ipython",
    "version": 3
   },
   "file_extension": ".py",
   "mimetype": "text/x-python",
   "name": "python",
   "nbconvert_exporter": "python",
   "pygments_lexer": "ipython3",
   "version": "3.9.13"
  },
  "vscode": {
   "interpreter": {
    "hash": "ad2bdc8ecc057115af97d19610ffacc2b4e99fae6737bb82f5d7fb13d2f2c186"
   }
  }
 },
 "nbformat": 4,
 "nbformat_minor": 5
}
