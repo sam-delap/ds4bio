{
 "cells": [
  {
   "cell_type": "markdown",
   "id": "c1bd312b-46cb-4d79-9aa8-60074eb089fd",
   "metadata": {},
   "source": [
    "## Problem Solving Homework 3\n",
    "This homework is intended for you to develop your skills in Pandas. This includes both technical skills about how to work with data frames, and thinking skills about where to get information from a data set.\n",
    "\n",
    "You can read in the file line by line as we went over in the notebook 08_elif_set_dict.ipynb\n",
    "\n",
    "### The Deforestation Data\n",
    "This data is taken from this [Tidy Tuesday data set](https://github.com/rfordatascience/tidytuesday/tree/master/data/2021/2021-04-06). It is data about different countries and their forest coverage over time. This homework will take you through an analysis of this data set.\n",
    "\n",
    "\n",
    "#### Input variables\n",
    "These instructions are the same as in homework 2.\n",
    "Questions that use input variables have these inputs highlighted in <font color=purple>purple</font>. These variables should be defined in a separate cell from where your code is. Do not put the variable assignment into your answer cell. Therefore there are 2 cells for each answer: one cell giving example inputs (I made one for each Question) and another cell where you write your code that uses these inputs and makes an output. Example below:\n",
    "\n",
    "**Example question**: Write code that uses a variable `input_var` and adds 1 to that variable."
   ]
  },
  {
   "cell_type": "code",
   "execution_count": null,
   "id": "c1abc857-cb54-4fb1-be58-8d05fbb70919",
   "metadata": {},
   "outputs": [],
   "source": [
    "## Input cell: comment out different lines here to test out your code\n",
    "input_var = 1\n",
    "input_var = -1"
   ]
  },
  {
   "cell_type": "code",
   "execution_count": null,
   "id": "e7da9347-943d-45d1-8d01-39ceda34b71d",
   "metadata": {},
   "outputs": [],
   "source": [
    "## Answer cell: input your code below. Do not redefine the value of input_var, just use the value"
   ]
  },
  {
   "cell_type": "markdown",
   "id": "da3e1c9f-088d-4faa-9940-4cda39f4734b",
   "metadata": {},
   "source": [
    "## Q0 \n",
    "(no points)\n",
    "Read in the data frames for vegetable oil, forest conversion, forest area, and brazil deforestation. These are the data frames you will be using."
   ]
  },
  {
   "cell_type": "code",
   "execution_count": 7,
   "id": "1d4bdffc",
   "metadata": {},
   "outputs": [],
   "source": [
    "import pandas as pd\n",
    "# Need country ones so we don't get 'World' or 'Americas'\n",
    "veg = pd.read_csv(\"../data/forest_data/vegetable_oil.csv\")\n",
    "conv = pd.read_csv(\"../data/forest_data/country_forest.csv\")\n",
    "area = pd.read_csv(\"../data/forest_data/country_forest_area.csv\")\n",
    "brazil = pd.read_csv(\"../data/forest_data/brazil_loss.csv\")"
   ]
  },
  {
   "cell_type": "markdown",
   "id": "16570de6-fa8e-4994-8b9c-9489c43eb3ad",
   "metadata": {},
   "source": [
    "## Q1\n",
    "\n",
    "Given the following 2 variable values,to obtain the vegetable oil type most produced in a country in a given year.\n",
    "\n",
    "<font color=purple>Inputs are `year` and `country`</font>"
   ]
  },
  {
   "cell_type": "code",
   "execution_count": 3,
   "id": "960b93cc-2acf-4a6b-a7b2-27a542649568",
   "metadata": {},
   "outputs": [],
   "source": [
    "year = 2010\n",
    "country = 'Brazil'"
   ]
  },
  {
   "cell_type": "code",
   "execution_count": 9,
   "id": "9265add5-cf0d-4f63-8124-e4cf8f2f7550",
   "metadata": {},
   "outputs": [
    {
     "name": "stdout",
     "output_type": "stream",
     "text": [
      "Soybean\n"
     ]
    }
   ],
   "source": [
    "# Do boolean indexing to get the correct year and country\n",
    "indexer = (veg['year'] == year) & (veg['entity'] == country)\n",
    "df = veg.loc[indexer, :]\n",
    "# Find the index of the maximum production, then find the crop_oil that was being produced\n",
    "print(df.loc[df['production'].idxmax(), 'crop_oil'])"
   ]
  },
  {
   "cell_type": "code",
   "execution_count": 21,
   "id": "2a36123e-e59f-401a-ba45-1896fb9abde1",
   "metadata": {},
   "outputs": [
    {
     "name": "stdout",
     "output_type": "stream",
     "text": [
      "Rapeseed\n"
     ]
    }
   ],
   "source": [
    "## Australia 2010"
   ]
  },
  {
   "cell_type": "code",
   "execution_count": 25,
   "id": "b1d9a5b8-094c-41ca-8713-e64d480f0fc7",
   "metadata": {},
   "outputs": [
    {
     "name": "stdout",
     "output_type": "stream",
     "text": [
      "Rapeseed\n"
     ]
    }
   ],
   "source": [
    "## Chile 2010"
   ]
  },
  {
   "cell_type": "code",
   "execution_count": 22,
   "id": "0a5ac09b-2c51-4f04-a635-8d9aee3d7f3b",
   "metadata": {},
   "outputs": [
    {
     "name": "stdout",
     "output_type": "stream",
     "text": [
      "Soybean\n"
     ]
    }
   ],
   "source": [
    "## Brazil 2010"
   ]
  },
  {
   "cell_type": "markdown",
   "id": "f8722635-9683-4e11-b1b0-b739f1f30a09",
   "metadata": {},
   "source": [
    "## Q2\n",
    "Find which source of forest loss caused the most loss of forest area in Brazil between the years `year_start` and `year_end`.\n",
    "\n",
    "<font color=purple>Inputs are `year_start` and `year_end`</font>\n",
    "\n",
    "Output a list containing the elements [type of loss, loss caused] "
   ]
  },
  {
   "cell_type": "code",
   "execution_count": 14,
   "id": "46278461-2af2-4382-a6f5-ec18baa498cc",
   "metadata": {},
   "outputs": [],
   "source": [
    "year_start = 2004\n",
    "year_end = 2012  ## will output ['pasture', 16861000]"
   ]
  },
  {
   "cell_type": "code",
   "execution_count": 15,
   "id": "e5fe0ad3-aaec-4d42-85e1-fc44650e2b19",
   "metadata": {
    "tags": []
   },
   "outputs": [
    {
     "name": "stdout",
     "output_type": "stream",
     "text": [
      "['pasture', 12759000]\n"
     ]
    }
   ],
   "source": [
    "## your code here\n",
    "# Select for the correct years and eliminate entity, code, and year columns\n",
    "selected = brazil.iloc[year_start - 2001:year_end - 2000, 2:]\n",
    "# Sum the forest area lost in each column, then find the type of forest loss that accounted for the maximum area lost\n",
    "print([selected.sum().idxmax(), selected.sum().max()])"
   ]
  },
  {
   "cell_type": "markdown",
   "id": "04c123c7-461f-4bee-9aca-7a14f003c81d",
   "metadata": {},
   "source": [
    "## Q3\n",
    "Create a data frame that for each year contains the country that had the highest percent of global forest area and what that percent is. The index should be the years, and the columns should be country (entity) and forest_area. \n",
    "\n",
    "No inputs.\n",
    "\n",
    "Please note for this question that you can use \".values\" to convert the DataFrame from Boolean indexing to get the values from it. Example below:"
   ]
  },
  {
   "cell_type": "code",
   "execution_count": 26,
   "id": "38657488-6a55-4058-9828-6791c4024ccf",
   "metadata": {},
   "outputs": [],
   "source": [
    "lakes = {'name':['Huron','Ontario','Michigan','Erie','Superior'],\n",
    "        'surface':[23000, 7340,22400,9900,31700],\n",
    "        'ave_depth':[195,284,279,70,480],\n",
    "        'max_depth':[750,802,923,210,1333],\n",
    "        'shared_canada':[True,True, False, True, True],\n",
    "         'temperature':[48,51,49,54,43],\n",
    "         'native_name':['Karegnondi','Oniatarí:io','Michi gami','Erielhonan','Gichi-gami']\n",
    "        }\n",
    "df = pd.DataFrame(lakes).set_index(\"name\")"
   ]
  },
  {
   "cell_type": "markdown",
   "id": "52d2cf97-5321-4fbe-a91d-77e6f753302d",
   "metadata": {},
   "source": [
    "Without using `.values`"
   ]
  },
  {
   "cell_type": "code",
   "execution_count": 30,
   "id": "1f02889b-5590-4259-b37b-e363f1ef0bce",
   "metadata": {},
   "outputs": [
    {
     "data": {
      "text/plain": [
       "name\n",
       "Michigan    923\n",
       "Name: max_depth, dtype: int64"
      ]
     },
     "execution_count": 30,
     "metadata": {},
     "output_type": "execute_result"
    }
   ],
   "source": [
    "df.loc[~df['shared_canada'],'max_depth']"
   ]
  },
  {
   "cell_type": "markdown",
   "id": "1cd49d98-1438-40aa-960f-a991ee81f944",
   "metadata": {},
   "source": [
    "Using `.values`:"
   ]
  },
  {
   "cell_type": "code",
   "execution_count": 31,
   "id": "c31e65fe-7924-43b4-8e37-aa28924f43a3",
   "metadata": {},
   "outputs": [
    {
     "data": {
      "text/plain": [
       "923"
      ]
     },
     "execution_count": 31,
     "metadata": {},
     "output_type": "execute_result"
    }
   ],
   "source": [
    "df.loc[~df['shared_canada'],'max_depth'].values[0]"
   ]
  },
  {
   "cell_type": "code",
   "execution_count": 40,
   "id": "27096542-31c8-4f36-89ba-c7dbd3b99796",
   "metadata": {},
   "outputs": [
    {
     "data": {
      "text/html": [
       "<div>\n",
       "<style scoped>\n",
       "    .dataframe tbody tr th:only-of-type {\n",
       "        vertical-align: middle;\n",
       "    }\n",
       "\n",
       "    .dataframe tbody tr th {\n",
       "        vertical-align: top;\n",
       "    }\n",
       "\n",
       "    .dataframe thead th {\n",
       "        text-align: right;\n",
       "    }\n",
       "</style>\n",
       "<table border=\"1\" class=\"dataframe\">\n",
       "  <thead>\n",
       "    <tr style=\"text-align: right;\">\n",
       "      <th></th>\n",
       "      <th>entity</th>\n",
       "      <th>forest_area</th>\n",
       "    </tr>\n",
       "    <tr>\n",
       "      <th>year</th>\n",
       "      <th></th>\n",
       "      <th></th>\n",
       "    </tr>\n",
       "  </thead>\n",
       "  <tbody>\n",
       "    <tr>\n",
       "      <th>1990</th>\n",
       "      <td>Brazil</td>\n",
       "      <td>13.900798</td>\n",
       "    </tr>\n",
       "    <tr>\n",
       "      <th>1991</th>\n",
       "      <td>Brazil</td>\n",
       "      <td>13.837152</td>\n",
       "    </tr>\n",
       "    <tr>\n",
       "      <th>1992</th>\n",
       "      <td>Russia</td>\n",
       "      <td>19.167504</td>\n",
       "    </tr>\n",
       "    <tr>\n",
       "      <th>1993</th>\n",
       "      <td>Russia</td>\n",
       "      <td>19.203923</td>\n",
       "    </tr>\n",
       "    <tr>\n",
       "      <th>1994</th>\n",
       "      <td>Russia</td>\n",
       "      <td>19.240477</td>\n",
       "    </tr>\n",
       "    <tr>\n",
       "      <th>1995</th>\n",
       "      <td>Russia</td>\n",
       "      <td>19.277168</td>\n",
       "    </tr>\n",
       "    <tr>\n",
       "      <th>1996</th>\n",
       "      <td>Russia</td>\n",
       "      <td>19.313996</td>\n",
       "    </tr>\n",
       "    <tr>\n",
       "      <th>1997</th>\n",
       "      <td>Russia</td>\n",
       "      <td>19.350962</td>\n",
       "    </tr>\n",
       "    <tr>\n",
       "      <th>1998</th>\n",
       "      <td>Russia</td>\n",
       "      <td>19.388067</td>\n",
       "    </tr>\n",
       "    <tr>\n",
       "      <th>1999</th>\n",
       "      <td>Russia</td>\n",
       "      <td>19.425312</td>\n",
       "    </tr>\n",
       "    <tr>\n",
       "      <th>2000</th>\n",
       "      <td>Russia</td>\n",
       "      <td>19.462697</td>\n",
       "    </tr>\n",
       "    <tr>\n",
       "      <th>2001</th>\n",
       "      <td>Russia</td>\n",
       "      <td>19.501070</td>\n",
       "    </tr>\n",
       "    <tr>\n",
       "      <th>2002</th>\n",
       "      <td>Russia</td>\n",
       "      <td>19.539538</td>\n",
       "    </tr>\n",
       "    <tr>\n",
       "      <th>2003</th>\n",
       "      <td>Russia</td>\n",
       "      <td>19.578102</td>\n",
       "    </tr>\n",
       "    <tr>\n",
       "      <th>2004</th>\n",
       "      <td>Russia</td>\n",
       "      <td>19.616763</td>\n",
       "    </tr>\n",
       "    <tr>\n",
       "      <th>2005</th>\n",
       "      <td>Russia</td>\n",
       "      <td>19.655521</td>\n",
       "    </tr>\n",
       "    <tr>\n",
       "      <th>2006</th>\n",
       "      <td>Russia</td>\n",
       "      <td>19.694376</td>\n",
       "    </tr>\n",
       "    <tr>\n",
       "      <th>2007</th>\n",
       "      <td>Russia</td>\n",
       "      <td>19.733328</td>\n",
       "    </tr>\n",
       "    <tr>\n",
       "      <th>2008</th>\n",
       "      <td>Russia</td>\n",
       "      <td>19.772379</td>\n",
       "    </tr>\n",
       "    <tr>\n",
       "      <th>2009</th>\n",
       "      <td>Russia</td>\n",
       "      <td>19.811527</td>\n",
       "    </tr>\n",
       "    <tr>\n",
       "      <th>2010</th>\n",
       "      <td>Russia</td>\n",
       "      <td>19.850775</td>\n",
       "    </tr>\n",
       "    <tr>\n",
       "      <th>2011</th>\n",
       "      <td>Russia</td>\n",
       "      <td>19.871486</td>\n",
       "    </tr>\n",
       "    <tr>\n",
       "      <th>2012</th>\n",
       "      <td>Russia</td>\n",
       "      <td>19.892260</td>\n",
       "    </tr>\n",
       "    <tr>\n",
       "      <th>2013</th>\n",
       "      <td>Russia</td>\n",
       "      <td>19.913079</td>\n",
       "    </tr>\n",
       "    <tr>\n",
       "      <th>2014</th>\n",
       "      <td>Russia</td>\n",
       "      <td>19.933945</td>\n",
       "    </tr>\n",
       "    <tr>\n",
       "      <th>2015</th>\n",
       "      <td>Russia</td>\n",
       "      <td>19.954856</td>\n",
       "    </tr>\n",
       "    <tr>\n",
       "      <th>2016</th>\n",
       "      <td>Russia</td>\n",
       "      <td>19.981124</td>\n",
       "    </tr>\n",
       "    <tr>\n",
       "      <th>2017</th>\n",
       "      <td>Russia</td>\n",
       "      <td>20.007456</td>\n",
       "    </tr>\n",
       "    <tr>\n",
       "      <th>2018</th>\n",
       "      <td>Russia</td>\n",
       "      <td>20.033853</td>\n",
       "    </tr>\n",
       "    <tr>\n",
       "      <th>2019</th>\n",
       "      <td>Russia</td>\n",
       "      <td>20.060315</td>\n",
       "    </tr>\n",
       "    <tr>\n",
       "      <th>2020</th>\n",
       "      <td>Russia</td>\n",
       "      <td>20.086841</td>\n",
       "    </tr>\n",
       "  </tbody>\n",
       "</table>\n",
       "</div>"
      ],
      "text/plain": [
       "      entity  forest_area\n",
       "year                     \n",
       "1990  Brazil    13.900798\n",
       "1991  Brazil    13.837152\n",
       "1992  Russia    19.167504\n",
       "1993  Russia    19.203923\n",
       "1994  Russia    19.240477\n",
       "1995  Russia    19.277168\n",
       "1996  Russia    19.313996\n",
       "1997  Russia    19.350962\n",
       "1998  Russia    19.388067\n",
       "1999  Russia    19.425312\n",
       "2000  Russia    19.462697\n",
       "2001  Russia    19.501070\n",
       "2002  Russia    19.539538\n",
       "2003  Russia    19.578102\n",
       "2004  Russia    19.616763\n",
       "2005  Russia    19.655521\n",
       "2006  Russia    19.694376\n",
       "2007  Russia    19.733328\n",
       "2008  Russia    19.772379\n",
       "2009  Russia    19.811527\n",
       "2010  Russia    19.850775\n",
       "2011  Russia    19.871486\n",
       "2012  Russia    19.892260\n",
       "2013  Russia    19.913079\n",
       "2014  Russia    19.933945\n",
       "2015  Russia    19.954856\n",
       "2016  Russia    19.981124\n",
       "2017  Russia    20.007456\n",
       "2018  Russia    20.033853\n",
       "2019  Russia    20.060315\n",
       "2020  Russia    20.086841"
      ]
     },
     "execution_count": 40,
     "metadata": {},
     "output_type": "execute_result"
    }
   ],
   "source": [
    "### your code here\n",
    "# Make an empty dataframe to store the answer in\n",
    "ans = pd.DataFrame(columns=['year', 'entity', 'forest_area'])\n",
    "# Figure out what years are in the dataset\n",
    "years = set(area['year'])\n",
    "\n",
    "# For each year\n",
    "for year in years:\n",
    "    # Gather all of the data for that year\n",
    "    selected = area.loc[(area['year'] == year), :]\n",
    "    # Add a new row to the data frame containing the year, the country with the largest % forest area, and the % forest area that that country has\n",
    "    ans.loc[len(ans.index)] = [year, selected.loc[selected['forest_area'].idxmax(), 'entity'], selected.loc[selected['forest_area'].idxmax(), 'forest_area']]\n",
    "\n",
    "# Set the index of the dataframe to be year (like in the ex)\n",
    "ans.set_index('year', inplace=True)\n",
    "# Output the answer\n",
    "ans"
   ]
  },
  {
   "cell_type": "markdown",
   "id": "2dbebfff-259c-4dc1-9086-1780abb0e9af",
   "metadata": {},
   "source": [
    "What the output should look like, to check your result:"
   ]
  },
  {
   "cell_type": "code",
   "execution_count": 14,
   "id": "5cdf5f95-1525-4687-aa64-0b5a3cd0ae52",
   "metadata": {},
   "outputs": [
    {
     "data": {
      "text/html": [
       "<div>\n",
       "<style scoped>\n",
       "    .dataframe tbody tr th:only-of-type {\n",
       "        vertical-align: middle;\n",
       "    }\n",
       "\n",
       "    .dataframe tbody tr th {\n",
       "        vertical-align: top;\n",
       "    }\n",
       "\n",
       "    .dataframe thead th {\n",
       "        text-align: right;\n",
       "    }\n",
       "</style>\n",
       "<table border=\"1\" class=\"dataframe\">\n",
       "  <thead>\n",
       "    <tr style=\"text-align: right;\">\n",
       "      <th></th>\n",
       "      <th>entity</th>\n",
       "      <th>forest_area</th>\n",
       "    </tr>\n",
       "    <tr>\n",
       "      <th>year</th>\n",
       "      <th></th>\n",
       "      <th></th>\n",
       "    </tr>\n",
       "  </thead>\n",
       "  <tbody>\n",
       "    <tr>\n",
       "      <th>1990</th>\n",
       "      <td>Brazil</td>\n",
       "      <td>13.900798</td>\n",
       "    </tr>\n",
       "    <tr>\n",
       "      <th>1991</th>\n",
       "      <td>Brazil</td>\n",
       "      <td>13.837152</td>\n",
       "    </tr>\n",
       "    <tr>\n",
       "      <th>1992</th>\n",
       "      <td>Russia</td>\n",
       "      <td>19.167504</td>\n",
       "    </tr>\n",
       "    <tr>\n",
       "      <th>1993</th>\n",
       "      <td>Russia</td>\n",
       "      <td>19.203923</td>\n",
       "    </tr>\n",
       "    <tr>\n",
       "      <th>1994</th>\n",
       "      <td>Russia</td>\n",
       "      <td>19.240477</td>\n",
       "    </tr>\n",
       "    <tr>\n",
       "      <th>1995</th>\n",
       "      <td>Russia</td>\n",
       "      <td>19.277168</td>\n",
       "    </tr>\n",
       "    <tr>\n",
       "      <th>1996</th>\n",
       "      <td>Russia</td>\n",
       "      <td>19.313996</td>\n",
       "    </tr>\n",
       "    <tr>\n",
       "      <th>1997</th>\n",
       "      <td>Russia</td>\n",
       "      <td>19.350962</td>\n",
       "    </tr>\n",
       "    <tr>\n",
       "      <th>1998</th>\n",
       "      <td>Russia</td>\n",
       "      <td>19.388067</td>\n",
       "    </tr>\n",
       "    <tr>\n",
       "      <th>1999</th>\n",
       "      <td>Russia</td>\n",
       "      <td>19.425312</td>\n",
       "    </tr>\n",
       "    <tr>\n",
       "      <th>2000</th>\n",
       "      <td>Russia</td>\n",
       "      <td>19.462697</td>\n",
       "    </tr>\n",
       "    <tr>\n",
       "      <th>2001</th>\n",
       "      <td>Russia</td>\n",
       "      <td>19.501070</td>\n",
       "    </tr>\n",
       "    <tr>\n",
       "      <th>2002</th>\n",
       "      <td>Russia</td>\n",
       "      <td>19.539538</td>\n",
       "    </tr>\n",
       "    <tr>\n",
       "      <th>2003</th>\n",
       "      <td>Russia</td>\n",
       "      <td>19.578102</td>\n",
       "    </tr>\n",
       "    <tr>\n",
       "      <th>2004</th>\n",
       "      <td>Russia</td>\n",
       "      <td>19.616763</td>\n",
       "    </tr>\n",
       "    <tr>\n",
       "      <th>2005</th>\n",
       "      <td>Russia</td>\n",
       "      <td>19.655521</td>\n",
       "    </tr>\n",
       "    <tr>\n",
       "      <th>2006</th>\n",
       "      <td>Russia</td>\n",
       "      <td>19.694376</td>\n",
       "    </tr>\n",
       "    <tr>\n",
       "      <th>2007</th>\n",
       "      <td>Russia</td>\n",
       "      <td>19.733328</td>\n",
       "    </tr>\n",
       "    <tr>\n",
       "      <th>2008</th>\n",
       "      <td>Russia</td>\n",
       "      <td>19.772379</td>\n",
       "    </tr>\n",
       "    <tr>\n",
       "      <th>2009</th>\n",
       "      <td>Russia</td>\n",
       "      <td>19.811527</td>\n",
       "    </tr>\n",
       "    <tr>\n",
       "      <th>2010</th>\n",
       "      <td>Russia</td>\n",
       "      <td>19.850775</td>\n",
       "    </tr>\n",
       "    <tr>\n",
       "      <th>2011</th>\n",
       "      <td>Russia</td>\n",
       "      <td>19.871486</td>\n",
       "    </tr>\n",
       "    <tr>\n",
       "      <th>2012</th>\n",
       "      <td>Russia</td>\n",
       "      <td>19.892260</td>\n",
       "    </tr>\n",
       "    <tr>\n",
       "      <th>2013</th>\n",
       "      <td>Russia</td>\n",
       "      <td>19.913079</td>\n",
       "    </tr>\n",
       "    <tr>\n",
       "      <th>2014</th>\n",
       "      <td>Russia</td>\n",
       "      <td>19.933945</td>\n",
       "    </tr>\n",
       "    <tr>\n",
       "      <th>2015</th>\n",
       "      <td>Russia</td>\n",
       "      <td>19.954856</td>\n",
       "    </tr>\n",
       "    <tr>\n",
       "      <th>2016</th>\n",
       "      <td>Russia</td>\n",
       "      <td>19.981124</td>\n",
       "    </tr>\n",
       "    <tr>\n",
       "      <th>2017</th>\n",
       "      <td>Russia</td>\n",
       "      <td>20.007456</td>\n",
       "    </tr>\n",
       "    <tr>\n",
       "      <th>2018</th>\n",
       "      <td>Russia</td>\n",
       "      <td>20.033853</td>\n",
       "    </tr>\n",
       "    <tr>\n",
       "      <th>2019</th>\n",
       "      <td>Russia</td>\n",
       "      <td>20.060315</td>\n",
       "    </tr>\n",
       "    <tr>\n",
       "      <th>2020</th>\n",
       "      <td>Russia</td>\n",
       "      <td>20.086841</td>\n",
       "    </tr>\n",
       "  </tbody>\n",
       "</table>\n",
       "</div>"
      ],
      "text/plain": [
       "      entity  forest_area\n",
       "year                     \n",
       "1990  Brazil    13.900798\n",
       "1991  Brazil    13.837152\n",
       "1992  Russia    19.167504\n",
       "1993  Russia    19.203923\n",
       "1994  Russia    19.240477\n",
       "1995  Russia    19.277168\n",
       "1996  Russia    19.313996\n",
       "1997  Russia    19.350962\n",
       "1998  Russia    19.388067\n",
       "1999  Russia    19.425312\n",
       "2000  Russia    19.462697\n",
       "2001  Russia    19.501070\n",
       "2002  Russia    19.539538\n",
       "2003  Russia    19.578102\n",
       "2004  Russia    19.616763\n",
       "2005  Russia    19.655521\n",
       "2006  Russia    19.694376\n",
       "2007  Russia    19.733328\n",
       "2008  Russia    19.772379\n",
       "2009  Russia    19.811527\n",
       "2010  Russia    19.850775\n",
       "2011  Russia    19.871486\n",
       "2012  Russia    19.892260\n",
       "2013  Russia    19.913079\n",
       "2014  Russia    19.933945\n",
       "2015  Russia    19.954856\n",
       "2016  Russia    19.981124\n",
       "2017  Russia    20.007456\n",
       "2018  Russia    20.033853\n",
       "2019  Russia    20.060315\n",
       "2020  Russia    20.086841"
      ]
     },
     "execution_count": 14,
     "metadata": {},
     "output_type": "execute_result"
    }
   ],
   "source": []
  },
  {
   "cell_type": "markdown",
   "id": "e5faffa3-9688-4fcd-acf8-77157107c45e",
   "metadata": {},
   "source": [
    "## Q4A\n",
    "Create a DataFrame or Series that sums up the forest loss/gain in hectares for each country across the selected time period (from year_start to year_end, including those years).\n",
    "\n",
    "<font color=purple>Inputs are `year_start` and `year_end`</font>"
   ]
  },
  {
   "cell_type": "code",
   "execution_count": 76,
   "id": "3e6d681b-37c8-4f9e-a01b-c1f2867f75a1",
   "metadata": {},
   "outputs": [],
   "source": [
    "## input cell (comment out values and run again to try different inputs)\n",
    "# start_year = 2000\n",
    "# end_year = 2008\n",
    "\n",
    "start_year = 2008\n",
    "end_year = 2015"
   ]
  },
  {
   "cell_type": "code",
   "execution_count": 80,
   "id": "67238ea0-60d4-4ca4-9a9e-e5f4a2076277",
   "metadata": {},
   "outputs": [
    {
     "data": {
      "text/html": [
       "<div>\n",
       "<style scoped>\n",
       "    .dataframe tbody tr th:only-of-type {\n",
       "        vertical-align: middle;\n",
       "    }\n",
       "\n",
       "    .dataframe tbody tr th {\n",
       "        vertical-align: top;\n",
       "    }\n",
       "\n",
       "    .dataframe thead th {\n",
       "        text-align: right;\n",
       "    }\n",
       "</style>\n",
       "<table border=\"1\" class=\"dataframe\">\n",
       "  <thead>\n",
       "    <tr style=\"text-align: right;\">\n",
       "      <th></th>\n",
       "      <th>net_forest_conversion</th>\n",
       "    </tr>\n",
       "    <tr>\n",
       "      <th>entity</th>\n",
       "      <th></th>\n",
       "    </tr>\n",
       "  </thead>\n",
       "  <tbody>\n",
       "    <tr>\n",
       "      <th>Algeria</th>\n",
       "      <td>6200.0</td>\n",
       "    </tr>\n",
       "    <tr>\n",
       "      <th>Argentina</th>\n",
       "      <td>-328200.0</td>\n",
       "    </tr>\n",
       "    <tr>\n",
       "      <th>Aruba</th>\n",
       "      <td>0.0</td>\n",
       "    </tr>\n",
       "    <tr>\n",
       "      <th>Australia</th>\n",
       "      <td>709680.0</td>\n",
       "    </tr>\n",
       "    <tr>\n",
       "      <th>Austria</th>\n",
       "      <td>7190.0</td>\n",
       "    </tr>\n",
       "    <tr>\n",
       "      <th>...</th>\n",
       "      <td>...</td>\n",
       "    </tr>\n",
       "    <tr>\n",
       "      <th>Vatican</th>\n",
       "      <td>0.0</td>\n",
       "    </tr>\n",
       "    <tr>\n",
       "      <th>Venezuela</th>\n",
       "      <td>-254820.0</td>\n",
       "    </tr>\n",
       "    <tr>\n",
       "      <th>Vietnam</th>\n",
       "      <td>251010.0</td>\n",
       "    </tr>\n",
       "    <tr>\n",
       "      <th>Zambia</th>\n",
       "      <td>-376390.0</td>\n",
       "    </tr>\n",
       "    <tr>\n",
       "      <th>Zimbabwe</th>\n",
       "      <td>-92140.0</td>\n",
       "    </tr>\n",
       "  </tbody>\n",
       "</table>\n",
       "<p>129 rows × 1 columns</p>\n",
       "</div>"
      ],
      "text/plain": [
       "           net_forest_conversion\n",
       "entity                          \n",
       "Algeria                   6200.0\n",
       "Argentina              -328200.0\n",
       "Aruba                        0.0\n",
       "Australia               709680.0\n",
       "Austria                   7190.0\n",
       "...                          ...\n",
       "Vatican                      0.0\n",
       "Venezuela              -254820.0\n",
       "Vietnam                 251010.0\n",
       "Zambia                 -376390.0\n",
       "Zimbabwe                -92140.0\n",
       "\n",
       "[129 rows x 1 columns]"
      ]
     },
     "execution_count": 80,
     "metadata": {},
     "output_type": "execute_result"
    }
   ],
   "source": [
    "## your code here\n",
    "# Find all the rows where year is between start_year and end_year\n",
    "selected = conv.loc[(conv['year'] >= start_year) & (conv['year'] <= end_year), :]\n",
    "# Create a DataFrame where the columns are entity and net forest conversion\n",
    "ans = pd.DataFrame(columns=['entity', 'net_forest_conversion'])\n",
    "# Figure out which countries are in the dataset for the years we selected\n",
    "countries = set(selected['entity'])\n",
    "# For each country\n",
    "for country in countries:\n",
    "    # Find their net_forest_conversion across the years of the sample\n",
    "    ans.loc[len(ans.index)] = [country, selected.loc[selected['entity'] == country, 'net_forest_conversion'].values.sum()]\n",
    "\n",
    "# Sort by entity and print, like the example\n",
    "ans = ans.sort_values('entity')\n",
    "ans.set_index('entity', inplace=True)\n",
    "ans"
   ]
  },
  {
   "cell_type": "markdown",
   "id": "c75a624c-d8fc-4a3b-a302-f2040d495097",
   "metadata": {},
   "source": [
    "Example outputs"
   ]
  },
  {
   "cell_type": "code",
   "execution_count": 11,
   "id": "4b27837c-071a-4ea7-b31e-9c7b33a42984",
   "metadata": {},
   "outputs": [
    {
     "data": {
      "text/html": [
       "<div>\n",
       "<style scoped>\n",
       "    .dataframe tbody tr th:only-of-type {\n",
       "        vertical-align: middle;\n",
       "    }\n",
       "\n",
       "    .dataframe tbody tr th {\n",
       "        vertical-align: top;\n",
       "    }\n",
       "\n",
       "    .dataframe thead th {\n",
       "        text-align: right;\n",
       "    }\n",
       "</style>\n",
       "<table border=\"1\" class=\"dataframe\">\n",
       "  <thead>\n",
       "    <tr style=\"text-align: right;\">\n",
       "      <th></th>\n",
       "      <th>net_forest_conversion</th>\n",
       "    </tr>\n",
       "    <tr>\n",
       "      <th>entity</th>\n",
       "      <th></th>\n",
       "    </tr>\n",
       "  </thead>\n",
       "  <tbody>\n",
       "    <tr>\n",
       "      <th>Algeria</th>\n",
       "      <td>33900.0</td>\n",
       "    </tr>\n",
       "    <tr>\n",
       "      <th>Argentina</th>\n",
       "      <td>-316400.0</td>\n",
       "    </tr>\n",
       "    <tr>\n",
       "      <th>Aruba</th>\n",
       "      <td>0.0</td>\n",
       "    </tr>\n",
       "    <tr>\n",
       "      <th>Australia</th>\n",
       "      <td>-226800.0</td>\n",
       "    </tr>\n",
       "    <tr>\n",
       "      <th>Austria</th>\n",
       "      <td>2510.0</td>\n",
       "    </tr>\n",
       "    <tr>\n",
       "      <th>...</th>\n",
       "      <td>...</td>\n",
       "    </tr>\n",
       "    <tr>\n",
       "      <th>Vatican</th>\n",
       "      <td>0.0</td>\n",
       "    </tr>\n",
       "    <tr>\n",
       "      <th>Venezuela</th>\n",
       "      <td>-164600.0</td>\n",
       "    </tr>\n",
       "    <tr>\n",
       "      <th>Vietnam</th>\n",
       "      <td>160400.0</td>\n",
       "    </tr>\n",
       "    <tr>\n",
       "      <th>Zambia</th>\n",
       "      <td>-35800.0</td>\n",
       "    </tr>\n",
       "    <tr>\n",
       "      <th>Zimbabwe</th>\n",
       "      <td>-46070.0</td>\n",
       "    </tr>\n",
       "  </tbody>\n",
       "</table>\n",
       "<p>121 rows × 1 columns</p>\n",
       "</div>"
      ],
      "text/plain": [
       "           net_forest_conversion\n",
       "entity                          \n",
       "Algeria                  33900.0\n",
       "Argentina              -316400.0\n",
       "Aruba                        0.0\n",
       "Australia              -226800.0\n",
       "Austria                   2510.0\n",
       "...                          ...\n",
       "Vatican                      0.0\n",
       "Venezuela              -164600.0\n",
       "Vietnam                 160400.0\n",
       "Zambia                  -35800.0\n",
       "Zimbabwe                -46070.0\n",
       "\n",
       "[121 rows x 1 columns]"
      ]
     },
     "execution_count": 11,
     "metadata": {},
     "output_type": "execute_result"
    }
   ],
   "source": [
    "## 2008 - 2015\n"
   ]
  },
  {
   "cell_type": "code",
   "execution_count": 14,
   "id": "1ca1eed4-dead-49c0-8e44-03b71170932a",
   "metadata": {},
   "outputs": [
    {
     "data": {
      "text/html": [
       "<div>\n",
       "<style scoped>\n",
       "    .dataframe tbody tr th:only-of-type {\n",
       "        vertical-align: middle;\n",
       "    }\n",
       "\n",
       "    .dataframe tbody tr th {\n",
       "        vertical-align: top;\n",
       "    }\n",
       "\n",
       "    .dataframe thead th {\n",
       "        text-align: right;\n",
       "    }\n",
       "</style>\n",
       "<table border=\"1\" class=\"dataframe\">\n",
       "  <thead>\n",
       "    <tr style=\"text-align: right;\">\n",
       "      <th></th>\n",
       "      <th>net_forest_conversion</th>\n",
       "    </tr>\n",
       "    <tr>\n",
       "      <th>entity</th>\n",
       "      <th></th>\n",
       "    </tr>\n",
       "  </thead>\n",
       "  <tbody>\n",
       "    <tr>\n",
       "      <th>Algeria</th>\n",
       "      <td>6200.0</td>\n",
       "    </tr>\n",
       "    <tr>\n",
       "      <th>Argentina</th>\n",
       "      <td>-328200.0</td>\n",
       "    </tr>\n",
       "    <tr>\n",
       "      <th>Aruba</th>\n",
       "      <td>0.0</td>\n",
       "    </tr>\n",
       "    <tr>\n",
       "      <th>Australia</th>\n",
       "      <td>709680.0</td>\n",
       "    </tr>\n",
       "    <tr>\n",
       "      <th>Austria</th>\n",
       "      <td>7190.0</td>\n",
       "    </tr>\n",
       "    <tr>\n",
       "      <th>...</th>\n",
       "      <td>...</td>\n",
       "    </tr>\n",
       "    <tr>\n",
       "      <th>Vatican</th>\n",
       "      <td>0.0</td>\n",
       "    </tr>\n",
       "    <tr>\n",
       "      <th>Venezuela</th>\n",
       "      <td>-254820.0</td>\n",
       "    </tr>\n",
       "    <tr>\n",
       "      <th>Vietnam</th>\n",
       "      <td>251010.0</td>\n",
       "    </tr>\n",
       "    <tr>\n",
       "      <th>Zambia</th>\n",
       "      <td>-376390.0</td>\n",
       "    </tr>\n",
       "    <tr>\n",
       "      <th>Zimbabwe</th>\n",
       "      <td>-92140.0</td>\n",
       "    </tr>\n",
       "  </tbody>\n",
       "</table>\n",
       "<p>129 rows × 1 columns</p>\n",
       "</div>"
      ],
      "text/plain": [
       "           net_forest_conversion\n",
       "entity                          \n",
       "Algeria                   6200.0\n",
       "Argentina              -328200.0\n",
       "Aruba                        0.0\n",
       "Australia               709680.0\n",
       "Austria                   7190.0\n",
       "...                          ...\n",
       "Vatican                      0.0\n",
       "Venezuela              -254820.0\n",
       "Vietnam                 251010.0\n",
       "Zambia                 -376390.0\n",
       "Zimbabwe                -92140.0\n",
       "\n",
       "[129 rows x 1 columns]"
      ]
     },
     "execution_count": 14,
     "metadata": {},
     "output_type": "execute_result"
    }
   ],
   "source": [
    "## 2000 - 2008\n"
   ]
  },
  {
   "cell_type": "markdown",
   "id": "1cd36f5f-709b-4f5a-9bb8-7fa42555d4cf",
   "metadata": {},
   "source": [
    "## Q4B \n",
    "Use the same variables as in part A. Among the countries from part A, obtain the top 5 countries for most loss, or top 5 for most gain, for a given year range. It should print just the top 5 as a list or \"index\" (either is fine). You can convert an index variable to a list variable using `list(index_variable)`\n",
    "\n",
    "<font color=purple>Same inputs aas in Q4A</font>"
   ]
  },
  {
   "cell_type": "code",
   "execution_count": 18,
   "id": "f854894f-8962-404d-a278-5cac397a5140",
   "metadata": {},
   "outputs": [],
   "source": [
    "## input cell (comment out values and run again to try different inputs)\n",
    "start_year = 2000\n",
    "end_year = 2008\n",
    "\n",
    "start_year = 2008\n",
    "end_year = 2015"
   ]
  },
  {
   "cell_type": "code",
   "execution_count": 81,
   "id": "d25284aa-fa6f-4a99-b15d-620780bd89fa",
   "metadata": {},
   "outputs": [
    {
     "data": {
      "text/plain": [
       "Index(['Brazil', 'Tanzania', 'Paraguay', 'Myanmar', 'Indonesia'], dtype='object', name='entity')"
      ]
     },
     "execution_count": 81,
     "metadata": {},
     "output_type": "execute_result"
    }
   ],
   "source": [
    "## your code here\n",
    "# Find all the rows where year is between start_year and end_year\n",
    "selected = conv.loc[(conv['year'] >= start_year) & (conv['year'] <= end_year), :]\n",
    "# Create a DataFrame where the columns are entity and net forest conversion\n",
    "ans = pd.DataFrame(columns=['entity', 'net_forest_conversion'])\n",
    "# Figure out which countries are in the dataset for the years we selected\n",
    "countries = set(selected['entity'])\n",
    "# For each country\n",
    "for country in countries:\n",
    "    # Find their net_forest_conversion across the years of the sample\n",
    "    ans.loc[len(ans.index)] = [country, selected.loc[selected['entity'] == country, 'net_forest_conversion'].values.sum()]\n",
    "\n",
    "# Sort by entity and print the top 5 results, like the first example\n",
    "ans = ans.sort_values('net_forest_conversion')\n",
    "ans.set_index('entity', inplace=True)\n",
    "ans.head(5).index"
   ]
  },
  {
   "cell_type": "markdown",
   "id": "852eb5ef-9da9-40c8-8575-f8f60dfaa9cf",
   "metadata": {},
   "source": [
    "Below, to check your work, example outputs (one as an Index and one as a list)"
   ]
  },
  {
   "cell_type": "code",
   "execution_count": 15,
   "id": "1926c4e6-8eb9-44d7-9050-3215d58de14e",
   "metadata": {},
   "outputs": [
    {
     "data": {
      "text/plain": [
       "Index(['Brazil', 'Tanzania', 'Paraguay', 'Myanmar', 'Indonesia'], dtype='object', name='entity')"
      ]
     },
     "execution_count": 15,
     "metadata": {},
     "output_type": "execute_result"
    }
   ],
   "source": [
    "## 2008-2015 top loss countries"
   ]
  },
  {
   "cell_type": "code",
   "execution_count": 16,
   "id": "463af1a0-63d3-4266-a847-f1d1d564597b",
   "metadata": {},
   "outputs": [
    {
     "data": {
      "text/plain": [
       "['China', 'Australia', 'India', 'Chile', 'United States']"
      ]
     },
     "execution_count": 16,
     "metadata": {},
     "output_type": "execute_result"
    }
   ],
   "source": [
    "## 2008-2015 top gain countries\n"
   ]
  }
 ],
 "metadata": {
  "kernelspec": {
   "display_name": "Python 3.9.7 ('base')",
   "language": "python",
   "name": "python3"
  },
  "language_info": {
   "codemirror_mode": {
    "name": "ipython",
    "version": 3
   },
   "file_extension": ".py",
   "mimetype": "text/x-python",
   "name": "python",
   "nbconvert_exporter": "python",
   "pygments_lexer": "ipython3",
   "version": "3.9.7"
  },
  "vscode": {
   "interpreter": {
    "hash": "e595df4329fcf3a3af43d6766bc23e541941e8ce9ea758c4bedfcbd321d7c58e"
   }
  }
 },
 "nbformat": 4,
 "nbformat_minor": 5
}
