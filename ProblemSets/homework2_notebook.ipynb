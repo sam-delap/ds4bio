{
 "cells": [
  {
   "cell_type": "markdown",
   "id": "db053b95-9efc-42cf-a25c-1eda0c241d69",
   "metadata": {},
   "source": [
    "## Problem Solving Homework 2\n",
    "This homework is intended for you to develop your skills with reading files and processing data in a file without pandas. If you want to use pandas that is fine too.\n",
    "\n",
    "You can read in the file line by line as we went over in the notebook 08_elif_set_dict.ipynb\n",
    "\n",
    "### Instructions\n",
    "Your code should be written to run with the gencode.subset.gtf file found in this folder. This is the same gencode file as we worked with before but fewer lines so less annoying to deal with. You will not get a penalty if you forget to use but your answers won't be the same. Read more about the gencode file (GFF format) [here](https://useast.ensembl.org/info/website/upload/gff.html)\n",
    "\n",
    "#### Input variables\n",
    "All questions except question 2 operate on a variable as input. These variables should be defined in a separate cell from where your code is. Do not put the variable assignment into your answer cell. Therefore there are 2 cells for each answer: one cell giving example inputs (I made one for each Question) and another cell where you write your code that uses these inputs and makes an output. Example below:\n",
    "\n",
    "**Example question**: Write code that uses a variable `input_var` and adds 1 to that variable."
   ]
  },
  {
   "cell_type": "code",
   "execution_count": 8,
   "id": "70495383-4b5e-43c3-8673-963d2f038713",
   "metadata": {},
   "outputs": [],
   "source": [
    "## Input cell: comment out different lines here to test out your code\n",
    "input_var = 1\n",
    "input_var = -1"
   ]
  },
  {
   "cell_type": "code",
   "execution_count": 9,
   "id": "5d74b9ee-ec01-4c4f-9b14-025bb7c58cae",
   "metadata": {},
   "outputs": [
    {
     "data": {
      "text/plain": [
       "0"
      ]
     },
     "execution_count": 9,
     "metadata": {},
     "output_type": "execute_result"
    }
   ],
   "source": [
    "## Answer cell: input your code below. Do not redefine the value of input_var, just use the value\n",
    "input_var += 1\n",
    "input_var"
   ]
  },
  {
   "cell_type": "markdown",
   "id": "49642045-ff8f-47a8-a3a9-f32765127575",
   "metadata": {},
   "source": [
    "\n",
    "#### Output variables\n",
    "For all cells, the last line of the cell should output the variable holding your answer (don't use `print` just use the name of the variable). Two examples below. It's fine to use the name of a variable, or just use the code itself that would create that variable\n"
   ]
  },
  {
   "cell_type": "code",
   "execution_count": 3,
   "id": "63fe6694-c36d-46dc-9628-bc5fcedb5044",
   "metadata": {},
   "outputs": [
    {
     "data": {
      "text/plain": [
       "2"
      ]
     },
     "execution_count": 3,
     "metadata": {},
     "output_type": "execute_result"
    }
   ],
   "source": [
    "## Answer cell: example cell making a variable then outputing it as answer\n",
    "answer = input_var + 1\n",
    "answer"
   ]
  },
  {
   "cell_type": "code",
   "execution_count": 11,
   "id": "e69ae41e-80fc-4668-9f8b-b93fcd2bd8ec",
   "metadata": {},
   "outputs": [
    {
     "data": {
      "text/plain": [
       "2"
      ]
     },
     "execution_count": 11,
     "metadata": {},
     "output_type": "execute_result"
    }
   ],
   "source": [
    "## Answer cell: example cell making a just outputing without first assigning variable\n",
    "input_var+1"
   ]
  },
  {
   "cell_type": "markdown",
   "id": "bda32bb6-4725-4e4f-b79f-5d53903f090b",
   "metadata": {},
   "source": [
    "### Autograder \n",
    "I will try to get the autograder working for this, but it will require copy-pasting all your answers into another code notebook. I haven't been able to get it to work yet and not sure if it's possible.\n",
    "\n"
   ]
  },
  {
   "cell_type": "markdown",
   "id": "afdccd8b-fcbe-446c-a0c2-1fd18a2027c3",
   "metadata": {},
   "source": [
    "## Question 1 20%\n",
    "Write code that uses a <font color=purple>input variable `chrom`</font>: your code should <font color=red>output</font> the highest end position of any line on that chromosome.\n",
    "\n",
    "**Note**: you can convert a string like `'999'` to the number by using the `int` function : `int('999') + 1`. See below. If you don't use the `int` function (short for integer) it will not be a number but a string. "
   ]
  },
  {
   "cell_type": "code",
   "execution_count": 1,
   "id": "057e5d46-f968-4ba6-bee9-79ad85a6c34d",
   "metadata": {},
   "outputs": [
    {
     "data": {
      "text/plain": [
       "1000"
      ]
     },
     "execution_count": 1,
     "metadata": {},
     "output_type": "execute_result"
    }
   ],
   "source": [
    "int('999') + 1 ## this will convert \"999\" the string to a number then add one "
   ]
  },
  {
   "cell_type": "code",
   "execution_count": 2,
   "id": "1f12b0f3-4669-4537-9273-ff695cc87113",
   "metadata": {
    "collapsed": true,
    "jupyter": {
     "outputs_hidden": true
    },
    "tags": []
   },
   "outputs": [
    {
     "ename": "TypeError",
     "evalue": "must be str, not int",
     "output_type": "error",
     "traceback": [
      "\u001b[0;31m---------------------------------------------------------------------------\u001b[0m",
      "\u001b[0;31mTypeError\u001b[0m                                 Traceback (most recent call last)",
      "\u001b[0;32m<ipython-input-2-07dbcc2019bf>\u001b[0m in \u001b[0;36m<module>\u001b[0;34m\u001b[0m\n\u001b[0;32m----> 1\u001b[0;31m \u001b[0;34m'999'\u001b[0m \u001b[0;34m+\u001b[0m \u001b[0;36m1\u001b[0m\u001b[0;34m\u001b[0m\u001b[0;34m\u001b[0m\u001b[0m\n\u001b[0m",
      "\u001b[0;31mTypeError\u001b[0m: must be str, not int"
     ]
    }
   ],
   "source": [
    "'999' + 1  ## this won't work because you can't add a string and a number"
   ]
  },
  {
   "cell_type": "code",
   "execution_count": 16,
   "id": "856029db-2752-406a-af8f-ef5c603d2206",
   "metadata": {},
   "outputs": [],
   "source": [
    "## Input cell: example inputs... comment out the different lines to test out your code\n",
    "# chrom = \"chr1\" #Answer outputted for \"chr1\" should be 248849517 \n",
    "chrom = \"chr22\" #and for \"chr22\" is 50801309"
   ]
  },
  {
   "cell_type": "code",
   "execution_count": 17,
   "id": "4cffbd8c-f917-4f71-912d-f092cb45e12f",
   "metadata": {},
   "outputs": [
    {
     "data": {
      "text/plain": [
       "50801309"
      ]
     },
     "execution_count": 17,
     "metadata": {},
     "output_type": "execute_result"
    }
   ],
   "source": [
    "## Answer cell: put your code for your answer here.\n",
    "# Initialize max end\n",
    "max_end = 0\n",
    "# For each line in the file\n",
    "for one_line in open(\"../Data/gencode.subset.gtf\"):\n",
    "    # Split it into its individual components\n",
    "    curr_line = one_line.split()\n",
    "    # Store the chromosome and end data\n",
    "    curr_chr = curr_line[0]\n",
    "    curr_end = int(curr_line[4])\n",
    "\n",
    "    # If this line's chromosome matches the one we're looking for\n",
    "    if curr_chr == chrom:\n",
    "        # If it's end is bigger than the current maximum\n",
    "        if curr_end > max_end:\n",
    "            # Make it the new maximum\n",
    "            max_end = curr_end\n",
    "\n",
    "max_end"
   ]
  },
  {
   "cell_type": "markdown",
   "id": "a969bb83-4445-427d-93d3-9ee1ba9f68c5",
   "metadata": {},
   "source": [
    "## Question 2 20%\n",
    "Write code to count how many lines from each chromosome are in the file and <font color=red>output</font> the dictionary of counts back to you. \n",
    "\n",
    "**HINT**: *Algorithm*: start with an empty dictionary. For each line, get the chromosome it is on, then...."
   ]
  },
  {
   "cell_type": "code",
   "execution_count": 18,
   "id": "72f2c2b3-54d3-4fee-823c-9bda001bf55e",
   "metadata": {},
   "outputs": [
    {
     "data": {
      "text/plain": [
       "{'chr1': 22825,\n",
       " 'chr2': 22777,\n",
       " 'chr3': 16670,\n",
       " 'chr4': 11461,\n",
       " 'chr5': 12168,\n",
       " 'chr6': 11371,\n",
       " 'chr7': 14278,\n",
       " 'chr8': 10087,\n",
       " 'chr9': 8938,\n",
       " 'chr10': 9814,\n",
       " 'chr11': 18805,\n",
       " 'chr12': 11005,\n",
       " 'chr13': 4336,\n",
       " 'chr14': 8760,\n",
       " 'chr15': 11688,\n",
       " 'chr16': 17373,\n",
       " 'chr17': 16061,\n",
       " 'chr18': 4679,\n",
       " 'chr19': 16170,\n",
       " 'chr20': 6068,\n",
       " 'chr21': 1960,\n",
       " 'chr22': 6086,\n",
       " 'chrX': 8495,\n",
       " 'chrY': 761,\n",
       " 'chrM': 13}"
      ]
     },
     "execution_count": 18,
     "metadata": {},
     "output_type": "execute_result"
    }
   ],
   "source": [
    "# Initialize empty dictionary\n",
    "d = {}\n",
    "# For each line in the file\n",
    "for line in open(\"../Data/gencode.subset.gtf\"):\n",
    "    # Get the chromosome\n",
    "    chr = line.split()[0]\n",
    "    # If this chromosome is already in the dictionary\n",
    "    if chr in d:\n",
    "        # Add one to the current count that's in the dictionary\n",
    "        d[chr] += 1\n",
    "    # Otherwise\n",
    "    else:\n",
    "        # Add the chromosome as a key in the dictionary with 1 as the value\n",
    "        d[chr] = 1\n",
    "\n",
    "# Print dictionary\n",
    "d"
   ]
  },
  {
   "cell_type": "code",
   "execution_count": null,
   "id": "54fa5625-d2e1-4ce4-af73-1e2980667a73",
   "metadata": {},
   "outputs": [],
   "source": []
  },
  {
   "cell_type": "markdown",
   "id": "2abc4087-099a-4338-aac4-504ad07b4a9e",
   "metadata": {},
   "source": [
    "Answer dictionary looks like:\n",
    "```   \n",
    "{'chr1': 22825,\n",
    " 'chr2': 22777,\n",
    " 'chr3': 16670,\n",
    " 'chr4': 11461,\n",
    " 'chr5': 12168,\n",
    " 'chr6': 11371,\n",
    " 'chr7': 14278,\n",
    " 'chr8': 10087,\n",
    " 'chr9': 8938,\n",
    " 'chr10': 9814,\n",
    " 'chr11': 18805,\n",
    " 'chr12': 11005,\n",
    " 'chr13': 4336,\n",
    " 'chr14': 8760,\n",
    " 'chr15': 11688,\n",
    " 'chr16': 17373,\n",
    " 'chr17': 16061,\n",
    " 'chr18': 4679,\n",
    " 'chr19': 16170,\n",
    " 'chr20': 6068,\n",
    " 'chr21': 1960,\n",
    " 'chr22': 6086,\n",
    " 'chrX': 8495,\n",
    " 'chrY': 761,\n",
    " 'chrM': 13}\n",
    "```"
   ]
  },
  {
   "cell_type": "markdown",
   "id": "b84a90ac-9c4e-4f57-a15d-3b75b5857f53",
   "metadata": {},
   "source": [
    "## Question 3\n",
    "Write code that operates on  <font color=purple>3 input variables: \n",
    "1) chromosome `chrom` (string) \n",
    "2) start position `start` (number) \n",
    "3) end position `end` (number)\n",
    "\n",
    "It will read through the gencode file and create as <font color=red>output</font> a *list* of the lines that are inside that part of the genome (on the same chromosome, and the start position of that line is higher than the inputted start position, and the end position of that line is lower than the end position given). Please see the note for Question 1 regarding converting a strings to numbers."
   ]
  },
  {
   "cell_type": "code",
   "execution_count": 23,
   "id": "5c7f62e8-ca37-47a9-90c8-b1ede3d31bf8",
   "metadata": {},
   "outputs": [],
   "source": [
    "## Input cell: example inputs... comment out the different lines to test out your code\n",
    "# chrom = \"chr1\"\n",
    "# start = 2641368\n",
    "# end = 2814451\n",
    "## answer should have 34 lines in the list\n",
    "\n",
    "chrom = \"chr8\"\n",
    "start = 38740000\n",
    "end = 39609567\n",
    "## answer should have 70 lines in the list"
   ]
  },
  {
   "cell_type": "code",
   "execution_count": null,
   "id": "2bfababe-5f34-43e8-9b68-016a47885241",
   "metadata": {},
   "outputs": [],
   "source": [
    "\n"
   ]
  },
  {
   "cell_type": "code",
   "execution_count": 24,
   "id": "576245d4-00dc-4bf9-b1bf-0967004845ee",
   "metadata": {},
   "outputs": [
    {
     "data": {
      "text/plain": [
       "70"
      ]
     },
     "execution_count": 24,
     "metadata": {},
     "output_type": "execute_result"
    }
   ],
   "source": [
    "# Initialize empty list\n",
    "l = []\n",
    "# For each line in the file\n",
    "for line in open(\"../Data/gencode.subset.gtf\"):\n",
    "    # Split the line into its component parts\n",
    "    split_line = line.split()\n",
    "    # Get the chromsome, start, and end in the current line\n",
    "    chr = split_line[0]\n",
    "    begin = int(split_line[3])\n",
    "    finish = int(split_line[4])\n",
    "\n",
    "    # If the current line is on the same chromsome, starts after the target line, and ends before the target line\n",
    "    if chr == chrom and begin > start and finish < end:\n",
    "        # Add it to the list\n",
    "        l.append(line)\n",
    "\n",
    "# Check how many things are in the list (for me)\n",
    "# len(l)\n",
    "# Output the list (for you)\n",
    "l"
   ]
  },
  {
   "cell_type": "markdown",
   "id": "cc9b24b7-b0c6-4a65-9aba-406bff314798",
   "metadata": {},
   "source": [
    "## Question 4 20%\n",
    "The last column of the gencode file is called the \"Attribute\" column, and it contains key-value pairs. Write a code that will operate on <font color=purple>input variable a string `line`</font> containing one line of the gencode file and make as <font color=red>output</font> a dictionary of the key-value pairs in that line.  \n",
    "\n",
    "Use the \"strip\" function to remove the quotes around the values before storing them in the dictionary (ie, do not store a string '\"DDX11L1\"' instead store the string 'DDX11L1').  See below:"
   ]
  },
  {
   "cell_type": "code",
   "execution_count": 25,
   "id": "8b306492-5119-4676-9fd0-d668f594a69d",
   "metadata": {},
   "outputs": [
    {
     "name": "stdout",
     "output_type": "stream",
     "text": [
      "before: \"DDX11L1\"  after: DDX11L1\n"
     ]
    }
   ],
   "source": [
    "before = '\"DDX11L1\"'\n",
    "after = before.strip('\"')\n",
    "print(\"before:\",before, ' after:', after)"
   ]
  },
  {
   "cell_type": "code",
   "execution_count": 44,
   "id": "7cff6f08-c46c-4b4e-98c1-4f2c9d3dbf9c",
   "metadata": {},
   "outputs": [],
   "source": [
    "## Input cell: example inputs... comment out the different lines to test out your code\n",
    "# line = 'chr1\tHAVANA\tCDS\t65565\t65573\t.\t+\t0\tgene_id \"ENSG00000186092.6\"; transcript_id \"ENST00000641515.2\"; gene_type \"protein_coding\"; gene_name \"OR4F5\"; transcript_type \"protein_coding\"; transcript_name \"OR4F5-202\"; exon_number 2; exon_id \"ENSE00003813641.1\"; level 2; protein_id \"ENSP00000493376.2\"; hgnc_id \"HGNC:14825\"; tag \"RNA_Seq_supported_partial\"; tag \"basic\"; havana_gene \"OTTHUMG00000001094.4\"; havana_transcript \"OTTHUMT00000003223.4\";'\n",
    "\n",
    "line = 'chr1\tHAVANA\texon\t11869\t12227\t.\t+\t.\tgene_id \"ENSG00000223972.5\"; transcript_id \"ENST00000456328.2\"; gene_type \"transcribed_unprocessed_pseudogene\"; gene_name \"DDX11L1\"; transcript_type \"processed_transcript\"; transcript_name \"DDX11L1-202\"; exon_number 1; exon_id \"ENSE00002234944.1\"; level 2; transcript_support_level \"1\"; hgnc_id \"HGNC:37102\"; tag \"basic\"; havana_gene \"OTTHUMG00000000961.2\"; havana_transcript \"OTTHUMT00000362751.1\";'"
   ]
  },
  {
   "cell_type": "code",
   "execution_count": 45,
   "id": "5a31ebb9-923d-425f-b1f6-ef810de06926",
   "metadata": {},
   "outputs": [
    {
     "data": {
      "text/plain": [
       "{'gene_id': 'ENSG00000223972.5',\n",
       " 'transcript_id': 'ENST00000456328.2',\n",
       " 'gene_type': 'transcribed_unprocessed_pseudogene',\n",
       " 'gene_name': 'DDX11L1',\n",
       " 'transcript_type': 'processed_transcript',\n",
       " 'transcript_name': 'DDX11L1-202',\n",
       " 'exon_number': '1',\n",
       " 'exon_id': 'ENSE00002234944.1',\n",
       " 'level': '2',\n",
       " 'transcript_support_level': '1',\n",
       " 'hgnc_id': 'HGNC:37102',\n",
       " 'tag': 'basic',\n",
       " 'havana_gene': 'OTTHUMG00000000961.2',\n",
       " 'havana_transcript': 'OTTHUMT00000362751.1'}"
      ]
     },
     "execution_count": 45,
     "metadata": {},
     "output_type": "execute_result"
    }
   ],
   "source": [
    "## Answer cell: put your code for your answer here. Do NOT redefine the inputs\n",
    "# Empty dictionary\n",
    "d = {}\n",
    "# Split up the line of text and isolate the columns with key-value pairs\n",
    "sep = line.split()[8:]\n",
    "# For each key-value pair\n",
    "for key, value in zip(sep[0::2], sep[1::2]):\n",
    "    # Assign the key as a key in the dictionary, with the value being its value (making sure to strip extra quotes)\n",
    "    d[key.strip()] = value.split(\";\")[0].strip('\"')\n",
    "\n",
    "# Print the dictionary\n",
    "d"
   ]
  },
  {
   "cell_type": "markdown",
   "id": "824441c0-bf88-493d-86fd-3e07f99ffb47",
   "metadata": {},
   "source": [
    "For the first \"line\" above, the answer outputted should be \n",
    "```\n",
    "{'gene_id': 'ENSG00000186092.6',\n",
    " 'transcript_id': 'ENST00000641515.2',\n",
    " 'gene_type': 'protein_coding',\n",
    " 'gene_name': 'OR4F5',\n",
    " 'transcript_type': 'protein_coding',\n",
    " 'transcript_name': 'OR4F5-202',\n",
    " 'exon_number': '2',\n",
    " 'exon_id': 'ENSE00003813641.1',\n",
    " 'level': '2',\n",
    " 'protein_id': 'ENSP00000493376.2',\n",
    " 'hgnc_id': 'HGNC:14825',\n",
    " 'tag': 'basic',\n",
    " 'havana_gene': 'OTTHUMG00000001094.4',\n",
    " 'havana_transcript': 'OTTHUMT00000003223.4'}\n",
    "```\n",
    "\n",
    "For the second one:\n",
    "```\n",
    "{'gene_id': 'ENSG00000223972.5',\n",
    " 'transcript_id': 'ENST00000456328.2',\n",
    " 'gene_type': 'transcribed_unprocessed_pseudogene',\n",
    " 'gene_name': 'DDX11L1',\n",
    " 'transcript_type': 'processed_transcript',\n",
    " 'transcript_name': 'DDX11L1-202',\n",
    " 'exon_number': '1',\n",
    " 'exon_id': 'ENSE00002234944.1',\n",
    " 'level': '2',\n",
    " 'transcript_support_level': '1',\n",
    " 'hgnc_id': 'HGNC:37102',\n",
    " 'tag': 'basic',\n",
    " 'havana_gene': 'OTTHUMG00000000961.2',\n",
    " 'havana_transcript': 'OTTHUMT00000362751.1'}\n",
    "```"
   ]
  },
  {
   "cell_type": "markdown",
   "id": "997be7ec-8437-49a0-86e2-2cc2985883c9",
   "metadata": {},
   "source": [
    "## Question 5 20%\n",
    "Write code that will use a <font color=purple>input string variable called `gene` </font>. It will go through the whole gencode file and extract as <font color=red> a list of the only the lines corresponding to that gene</font>. The info about which gene each line is about can be found inthe gene_name attribute.\n",
    "\n",
    "You can use your same dictionary making code from Question 4 into the answer here."
   ]
  },
  {
   "cell_type": "code",
   "execution_count": 55,
   "id": "cf8cfc3e-393d-4f42-9b91-b58219ec0f27",
   "metadata": {},
   "outputs": [],
   "source": [
    "## Input cell: example inputs... comment out the different lines to test out your code\n",
    "# gene = \"GNAI2\" ## should result in list of 191 lines\n",
    "gene = \"DDX11L1\"  ## list of 12 lines"
   ]
  },
  {
   "cell_type": "code",
   "execution_count": 56,
   "id": "0725b819-477d-4ed1-a123-d9c67c2585bd",
   "metadata": {},
   "outputs": [
    {
     "data": {
      "text/plain": [
       "11"
      ]
     },
     "execution_count": 56,
     "metadata": {},
     "output_type": "execute_result"
    }
   ],
   "source": [
    "## Answer cell: put your code for your answer here. Do NOT redefine the inputs\n",
    "# Empty list\n",
    "l = []\n",
    "# For each line in the file\n",
    "for line in open(\"../Data/gencode.subset.gtf\"):\n",
    "    # Get the gene name from the line\n",
    "    name = line.split(\";\")[3]\n",
    "    name = name.split()[1].strip('\"')\n",
    "\n",
    "    # If the gene on this line matches the name of the target gene\n",
    "    if name == gene:\n",
    "        # Add the line to the list\n",
    "        l.append(line)\n",
    "\n",
    "# Check how many things are in the list (for me)\n",
    "# len(l)\n",
    "# Output the list (for you)\n",
    "l"
   ]
  }
 ],
 "metadata": {
  "kernelspec": {
   "display_name": "Python 3.9.7 ('base')",
   "language": "python",
   "name": "python3"
  },
  "language_info": {
   "codemirror_mode": {
    "name": "ipython",
    "version": 3
   },
   "file_extension": ".py",
   "mimetype": "text/x-python",
   "name": "python",
   "nbconvert_exporter": "python",
   "pygments_lexer": "ipython3",
   "version": "3.9.7"
  },
  "vscode": {
   "interpreter": {
    "hash": "e595df4329fcf3a3af43d6766bc23e541941e8ce9ea758c4bedfcbd321d7c58e"
   }
  }
 },
 "nbformat": 4,
 "nbformat_minor": 5
}
