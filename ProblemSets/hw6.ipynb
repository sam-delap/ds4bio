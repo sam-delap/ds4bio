{
 "cells": [
  {
   "cell_type": "markdown",
   "id": "c8a187e7-6257-4764-816a-4612c9c3f2d2",
   "metadata": {},
   "source": [
    "## Problem Solving Homework 6\n",
    "This homework is intended for you to continue to develop your skills in both Pandas and linear modeling. You'll also use Seaborn to visualize the results. Again, you have to do some independent thinking to integrate various concepts you've learned in the class.\n",
    "\n",
    "As usual, you must describe all code to get credit.\n",
    "\n",
    "Part of this homework is taken from HW5 since we did not get to the parts of that homework. So, for those you'll be using the same NHANES data as in HW4 & HW5. This data contains the result of interviews and other data collection on thousands of US adults in the 70s and 80s.\n",
    "\n"
   ]
  },
  {
   "cell_type": "markdown",
   "id": "813e8563-d8b0-4c37-bf19-4117d5422d67",
   "metadata": {},
   "source": [
    "### 1. NHANES Cleaning\n",
    "Read in the NHANES NHEFS data into a data frame and clean it to make it more useful for analysis with the following steps. Make a cleaned version of the data frame, codeing each column into either a binary or a number value.  For columns coded into a binary value, you must code them so that \n",
    "More extreme values get put together. Like if possible values are \"Love ice cream\" \"Like ice cream\", \"Don't care about ice cream\", \"Dislike ice cream\", \"Hate ice cream\" then the more positive feelings about ice cream must be put together into the same category. As well, no category should have fewer than 250 people in it. (You can reuse your HW4 or HW5 code if you did one of these, but make sure you follow the requirements).\n",
    "\n",
    "Remove WT81 as a feature (you can use the pandas [drop](https://pandas.pydata.org/pandas-docs/stable/reference/api/pandas.DataFrame.drop.html) function"
   ]
  },
  {
   "cell_type": "code",
   "execution_count": 12,
   "id": "f5dfb987-9b6a-4d94-a439-e02defe2a75b",
   "metadata": {},
   "outputs": [
    {
     "data": {
      "text/plain": [
       "alcoholfreq         int64\n",
       "exercise            int64\n",
       "quit                int64\n",
       "income            float64\n",
       "price71           float64\n",
       "price82           float64\n",
       "smokeintensity      int64\n",
       "smokeyrs            int64\n",
       "tax71_82          float64\n",
       "wt71              float64\n",
       "wt82              float64\n",
       "wt82_71           float64\n",
       "school              int64\n",
       "nerve_med           int32\n",
       "sex                 int32\n",
       "marital             int32\n",
       "race                int32\n",
       "dtype: object"
      ]
     },
     "execution_count": 12,
     "metadata": {},
     "output_type": "execute_result"
    }
   ],
   "source": [
    "# Load packages and data\n",
    "import pandas as pd\n",
    "import numpy as np\n",
    "nhefs = pd.read_csv('../data/nhefs.csv')\n",
    "\n",
    "# For columns with categories, pull the category\n",
    "cats = nhefs.loc[:,['alcoholfreq', 'exercise', 'quit']]\n",
    "cats = cats.applymap(lambda x: int(x[0]))\n",
    "# Replace the categorical columns in the main df with our encoded columns\n",
    "nhefs = nhefs.drop(['alcoholfreq', 'exercise', 'quit'], axis=1)\n",
    "nhefs = pd.concat([cats, nhefs], axis=1)\n",
    "\n",
    "# nerve_med (nerve medication or not)\n",
    "nhefs['nerve_med'] = (nhefs['nerve_med'] == 'Yes').astype(int)\n",
    "\n",
    "# sex (male or not)\n",
    "nhefs['sex'] = (nhefs['sex'] == 'man').astype(int)\n",
    "\n",
    "# marital (married or not)\n",
    "nhefs['marital'] = (nhefs['marital'] == 'married').astype(int)\n",
    "\n",
    "# race (white or not)\n",
    "nhefs['race'] = (nhefs['race'] == 'White').astype(int)\n",
    "\n",
    "nhefs.dtypes"
   ]
  },
  {
   "cell_type": "markdown",
   "id": "e9c657ad-29fc-47d1-bfe0-047d6359f546",
   "metadata": {},
   "source": [
    "## 2. Pair of predictors (question 3 from hw 5)\n",
    "Get the best pair of two predictors of weight gain.  Your answer should print the best model summary as well as show how you decided this was the best pair. (We will discuss more than one predictor Nov 15 or 16)"
   ]
  },
  {
   "cell_type": "code",
   "execution_count": 13,
   "id": "7d83bf0e-c423-45e6-8ddb-8c53c9c4d102",
   "metadata": {},
   "outputs": [
    {
     "data": {
      "text/html": [
       "<table class=\"simpletable\">\n",
       "<caption>OLS Regression Results</caption>\n",
       "<tr>\n",
       "  <th>Dep. Variable:</th>         <td>wt82_71</td>     <th>  R-squared:         </th>  <td>   1.000</td> \n",
       "</tr>\n",
       "<tr>\n",
       "  <th>Model:</th>                   <td>OLS</td>       <th>  Adj. R-squared:    </th>  <td>   1.000</td> \n",
       "</tr>\n",
       "<tr>\n",
       "  <th>Method:</th>             <td>Least Squares</td>  <th>  F-statistic:       </th>  <td>8.486e+20</td>\n",
       "</tr>\n",
       "<tr>\n",
       "  <th>Date:</th>             <td>Mon, 12 Dec 2022</td> <th>  Prob (F-statistic):</th>   <td>  0.00</td>  \n",
       "</tr>\n",
       "<tr>\n",
       "  <th>Time:</th>                 <td>17:14:23</td>     <th>  Log-Likelihood:    </th>  <td>  26424.</td> \n",
       "</tr>\n",
       "<tr>\n",
       "  <th>No. Observations:</th>      <td>  1527</td>      <th>  AIC:               </th> <td>-5.284e+04</td>\n",
       "</tr>\n",
       "<tr>\n",
       "  <th>Df Residuals:</th>          <td>  1524</td>      <th>  BIC:               </th> <td>-5.283e+04</td>\n",
       "</tr>\n",
       "<tr>\n",
       "  <th>Df Model:</th>              <td>     2</td>      <th>                     </th>      <td> </td>    \n",
       "</tr>\n",
       "<tr>\n",
       "  <th>Covariance Type:</th>      <td>nonrobust</td>    <th>                     </th>      <td> </td>    \n",
       "</tr>\n",
       "</table>\n",
       "<table class=\"simpletable\">\n",
       "<tr>\n",
       "    <td></td>       <th>coef</th>     <th>std err</th>      <th>t</th>      <th>P>|t|</th>  <th>[0.025</th>    <th>0.975]</th>  \n",
       "</tr>\n",
       "<tr>\n",
       "  <th>const</th> <td>  6.36e-09</td> <td> 9.16e-10</td> <td>    6.940</td> <td> 0.000</td> <td> 4.56e-09</td> <td> 8.16e-09</td>\n",
       "</tr>\n",
       "<tr>\n",
       "  <th>wt71</th>  <td>   -1.0000</td> <td> 2.57e-11</td> <td>-3.89e+10</td> <td> 0.000</td> <td>   -1.000</td> <td>   -1.000</td>\n",
       "</tr>\n",
       "<tr>\n",
       "  <th>wt82</th>  <td>    1.0000</td> <td> 2.46e-11</td> <td> 4.07e+10</td> <td> 0.000</td> <td>    1.000</td> <td>    1.000</td>\n",
       "</tr>\n",
       "</table>\n",
       "<table class=\"simpletable\">\n",
       "<tr>\n",
       "  <th>Omnibus:</th>       <td>728.623</td> <th>  Durbin-Watson:     </th> <td>   1.951</td> \n",
       "</tr>\n",
       "<tr>\n",
       "  <th>Prob(Omnibus):</th> <td> 0.000</td>  <th>  Jarque-Bera (JB):  </th> <td>36306.143</td>\n",
       "</tr>\n",
       "<tr>\n",
       "  <th>Skew:</th>          <td>-1.465</td>  <th>  Prob(JB):          </th> <td>    0.00</td> \n",
       "</tr>\n",
       "<tr>\n",
       "  <th>Kurtosis:</th>      <td>26.707</td>  <th>  Cond. No.          </th> <td>    506.</td> \n",
       "</tr>\n",
       "</table><br/><br/>Notes:<br/>[1] Standard Errors assume that the covariance matrix of the errors is correctly specified."
      ],
      "text/plain": [
       "<class 'statsmodels.iolib.summary.Summary'>\n",
       "\"\"\"\n",
       "                            OLS Regression Results                            \n",
       "==============================================================================\n",
       "Dep. Variable:                wt82_71   R-squared:                       1.000\n",
       "Model:                            OLS   Adj. R-squared:                  1.000\n",
       "Method:                 Least Squares   F-statistic:                 8.486e+20\n",
       "Date:                Mon, 12 Dec 2022   Prob (F-statistic):               0.00\n",
       "Time:                        17:14:23   Log-Likelihood:                 26424.\n",
       "No. Observations:                1527   AIC:                        -5.284e+04\n",
       "Df Residuals:                    1524   BIC:                        -5.283e+04\n",
       "Df Model:                           2                                         \n",
       "Covariance Type:            nonrobust                                         \n",
       "==============================================================================\n",
       "                 coef    std err          t      P>|t|      [0.025      0.975]\n",
       "------------------------------------------------------------------------------\n",
       "const        6.36e-09   9.16e-10      6.940      0.000    4.56e-09    8.16e-09\n",
       "wt71          -1.0000   2.57e-11  -3.89e+10      0.000      -1.000      -1.000\n",
       "wt82           1.0000   2.46e-11   4.07e+10      0.000       1.000       1.000\n",
       "==============================================================================\n",
       "Omnibus:                      728.623   Durbin-Watson:                   1.951\n",
       "Prob(Omnibus):                  0.000   Jarque-Bera (JB):            36306.143\n",
       "Skew:                          -1.465   Prob(JB):                         0.00\n",
       "Kurtosis:                      26.707   Cond. No.                         506.\n",
       "==============================================================================\n",
       "\n",
       "Notes:\n",
       "[1] Standard Errors assume that the covariance matrix of the errors is correctly specified.\n",
       "\"\"\""
      ]
     },
     "execution_count": 13,
     "metadata": {},
     "output_type": "execute_result"
    }
   ],
   "source": [
    "# Use the log-likelihood to figure out which model is the *most* likely\n",
    "# Drop NaNs\n",
    "nhefs = nhefs.dropna()\n",
    "import statsmodels.api as sm\n",
    "# Drop the weight gain var so that we only look at predictors\n",
    "wt82_71pred = nhefs.drop(['wt82_71'],axis=1)\n",
    "# Set the current maximum at negative infinite likelihood (so that actual models will be higher)\n",
    "current_max = -np.inf\n",
    "# For each pair of predictors in the dataset\n",
    "for col in wt82_71pred.columns:\n",
    "    for other_col in wt82_71pred.drop([col],axis=1):\n",
    "        # Create an X (predictors) df with pred1 and pred2\n",
    "        X = nhefs.loc[:, [col, other_col]]\n",
    "        # Add a constant\n",
    "        X = sm.add_constant(X)\n",
    "        # Make weight gain the y-value\n",
    "        y = nhefs['wt82_71']\n",
    "        # Fit a model of weight gain vs. these predictors\n",
    "        model = sm.OLS(y, X).fit()\n",
    "        # If the likelihood is closer to 0\n",
    "        if model.llf > current_max:\n",
    "            # Make it the current min\n",
    "            current_max = model.llf\n",
    "            # Make these the best preds\n",
    "            best_preds = [col, other_col]\n",
    "\n",
    " # Create an X (predictors) df with the best predictors\n",
    "X = nhefs.loc[:, best_preds]\n",
    "# Add a constant\n",
    "X = sm.add_constant(X)\n",
    "# Make weight gain the y-value\n",
    "y = nhefs['wt82_71']\n",
    "two_model = sm.OLS(y, X).fit()\n",
    "two_model.summary()"
   ]
  },
  {
   "cell_type": "markdown",
   "id": "d2762d7d-7f53-477f-bdb8-7f11af7e4f65",
   "metadata": {},
   "source": [
    "## 3. Model metrics (question 4 from hw 5) \n",
    "Calculate RMSE, R-squared, and likelihood of your best models without using the model functions (just using regular pandas/scipy.stats functions)"
   ]
  },
  {
   "cell_type": "markdown",
   "id": "fa3fb628-42b5-40be-bbd7-75616fc1e16a",
   "metadata": {},
   "source": [
    "#### 3A: RMSE"
   ]
  },
  {
   "cell_type": "code",
   "execution_count": 17,
   "id": "670a855a-f4c6-49d9-8718-03c29e85b122",
   "metadata": {},
   "outputs": [
    {
     "name": "stdout",
     "output_type": "stream",
     "text": [
      "5.4592007826023084e-17\n"
     ]
    }
   ],
   "source": [
    "# Get the model's predictions based on best_preds\n",
    "X = nhefs.loc[:, best_preds] \n",
    "predictions = two_model.params['const'] + two_model.params[best_preds[0]] * nhefs[best_preds[0]] + two_model.params[best_preds[1]] * nhefs[best_preds[1]]\n",
    "\n",
    "# Calculate RMSE\n",
    "RMSE = ((predictions - nhefs['wt82_71'])**2 / len(predictions)).sum()\n",
    "\n",
    "print(RMSE)"
   ]
  },
  {
   "cell_type": "markdown",
   "id": "5862db17-ea11-4f8f-9a03-5a5f5bbf3889",
   "metadata": {},
   "source": [
    "#### 3C: Likelihood"
   ]
  },
  {
   "cell_type": "code",
   "execution_count": 20,
   "id": "e71911dc-6911-4e43-bc81-b1a509c444e3",
   "metadata": {},
   "outputs": [
    {
     "name": "stdout",
     "output_type": "stream",
     "text": [
      "-4539.822086676868\n"
     ]
    }
   ],
   "source": [
    "# Assuming a normal distribution for this numerical data\n",
    "from scipy.stats import norm\n",
    "probability = norm.pdf(nhefs['wt82_71'], loc=predictions, scale=nhefs['wt82_71'].std())\n",
    "likelihood = np.log(probability).sum()\n",
    "\n",
    "print(likelihood)"
   ]
  },
  {
   "cell_type": "markdown",
   "id": "a430d92f-739e-4e61-abb2-6b44ca8d702e",
   "metadata": {},
   "source": [
    "## 4. Predict\n",
    "### 4A: Make predictions\n",
    "Predict weight gain using the best models you created in 2. Do not use the \"predict\" function of the model.  Your answer should create a Series for each of the two models. Print out the head of the Series and the describe of the series, for each series, with the models clearly labeled.\n"
   ]
  },
  {
   "cell_type": "code",
   "execution_count": null,
   "id": "f64c9995-af65-4be2-bdaa-fe7c3dc9ff46",
   "metadata": {},
   "outputs": [],
   "source": [
    "# Get the model's predictions based on best_preds\n",
    "X = nhefs.loc[:, best_preds] \n",
    "predictions = two_model.params['const'] + two_model.params[best_preds[0]] * nhefs[best_preds[0]] + two_model.params[best_preds[1]] * nhefs[best_preds[1]]"
   ]
  },
  {
   "cell_type": "markdown",
   "id": "cd81dc72-7eb0-4dd3-a157-92fdea7998e5",
   "metadata": {},
   "source": [
    "### 4B: Visualize predictions\n",
    "Using seaborn, make a plot that has one predictor on the x-axis, and the wt82_71 on the y-axis, and the predicted values of wt82_71 also on the y-axis, in another color clearly indicated.  \n",
    "\n",
    "Make this plots for each predictor, and also make a 3rd plot that combines the 2 predictors."
   ]
  },
  {
   "cell_type": "code",
   "execution_count": 25,
   "id": "1f572f64-694b-46ec-9bb3-1b42d4bf9407",
   "metadata": {},
   "outputs": [
    {
     "data": {
      "image/png": "[encoded data removed]",
      "text/plain": [
       "<Figure size 432x288 with 1 Axes>"
      ]
     },
     "metadata": {
      "needs_background": "light"
     },
     "output_type": "display_data"
    }
   ],
   "source": [
    "import matplotlib.pyplot as plt\n",
    "\n",
    "f, ax = plt.subplots(1)\n",
    "ax.plot(nhefs[best_preds[0]], nhefs['wt82_71'], '.')\n",
    "ax.plot(nhefs[best_preds[0]], predictions, '.', color='red')\n",
    "plt.show()"
   ]
  }
 ],
 "metadata": {
  "kernelspec": {
   "display_name": "Python 3.8.8 ('base')",
   "language": "python",
   "name": "python3"
  },
  "language_info": {
   "codemirror_mode": {
    "name": "ipython",
    "version": 3
   },
   "file_extension": ".py",
   "mimetype": "text/x-python",
   "name": "python",
   "nbconvert_exporter": "python",
   "pygments_lexer": "ipython3",
   "version": "3.8.8"
  },
  "vscode": {
   "interpreter": {
    "hash": "e595df4329fcf3a3af43d6766bc23e541941e8ce9ea758c4bedfcbd321d7c58e"
   }
  }
 },
 "nbformat": 4,
 "nbformat_minor": 5
}
