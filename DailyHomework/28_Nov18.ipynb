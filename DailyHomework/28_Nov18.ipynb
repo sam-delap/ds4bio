{
 "cells": [
  {
   "cell_type": "markdown",
   "metadata": {},
   "source": [
    "Generate 100 random data sets of plants where mean fruit_length does follows your linear model created in model_height. This means the \"loc\" for each plant is determined by the model, but the actual value is random, with the mean coming from that loc. For each of the 100 data sets, fit the linear model again and get the slope. Then, after you obtain your 100 slopes, make a histogram of the slopes, and obtain the standard deviation and the lowest and highest slope. Write ONE SENTENCE that compares the standard deviation, lowest, and highest value in your histogram to the model_height.summary() output values that include std err, and [0.025, 0.975] (the lowest and highest end of the confidence interval) for the slope. \n",
    "- The slopes are normally distributed\n",
    "- The standard deviation is close to the std error of the model\n",
    "- The lowest and highest values in our slope model are slightly lower/higher than the bounds of the confidence interval."
   ]
  },
  {
   "cell_type": "code",
   "execution_count": 1,
   "metadata": {},
   "outputs": [
    {
     "name": "stderr",
     "output_type": "stream",
     "text": [
      "c:\\Users\\sjcde\\anaconda3\\lib\\site-packages\\numpy\\_distributor_init.py:30: UserWarning: loaded more than 1 DLL from .libs:\n",
      "c:\\Users\\sjcde\\anaconda3\\lib\\site-packages\\numpy\\.libs\\libopenblas.FB5AE2TYXYH2IJRDKGDGQ3XBKLKTF43H.gfortran-win_amd64.dll\n",
      "c:\\Users\\sjcde\\anaconda3\\lib\\site-packages\\numpy\\.libs\\libopenblas.JPIJNSWNNAN3CE6LLI5FWSPHUT2VXMTH.gfortran-win_amd64.dll\n",
      "  warnings.warn(\"loaded more than 1 DLL from .libs:\"\n"
     ]
    },
    {
     "name": "stdout",
     "output_type": "stream",
     "text": [
      "Highest: 0.08866430383972547\n",
      "Lowest: 0.048673348527844815\n",
      "std: 0.008051419154735586\n"
     ]
    },
    {
     "data": {
      "text/html": [
       "<table class=\"simpletable\">\n",
       "<caption>OLS Regression Results</caption>\n",
       "<tr>\n",
       "  <th>Dep. Variable:</th>      <td>fruit_length</td>   <th>  R-squared:         </th> <td>   0.132</td>\n",
       "</tr>\n",
       "<tr>\n",
       "  <th>Model:</th>                   <td>OLS</td>       <th>  Adj. R-squared:    </th> <td>   0.130</td>\n",
       "</tr>\n",
       "<tr>\n",
       "  <th>Method:</th>             <td>Least Squares</td>  <th>  F-statistic:       </th> <td>   77.44</td>\n",
       "</tr>\n",
       "<tr>\n",
       "  <th>Date:</th>             <td>Sun, 27 Nov 2022</td> <th>  Prob (F-statistic):</th> <td>2.13e-17</td>\n",
       "</tr>\n",
       "<tr>\n",
       "  <th>Time:</th>                 <td>16:07:18</td>     <th>  Log-Likelihood:    </th> <td> -980.16</td>\n",
       "</tr>\n",
       "<tr>\n",
       "  <th>No. Observations:</th>      <td>   511</td>      <th>  AIC:               </th> <td>   1964.</td>\n",
       "</tr>\n",
       "<tr>\n",
       "  <th>Df Residuals:</th>          <td>   509</td>      <th>  BIC:               </th> <td>   1973.</td>\n",
       "</tr>\n",
       "<tr>\n",
       "  <th>Df Model:</th>              <td>     1</td>      <th>                     </th>     <td> </td>   \n",
       "</tr>\n",
       "<tr>\n",
       "  <th>Covariance Type:</th>      <td>nonrobust</td>    <th>                     </th>     <td> </td>   \n",
       "</tr>\n",
       "</table>\n",
       "<table class=\"simpletable\">\n",
       "<tr>\n",
       "     <td></td>       <th>coef</th>     <th>std err</th>      <th>t</th>      <th>P>|t|</th>  <th>[0.025</th>    <th>0.975]</th>  \n",
       "</tr>\n",
       "<tr>\n",
       "  <th>const</th>  <td>   11.9419</td> <td>    0.336</td> <td>   35.532</td> <td> 0.000</td> <td>   11.282</td> <td>   12.602</td>\n",
       "</tr>\n",
       "<tr>\n",
       "  <th>height</th> <td>    0.0691</td> <td>    0.008</td> <td>    8.800</td> <td> 0.000</td> <td>    0.054</td> <td>    0.085</td>\n",
       "</tr>\n",
       "</table>\n",
       "<table class=\"simpletable\">\n",
       "<tr>\n",
       "  <th>Omnibus:</th>       <td> 0.078</td> <th>  Durbin-Watson:     </th> <td>   2.011</td>\n",
       "</tr>\n",
       "<tr>\n",
       "  <th>Prob(Omnibus):</th> <td> 0.962</td> <th>  Jarque-Bera (JB):  </th> <td>   0.107</td>\n",
       "</tr>\n",
       "<tr>\n",
       "  <th>Skew:</th>          <td>-0.030</td> <th>  Prob(JB):          </th> <td>   0.948</td>\n",
       "</tr>\n",
       "<tr>\n",
       "  <th>Kurtosis:</th>      <td> 2.961</td> <th>  Cond. No.          </th> <td>    197.</td>\n",
       "</tr>\n",
       "</table><br/><br/>Notes:<br/>[1] Standard Errors assume that the covariance matrix of the errors is correctly specified."
      ],
      "text/plain": [
       "<class 'statsmodels.iolib.summary.Summary'>\n",
       "\"\"\"\n",
       "                            OLS Regression Results                            \n",
       "==============================================================================\n",
       "Dep. Variable:           fruit_length   R-squared:                       0.132\n",
       "Model:                            OLS   Adj. R-squared:                  0.130\n",
       "Method:                 Least Squares   F-statistic:                     77.44\n",
       "Date:                Sun, 27 Nov 2022   Prob (F-statistic):           2.13e-17\n",
       "Time:                        16:07:18   Log-Likelihood:                -980.16\n",
       "No. Observations:                 511   AIC:                             1964.\n",
       "Df Residuals:                     509   BIC:                             1973.\n",
       "Df Model:                           1                                         \n",
       "Covariance Type:            nonrobust                                         \n",
       "==============================================================================\n",
       "                 coef    std err          t      P>|t|      [0.025      0.975]\n",
       "------------------------------------------------------------------------------\n",
       "const         11.9419      0.336     35.532      0.000      11.282      12.602\n",
       "height         0.0691      0.008      8.800      0.000       0.054       0.085\n",
       "==============================================================================\n",
       "Omnibus:                        0.078   Durbin-Watson:                   2.011\n",
       "Prob(Omnibus):                  0.962   Jarque-Bera (JB):                0.107\n",
       "Skew:                          -0.030   Prob(JB):                        0.948\n",
       "Kurtosis:                       2.961   Cond. No.                         197.\n",
       "==============================================================================\n",
       "\n",
       "Notes:\n",
       "[1] Standard Errors assume that the covariance matrix of the errors is correctly specified.\n",
       "\"\"\""
      ]
     },
     "execution_count": 1,
     "metadata": {},
     "output_type": "execute_result"
    },
    {
     "data": {
      "image/png": "[encoded data removed]",
      "text/plain": [
       "<Figure size 360x360 with 1 Axes>"
      ]
     },
     "metadata": {
      "needs_background": "light"
     },
     "output_type": "display_data"
    }
   ],
   "source": [
    "# Import packages\n",
    "import pandas as pd\n",
    "import statsmodels.api as sm\n",
    "import seaborn as sns\n",
    "from scipy.stats import norm\n",
    "\n",
    "# Create the model\n",
    "fruit_length_geno = pd.read_table(\"../data/arabmagic/fruit_length_geno.csv\",sep=\",\",index_col=0)\n",
    "to_model = pd.DataFrame({\"fruit_length\":fruit_length_geno['fruit_length'],\"height\":fruit_length_geno['height']})\n",
    "to_model = sm.add_constant(to_model)\n",
    "to_model = to_model.dropna()\n",
    "X = to_model.loc[:, ['const', 'height']]\n",
    "y = to_model['fruit_length']\n",
    "model_height = sm.OLS(y, X).fit()\n",
    "\n",
    "# Use the model to generate means\n",
    "locs = model_height.predict(X)\n",
    "# Use the real data's std dev\n",
    "std_fruit = y.std()\n",
    "# Generate 100 random data sets of plants where mean fruit_length follows model_height\n",
    "slopes = pd.Series(index = [i for i in range(100)], dtype='float64') # Store as a series so we can use .std() later\n",
    "# For 100 datasets (using the slopes index that is [0, 99] from above)\n",
    "for i in slopes.index:\n",
    "    # Generate the dataset\n",
    "    dataset = norm.rvs(loc=locs, scale=std_fruit)\n",
    "    # Generate a new model from the predicted dataset\n",
    "    model_height_new = sm.OLS(dataset, X).fit()\n",
    "    # Get the slope of this dataset\n",
    "    slopes[i] = model_height_new.params[1]\n",
    "\n",
    "# Create a histogram of the values\n",
    "sns.displot(data = slopes)\n",
    "# Get the highest, lowest, and std values\n",
    "print('Highest:', slopes.max())\n",
    "print('Lowest:', slopes.min())\n",
    "print('Std:', slopes.std())\n",
    "# Get the summary of the original model\n",
    "model_height.summary()"
   ]
  }
 ],
 "metadata": {
  "kernelspec": {
   "display_name": "Python 3.8.8 ('base')",
   "language": "python",
   "name": "python3"
  },
  "language_info": {
   "codemirror_mode": {
    "name": "ipython",
    "version": 3
   },
   "file_extension": ".py",
   "mimetype": "text/x-python",
   "name": "python",
   "nbconvert_exporter": "python",
   "pygments_lexer": "ipython3",
   "version": "3.8.8"
  },
  "orig_nbformat": 4,
  "vscode": {
   "interpreter": {
    "hash": "e595df4329fcf3a3af43d6766bc23e541941e8ce9ea758c4bedfcbd321d7c58e"
   }
  }
 },
 "nbformat": 4,
 "nbformat_minor": 2
}
