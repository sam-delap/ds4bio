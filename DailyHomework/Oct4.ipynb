{
 "cells": [
  {
   "cell_type": "markdown",
   "metadata": {},
   "source": [
    "## Part A. \n",
    "Let's say we want to test whether states with higher per capita income have higher home ownership (because people have more money) or lower home ownership (because prices are so high). Get the average home ownership for states with the 10 highest and 10 lowest incomes and get the difference between the averages. Using code only! Columns: 'Homeownership' and 'Per capita income'"
   ]
  },
  {
   "cell_type": "code",
   "execution_count": 2,
   "metadata": {},
   "outputs": [
    {
     "data": {
      "text/plain": [
       "6.5"
      ]
     },
     "execution_count": 2,
     "metadata": {},
     "output_type": "execute_result"
    }
   ],
   "source": [
    "# Import packages\n",
    "import numpy as np\n",
    "import pandas as pd\n",
    "\n",
    "# Set up the states dataframe\n",
    "states = pd.read_csv('../Data/state_health.csv')\n",
    "\n",
    "# Sort states by income\n",
    "states_by_income = states.sort_values('Per Capita Income')\n",
    "\n",
    "# Get the home ownership for the 10 states with the highest income\n",
    "high_income_homes = states_by_income.head(10)['Homeownership']\n",
    "\n",
    "# Get the home ownership the the 10 states with the lowest income\n",
    "low_income_homes = states_by_income.tail(10)['Homeownership']\n",
    "\n",
    "# Get the difference between the means of home ownership in high income and low income states\n",
    "round(high_income_homes.mean() - low_income_homes.mean(), 1)"
   ]
  },
  {
   "cell_type": "markdown",
   "metadata": {},
   "source": [
    "## Part B\n",
    "Get the 5 states with the largest gap between their midterm and presidential voter participation. Code only! Columns 'Voter Participation (Midterm)' and 'Voter\n",
    "Participation (Presidential)'"
   ]
  },
  {
   "cell_type": "code",
   "execution_count": 12,
   "metadata": {},
   "outputs": [
    {
     "data": {
      "text/plain": [
       "33              New Jersey\n",
       "3     District of Columbia\n",
       "10                  Hawaii\n",
       "14                Maryland\n",
       "5            New Hampshire\n",
       "Name: State Name, dtype: object"
      ]
     },
     "execution_count": 12,
     "metadata": {},
     "output_type": "execute_result"
    }
   ],
   "source": [
    "# Retrieve Midterm participation\n",
    "midterm = states['Voter Participation (Midterm)']\n",
    "\n",
    "# Retrieve Presidential participation\n",
    "pres = states['Voter Participation (Presidential)']\n",
    "\n",
    "# Calculate the difference between them\n",
    "states['Voter Participation Gap'] = pres - midterm\n",
    "\n",
    "# Sort the states from highest to lowest by the difference in participation between midterm and presidential elections\n",
    "big_gap_states = states.sort_values('Voter Participation Gap', ascending=False)['State Name']\n",
    "\n",
    "# Print the state names of the top 5 states\n",
    "big_gap_states.head(5)"
   ]
  }
 ],
 "metadata": {
  "kernelspec": {
   "display_name": "Python 3.9.7 ('base')",
   "language": "python",
   "name": "python3"
  },
  "language_info": {
   "codemirror_mode": {
    "name": "ipython",
    "version": 3
   },
   "file_extension": ".py",
   "mimetype": "text/x-python",
   "name": "python",
   "nbconvert_exporter": "python",
   "pygments_lexer": "ipython3",
   "version": "3.9.7"
  },
  "orig_nbformat": 4,
  "vscode": {
   "interpreter": {
    "hash": "e595df4329fcf3a3af43d6766bc23e541941e8ce9ea758c4bedfcbd321d7c58e"
   }
  }
 },
 "nbformat": 4,
 "nbformat_minor": 2
}
