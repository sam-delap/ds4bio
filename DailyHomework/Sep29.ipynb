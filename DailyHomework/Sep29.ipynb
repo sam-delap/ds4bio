{
 "cells": [
  {
   "cell_type": "markdown",
   "metadata": {},
   "source": [
    "## Write code that can use an integer variable i between 0 and 9, that indicates which bin we want to use. Your code will also use variables for poverty_bins, and states\n",
    "### Part A: Your code should first, use i to extract and print the edges of the bin from the poverty_bins list. For example, if i is 0, the edges of the bin are 8.1 and 9.31. \n",
    "### Part B: Then, your code should print out how many states have poverty level that falls in that bin. Your code should work for any i between 0 and 9. (no need to check the value of i, just assume it can be any of 0,1,2,3,4,5,6,7,8,9)"
   ]
  },
  {
   "cell_type": "code",
   "execution_count": 14,
   "metadata": {},
   "outputs": [
    {
     "name": "stdout",
     "output_type": "stream",
     "text": [
      "8.1\n",
      "19.0\n",
      "[ 8.1         9.31111111 10.52222222 11.73333333 12.94444444 14.15555556\n",
      " 15.36666667 16.57777778 17.78888889 19.        ]\n",
      "8.1\n",
      "9.31111111111111\n",
      "6\n",
      "9.31111111111111\n",
      "10.522222222222222\n",
      "8\n",
      "10.522222222222222\n",
      "11.733333333333334\n",
      "11\n",
      "11.733333333333334\n",
      "12.944444444444445\n",
      "13\n",
      "12.944444444444445\n",
      "14.155555555555555\n",
      "6\n",
      "14.155555555555555\n",
      "15.366666666666667\n",
      "1\n",
      "15.366666666666667\n",
      "16.577777777777776\n",
      "3\n",
      "16.577777777777776\n",
      "17.78888888888889\n",
      "2\n",
      "17.78888888888889\n",
      "19.0\n",
      "2\n"
     ]
    }
   ],
   "source": [
    "# Using i for homework credit\n",
    "import numpy as np\n",
    "import pandas as pd\n",
    "\n",
    "# Set up the states dataframe, use prof's code\n",
    "#1) gets the lowest and highest poverty\n",
    "states = pd.read_csv('../Data/state_health.csv')\n",
    "min_poverty = states['Poverty'].min()\n",
    "print(min_poverty) #8.1\n",
    "max_poverty = states['Poverty'].max()\n",
    "print(max_poverty) #19.0\n",
    "\n",
    "\n",
    "#2) create equally spaced bins of poverty levels\n",
    "## np.linspace(low end, high end, how many bins)\n",
    "poverty_bins = np.linspace(min_poverty, max_poverty, 10)\n",
    "print(poverty_bins)\n",
    "\n",
    "# For each bin bound except the last one\n",
    "for i in range(len(poverty_bins) - 1):\n",
    "    # Print the lower and upper bounds of the current bin, rounded to 1 decimal place\n",
    "    print(poverty_bins[i]) # lower bound\n",
    "    print(poverty_bins[i+1]) # upper bound\n",
    "    \n",
    "    # Figure out how many states are greater than or equal to the lower bound of the current bin \n",
    "    # and less than or equal to the upper bound of the current bin\n",
    "    # Print the result\n",
    "    print(len(states.loc[(states['Poverty'] >= poverty_bins[i]) & (states['Poverty'] <= poverty_bins[i+1]), 'Poverty']))"
   ]
  },
  {
   "cell_type": "code",
   "execution_count": 15,
   "metadata": {},
   "outputs": [
    {
     "name": "stdout",
     "output_type": "stream",
     "text": [
      "8.1\n",
      "19.0\n"
     ]
    },
    {
     "data": {
      "text/plain": [
       "array([ 8.1       ,  9.31111111, 10.52222222, 11.73333333, 12.94444444,\n",
       "       14.15555556, 15.36666667, 16.57777778, 17.78888889, 19.        ])"
      ]
     },
     "metadata": {},
     "output_type": "display_data"
    },
    {
     "name": "stdout",
     "output_type": "stream",
     "text": [
      "8.1\n",
      "9.31111111111111\n",
      "6\n",
      "9.31111111111111\n",
      "10.522222222222222\n",
      "8\n",
      "10.522222222222222\n",
      "11.733333333333334\n",
      "11\n",
      "11.733333333333334\n",
      "12.944444444444445\n",
      "13\n",
      "12.944444444444445\n",
      "14.155555555555555\n",
      "6\n",
      "14.155555555555555\n",
      "15.366666666666667\n",
      "1\n",
      "15.366666666666667\n",
      "16.577777777777776\n",
      "3\n",
      "16.577777777777776\n",
      "17.78888888888889\n",
      "2\n",
      "17.78888888888889\n",
      "19.0\n",
      "2\n"
     ]
    }
   ],
   "source": [
    "# Using zip for learning/funsies\n",
    "import numpy as np\n",
    "import pandas as pd\n",
    "\n",
    "#1) gets the lowest and highest poverty\n",
    "states = pd.read_csv('../Data/state_health.csv')\n",
    "min_poverty = states['Poverty'].min()\n",
    "print(min_poverty) #8.1\n",
    "max_poverty = states['Poverty'].max()\n",
    "print(max_poverty) #19.0\n",
    "\n",
    "\n",
    "#2) create equally spaced bins of poverty levels\n",
    "## np.linspace(low end, high end, how many bins)\n",
    "poverty_bins = np.linspace(min_poverty, max_poverty, 10)\n",
    "display(poverty_bins)\n",
    "\n",
    "# For each index and bin bound in the poverty_bins (except the last one)\n",
    "for lower, upper in zip(poverty_bins[:-1], poverty_bins[1:]):\n",
    "    # Print the lower and upper bounds of the current bin, rounded to 1 decimal place\n",
    "    print(lower)\n",
    "    print(upper)\n",
    "    \n",
    "    # Figure out how many states are greater than or equal to the lower bound of the current bin \n",
    "    # and less than or equal to the upper bound of the current bin and print the result\n",
    "    print(len(states.loc[(states['Poverty'] >= lower) & (states['Poverty'] <= upper), 'Poverty']))"
   ]
  }
 ],
 "metadata": {
  "kernelspec": {
   "display_name": "Python 3.9.7 ('base')",
   "language": "python",
   "name": "python3"
  },
  "language_info": {
   "codemirror_mode": {
    "name": "ipython",
    "version": 3
   },
   "file_extension": ".py",
   "mimetype": "text/x-python",
   "name": "python",
   "nbconvert_exporter": "python",
   "pygments_lexer": "ipython3",
   "version": "3.9.7"
  },
  "orig_nbformat": 4,
  "vscode": {
   "interpreter": {
    "hash": "e595df4329fcf3a3af43d6766bc23e541941e8ce9ea758c4bedfcbd321d7c58e"
   }
  }
 },
 "nbformat": 4,
 "nbformat_minor": 2
}
