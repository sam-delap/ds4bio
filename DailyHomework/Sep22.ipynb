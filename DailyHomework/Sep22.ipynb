{
 "cells": [
  {
   "cell_type": "markdown",
   "metadata": {},
   "source": [
    "# Part 1"
   ]
  },
  {
   "cell_type": "code",
   "execution_count": 3,
   "metadata": {},
   "outputs": [
    {
     "data": {
      "text/plain": [
       "{'a': 1, 'b': 1, 'c': 1, 'd': 1}"
      ]
     },
     "execution_count": 3,
     "metadata": {},
     "output_type": "execute_result"
    }
   ],
   "source": [
    "# Create item\n",
    "item = \"d\"\n",
    "# Create dictionary\n",
    "d = {\"a\":1, \"b\":1, \"c\":1}\n",
    "# If item is in dictionary\n",
    "if item in d:\n",
    "    # Get the value of the item from the dictionary\n",
    "    value = d[item]\n",
    "    # Add 1 to the value of the item\n",
    "    new_value = value + 1\n",
    "    # Reassign the new value of the item to the item stored in the dictionary\n",
    "    d[item] = new_value\n",
    "# Otherwise\n",
    "else:\n",
    "    # Add the item as a new key in the dictionary with a value of 1\n",
    "    d[item] = 1\n",
    "# Print the dictionary to check our work\n",
    "d"
   ]
  },
  {
   "cell_type": "markdown",
   "metadata": {},
   "source": [
    "# Part 2"
   ]
  },
  {
   "cell_type": "code",
   "execution_count": 4,
   "metadata": {},
   "outputs": [
    {
     "data": {
      "text/plain": [
       "{'a': 3, 'b': 2, 'c': 2, 'd': 1}"
      ]
     },
     "execution_count": 4,
     "metadata": {},
     "output_type": "execute_result"
    }
   ],
   "source": [
    "# Create the list\n",
    "list_var = ['a','a','a','b','b','c','c','d']\n",
    "# Create an empty dictionary\n",
    "d = {}\n",
    "# For each item in the list\n",
    "for item in list_var:\n",
    "    # If the item is already in the dictionary\n",
    "    if item in d: \n",
    "        # Get the value of the item from the dictionary\n",
    "        value = d[item]\n",
    "        # Add 1 to the value of the item\n",
    "        new_value = value + 1\n",
    "        # Reassign the new value of the item to the item stored in the dictionary\n",
    "        d[item] = new_value\n",
    "    # Otherwise\n",
    "    else:\n",
    "        # Add the item as a new key in the dictionary with a value of 1\n",
    "        d[item] = 1\n",
    "# Print the dictionary to check our work\n",
    "d"
   ]
  }
 ],
 "metadata": {
  "kernelspec": {
   "display_name": "Python 3.9.7 ('base')",
   "language": "python",
   "name": "python3"
  },
  "language_info": {
   "codemirror_mode": {
    "name": "ipython",
    "version": 3
   },
   "file_extension": ".py",
   "mimetype": "text/x-python",
   "name": "python",
   "nbconvert_exporter": "python",
   "pygments_lexer": "ipython3",
   "version": "3.9.7"
  },
  "orig_nbformat": 4,
  "vscode": {
   "interpreter": {
    "hash": "e595df4329fcf3a3af43d6766bc23e541941e8ce9ea758c4bedfcbd321d7c58e"
   }
  }
 },
 "nbformat": 4,
 "nbformat_minor": 2
}
