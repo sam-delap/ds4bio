{
 "cells": [
  {
   "cell_type": "markdown",
   "metadata": {},
   "source": [
    "## Part A\n",
    "Make a histogram of the elevations in the eco_sites data"
   ]
  },
  {
   "cell_type": "code",
   "execution_count": 3,
   "metadata": {},
   "outputs": [
    {
     "data": {
      "text/plain": [
       "<seaborn.axisgrid.FacetGrid at 0x1610f7d8250>"
      ]
     },
     "execution_count": 3,
     "metadata": {},
     "output_type": "execute_result"
    },
    {
     "data": {
      "image/png": "[encoded data removed]",
      "text/plain": [
       "<Figure size 360x360 with 1 Axes>"
      ]
     },
     "metadata": {
      "needs_background": "light"
     },
     "output_type": "display_data"
    }
   ],
   "source": [
    "import pandas as pd\n",
    "import seaborn as sns\n",
    "# Load sites\n",
    "sites = pd.read_table('../Data/eco_data/eco_sites.txt')\n",
    "\n",
    "# Create a histogram of the elevations in sites\n",
    "sns.displot(data=sites, x='Elevation')"
   ]
  },
  {
   "cell_type": "markdown",
   "metadata": {},
   "source": [
    "## Part B\n",
    "Estimate the edges of one of the histgram bins just by looking at the plot. Then, use pandas to count up how many sites fall into that bin. Compare the number of sites shown in that bin in the histogram to the number of sites you got with pandas for that bin"
   ]
  },
  {
   "cell_type": "code",
   "execution_count": 7,
   "metadata": {},
   "outputs": [
    {
     "name": "stdout",
     "output_type": "stream",
     "text": [
      "5\n",
      "This is the same as the histogram!\n"
     ]
    },
    {
     "data": {
      "text/html": [
       "<div>\n",
       "<style scoped>\n",
       "    .dataframe tbody tr th:only-of-type {\n",
       "        vertical-align: middle;\n",
       "    }\n",
       "\n",
       "    .dataframe tbody tr th {\n",
       "        vertical-align: top;\n",
       "    }\n",
       "\n",
       "    .dataframe thead th {\n",
       "        text-align: right;\n",
       "    }\n",
       "</style>\n",
       "<table border=\"1\" class=\"dataframe\">\n",
       "  <thead>\n",
       "    <tr style=\"text-align: right;\">\n",
       "      <th></th>\n",
       "      <th>Elevation</th>\n",
       "    </tr>\n",
       "  </thead>\n",
       "  <tbody>\n",
       "    <tr>\n",
       "      <th>A3</th>\n",
       "      <td>734.25</td>\n",
       "    </tr>\n",
       "    <tr>\n",
       "      <th>A4</th>\n",
       "      <td>1243.25</td>\n",
       "    </tr>\n",
       "    <tr>\n",
       "      <th>J5</th>\n",
       "      <td>989.25</td>\n",
       "    </tr>\n",
       "    <tr>\n",
       "      <th>U4</th>\n",
       "      <td>1248.00</td>\n",
       "    </tr>\n",
       "    <tr>\n",
       "      <th>U2</th>\n",
       "      <td>866.50</td>\n",
       "    </tr>\n",
       "  </tbody>\n",
       "</table>\n",
       "</div>"
      ],
      "text/plain": [
       "    Elevation\n",
       "A3     734.25\n",
       "A4    1243.25\n",
       "J5     989.25\n",
       "U4    1248.00\n",
       "U2     866.50"
      ]
     },
     "execution_count": 7,
     "metadata": {},
     "output_type": "execute_result"
    }
   ],
   "source": [
    "# Bin 2: 700 to 1250\n",
    "lower = 700\n",
    "upper = 1250\n",
    "# Get a series of all the elevations\n",
    "elevations = sites['Elevation']\n",
    "# Do Boolean indexing to get all of the elevations within the bounds of the bin\n",
    "selector = (elevations >= lower) & (elevations <= upper)\n",
    "# Get a dataframe of all of the elevations that are in the bin\n",
    "elevations_in_bin = elevations.to_frame().loc[selector, :]\n",
    "# Count how many elevations that is\n",
    "count = len(elevations_in_bin) \n",
    "\n",
    "# Print to check our work\n",
    "print(count)\n",
    "print('This is the same as the histogram!')\n",
    "elevations_in_bin"
   ]
  }
 ],
 "metadata": {
  "kernelspec": {
   "display_name": "Python 3.9.7 ('base')",
   "language": "python",
   "name": "python3"
  },
  "language_info": {
   "codemirror_mode": {
    "name": "ipython",
    "version": 3
   },
   "file_extension": ".py",
   "mimetype": "text/x-python",
   "name": "python",
   "nbconvert_exporter": "python",
   "pygments_lexer": "ipython3",
   "version": "3.9.7"
  },
  "orig_nbformat": 4,
  "vscode": {
   "interpreter": {
    "hash": "e595df4329fcf3a3af43d6766bc23e541941e8ce9ea758c4bedfcbd321d7c58e"
   }
  }
 },
 "nbformat": 4,
 "nbformat_minor": 2
}
