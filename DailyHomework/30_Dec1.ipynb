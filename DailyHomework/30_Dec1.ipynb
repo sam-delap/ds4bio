{
 "cells": [
  {
   "cell_type": "markdown",
   "metadata": {},
   "source": [
    "write code that will use 2 variables, lower_elevation and higher_elevation and can calculate the log odds of having megalaima for sites with elevation between those 2 values.\n",
    " \n",
    "For example, with lower_elevation = 750 and higher_elevation = 1250, the log odds is about 1.1"
   ]
  },
  {
   "cell_type": "code",
   "execution_count": 9,
   "metadata": {},
   "outputs": [
    {
     "data": {
      "text/plain": [
       "3"
      ]
     },
     "metadata": {},
     "output_type": "display_data"
    },
    {
     "data": {
      "text/plain": [
       "1.0986122886681098"
      ]
     },
     "execution_count": 9,
     "metadata": {},
     "output_type": "execute_result"
    }
   ],
   "source": [
    "# import packages\n",
    "import pandas as pd\n",
    "import seaborn as sns\n",
    "import numpy as np\n",
    "\n",
    "# Fill these in, I will use the provided example\n",
    "lower_elevation = 750\n",
    "higher_elevation = 1250\n",
    "\n",
    "# Load data\n",
    "sns.set_theme() \n",
    "sites = pd.read_table(\"../data/eco_data/eco_sites.txt\")\n",
    "counts = pd.read_table(\"../data/eco_data/species_counts.txt\")\n",
    "\n",
    "# Add has_mega column to determine which sites have Megalaima\n",
    "is_mega = counts.columns.str.contains('Megalaima')\n",
    "sites['has_mega'] = counts.loc[:,is_mega].sum(axis=1) > 0\n",
    "\n",
    "# Create a Boolean index and select only sites between the two elevations\n",
    "bn_elevations = (sites['Elevation'] >= lower_elevation) & (sites['Elevation'] <= higher_elevation)\n",
    "sites_at_elev = sites.loc[bn_elevations]\n",
    "\n",
    "# Calculate the probability of observing Megalaima at those sites\n",
    "prob = sites_at_elev['has_mega'].astype(int).sum() / len(sites_at_elev.index) # Has_Mega sites / total sites in sample\n",
    "\n",
    "# Calculate the log odds from the probability and print\n",
    "log_odds = np.log(prob / (1 - prob))\n",
    "log_odds"
   ]
  }
 ],
 "metadata": {
  "kernelspec": {
   "display_name": "Python 3.8.8 ('base')",
   "language": "python",
   "name": "python3"
  },
  "language_info": {
   "codemirror_mode": {
    "name": "ipython",
    "version": 3
   },
   "file_extension": ".py",
   "mimetype": "text/x-python",
   "name": "python",
   "nbconvert_exporter": "python",
   "pygments_lexer": "ipython3",
   "version": "3.8.8"
  },
  "orig_nbformat": 4,
  "vscode": {
   "interpreter": {
    "hash": "e595df4329fcf3a3af43d6766bc23e541941e8ce9ea758c4bedfcbd321d7c58e"
   }
  }
 },
 "nbformat": 4,
 "nbformat_minor": 2
}
