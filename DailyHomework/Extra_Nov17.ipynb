{
 "cells": [
  {
   "cell_type": "markdown",
   "metadata": {},
   "source": [
    "### Use the fruit lengths for these 4 plants with two linear models: \n",
    "- Model 1: meanfruit_length = 12 + 3 * MASC06116\n",
    "- Model 2: meanfruit_length = 12 + 5 * MASC06116\n",
    "### Calculate for model 1 (1-4):\t\n",
    "1. the \"loc\" value for each observation\t\n",
    "2. probability of each observation under that model\n",
    "3. log of probability of each observation under that model\n",
    "4. total likelihood of the 4 observations under that model.\n",
    "Repeat 1-4 for model 2\n",
    "### Explain which model is a more likely model for the data, and how the calculations show it is more likely.\n",
    "- Model 1 is more likely because its likelihood value is closer to 0"
   ]
  },
  {
   "cell_type": "code",
   "execution_count": 11,
   "metadata": {},
   "outputs": [
    {
     "name": "stdout",
     "output_type": "stream",
     "text": [
      "Model 0 likelihood: -6.437601491576242\n",
      "Model 1 likelihood: -6.783422817224656\n"
     ]
    }
   ],
   "source": [
    "# Import packages\n",
    "import pandas as pd\n",
    "import statsmodels.api as sm\n",
    "import numpy as np\n",
    "from scipy.stats import norm\n",
    "\n",
    "# Create mini_data\n",
    "fruit_length_geno = pd.read_table(\"../data/arabmagic/fruit_length_geno.csv\",sep=\",\",index_col=0)\n",
    "fruit_length_geno\n",
    "to_model = pd.DataFrame({\"fruit_length\":fruit_length_geno['fruit_length'],\n",
    "                         \"MASC06116\": (fruit_length_geno['MASC06116']=='A').astype(int)})\n",
    "to_model = sm.add_constant(to_model)\n",
    "to_model = to_model.dropna()\n",
    "mini_data = to_model.loc[['MAGIC.681','MAGIC.690', 'MAGIC.100','MAGIC.699'],:]\n",
    "\n",
    "# Add the constants for the models as a list of tuples of the form (slope, intercept)\n",
    "model_params = [(3, 12), (5, 12)]\n",
    "\n",
    "# Find the standard deviation of fruit_length in this mini dataset (we'll need it for probability)\n",
    "std_fruit = mini_data['fruit_length'].std()\n",
    "\n",
    "# For each model\n",
    "for i, model in enumerate(model_params):\n",
    "    # Calculate the 'loc' value of each observation\n",
    "    # model[0] is the slope, model[1] is the intercept\n",
    "    locs = mini_data['MASC06116'] * model[0] + model[1]\n",
    "    # Calculate the probability of each observation under that loc value\n",
    "    probs = norm.pdf(mini_data['fruit_length'], loc=locs, scale=std_fruit)\n",
    "    # Calculate the log probability of each observation\n",
    "    log_probs = np.log(probs)\n",
    "    # Calculate the likelihood of each observation under the given model\n",
    "    likelihood = log_probs.sum()\n",
    "    # Print the result\n",
    "    print('Model', i, 'likelihood:', likelihood)"
   ]
  }
 ],
 "metadata": {
  "kernelspec": {
   "display_name": "Python 3.8.8 ('base')",
   "language": "python",
   "name": "python3"
  },
  "language_info": {
   "codemirror_mode": {
    "name": "ipython",
    "version": 3
   },
   "file_extension": ".py",
   "mimetype": "text/x-python",
   "name": "python",
   "nbconvert_exporter": "python",
   "pygments_lexer": "ipython3",
   "version": "3.8.8"
  },
  "orig_nbformat": 4,
  "vscode": {
   "interpreter": {
    "hash": "e595df4329fcf3a3af43d6766bc23e541941e8ce9ea758c4bedfcbd321d7c58e"
   }
  }
 },
 "nbformat": 4,
 "nbformat_minor": 2
}
