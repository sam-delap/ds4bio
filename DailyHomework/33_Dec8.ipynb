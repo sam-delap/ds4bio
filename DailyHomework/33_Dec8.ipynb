{
 "cells": [
  {
   "cell_type": "code",
   "execution_count": 13,
   "metadata": {},
   "outputs": [],
   "source": [
    "# Set cutoff variable here\n",
    "cutoff = 0.5"
   ]
  },
  {
   "cell_type": "code",
   "execution_count": 14,
   "metadata": {},
   "outputs": [
    {
     "name": "stdout",
     "output_type": "stream",
     "text": [
      "Optimization terminated successfully.\n",
      "         Current function value: 0.329815\n",
      "         Iterations 7\n",
      "0.8235294117647058 0.09523809523809523\n"
     ]
    }
   ],
   "source": [
    "# import packages\n",
    "import pandas as pd\n",
    "import numpy as np\n",
    "import statsmodels.api as sm\n",
    "# import data\n",
    "sites = pd.read_table(\"../data/eco_data/eco_sites.txt\")\n",
    "counts = pd.read_table(\"../data/eco_data/species_counts.txt\")\n",
    "\n",
    "# Add has_mega column to determine which sites have Megalaima\n",
    "is_mega = counts.columns.str.contains('Megalaima')\n",
    "sites['has_mega'] = counts.loc[:,is_mega].sum(axis=1) > 0\n",
    "\n",
    "# Create model\n",
    "to_model = sites.loc[:,['has_mega','Elevation']]\n",
    "to_model = sm.add_constant(to_model)\n",
    "y = to_model['has_mega']\n",
    "X = to_model.drop(['has_mega'],axis=1)\n",
    "lr_mod = sm.Logit(y, X).fit()\n",
    "pred = lr_mod.predict(X)\n",
    "\n",
    "# Find total0s and total1s (total has_mega and total !has_mega)\n",
    "total0s = (sites['has_mega'] == 0).astype(int).sum()\n",
    "total1s = (sites['has_mega'] == 1).astype(int).sum()\n",
    "\n",
    "# Use the cutoff to generate has_mega_preds and add it to the df\n",
    "sites['has_mega_preds'] = (pred > cutoff).astype(int)\n",
    "\n",
    "# Find the number of true positives (real is 1, pred is 1) \n",
    "true_positives = ((sites['has_mega'] == 1) & (sites['has_mega_preds'] == 1)).astype(int).sum()\n",
    "\n",
    "# Find the number of false positives (real is 0, pred is 1)\n",
    "false_positives = ((sites['has_mega'] == 0) & (sites['has_mega_preds'] == 1)).astype(int).sum()\n",
    "\n",
    "# Calculate/Print the true positive rate (tpr) and false positive rate (fpr)\n",
    "tpr = true_positives / total1s\n",
    "fpr = false_positives / total0s\n",
    "print(tpr, fpr)\n"
   ]
  }
 ],
 "metadata": {
  "kernelspec": {
   "display_name": "Python 3.9.13 ('base')",
   "language": "python",
   "name": "python3"
  },
  "language_info": {
   "codemirror_mode": {
    "name": "ipython",
    "version": 3
   },
   "file_extension": ".py",
   "mimetype": "text/x-python",
   "name": "python",
   "nbconvert_exporter": "python",
   "pygments_lexer": "ipython3",
   "version": "3.9.13"
  },
  "orig_nbformat": 4,
  "vscode": {
   "interpreter": {
    "hash": "ad2bdc8ecc057115af97d19610ffacc2b4e99fae6737bb82f5d7fb13d2f2c186"
   }
  }
 },
 "nbformat": 4,
 "nbformat_minor": 2
}
