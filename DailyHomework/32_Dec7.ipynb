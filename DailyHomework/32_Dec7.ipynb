{
 "cells": [
  {
   "cell_type": "markdown",
   "metadata": {},
   "source": [
    "Daily homework: Using the fixed intercept of 3.6, try 100 different values for the slope between -.005 and +.005. For each slope, calculate the likelihood of the has_megalaima observations. Plot slope versus the likelihood of the observations given that slope."
   ]
  },
  {
   "cell_type": "code",
   "execution_count": 2,
   "metadata": {},
   "outputs": [
    {
     "data": {
      "text/plain": [
       "[<matplotlib.lines.Line2D at 0x26ba5395d60>]"
      ]
     },
     "execution_count": 2,
     "metadata": {},
     "output_type": "execute_result"
    },
    {
     "data": {
      "image/png": "[encoded data removed]",
      "text/plain": [
       "<Figure size 432x288 with 1 Axes>"
      ]
     },
     "metadata": {
      "needs_background": "light"
     },
     "output_type": "display_data"
    }
   ],
   "source": [
    "# import packages\n",
    "import pandas as pd\n",
    "import matplotlib.pyplot as plt\n",
    "import numpy as np\n",
    "from scipy.stats import bernoulli\n",
    "\n",
    "# Load data\n",
    "sites = pd.read_table(\"../data/eco_data/eco_sites.txt\")\n",
    "counts = pd.read_table(\"../data/eco_data/species_counts.txt\")\n",
    "\n",
    "# Add has_mega column to determine which sites have Megalaima\n",
    "is_mega = counts.columns.str.contains('Megalaima')\n",
    "sites['has_mega'] = counts.loc[:,is_mega].sum(axis=1) > 0\n",
    "\n",
    "# Fixed intercept\n",
    "b = 3.6\n",
    "\n",
    "# 100 slopes between -0.005 and 0.005\n",
    "slopes = np.linspace(-0.005, 0.005, 100)\n",
    "\n",
    "likelihoods = []\n",
    "# For each slope\n",
    "for slope in slopes:\n",
    "    # Calculate what the predicted log_odds of megalaima would be\n",
    "    log_odds_mega = sites['Elevation'] * slope + b\n",
    "    # Convert log odds to probability\n",
    "    ps = 1/(1 + np.exp(-1 * log_odds_mega))\n",
    "    # Calculate the probability of observing the actual data under our proposed probabilities at each elevation given the slope\n",
    "    bernoulli_ps = bernoulli.pmf(sites['has_mega'], p=ps)\n",
    "    # Calculate the log likelihood given those probabilities\n",
    "    bernoulli_likelihood = np.log(bernoulli_ps).sum()\n",
    "    # Append the likelihood to the list\n",
    "    likelihoods.append(bernoulli_likelihood)\n",
    "\n",
    "# Plot likelihoods vs. slopes\n",
    "f, ax = plt.subplots(1)\n",
    "ax.plot(slopes, likelihoods, '.')"
   ]
  }
 ],
 "metadata": {
  "kernelspec": {
   "display_name": "Python 3.8.8 ('base')",
   "language": "python",
   "name": "python3"
  },
  "language_info": {
   "codemirror_mode": {
    "name": "ipython",
    "version": 3
   },
   "file_extension": ".py",
   "mimetype": "text/x-python",
   "name": "python",
   "nbconvert_exporter": "python",
   "pygments_lexer": "ipython3",
   "version": "3.8.8"
  },
  "orig_nbformat": 4,
  "vscode": {
   "interpreter": {
    "hash": "e595df4329fcf3a3af43d6766bc23e541941e8ce9ea758c4bedfcbd321d7c58e"
   }
  }
 },
 "nbformat": 4,
 "nbformat_minor": 2
}
