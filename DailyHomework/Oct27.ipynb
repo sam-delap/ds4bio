{
 "cells": [
  {
   "cell_type": "markdown",
   "metadata": {},
   "source": [
    "Daily homework for Tuesday\n",
    "Here I'm creating 20 data sets (samples), each containing 30 observations, from a bernoulli model with p = 0.8.\n",
    " \n",
    "```\n",
    "list_of_bernoulli_samples = []\n",
    "for i in range(20):\n",
    "    list_of_bernoulli_samples.append( bernoulli.rvs(size=30,p=.8) )\n",
    "```\n",
    "So this is a list of lists-- every item in this list is 30 samples from a bernoulli.\n",
    " \n",
    "Write code to use this data\n",
    "A. Calculate the likelihood for the first sample under 4 different Bernoulli models: p = .2, p=.4, p=.6, p=.8 (remember, likelihood is sum of the logs of the probabilities of each of hte observations). Describe the likelihood results. Is it what you expect? Which is the most likely model?\n",
    " \n",
    "B. For each of the 4 different models, calculate the likelihood for all 20 samlpes, and make a histogram of the distribution of the likelihoods  (4 separate histograms is ok, nothing fancy) Explain/interpret the results. What is different? Which model is most likely and how ccan you see that in the histograms?"
   ]
  },
  {
   "cell_type": "code",
   "execution_count": 8,
   "metadata": {},
   "outputs": [
    {
     "name": "stdout",
     "output_type": "stream",
     "text": [
      "[array([0, 1, 0, 1, 1, 1, 1, 1, 1, 1, 1, 1, 1, 0, 1, 1, 1, 1, 1, 1, 1, 0,\n",
      "       1, 1, 1, 0, 0, 1, 1, 1]), array([1, 1, 0, 1, 0, 1, 1, 0, 1, 1, 1, 0, 0, 1, 1, 1, 1, 0, 1, 1, 1, 1,\n",
      "       1, 0, 1, 1, 0, 0, 1, 1]), array([1, 1, 1, 1, 1, 1, 1, 0, 0, 1, 1, 1, 1, 1, 1, 0, 1, 1, 1, 1, 1, 1,\n",
      "       1, 1, 0, 0, 0, 1, 1, 1]), array([1, 0, 0, 1, 0, 1, 1, 1, 1, 1, 1, 1, 1, 1, 0, 0, 1, 1, 0, 1, 1, 1,\n",
      "       1, 0, 1, 1, 1, 1, 1, 1]), array([1, 1, 1, 0, 1, 1, 0, 1, 1, 1, 1, 1, 1, 1, 1, 1, 1, 1, 1, 1, 0, 1,\n",
      "       1, 1, 1, 1, 1, 1, 1, 1]), array([1, 1, 0, 0, 1, 1, 1, 1, 0, 1, 1, 1, 1, 1, 0, 1, 1, 1, 0, 0, 1, 0,\n",
      "       0, 1, 1, 0, 1, 1, 0, 1]), array([1, 1, 0, 0, 1, 1, 1, 1, 0, 1, 1, 1, 1, 1, 1, 1, 1, 1, 1, 1, 1, 1,\n",
      "       1, 0, 1, 1, 1, 1, 1, 1]), array([1, 0, 1, 1, 0, 1, 1, 0, 1, 0, 1, 1, 1, 0, 0, 1, 1, 1, 1, 0, 1, 1,\n",
      "       1, 1, 1, 1, 1, 0, 1, 1]), array([1, 1, 1, 1, 1, 0, 1, 1, 1, 1, 1, 0, 1, 1, 1, 1, 0, 1, 0, 0, 0, 0,\n",
      "       1, 1, 1, 1, 1, 1, 1, 0]), array([1, 1, 1, 0, 1, 1, 1, 0, 1, 0, 1, 1, 1, 1, 0, 1, 1, 1, 0, 1, 1, 1,\n",
      "       1, 1, 1, 1, 1, 1, 1, 1]), array([1, 1, 1, 1, 1, 1, 1, 1, 1, 1, 0, 1, 1, 0, 1, 1, 1, 1, 1, 1, 1, 1,\n",
      "       1, 1, 1, 0, 1, 1, 1, 1]), array([1, 1, 1, 0, 1, 1, 1, 1, 1, 1, 1, 1, 1, 1, 1, 0, 1, 0, 1, 1, 0, 1,\n",
      "       1, 1, 1, 1, 1, 0, 1, 1]), array([0, 1, 1, 1, 0, 1, 1, 0, 0, 1, 1, 1, 1, 0, 1, 0, 1, 1, 0, 1, 1, 1,\n",
      "       1, 1, 1, 1, 1, 0, 0, 1]), array([1, 1, 1, 1, 1, 1, 1, 1, 0, 0, 1, 1, 1, 0, 1, 0, 1, 1, 1, 1, 1, 1,\n",
      "       1, 1, 0, 1, 1, 1, 1, 1]), array([0, 1, 1, 1, 1, 1, 1, 1, 0, 1, 1, 1, 1, 1, 1, 0, 1, 1, 1, 1, 0, 0,\n",
      "       1, 1, 0, 0, 1, 1, 1, 0]), array([1, 1, 1, 1, 1, 0, 0, 1, 1, 1, 0, 0, 1, 1, 1, 1, 1, 1, 0, 1, 1, 1,\n",
      "       1, 0, 1, 1, 1, 1, 0, 1]), array([1, 1, 1, 0, 0, 1, 0, 1, 0, 1, 1, 1, 1, 1, 1, 1, 1, 1, 1, 1, 1, 0,\n",
      "       1, 1, 1, 1, 1, 1, 1, 0]), array([1, 1, 1, 1, 1, 1, 1, 1, 1, 0, 1, 1, 0, 1, 1, 1, 1, 0, 1, 0, 1, 0,\n",
      "       0, 1, 1, 1, 1, 0, 1, 1]), array([1, 0, 1, 1, 1, 0, 1, 1, 1, 1, 1, 1, 1, 0, 1, 1, 0, 1, 1, 1, 1, 1,\n",
      "       1, 1, 1, 1, 1, 0, 1, 1]), array([1, 1, 0, 1, 1, 1, 1, 1, 1, 1, 1, 1, 0, 1, 1, 1, 1, 1, 1, 1, 1, 1,\n",
      "       1, 1, 1, 0, 1, 1, 1, 1])]\n"
     ]
    }
   ],
   "source": [
    "from scipy.stats import bernoulli\n",
    "list_of_bernoulli_samples = []\n",
    "for i in range(20):\n",
    "    list_of_bernoulli_samples.append( bernoulli.rvs(size=30,p=.8) )\n",
    "\n",
    "print(list_of_bernoulli_samples)"
   ]
  },
  {
   "cell_type": "markdown",
   "metadata": {},
   "source": [
    "# Part A\n",
    "These likelihood results are what I would expect. As we approach the probability used to generate the datasets above, the likelihood (-log) approaches 0, where 0 would be an exact match of the model that we have."
   ]
  },
  {
   "cell_type": "code",
   "execution_count": 9,
   "metadata": {},
   "outputs": [
    {
     "name": "stdout",
     "output_type": "stream",
     "text": [
      "Maximum likelihood: 0.8\n"
     ]
    },
    {
     "data": {
      "image/png": "[encoded data removed]",
      "text/plain": [
       "<Figure size 360x360 with 1 Axes>"
      ]
     },
     "metadata": {
      "needs_background": "light"
     },
     "output_type": "display_data"
    }
   ],
   "source": [
    "# Part A\n",
    "import numpy as np\n",
    "import pandas as pd\n",
    "import seaborn as sns\n",
    "bins = np.linspace(0.2, 0.8, 4)\n",
    "logs = []\n",
    "\n",
    "# For each probability\n",
    "for prob in bins:\n",
    "    # Take the log of the probability that each observation in our dataset would be observed\n",
    "    # With the given probability\n",
    "    prob_logs = np.log(bernoulli.pmf(list_of_bernoulli_samples[0], p=prob))\n",
    "    # Take the sum of all of the log(prob) measurements and multiply by -1\n",
    "    logs.append(prob_logs.sum() * -1)\n",
    "\n",
    "# Create a dataframe with the probability in 1 column and the negative log in another\n",
    "logs_df = pd.DataFrame({'prob':bins, 'logs':logs})\n",
    "\n",
    "# Plot the logs vs prob data and determine the probability with the maximum likelihood of explaining the real data\n",
    "sns.relplot(data=logs_df, x='prob', y='logs')\n",
    "\n",
    "print('Maximum likelihood:', logs_df.loc[logs_df['logs'].idxmin(), 'prob'])"
   ]
  },
  {
   "cell_type": "markdown",
   "metadata": {},
   "source": [
    "# Part B"
   ]
  },
  {
   "cell_type": "code",
   "execution_count": 30,
   "metadata": {},
   "outputs": [
    {
     "data": {
      "text/plain": [
       "<seaborn.axisgrid.FacetGrid at 0x25f8a678a60>"
      ]
     },
     "execution_count": 30,
     "metadata": {},
     "output_type": "execute_result"
    },
    {
     "data": {
      "image/png": "[encoded data removed]",
      "text/plain": [
       "<Figure size 1440x360 with 4 Axes>"
      ]
     },
     "metadata": {
      "needs_background": "light"
     },
     "output_type": "display_data"
    }
   ],
   "source": [
    "# Part B\n",
    "bins = np.linspace(0.2, 0.8, 4)\n",
    "df = pd.DataFrame(columns=['sample', 'prob', 'logs'])\n",
    "\n",
    "# For each probability\n",
    "for prob in bins:\n",
    "    # For each sample\n",
    "    for i, sample in enumerate(list_of_bernoulli_samples):\n",
    "        # Take the log of the probability that each observation in our dataset would be observed\n",
    "        # With the given probability\n",
    "        prob_logs = np.log(bernoulli.pmf(sample, p=prob))\n",
    "        # Take the sum of all of the log(prob) measurements and multiply by -1\n",
    "        likelihood = prob_logs.sum() * -1\n",
    "        # Add a new row to the dataframe with all of these observations\n",
    "        df.loc[len(df.index)] = [i+1, prob, likelihood]\n",
    "\n",
    "# Plot the logs vs prob data and determine the probability with the maximum likelihood of explaining the real data\n",
    "sns.displot(data=df, x='logs',col='prob')"
   ]
  },
  {
   "cell_type": "markdown",
   "metadata": {},
   "source": [
    "<font color = lightgreen> The range of likelihood and the values of likelihood are different for each probability. Similarly to the scatterplot above, as the probability approaches 0.8, the average likelihood gets closer to 0, which means that that the model is closer to describing the actual data."
   ]
  }
 ],
 "metadata": {
  "kernelspec": {
   "display_name": "Python 3.9.7 ('base')",
   "language": "python",
   "name": "python3"
  },
  "language_info": {
   "codemirror_mode": {
    "name": "ipython",
    "version": 3
   },
   "file_extension": ".py",
   "mimetype": "text/x-python",
   "name": "python",
   "nbconvert_exporter": "python",
   "pygments_lexer": "ipython3",
   "version": "3.9.7"
  },
  "orig_nbformat": 4,
  "vscode": {
   "interpreter": {
    "hash": "e595df4329fcf3a3af43d6766bc23e541941e8ce9ea758c4bedfcbd321d7c58e"
   }
  }
 },
 "nbformat": 4,
 "nbformat_minor": 2
}
