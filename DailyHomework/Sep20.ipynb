{
 "cells": [
  {
   "cell_type": "code",
   "execution_count": 4,
   "metadata": {},
   "outputs": [
    {
     "name": "stdout",
     "output_type": "stream",
     "text": [
      "CDS\n"
     ]
    }
   ],
   "source": [
    "# Variables\n",
    "gencode_line = 'chr1    HAVANA    CDS    65565    65573    .    +    0    gene_id \"ENSG00000186092.6\"; transcript_id \"ENST00000641515.2\"; gene_type \"protein_coding\"; gene_name \"OR4F5\"; transcript_type \"protein_coding\"; transcript_name \"OR4F5-202\"; exon_number 2; exon_id \"ENSE00003813641.1\"; level 2; protein_id \"ENSP00000493376.2\"; hgnc_id \"HGNC:14825\"; tag \"RNA_Seq_supported_partial\"; tag \"basic\"; havana_gene \"OTTHUMG00000001094.4\"; havana_transcript \"OTTHUMT00000003223.4\";\"'\n",
    "feature = \"type\"\n",
    "\n",
    "# Split the string into a list\n",
    "gencode_list = gencode_line.split()\n",
    "\n",
    "# Evaluate which of chromosome, start, or type we're looking for and print 'not found' otherwise\n",
    "if feature == \"chromosome\":\n",
    "    print(gencode_list[0])\n",
    "elif feature == \"start\":\n",
    "    print(gencode_list[3])\n",
    "elif feature == \"type\":\n",
    "    print(gencode_list[2])\n",
    "else:\n",
    "    print(\"not found\")"
   ]
  }
 ],
 "metadata": {
  "kernelspec": {
   "display_name": "Python 3.9.7 ('base')",
   "language": "python",
   "name": "python3"
  },
  "language_info": {
   "codemirror_mode": {
    "name": "ipython",
    "version": 3
   },
   "file_extension": ".py",
   "mimetype": "text/x-python",
   "name": "python",
   "nbconvert_exporter": "python",
   "pygments_lexer": "ipython3",
   "version": "3.9.7"
  },
  "orig_nbformat": 4,
  "vscode": {
   "interpreter": {
    "hash": "e595df4329fcf3a3af43d6766bc23e541941e8ce9ea758c4bedfcbd321d7c58e"
   }
  }
 },
 "nbformat": 4,
 "nbformat_minor": 2
}
