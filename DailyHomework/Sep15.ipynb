{
 "cells": [
  {
   "cell_type": "markdown",
   "metadata": {},
   "source": [
    "### <font color = lightgreen> This code checks if the index is between 0 and how many items are in the list (len(list_variable))\n",
    "##### If the index is between these two values, it gets the item at that index in the list\n",
    "##### Otherwise, it apologizes and asks the user to pick an index between 0 and 1 less than the number of items in the list (since counting starts at 1, and indexing starts at 0) "
   ]
  },
  {
   "cell_type": "code",
   "execution_count": 9,
   "metadata": {},
   "outputs": [
    {
     "name": "stdout",
     "output_type": "stream",
     "text": [
      "The item is Tomato\n"
     ]
    }
   ],
   "source": [
    "index = 4\n",
    "list_variable = ['Cabbage', 'Coffee', 'Corn', 'Tea', 'Tomato', 'Apple', 'Potato']\n",
    "\n",
    "if 0 < index < len(list_variable):\n",
    "    print(f\"The item is {list_variable[index]}\")\n",
    "else:\n",
    "    print(f\"Sorry please choose an integer between 0 and {len(list_variable) - 1}\")"
   ]
  }
 ],
 "metadata": {
  "kernelspec": {
   "display_name": "Python 3.8.8 ('base')",
   "language": "python",
   "name": "python3"
  },
  "language_info": {
   "codemirror_mode": {
    "name": "ipython",
    "version": 3
   },
   "file_extension": ".py",
   "mimetype": "text/x-python",
   "name": "python",
   "nbconvert_exporter": "python",
   "pygments_lexer": "ipython3",
   "version": "3.8.8"
  },
  "orig_nbformat": 4,
  "vscode": {
   "interpreter": {
    "hash": "e595df4329fcf3a3af43d6766bc23e541941e8ce9ea758c4bedfcbd321d7c58e"
   }
  }
 },
 "nbformat": 4,
 "nbformat_minor": 2
}
