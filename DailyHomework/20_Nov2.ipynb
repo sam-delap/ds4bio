{
 "cells": [
  {
   "cell_type": "markdown",
   "metadata": {},
   "source": [
    "#### Generate 100 samples from your loc = 10 model. Then, evaluate the likelihoods for this generated data for the following normal models: loc = 10, loc = 11, loc = 12. \n",
    "1. Which model is most likely by this score? **loc = 10**\n",
    "2. Which is least likely? **loc = 12**\n",
    "3. Is it what you expect? **Yes, because the data was generated from a loc=10 model. Therefore, the further away the pdf's loc is from 10, the less likely that it's the correct model**"
   ]
  },
  {
   "cell_type": "code",
   "execution_count": 9,
   "metadata": {},
   "outputs": [
    {
     "name": "stdout",
     "output_type": "stream",
     "text": [
      "Loc: 10 , Likelihood: 4243.521201146328\n",
      "Loc: 11 , Likelihood: 5769.063733428941\n",
      "Loc: 12 , Likelihood: 10294.606265711554\n"
     ]
    }
   ],
   "source": [
    "# import packages\n",
    "from scipy.stats import norm\n",
    "import numpy as np\n",
    "import seaborn as sns\n",
    "\n",
    "# Create a loc=10 model and 100 samples of simulated data with loc=10\n",
    "norm_10 = norm(loc=10)\n",
    "normal_samples = [norm_10.rvs(size = 30) for i in range(100)]\n",
    "\n",
    "# For loc=10, loc=11, and loc=12 models\n",
    "for loc in [10, 11, 12]:\n",
    "    # Calculate the probability of observing each result with that loc\n",
    "    prob = norm.pdf(normal_samples, loc = loc)\n",
    "    # Take the log of the probability\n",
    "    logs = np.log(prob)\n",
    "    # Take the sum of the logs and multiply by negative 1\n",
    "    add = logs.sum() * -1\n",
    "    # print the result\n",
    "    print('Loc:', loc,', Likelihood:', add)"
   ]
  }
 ],
 "metadata": {
  "kernelspec": {
   "display_name": "Python 3.8.8 ('base')",
   "language": "python",
   "name": "python3"
  },
  "language_info": {
   "codemirror_mode": {
    "name": "ipython",
    "version": 3
   },
   "file_extension": ".py",
   "mimetype": "text/x-python",
   "name": "python",
   "nbconvert_exporter": "python",
   "pygments_lexer": "ipython3",
   "version": "3.8.8"
  },
  "orig_nbformat": 4,
  "vscode": {
   "interpreter": {
    "hash": "e595df4329fcf3a3af43d6766bc23e541941e8ce9ea758c4bedfcbd321d7c58e"
   }
  }
 },
 "nbformat": 4,
 "nbformat_minor": 2
}
