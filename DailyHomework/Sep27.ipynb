{
 "cells": [
  {
   "cell_type": "code",
   "execution_count": 2,
   "metadata": {},
   "outputs": [
    {
     "data": {
      "text/plain": [
       "{'name': ['Huron', 'Ontario', 'Michigan', 'Erie', 'Superior'],\n",
       " 'surface': [23000, 7340, 22400, 9900, 31700],\n",
       " 'ave_depth': [195, 284, 279, 70, 480],\n",
       " 'max_depth': [750, 802, 923, 210, 1333],\n",
       " 'shared_canada': [True, True, False, True, True],\n",
       " 'temperature': [48, 51, 49, 54, 43],\n",
       " 'native_name': ['Karegnondi',\n",
       "  'Oniatarí:io',\n",
       "  'Mich gami',\n",
       "  'Erielhonan',\n",
       "  'Gichi-gami'],\n",
       " 'depth_meters': [58.5, 85.2, 83.7, 21.0, 144.0]}"
      ]
     },
     "execution_count": 2,
     "metadata": {},
     "output_type": "execute_result"
    }
   ],
   "source": [
    "# Create the lakes dict\n",
    "lakes = {'name': ['Huron', 'Ontario', 'Michigan', 'Erie', 'Superior'],\n",
    " 'surface': [23000, 7340, 22400, 9900, 31700],\n",
    " 'ave_depth': [195, 284, 279, 70, 480],\n",
    " 'max_depth': [750, 802, 923, 210, 1333],\n",
    " 'shared_canada': [True, True, False, True, True],\n",
    " 'temperature': [48, 51, 49, 54, 43],\n",
    " 'native_name': ['Karegnondi',\n",
    "  'Oniatarí:io',\n",
    "  'Mich gami',\n",
    "  'Erielhonan',\n",
    "  'Gichi-gami']}\n",
    "\n",
    "# Retrieve the average depth list and assign it to the value of the new list\n",
    "depth_meters = lakes['ave_depth']\n",
    "\n",
    "# Convert each item in the list to meters\n",
    "depth_meters = [x * 0.3 for x in depth_meters]\n",
    "\n",
    "# Add the new list as a value in the dictionary (key should be 'depth_meters')\n",
    "lakes['depth_meters'] = depth_meters\n",
    "\n",
    "# print the dictionary to check our work\n",
    "lakes"
   ]
  }
 ],
 "metadata": {
  "kernelspec": {
   "display_name": "Python 3.8.8 ('base')",
   "language": "python",
   "name": "python3"
  },
  "language_info": {
   "codemirror_mode": {
    "name": "ipython",
    "version": 3
   },
   "file_extension": ".py",
   "mimetype": "text/x-python",
   "name": "python",
   "nbconvert_exporter": "python",
   "pygments_lexer": "ipython3",
   "version": "3.8.8"
  },
  "orig_nbformat": 4,
  "vscode": {
   "interpreter": {
    "hash": "e595df4329fcf3a3af43d6766bc23e541941e8ce9ea758c4bedfcbd321d7c58e"
   }
  }
 },
 "nbformat": 4,
 "nbformat_minor": 2
}
