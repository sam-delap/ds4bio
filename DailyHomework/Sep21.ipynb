{
 "cells": [
  {
   "cell_type": "code",
   "execution_count": 4,
   "metadata": {},
   "outputs": [
    {
     "data": {
      "text/plain": [
       "{0: 'Cabbage',\n",
       " 1: 'Coffee',\n",
       " 2: 'Corn',\n",
       " 3: 'Tea',\n",
       " 4: 'Tomato',\n",
       " 5: 'Apple',\n",
       " 6: 'Potato',\n",
       " 7: 'Rose'}"
      ]
     },
     "execution_count": 4,
     "metadata": {},
     "output_type": "execute_result"
    }
   ],
   "source": [
    "# Get the starting list\n",
    "start_list = ['Cabbage', 'Coffee', 'Corn', 'Tea', 'Tomato', 'Apple', 'Potato']\n",
    "\n",
    "# For each index, item in the list (enumerate), assign the index as the key in the dictionary and the item as the value\n",
    "d = {i : plant for i, plant in enumerate(start_list)}\n",
    "d"
   ]
  }
 ],
 "metadata": {
  "kernelspec": {
   "display_name": "Python 3.9.7 ('base')",
   "language": "python",
   "name": "python3"
  },
  "language_info": {
   "codemirror_mode": {
    "name": "ipython",
    "version": 3
   },
   "file_extension": ".py",
   "mimetype": "text/x-python",
   "name": "python",
   "nbconvert_exporter": "python",
   "pygments_lexer": "ipython3",
   "version": "3.9.7"
  },
  "orig_nbformat": 4,
  "vscode": {
   "interpreter": {
    "hash": "e595df4329fcf3a3af43d6766bc23e541941e8ce9ea758c4bedfcbd321d7c58e"
   }
  }
 },
 "nbformat": 4,
 "nbformat_minor": 2
}
