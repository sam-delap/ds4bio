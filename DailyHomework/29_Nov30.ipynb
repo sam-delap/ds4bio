{
 "cells": [
  {
   "cell_type": "markdown",
   "metadata": {},
   "source": [
    "**Exercise 6.1**: Using a different marker to predict fruit length (Model 2) \n",
    "1. Use the marker MASC02863 as a predictor variable and do regression predicting fruit length (save this into a variable called `model2`.\n",
    "2. Write down the linear model including the coefficients of the model. \n",
    "3. Calculate the predicted mean fruit lengths and the RMSE\n",
    "4. Is this marker a good predictor of fruit length? Why?\n",
    "**Yes, because the RMSE is relatively low (below 2 for data values between 12 and 15) and the P-value/likelihood of the model are low/high, respectively.**"
   ]
  },
  {
   "cell_type": "code",
   "execution_count": 2,
   "metadata": {},
   "outputs": [
    {
     "data": {
      "text/html": [
       "<table class=\"simpletable\">\n",
       "<caption>OLS Regression Results</caption>\n",
       "<tr>\n",
       "  <th>Dep. Variable:</th>      <td>fruit_length</td>   <th>  R-squared:         </th> <td>   0.163</td>\n",
       "</tr>\n",
       "<tr>\n",
       "  <th>Model:</th>                   <td>OLS</td>       <th>  Adj. R-squared:    </th> <td>   0.162</td>\n",
       "</tr>\n",
       "<tr>\n",
       "  <th>Method:</th>             <td>Least Squares</td>  <th>  F-statistic:       </th> <td>   131.1</td>\n",
       "</tr>\n",
       "<tr>\n",
       "  <th>Date:</th>             <td>Wed, 30 Nov 2022</td> <th>  Prob (F-statistic):</th> <td>7.57e-28</td>\n",
       "</tr>\n",
       "<tr>\n",
       "  <th>Time:</th>                 <td>01:57:23</td>     <th>  Log-Likelihood:    </th> <td> -1290.0</td>\n",
       "</tr>\n",
       "<tr>\n",
       "  <th>No. Observations:</th>      <td>   674</td>      <th>  AIC:               </th> <td>   2584.</td>\n",
       "</tr>\n",
       "<tr>\n",
       "  <th>Df Residuals:</th>          <td>   672</td>      <th>  BIC:               </th> <td>   2593.</td>\n",
       "</tr>\n",
       "<tr>\n",
       "  <th>Df Model:</th>              <td>     1</td>      <th>                     </th>     <td> </td>   \n",
       "</tr>\n",
       "<tr>\n",
       "  <th>Covariance Type:</th>      <td>nonrobust</td>    <th>                     </th>     <td> </td>   \n",
       "</tr>\n",
       "</table>\n",
       "<table class=\"simpletable\">\n",
       "<tr>\n",
       "      <td></td>         <th>coef</th>     <th>std err</th>      <th>t</th>      <th>P>|t|</th>  <th>[0.025</th>    <th>0.975]</th>  \n",
       "</tr>\n",
       "<tr>\n",
       "  <th>const</th>     <td>   12.2953</td> <td>    0.240</td> <td>   51.307</td> <td> 0.000</td> <td>   11.825</td> <td>   12.766</td>\n",
       "</tr>\n",
       "<tr>\n",
       "  <th>MASC02863</th> <td>    2.8444</td> <td>    0.248</td> <td>   11.448</td> <td> 0.000</td> <td>    2.357</td> <td>    3.332</td>\n",
       "</tr>\n",
       "</table>\n",
       "<table class=\"simpletable\">\n",
       "<tr>\n",
       "  <th>Omnibus:</th>       <td> 0.164</td> <th>  Durbin-Watson:     </th> <td>   1.994</td>\n",
       "</tr>\n",
       "<tr>\n",
       "  <th>Prob(Omnibus):</th> <td> 0.921</td> <th>  Jarque-Bera (JB):  </th> <td>   0.108</td>\n",
       "</tr>\n",
       "<tr>\n",
       "  <th>Skew:</th>          <td> 0.029</td> <th>  Prob(JB):          </th> <td>   0.947</td>\n",
       "</tr>\n",
       "<tr>\n",
       "  <th>Kurtosis:</th>      <td> 3.024</td> <th>  Cond. No.          </th> <td>    7.44</td>\n",
       "</tr>\n",
       "</table><br/><br/>Notes:<br/>[1] Standard Errors assume that the covariance matrix of the errors is correctly specified."
      ],
      "text/plain": [
       "<class 'statsmodels.iolib.summary.Summary'>\n",
       "\"\"\"\n",
       "                            OLS Regression Results                            \n",
       "==============================================================================\n",
       "Dep. Variable:           fruit_length   R-squared:                       0.163\n",
       "Model:                            OLS   Adj. R-squared:                  0.162\n",
       "Method:                 Least Squares   F-statistic:                     131.1\n",
       "Date:                Wed, 30 Nov 2022   Prob (F-statistic):           7.57e-28\n",
       "Time:                        01:57:23   Log-Likelihood:                -1290.0\n",
       "No. Observations:                 674   AIC:                             2584.\n",
       "Df Residuals:                     672   BIC:                             2593.\n",
       "Df Model:                           1                                         \n",
       "Covariance Type:            nonrobust                                         \n",
       "==============================================================================\n",
       "                 coef    std err          t      P>|t|      [0.025      0.975]\n",
       "------------------------------------------------------------------------------\n",
       "const         12.2953      0.240     51.307      0.000      11.825      12.766\n",
       "MASC02863      2.8444      0.248     11.448      0.000       2.357       3.332\n",
       "==============================================================================\n",
       "Omnibus:                        0.164   Durbin-Watson:                   1.994\n",
       "Prob(Omnibus):                  0.921   Jarque-Bera (JB):                0.108\n",
       "Skew:                           0.029   Prob(JB):                        0.947\n",
       "Kurtosis:                       3.024   Cond. No.                         7.44\n",
       "==============================================================================\n",
       "\n",
       "Notes:\n",
       "[1] Standard Errors assume that the covariance matrix of the errors is correctly specified.\n",
       "\"\"\""
      ]
     },
     "execution_count": 2,
     "metadata": {},
     "output_type": "execute_result"
    }
   ],
   "source": [
    "# import packages and create model\n",
    "import pandas as pd\n",
    "import statsmodels.api as sm\n",
    "\n",
    "# Create the model\n",
    "fruit_length_geno = pd.read_table(\"../data/arabmagic/fruit_length_geno.csv\",sep=\",\",index_col=0)\n",
    "to_model = pd.DataFrame({\"fruit_length\":fruit_length_geno['fruit_length'],\n",
    "\"MASC02863\":(fruit_length_geno['MASC02863'] == 'A').astype(int)})\n",
    "to_model = to_model.dropna()\n",
    "to_model = sm.add_constant(to_model)\n",
    "X = to_model.loc[:, ['const', 'MASC02863']]\n",
    "y = to_model['fruit_length']\n",
    "model12 = sm.OLS(y, X).fit()\n",
    "# b write down the linear model including the coefficients\n",
    "# could also be looking for fruit_length = 12.30 + 2.84 * MASC02863\n",
    "model12.summary()"
   ]
  },
  {
   "cell_type": "code",
   "execution_count": 3,
   "metadata": {},
   "outputs": [
    {
     "data": {
      "text/plain": [
       "1.6404624670836327"
      ]
     },
     "execution_count": 3,
     "metadata": {},
     "output_type": "execute_result"
    }
   ],
   "source": [
    "from statsmodels.tools.eval_measures import rmse\n",
    "# Calculate predicted mean fruit length\n",
    "pred = model12.predict(X)\n",
    "# Calculate RMSE\n",
    "rmse(pred, y)"
   ]
  }
 ],
 "metadata": {
  "kernelspec": {
   "display_name": "Python 3.9.13 ('base')",
   "language": "python",
   "name": "python3"
  },
  "language_info": {
   "codemirror_mode": {
    "name": "ipython",
    "version": 3
   },
   "file_extension": ".py",
   "mimetype": "text/x-python",
   "name": "python",
   "nbconvert_exporter": "python",
   "pygments_lexer": "ipython3",
   "version": "3.9.13"
  },
  "orig_nbformat": 4,
  "vscode": {
   "interpreter": {
    "hash": "ad2bdc8ecc057115af97d19610ffacc2b4e99fae6737bb82f5d7fb13d2f2c186"
   }
  }
 },
 "nbformat": 4,
 "nbformat_minor": 2
}
